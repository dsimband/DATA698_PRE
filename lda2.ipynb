{
 "cells": [
  {
   "cell_type": "code",
   "execution_count": 22,
   "id": "08e2e054-2509-4c4b-8619-42510bf24137",
   "metadata": {},
   "outputs": [],
   "source": [
    "import nltk\n",
    "from nltk.stem import *\n",
    "\n",
    "import pandas as pd\n",
    "import numpy as np\n",
    "\n",
    "from sklearn.datasets import fetch_20newsgroups\n",
    "\n",
    "import re\n",
    "\n",
    "import gensim\n",
    "import pickle \n",
    "\n",
    "from gensim.models import CoherenceModel\n",
    "\n",
    "import matplotlib.pyplot as plt\n",
    "\n",
    "import pyLDAvis\n",
    "import pyLDAvis.gensim_models"
   ]
  },
  {
   "cell_type": "code",
   "execution_count": 23,
   "id": "c7f7376b-50be-4002-a45d-88b6f7038b6c",
   "metadata": {},
   "outputs": [
    {
     "name": "stderr",
     "output_type": "stream",
     "text": [
      "[nltk_data] Downloading package punkt to\n",
      "[nltk_data]     /Users/dsimbandumwe/nltk_data...\n",
      "[nltk_data]   Package punkt is already up-to-date!\n",
      "[nltk_data] Downloading package wordnet to\n",
      "[nltk_data]     /Users/dsimbandumwe/nltk_data...\n",
      "[nltk_data]   Package wordnet is already up-to-date!\n",
      "[nltk_data] Downloading package stopwords to\n",
      "[nltk_data]     /Users/dsimbandumwe/nltk_data...\n",
      "[nltk_data]   Package stopwords is already up-to-date!\n",
      "[nltk_data] Downloading package omw-1.4 to\n",
      "[nltk_data]     /Users/dsimbandumwe/nltk_data...\n",
      "[nltk_data]   Package omw-1.4 is already up-to-date!\n"
     ]
    },
    {
     "data": {
      "text/plain": [
       "True"
      ]
     },
     "execution_count": 23,
     "metadata": {},
     "output_type": "execute_result"
    }
   ],
   "source": [
    "nltk.download('punkt') \n",
    "nltk.download('wordnet') \n",
    "nltk.download('stopwords')\n",
    "nltk.download('omw-1.4')"
   ]
  },
  {
   "cell_type": "code",
   "execution_count": 24,
   "id": "38aa1221-43a8-4a04-b086-775128c9847e",
   "metadata": {},
   "outputs": [],
   "source": [
    "stopwords = set(nltk.corpus.stopwords.words('english'))"
   ]
  },
  {
   "cell_type": "code",
   "execution_count": null,
   "id": "e99bf32c-11a4-4d81-be9c-4768598117e1",
   "metadata": {},
   "outputs": [],
   "source": []
  },
  {
   "cell_type": "markdown",
   "id": "5c21d608-6f08-4445-8971-789e75b62032",
   "metadata": {},
   "source": [
    "# Functions"
   ]
  },
  {
   "cell_type": "code",
   "execution_count": 25,
   "id": "1c603f95-3c2e-44ed-b96e-62e8b57eaa40",
   "metadata": {},
   "outputs": [],
   "source": [
    "def remove_url(text):\n",
    "    return re.sub(r'https?:\\S*','',text)\n",
    "\n",
    "\n",
    "def remove_mentions_and_tags(text):\n",
    "     text = re.sub(r'@\\S*','',text)\n",
    "     return re.sub(r'#\\S*','',text)\n",
    "\n",
    "\n",
    "def text_preprocessing(df):\n",
    "    corpus=[]\n",
    "    \n",
    "    lem = WordNetLemmatizer() # For Lemmatization\n",
    "    for news in df['text']:\n",
    "        words=[w for w in nltk.tokenize.word_tokenize(news) if (w not in stopwords)] # word_tokenize function tokenizes text on each word by default\n",
    "        words=[lem.lemmatize(w) for w in words if len(w)>2]\n",
    "        corpus.append(words)\n",
    "    return corpus\n",
    "\n",
    "\n",
    "\n"
   ]
  },
  {
   "cell_type": "code",
   "execution_count": null,
   "id": "6d09c557-24a7-4b2c-9155-b7f507741641",
   "metadata": {},
   "outputs": [],
   "source": []
  },
  {
   "cell_type": "code",
   "execution_count": null,
   "id": "aab1a5b5-8eae-42f4-be7c-0735b96b67ba",
   "metadata": {},
   "outputs": [],
   "source": []
  },
  {
   "cell_type": "markdown",
   "id": "cac1a60c-0a22-4cf8-81b4-ba06356f284f",
   "metadata": {},
   "source": [
    "# Download"
   ]
  },
  {
   "cell_type": "code",
   "execution_count": 26,
   "id": "25af39d6-3af4-4135-ae67-963fb2227c41",
   "metadata": {},
   "outputs": [],
   "source": [
    "fetch20newsgroups = fetch_20newsgroups(subset='train')"
   ]
  },
  {
   "cell_type": "code",
   "execution_count": 27,
   "id": "2b0f7023-1543-491f-80f7-0ae9e6a1434c",
   "metadata": {},
   "outputs": [],
   "source": [
    "df = pd.DataFrame(fetch20newsgroups.data, columns=['text'])"
   ]
  },
  {
   "cell_type": "markdown",
   "id": "ec67be9c-be28-48f4-9091-b544861c4c3c",
   "metadata": {},
   "source": [
    "# Clean Data"
   ]
  },
  {
   "cell_type": "code",
   "execution_count": 28,
   "id": "104d7b18-4889-4410-a78f-9eba30b4cca7",
   "metadata": {},
   "outputs": [],
   "source": [
    "df.text = df.text.apply(remove_url)"
   ]
  },
  {
   "cell_type": "code",
   "execution_count": 29,
   "id": "1347de0a-bd56-4c33-95f8-8d39d4286fe5",
   "metadata": {},
   "outputs": [],
   "source": [
    "df.text = df.text.apply(remove_mentions_and_tags)"
   ]
  },
  {
   "cell_type": "code",
   "execution_count": null,
   "id": "33ab4733-3909-4d29-83ac-95ec3db08e80",
   "metadata": {},
   "outputs": [],
   "source": []
  },
  {
   "cell_type": "markdown",
   "id": "840e09c4-9288-4ccd-b8a0-f103472ad00d",
   "metadata": {},
   "source": [
    "# Pre-Processing"
   ]
  },
  {
   "cell_type": "code",
   "execution_count": 30,
   "id": "9178255d-4d9c-4aef-bc9c-d10ea93643f8",
   "metadata": {},
   "outputs": [],
   "source": [
    "# Apply this function on our data frame\n",
    "corpus = text_preprocessing(df)"
   ]
  },
  {
   "cell_type": "code",
   "execution_count": null,
   "id": "34c2f324-7f11-4d4c-bcad-c42c9ca46da8",
   "metadata": {},
   "outputs": [],
   "source": []
  },
  {
   "cell_type": "code",
   "execution_count": 31,
   "id": "fcb1ced7-a360-4f43-a271-a37f4c96c210",
   "metadata": {},
   "outputs": [],
   "source": [
    "# Transform to gensim dictionary\n",
    "dic = gensim.corpora.Dictionary(corpus) \n",
    "bow_corpus = [dic.doc2bow(doc) for doc in corpus]\n",
    "\n",
    "# Useful for storing big datasets\n",
    "pickle.dump(bow_corpus, open('./data/corpus.pkl', 'wb'))\n",
    "dic.save('./data/dictionary.gensim')"
   ]
  },
  {
   "cell_type": "code",
   "execution_count": null,
   "id": "ab9e7a5d-c521-49d2-8ac1-e65203cdfa46",
   "metadata": {},
   "outputs": [],
   "source": []
  },
  {
   "cell_type": "markdown",
   "id": "fef4dfe1-9061-47b4-add5-e63963b9a78a",
   "metadata": {},
   "source": [
    "# Model"
   ]
  },
  {
   "cell_type": "code",
   "execution_count": 32,
   "id": "9a59386d-82ea-441b-b457-5e76ff887229",
   "metadata": {},
   "outputs": [],
   "source": [
    "lda_model = gensim.models.LdaMulticore(bow_corpus,\n",
    "                                   num_topics = 4,\n",
    "                                    id2word = dic,\n",
    "                                      passes = 10,\n",
    "                                      workers = 2)\n",
    "lda_model.save('./data/model4.gensim')"
   ]
  },
  {
   "cell_type": "code",
   "execution_count": 33,
   "id": "fba28f13-b08b-4d33-bd10-2c10425332eb",
   "metadata": {},
   "outputs": [
    {
     "name": "stdout",
     "output_type": "stream",
     "text": [
      "Topic: 0 \n",
      "Words: 0.009*\"From\" + 0.008*\"Subject\" + 0.008*\"The\" + 0.008*\"Lines\" + 0.008*\"Organization\" + 0.006*\"n't\" + 0.004*\"University\" + 0.004*\"...\" + 0.004*\"one\" + 0.004*\"would\"\n",
      "Topic: 1 \n",
      "Words: 0.009*\"n't\" + 0.009*\"The\" + 0.006*\"would\" + 0.005*\"one\" + 0.005*\"people\" + 0.005*\"From\" + 0.004*\"Subject\" + 0.004*\"writes\" + 0.004*\"Lines\" + 0.004*\"Organization\"\n",
      "Topic: 2 \n",
      "Words: 0.349*\"'AX\" + 0.026*\"MAX\" + 0.005*\"Q,3\" + 0.005*\"A86\" + 0.005*\"B8F\" + 0.004*\"145\" + 0.003*\"1D9\" + 0.002*\"2DI\" + 0.002*\"BHJ\" + 0.002*\"PL+\"\n",
      "Topic: 3 \n",
      "Words: 0.007*\"From\" + 0.007*\"Subject\" + 0.007*\"Lines\" + 0.006*\"Organization\" + 0.005*\"The\" + 0.005*\"writes\" + 0.005*\"n't\" + 0.005*\"article\" + 0.004*\"...\" + 0.004*\"University\"\n"
     ]
    }
   ],
   "source": [
    "# We print words occuring in each of the topics as we iterate through them\n",
    "for idx, topic in lda_model.print_topics(num_words=10):    \n",
    "    print('Topic: {} \\nWords: {}'.format(idx, topic))"
   ]
  },
  {
   "cell_type": "code",
   "execution_count": null,
   "id": "48d13575-333e-4141-a222-2d0a4ca722a0",
   "metadata": {},
   "outputs": [],
   "source": []
  },
  {
   "cell_type": "markdown",
   "id": "06800e8b-97da-470a-a3a7-f1beef252fd7",
   "metadata": {},
   "source": [
    "# Evaluation"
   ]
  },
  {
   "cell_type": "code",
   "execution_count": 34,
   "id": "84f32a4a-653c-44fb-8fad-e5325b3e6a6e",
   "metadata": {},
   "outputs": [],
   "source": [
    "# instantiate topic coherence model\n",
    "cm = CoherenceModel(model=lda_model, corpus=bow_corpus, texts=corpus, coherence='c_v')"
   ]
  },
  {
   "cell_type": "code",
   "execution_count": 35,
   "id": "a852e774-b4f1-438e-89e8-4386b120e61c",
   "metadata": {},
   "outputs": [
    {
     "name": "stdout",
     "output_type": "stream",
     "text": [
      "0.6461315175172017\n"
     ]
    }
   ],
   "source": [
    "# get topic coherence score\n",
    "coherence_lda = cm.get_coherence()\n",
    "print(coherence_lda)"
   ]
  },
  {
   "cell_type": "code",
   "execution_count": null,
   "id": "a4f29210-bf24-4bbb-a656-b3449130659f",
   "metadata": {},
   "outputs": [],
   "source": []
  },
  {
   "cell_type": "code",
   "execution_count": 36,
   "id": "c7102da1-85f4-463a-9091-ef8eae69fc20",
   "metadata": {},
   "outputs": [
    {
     "data": {
      "image/png": "[encoded data removed]",
      "text/plain": [
       "<Figure size 640x480 with 1 Axes>"
      ]
     },
     "metadata": {},
     "output_type": "display_data"
    }
   ],
   "source": [
    "topics = []\n",
    "score = []\n",
    "for i in range(2,7,1):\n",
    "     lda = gensim.models.LdaMulticore(corpus=bow_corpus, id2word=dic, iterations=10, num_topics=i, workers = 3, passes=10, random_state=42)\n",
    "     cm = CoherenceModel(model=lda, corpus=bow_corpus, texts=corpus, coherence='c_v')\n",
    "     topics.append(i) # Append number of topics modeled\n",
    "     score.append(cm.get_coherence()) # Append coherence scores to list\n",
    "plt.plot(topics, score)\n",
    "plt.xlabel('# of Topics')\n",
    "plt.ylabel('Coherence Score')\n",
    "plt.show()"
   ]
  },
  {
   "cell_type": "code",
   "execution_count": null,
   "id": "3bbda8ee-3d89-4121-a624-e15bc78d1fc9",
   "metadata": {},
   "outputs": [],
   "source": []
  },
  {
   "cell_type": "code",
   "execution_count": 37,
   "id": "1f9fda40-bdea-4664-a774-2e18fa6e7fb7",
   "metadata": {},
   "outputs": [],
   "source": [
    "# Loading the dictionary and corpus files we saved earlier\n",
    "dictionary = gensim.corpora.Dictionary.load('dictionary.gensim')\n",
    "corpus = pickle.load(open('./data/corpus.pkl', 'rb'))"
   ]
  },
  {
   "cell_type": "code",
   "execution_count": 38,
   "id": "7e3c7d0d-3370-4044-a7ea-7d8aceb575e3",
   "metadata": {},
   "outputs": [
    {
     "data": {
      "text/html": [
       "\n",
       "<link rel=\"stylesheet\" type=\"text/css\" href=\"https://cdn.jsdelivr.net/gh/bmabey/pyLDAvis@3.4.0/pyLDAvis/js/ldavis.v1.0.0.css\">\n",
       "\n",
       "\n",
       "<div id=\"ldavis_el9718108743250241594342345\" style=\"background-color:white;\"></div>\n",
       "<script type=\"text/javascript\">\n",
       "\n",
       "var ldavis_el9718108743250241594342345_data = {\"mdsDat\": {\"x\": [0.34915613731753103, -0.17614018855187993, -0.028027231756949218, -0.14498871700870203], \"y\": [0.047365407040316124, 0.10152792077780777, -0.17307088725421677, 0.024177559436092892], \"topics\": [1, 2, 3, 4], \"cluster\": [1, 1, 1, 1], \"Freq\": [5.492565261338143, 46.05047884071476, 10.153411830221696, 38.3035440677254]}, \"tinfo\": {\"Term\": [\"'AX\", \"MAX\", \"Organization\", \"From\", \"Lines\", \"Subject\", \"game\", \"team\", \"God\", \"people\", \"Q,3\", \"A86\", \"B8F\", \"University\", \"writes\", \"145\", \"article\", \"drive\", \"player\", \"...\", \"The\", \"file\", \"government\", \"play\", \"Nntp-Posting-Host\", \"law\", \"1D9\", \"year\", \"card\", \"Jesus\", \"'AX\", \"MAX\", \"Q,3\", \"2DI\", \"GIZ\", \"/3T\", \"'AS\", \"B8F\", \"^_O\", \"7EY\", \"A86\", \"',3\", \"0EL\", \"R8F\", \"B8E,3\", \"B4Q,3\", \"0EM\", \"PL+\", \"MB8F\", \"NRHJ\", \"1EQ\", \"M45\", \"NUY\", \"6UM\", \"7EX\", \"BHJN\", \"GHJ\", \"K=R\", \"B8G\", \"Q,8\", \"145\", \"1D9\", \"BHJ\", \"FIJ\", \"AIR\", \"+-o-+\", \"RLK\", \"B9R\", \"JPEG\", \"Jesus\", \"Jews\", \"religion\", \"Turkish\", \"Christians\", \"God\", \"Christ\", \"Armenian\", \"STEPHANOPOULOS\", \"Armenians\", \"MR.\", \"church\", \"Israeli\", \"religious\", \"Christianity\", \"faith\", \"Turks\", \"FBI\", \"Koresh\", \"peace\", \"Turkey\", \"belief\", \"morality\", \"Islam\", \"homosexual\", \"minority\", \"atheist\", \"Arab\", \"civilian\", \"Muslim\", \"government\", \"Israel\", \"Bible\", \"criminal\", \"population\", \"moral\", \"law\", \"evidence\", \"war\", \"men\", \"gun\", \"country\", \"people\", \"child\", \"death\", \"encryption\", \"President\", \"crime\", \"human\", \"woman\", \"say\", \"life\", \"Christian\", \"And\", \"believe\", \"said\", \"fact\", \"n't\", \"right\", \"would\", \"But\", \"think\", \"one\", \"The\", \"even\", \"state\", \"writes\", \"thing\", \"article\", \"way\", \"many\", \"know\", \"They\", \"...\", \"make\", \"time\", \"could\", \"You\", \"like\", \"From\", \"Subject\", \"Lines\", \"Organization\", \"This\", \"get\", \"geb\", \"NHL\", \"pt\", \"Leafs\", \"Hockey\", \"DET\", \"CAL\", \"CHI\", \"Islanders\", \"NYI\", \"Devils\", \"Lemieux\", \"TOR\", \"NYR\", \"PIT\", \"MOV\", \"BUF\", \"STL\", \"QUE\", \"Pts\", \"Bruins\", \"MON\", \"N3JXP\", \"ADL\", \"Lindros\", \"Penguins\", \"Oilers\", \"Flyers\", \"Skepticism\", \"X^-\", \"hockey\", \"playoff\", \"VAN\", \"Banks\", \"Cup\", \"Rangers\", \"Wings\", \"Pens\", \"puck\", \"Jets\", \"ESPN\", \"team\", \"BOS\", \"game\", \"player\", \"Gordon\", \"Pittsburgh\", \"Detroit\", \"play\", \"season\", \"Montreal\", \"League\", \"Winnipeg\", \"fan\", \"league\", \"Organization\", \"Lines\", \"From\", \"Subject\", \"Toronto\", \"goal\", \"University\", \"writes\", \"article\", \"...\", \"The\", \"Nntp-Posting-Host\", \"win\", \"year\", \"New\", \"n't\", \"NNTP-Posting-Host\", \"Reply-To\", \"Distribution\", \"one\", \"would\", \"get\", \"SCSI\", \"output\", \"floppy\", \"manual\", \"widget\", \"motherboard\", \"IDE\", \"BIOS\", \"connector\", \"char\", \"xterm\", \"SCSI-2\", \"disk\", \"Saturn\", \"Window\", \"ATI\", \"binary\", \"amp\", \"workstation\", \"SCSI-1\", \"oname\", \"interface\", \"meg\", \"Quadra\", \"converter\", \"Linux\", \"SGI\", \"X11\", \"compression\", \"NULL\", \"software\", \"Windows\", \"controller\", \"font\", \"Mac\", \"Motif\", \"RAM\", \"graphic\", \"upgrade\", \"printer\", \"modem\", \"CPU\", \"VGA\", \"server\", \"Apple\", \"drive\", \"monitor\", \"3.1\", \"keyboard\", \"card\", \"mouse\", \"window\", \"file\", \"speed\", \"application\", \"screen\", \"image\", \"format\", \"entry\", \"driver\", \"color\", \"display\", \"mode\", \"program\", \"run\", \"Thanks\", \"machine\", \"car\", \"using\", \"use\", \"available\", \"version\", \"Subject\", \"Organization\", \"From\", \"Lines\", \"problem\", \"data\", \"The\", \"get\", \"system\", \"University\", \"work\", \"n't\", \"like\", \"...\", \"need\", \"one\", \"would\", \"writes\", \"This\", \"know\", \"article\", \"also\", \"time\", \"Distribution\", \"good\", \"year\"], \"Freq\": [42655.0, 3230.0, 10363.0, 11510.0, 10763.0, 11149.0, 1540.0, 1208.0, 2608.0, 5480.0, 635.0, 601.0, 572.0, 5126.0, 7491.0, 539.0, 6594.0, 1733.0, 772.0, 7202.0, 15061.0, 2327.0, 1642.0, 761.0, 2303.0, 1530.0, 340.0, 3415.0, 1365.0, 1207.0, 42653.61479335781, 3230.2118993364516, 635.1214693051702, 296.1042533597065, 199.0818735469028, 185.1887772544699, 144.57495819098773, 569.2776886538365, 116.95242445919254, 113.30787391881856, 596.831648292665, 65.04738352461881, 57.872275822128124, 56.27086466796597, 54.745144021175804, 51.86108477910395, 51.57629434207542, 215.50465281270652, 50.69519445090034, 48.01555623610039, 46.205082508787754, 45.2176597752674, 40.980354874907384, 130.25161456603576, 39.623052922669004, 39.547125824091935, 38.95332236889391, 38.22553357860949, 37.64310829255043, 37.443338150283616, 512.5671752659918, 324.9387691221051, 216.04134128317338, 50.1150852682173, 79.0087363797168, 40.09701981945275, 58.63675804049486, 51.581661226780085, 47.21534874576684, 1206.1341410210077, 746.2143268122751, 654.8030024817255, 605.7930281853639, 569.0091732053187, 2605.8010978768903, 534.4249913541091, 587.3016067115362, 465.34098351623817, 555.1210971962506, 465.6724039271396, 405.9043685796986, 578.1083834881146, 383.57812219545013, 320.7617394333904, 519.0124023350586, 307.676035945344, 370.5022584849207, 277.1354023488597, 341.96283205377426, 307.3343059532245, 648.0295815212978, 262.98475827130295, 258.530784283279, 242.50979947133882, 228.43617710055244, 458.34372719245476, 245.03285414774652, 244.39319030852982, 200.2031279330198, 1635.4583023998193, 898.8413865951226, 627.8021309711825, 396.2624567215464, 378.88342601103744, 412.7110673022856, 1499.9874819723498, 796.398027355151, 548.1345419567695, 528.5008710843993, 1132.7239719020104, 802.3977338203224, 4894.887684704107, 968.7117414277675, 585.8255356831756, 746.2392786088432, 666.264594575162, 550.4529188207429, 836.2319523633856, 652.6196158811937, 2968.5041712205016, 1155.1823636272884, 723.9732975993602, 2283.9790897907947, 1643.5404920706144, 1950.153283939813, 1315.096861819949, 8738.498341938226, 2325.48509837156, 5761.987045238279, 2015.2985619487092, 3156.270929630872, 4891.850455977081, 8016.402954132878, 1949.7624072605201, 1041.4648117701972, 4188.667903565422, 2110.147961964123, 3681.3321068176583, 2088.4021058521394, 1721.5423137622556, 2969.019076076878, 1659.3102363033029, 3649.0751759003315, 2144.052546661525, 2508.3750855631465, 2096.5357651284075, 1977.6862864424381, 2761.908515677699, 4291.582475917571, 4038.1014550158934, 3887.516214318321, 3620.2989684038444, 2240.196516875452, 2141.1286972276907, 211.5034970365758, 363.7103209600163, 129.39415894047707, 144.86351981488147, 192.4876600805525, 104.70175966118488, 93.5757955674608, 103.32294793364116, 95.57873197847746, 94.15869366633737, 97.30969032679256, 91.31809336545219, 88.59982046668385, 89.66400038431377, 82.0224192890435, 74.90556790667824, 77.90026724194672, 75.60338712425802, 79.50552594099622, 67.81420979200729, 69.74441845649562, 66.97557911456029, 66.63206452573957, 67.37321078902372, 63.52163841545251, 76.67542219096305, 54.94487448802305, 62.76864900433205, 67.15880837943308, 50.557391042826715, 325.9340861374538, 197.643929555339, 96.57795873302261, 225.0621173558846, 155.3124103411472, 144.3908642733908, 142.5398803981457, 104.75336770287392, 90.560856994612, 102.35260395800294, 109.69559731341172, 850.7290572040273, 100.05140782433891, 867.047142478573, 492.65869875180914, 230.32208630783845, 296.3362987599892, 151.3872412631646, 422.7118476366945, 314.81701879132686, 145.08855113314735, 128.12714929075838, 115.10193099912105, 216.72000658500204, 172.348554070853, 1358.6742788841498, 1352.8942702899842, 1389.9980122767101, 1349.1256402340828, 209.8135523494023, 222.66266567987012, 666.8819229935799, 737.5029473134174, 690.3017075570734, 661.6764164085467, 841.7690540767402, 388.94987597122133, 225.8349259123638, 403.1430081857837, 295.341796604265, 472.105025020959, 290.93745767801306, 266.9567751877412, 255.38370636710044, 264.3886190792829, 263.83467281556887, 252.93377456823848, 585.5914168473449, 512.1664672735022, 269.66464124017637, 319.45421320383184, 377.9212460517878, 201.3297100456896, 353.327070766404, 165.2303100090807, 158.421847880677, 157.03410411999715, 147.4168630350495, 135.09510260716883, 875.9314178867719, 133.02571481151426, 161.00864775358272, 145.00023265330256, 131.59822105551493, 119.0970320578279, 127.32305587076252, 105.4498014146382, 103.4717778217701, 344.7221628500761, 188.0492604898416, 161.82695275007362, 132.81296224235484, 106.02196471427915, 100.86830509446496, 101.20331440783065, 128.95009199813214, 101.71379031713828, 857.1691595826271, 1006.6245395813572, 397.8731385686671, 390.4274499314622, 582.9992221771498, 312.41336231251313, 315.15216087041574, 457.43178748142344, 225.58890858187647, 331.49661648273866, 324.72830597440236, 176.33428992770487, 236.24731297950956, 646.734290860289, 462.8046582305322, 1655.7690131179809, 523.3843457996871, 325.7201671356019, 299.03441700092264, 1285.8965006897358, 378.28913432086694, 1246.7981360963665, 2141.6422153280114, 682.1608500422083, 703.2315605595162, 469.10886420585933, 887.9403017813131, 480.44032655264033, 530.653276128923, 872.9674706661394, 654.3210040576225, 540.2834126246953, 532.486334897244, 1597.9753421514145, 1250.02129410024, 1215.404193315635, 766.8414525779847, 1268.6063164886075, 1337.1280140455922, 2608.47189165369, 1089.1306806036491, 1092.6153071731305, 5744.228361307568, 5367.711542725582, 5811.343894639083, 5505.665866186687, 1977.9835606499812, 980.4391270447817, 6199.076333964887, 2616.778620331507, 1707.698007549547, 2623.008536583195, 1683.970104281221, 4694.489470167161, 2432.5967239411757, 2888.402691024196, 1529.6373065061737, 2791.81806121725, 2791.757622120052, 2560.359591475061, 1898.405416006023, 2095.0851798488293, 2219.292561182035, 1564.9667376274379, 1663.9079711984039, 1423.1636767713474, 1386.4418017943804, 1363.7565597905025], \"Total\": [42655.0, 3230.0, 10363.0, 11510.0, 10763.0, 11149.0, 1540.0, 1208.0, 2608.0, 5480.0, 635.0, 601.0, 572.0, 5126.0, 7491.0, 539.0, 6594.0, 1733.0, 772.0, 7202.0, 15061.0, 2327.0, 1642.0, 761.0, 2303.0, 1530.0, 340.0, 3415.0, 1365.0, 1207.0, 42655.28172634014, 3230.981761815679, 635.8186547807519, 296.80037138545424, 199.77454468687483, 185.8803360667454, 145.26749160515303, 572.215685279143, 117.64090493947906, 113.99927712251169, 601.2711647946655, 65.73760511634026, 58.56075313103242, 56.96052626293037, 55.434694758851755, 52.55059876850403, 52.26477165097972, 218.418862321398, 51.384400074844386, 48.70518575690829, 46.89449595787443, 45.90620521410737, 41.669694385633946, 132.48399579168554, 40.312383043230135, 40.23667664223043, 39.64261127612731, 38.92085401009269, 38.33223754684101, 38.13313530554046, 539.9977279160482, 340.9456071205801, 230.3325251516304, 52.171102710548695, 93.24824978309375, 41.04398730166532, 80.15135194520013, 64.47591497074974, 191.52819510458613, 1207.1462512642718, 746.9385151012203, 655.5182148855622, 606.4848157306307, 569.6595642632117, 2608.908376992763, 535.0923602922867, 588.0478235899047, 465.9862496340611, 555.8909390242632, 466.31889612972697, 406.54570631437406, 579.0844946116616, 384.25351832850123, 321.4017375911576, 520.0800314245151, 308.33883286959576, 371.3476403805367, 277.78731252774855, 342.7754805098964, 308.0735603545137, 649.5986146080451, 263.66441565675706, 259.240127106843, 243.18129061639226, 229.09975597685795, 459.71464581671796, 245.79983726767728, 245.17567341224364, 200.85382902610857, 1642.3323069209505, 907.3152532254653, 631.6250089486596, 397.7395320315658, 380.25068282484995, 415.6271139295267, 1530.4877697402014, 807.7971352032356, 553.7929006461444, 536.2891450247693, 1185.6951451595125, 829.2607809687676, 5480.148425077354, 1019.8545786550314, 600.7249670138083, 776.0857054269677, 689.2296545306175, 562.806248314394, 884.0509618536302, 678.2091154833427, 3693.6118325857633, 1287.337657316606, 763.6544141669385, 2797.7165705355737, 1941.1207616660765, 2364.5476553029484, 1528.2110449355887, 13908.339105051225, 3004.7349968511553, 8819.501684768404, 2549.299431434292, 4389.594122875225, 7949.706068989359, 15061.399342261078, 2734.9926078187627, 1216.1808754424346, 7491.179159514248, 3095.1743519941765, 6594.843833663068, 3124.2261438533706, 2444.0787534741, 5277.935272853851, 2327.754572773716, 7202.532479650423, 3395.4314911287224, 4367.200749262012, 3339.1238552391123, 3072.980778384596, 5403.367762725594, 11510.340656821445, 11149.2334940634, 10763.529859880493, 10363.659564578207, 4288.851588408577, 5012.344413560255, 212.20629683061665, 365.50358973299376, 130.0815685124001, 145.64439447054053, 193.58054730463377, 105.43062958427053, 94.24940811647048, 104.07096926680195, 96.32743143995711, 94.90824961859626, 98.08901630900282, 92.06183845727323, 89.3481522894169, 90.43870085436976, 82.7474819745732, 75.57165712033219, 78.62797776326107, 76.3100034488596, 80.25630594893316, 68.48179978827366, 70.43387348090457, 67.64272034980898, 67.30817038759463, 68.08378764466283, 64.2332676233757, 77.57502110169266, 55.62337750842071, 63.55350343434578, 68.02784074828354, 51.22170967373487, 330.4279038651205, 201.27926589910237, 97.97558075773112, 231.2953441113041, 159.1611127905783, 148.02935592402525, 148.62491952450122, 108.00886885762202, 92.78436191851982, 106.5062116887774, 115.2628325521268, 1208.8771645963093, 105.39254093932628, 1540.9254876600048, 772.8491486551911, 300.49877614293604, 430.2167095334986, 182.14482018815474, 761.2912852042508, 507.69458494303035, 177.32716919771548, 154.99406193498083, 132.84999054890616, 400.8932507816389, 269.8992551631748, 10363.659564578207, 10763.529859880493, 11510.340656821445, 11149.2334940634, 407.1922763731262, 457.57821380734254, 5126.49665803065, 7491.179159514248, 6594.843833663068, 7202.532479650423, 15061.399342261078, 2303.645961273698, 567.7931986598413, 3415.5202660980067, 1313.7361002380417, 13908.339105051225, 2185.192050686332, 1623.8221226257988, 2439.4463425851586, 7949.706068989359, 8819.501684768404, 5012.344413560255, 586.4064696556158, 513.0350807920686, 270.39190919794953, 320.52149779532493, 379.23552516190733, 202.08773967915846, 354.73704537675326, 165.92558335102046, 159.12954877206667, 157.75889004686684, 148.1035518204575, 135.73086358204662, 880.2425622209003, 133.705547777995, 161.86035520483267, 145.79080958926704, 132.3166196315485, 119.74889629783117, 128.03167644697777, 106.0845788800011, 104.09792269473184, 346.8209551135393, 189.20361068528692, 162.83704090361786, 133.65040253070953, 106.71237577356878, 101.5451226112384, 101.88410176071561, 129.82443688169877, 102.41709043789396, 864.559338528546, 1021.7645387469973, 401.61553614273606, 394.06303958260315, 590.8387414485719, 314.7875647235211, 317.6480095124264, 464.21006465474943, 227.3492743909417, 335.5222656336818, 328.7439432215826, 177.5799772098695, 238.63633462703982, 663.0637745979369, 471.75186880794695, 1733.0591208053954, 535.1683631802326, 330.9133302157905, 304.2332592375616, 1365.0126677195701, 386.8318742202665, 1329.6381520955765, 2327.6501379880265, 716.400338693954, 740.7668854787433, 487.5446182817644, 960.955028070418, 500.1126939002038, 556.5474454567947, 950.8655736738074, 706.6692965615457, 573.2887033034922, 565.0320350835506, 1919.3329312406531, 1496.1521490188275, 1453.9120426043999, 868.2973339285603, 1577.2191305424706, 1717.6052408057203, 3869.6536589284487, 1365.6216140079832, 1381.5522760018093, 11149.2334940634, 10363.659564578207, 11510.340656821445, 10763.529859880493, 3035.331729718927, 1223.9330187399157, 15061.399342261078, 5012.344413560255, 2739.531339107356, 5126.49665803065, 2803.6356729162585, 13908.339105051225, 5403.367762725594, 7202.532479650423, 2632.1324563677745, 7949.706068989359, 8819.501684768404, 7491.179159514248, 4288.851588408577, 5277.935272853851, 6594.843833663068, 3306.5003568103566, 4367.200749262012, 2439.4463425851586, 3174.8235998521022, 3415.5202660980067], \"Category\": [\"Default\", \"Default\", \"Default\", \"Default\", \"Default\", \"Default\", \"Default\", \"Default\", \"Default\", \"Default\", \"Default\", \"Default\", \"Default\", \"Default\", \"Default\", \"Default\", \"Default\", \"Default\", \"Default\", \"Default\", \"Default\", \"Default\", \"Default\", \"Default\", \"Default\", \"Default\", \"Default\", \"Default\", \"Default\", \"Default\", \"Topic1\", \"Topic1\", \"Topic1\", \"Topic1\", \"Topic1\", \"Topic1\", \"Topic1\", \"Topic1\", \"Topic1\", \"Topic1\", \"Topic1\", \"Topic1\", \"Topic1\", \"Topic1\", \"Topic1\", \"Topic1\", \"Topic1\", \"Topic1\", \"Topic1\", \"Topic1\", \"Topic1\", \"Topic1\", \"Topic1\", \"Topic1\", \"Topic1\", \"Topic1\", \"Topic1\", \"Topic1\", \"Topic1\", \"Topic1\", \"Topic1\", \"Topic1\", \"Topic1\", \"Topic1\", \"Topic1\", \"Topic1\", \"Topic1\", \"Topic1\", \"Topic1\", \"Topic2\", \"Topic2\", \"Topic2\", \"Topic2\", \"Topic2\", \"Topic2\", \"Topic2\", \"Topic2\", \"Topic2\", \"Topic2\", \"Topic2\", \"Topic2\", \"Topic2\", \"Topic2\", \"Topic2\", \"Topic2\", \"Topic2\", \"Topic2\", \"Topic2\", \"Topic2\", \"Topic2\", \"Topic2\", \"Topic2\", \"Topic2\", \"Topic2\", \"Topic2\", \"Topic2\", \"Topic2\", \"Topic2\", \"Topic2\", \"Topic2\", \"Topic2\", \"Topic2\", \"Topic2\", \"Topic2\", \"Topic2\", \"Topic2\", \"Topic2\", \"Topic2\", \"Topic2\", \"Topic2\", \"Topic2\", \"Topic2\", \"Topic2\", \"Topic2\", \"Topic2\", \"Topic2\", \"Topic2\", \"Topic2\", \"Topic2\", \"Topic2\", \"Topic2\", \"Topic2\", \"Topic2\", \"Topic2\", \"Topic2\", \"Topic2\", \"Topic2\", \"Topic2\", \"Topic2\", \"Topic2\", \"Topic2\", \"Topic2\", \"Topic2\", \"Topic2\", \"Topic2\", \"Topic2\", \"Topic2\", \"Topic2\", \"Topic2\", \"Topic2\", \"Topic2\", \"Topic2\", \"Topic2\", \"Topic2\", \"Topic2\", \"Topic2\", \"Topic2\", \"Topic2\", \"Topic2\", \"Topic2\", \"Topic2\", \"Topic2\", \"Topic2\", \"Topic2\", \"Topic3\", \"Topic3\", \"Topic3\", \"Topic3\", \"Topic3\", \"Topic3\", \"Topic3\", \"Topic3\", \"Topic3\", \"Topic3\", \"Topic3\", \"Topic3\", \"Topic3\", \"Topic3\", \"Topic3\", \"Topic3\", \"Topic3\", \"Topic3\", \"Topic3\", \"Topic3\", \"Topic3\", \"Topic3\", \"Topic3\", \"Topic3\", \"Topic3\", \"Topic3\", \"Topic3\", \"Topic3\", \"Topic3\", \"Topic3\", \"Topic3\", \"Topic3\", \"Topic3\", \"Topic3\", \"Topic3\", \"Topic3\", \"Topic3\", \"Topic3\", \"Topic3\", \"Topic3\", \"Topic3\", \"Topic3\", \"Topic3\", \"Topic3\", \"Topic3\", \"Topic3\", \"Topic3\", \"Topic3\", \"Topic3\", \"Topic3\", \"Topic3\", \"Topic3\", \"Topic3\", \"Topic3\", \"Topic3\", \"Topic3\", \"Topic3\", \"Topic3\", \"Topic3\", \"Topic3\", \"Topic3\", \"Topic3\", \"Topic3\", \"Topic3\", \"Topic3\", \"Topic3\", \"Topic3\", \"Topic3\", \"Topic3\", \"Topic3\", \"Topic3\", \"Topic3\", \"Topic3\", \"Topic3\", \"Topic3\", \"Topic3\", \"Topic3\", \"Topic4\", \"Topic4\", \"Topic4\", \"Topic4\", \"Topic4\", \"Topic4\", \"Topic4\", \"Topic4\", \"Topic4\", \"Topic4\", \"Topic4\", \"Topic4\", \"Topic4\", \"Topic4\", \"Topic4\", \"Topic4\", \"Topic4\", \"Topic4\", \"Topic4\", \"Topic4\", \"Topic4\", \"Topic4\", \"Topic4\", \"Topic4\", \"Topic4\", \"Topic4\", \"Topic4\", \"Topic4\", \"Topic4\", \"Topic4\", \"Topic4\", \"Topic4\", \"Topic4\", \"Topic4\", \"Topic4\", \"Topic4\", \"Topic4\", \"Topic4\", \"Topic4\", \"Topic4\", \"Topic4\", \"Topic4\", \"Topic4\", \"Topic4\", \"Topic4\", \"Topic4\", \"Topic4\", \"Topic4\", \"Topic4\", \"Topic4\", \"Topic4\", \"Topic4\", \"Topic4\", \"Topic4\", \"Topic4\", \"Topic4\", \"Topic4\", \"Topic4\", \"Topic4\", \"Topic4\", \"Topic4\", \"Topic4\", \"Topic4\", \"Topic4\", \"Topic4\", \"Topic4\", \"Topic4\", \"Topic4\", \"Topic4\", \"Topic4\", \"Topic4\", \"Topic4\", \"Topic4\", \"Topic4\", \"Topic4\", \"Topic4\", \"Topic4\", \"Topic4\", \"Topic4\", \"Topic4\", \"Topic4\", \"Topic4\", \"Topic4\", \"Topic4\", \"Topic4\", \"Topic4\", \"Topic4\", \"Topic4\", \"Topic4\", \"Topic4\", \"Topic4\", \"Topic4\", \"Topic4\", \"Topic4\", \"Topic4\", \"Topic4\", \"Topic4\", \"Topic4\"], \"logprob\": [30.0, 29.0, 28.0, 27.0, 26.0, 25.0, 24.0, 23.0, 22.0, 21.0, 20.0, 19.0, 18.0, 17.0, 16.0, 15.0, 14.0, 13.0, 12.0, 11.0, 10.0, 9.0, 8.0, 7.0, 6.0, 5.0, 4.0, 3.0, 2.0, 1.0, -0.9194, -3.4999, -5.1264, -5.8895, -6.2865, -6.3589, -6.6064, -5.2359, -6.8185, -6.8501, -5.1886, -7.4051, -7.522, -7.5501, -7.5776, -7.6317, -7.6372, -6.2073, -7.6544, -7.7087, -7.7472, -7.7688, -7.8671, -6.7108, -7.9008, -7.9027, -7.9179, -7.9367, -7.9521, -7.9574, -5.3408, -5.7966, -6.2048, -7.6659, -7.2107, -7.8889, -7.5089, -7.6371, -7.7255, -6.6114, -7.0916, -7.2222, -7.3, -7.3627, -5.8411, -7.4254, -7.331, -7.5638, -7.3874, -7.5631, -7.7005, -7.3468, -7.757, -7.9359, -7.4547, -7.9775, -7.7917, -8.0821, -7.8719, -7.9786, -7.2326, -8.1345, -8.1516, -8.2155, -8.2753, -7.579, -8.2052, -8.2078, -8.4073, -6.3069, -6.9055, -7.2644, -7.7245, -7.7694, -7.6838, -6.3934, -7.0265, -7.4001, -7.4365, -6.6742, -7.019, -5.2106, -6.8306, -7.3336, -7.0915, -7.2049, -7.3958, -6.9777, -7.2256, -5.7108, -6.6546, -7.1218, -5.9729, -6.302, -6.1309, -6.5249, -4.6311, -5.9549, -5.0475, -6.0981, -5.6494, -5.2113, -4.7173, -6.1311, -6.7582, -5.3664, -6.0521, -5.4956, -6.0624, -6.2556, -5.7106, -6.2924, -5.5044, -6.0361, -5.8792, -6.0585, -6.1169, -5.7829, -5.3422, -5.4031, -5.4411, -5.5123, -5.9923, -6.0375, -6.8404, -6.2983, -7.3318, -7.2189, -6.9346, -7.5435, -7.6559, -7.5568, -7.6347, -7.6497, -7.6168, -7.6803, -7.7105, -7.6986, -7.7877, -7.8784, -7.8392, -7.8692, -7.8188, -7.9779, -7.9498, -7.9903, -7.9955, -7.9844, -8.0433, -7.8551, -8.1883, -8.0552, -7.9876, -8.2715, -6.408, -6.9082, -7.6243, -6.7783, -7.1492, -7.2221, -7.235, -7.543, -7.6886, -7.5662, -7.4969, -5.4486, -7.589, -5.4296, -5.9948, -6.7552, -6.5032, -7.1748, -6.148, -6.4427, -7.2173, -7.3416, -7.4488, -6.816, -7.0451, -4.9804, -4.9847, -4.9576, -4.9874, -6.8484, -6.789, -5.692, -5.5914, -5.6575, -5.6999, -5.4591, -6.2312, -6.7749, -6.1954, -6.5065, -6.0375, -6.5215, -6.6076, -6.6519, -6.6172, -6.6193, -6.6615, -7.1498, -7.2837, -7.9252, -7.7558, -7.5877, -8.2174, -7.655, -8.415, -8.4571, -8.4659, -8.5291, -8.6164, -6.7471, -8.6318, -8.4409, -8.5457, -8.6426, -8.7424, -8.6757, -8.8642, -8.8831, -7.6796, -8.2857, -8.4359, -8.6334, -8.8587, -8.9086, -8.9053, -8.663, -8.9002, -6.7688, -6.608, -7.5363, -7.5551, -7.1542, -7.7781, -7.7693, -7.3968, -8.1037, -7.7188, -7.7394, -8.35, -8.0575, -7.0505, -7.3851, -6.1104, -7.2621, -7.7363, -7.8218, -6.3632, -7.5867, -6.3941, -5.8531, -6.9971, -6.9667, -7.3716, -6.7335, -7.3477, -7.2483, -6.7505, -7.0388, -7.2303, -7.2448, -6.1459, -6.3915, -6.4196, -6.8801, -6.3767, -6.3241, -5.6559, -6.5293, -6.5261, -4.8664, -4.9342, -4.8548, -4.9089, -5.9326, -6.6344, -4.7902, -5.6527, -6.0795, -5.6503, -6.0935, -5.0682, -5.7257, -5.5539, -6.1896, -5.5879, -5.588, -5.6745, -5.9736, -5.875, -5.8174, -6.1668, -6.1055, -6.2618, -6.2879, -6.3044], \"loglift\": [30.0, 29.0, 28.0, 27.0, 26.0, 25.0, 24.0, 23.0, 22.0, 21.0, 20.0, 19.0, 18.0, 17.0, 16.0, 15.0, 14.0, 13.0, 12.0, 11.0, 10.0, 9.0, 8.0, 7.0, 6.0, 5.0, 4.0, 3.0, 2.0, 1.0, 2.9017, 2.9015, 2.9007, 2.8994, 2.8983, 2.898, 2.897, 2.8966, 2.8959, 2.8957, 2.8944, 2.8912, 2.8899, 2.8896, 2.8893, 2.8886, 2.8885, 2.8883, 2.8883, 2.8875, 2.887, 2.8867, 2.8851, 2.8848, 2.8845, 2.8845, 2.8842, 2.8837, 2.8836, 2.8835, 2.8496, 2.8537, 2.8377, 2.8616, 2.7361, 2.8784, 2.5892, 2.6786, 1.5015, 0.7746, 0.7745, 0.7743, 0.7743, 0.7743, 0.7742, 0.7742, 0.7742, 0.774, 0.774, 0.774, 0.7739, 0.7737, 0.7737, 0.7734, 0.7734, 0.7733, 0.7732, 0.7731, 0.7731, 0.773, 0.773, 0.7729, 0.7727, 0.7727, 0.7725, 0.7724, 0.7723, 0.7722, 0.7722, 0.7712, 0.766, 0.7694, 0.7717, 0.7718, 0.7684, 0.7553, 0.7612, 0.7652, 0.7608, 0.7297, 0.7425, 0.6625, 0.724, 0.7503, 0.7362, 0.7415, 0.7532, 0.7198, 0.737, 0.5569, 0.6671, 0.7221, 0.5725, 0.609, 0.5828, 0.6252, 0.3107, 0.5192, 0.3497, 0.5404, 0.4456, 0.2899, 0.1448, 0.437, 0.6203, 0.1941, 0.3923, 0.1924, 0.3726, 0.425, 0.2001, 0.4369, 0.0955, 0.3157, 0.2209, 0.31, 0.3347, 0.1043, -0.2112, -0.2402, -0.243, -0.2763, 0.126, -0.0751, 2.284, 2.2824, 2.2821, 2.282, 2.2817, 2.2804, 2.2802, 2.2801, 2.2796, 2.2794, 2.2794, 2.2792, 2.2789, 2.2788, 2.2786, 2.2785, 2.2781, 2.2781, 2.278, 2.2776, 2.2775, 2.2774, 2.2773, 2.2769, 2.2762, 2.2757, 2.2751, 2.2749, 2.2745, 2.2743, 2.2737, 2.2691, 2.273, 2.26, 2.2629, 2.2625, 2.2456, 2.2568, 2.2631, 2.2476, 2.2379, 1.936, 2.2354, 1.7123, 1.8371, 2.0214, 1.9146, 2.1024, 1.699, 1.8095, 2.0867, 2.097, 2.144, 1.6723, 1.8388, 0.2556, 0.2134, 0.1734, 0.1754, 1.6243, 1.5671, 0.2478, -0.0309, 0.0304, -0.1001, -0.597, 0.5086, 1.3654, 0.1506, 0.7949, -1.0957, 0.271, 0.4819, 0.0306, -1.1161, -1.222, -0.6992, 0.9582, 0.9579, 0.9569, 0.9563, 0.9562, 0.9559, 0.9556, 0.9554, 0.9552, 0.955, 0.955, 0.9549, 0.9547, 0.9545, 0.9544, 0.9542, 0.9542, 0.9542, 0.9541, 0.9536, 0.9536, 0.9536, 0.9535, 0.9534, 0.9533, 0.9531, 0.9529, 0.9529, 0.9529, 0.9527, 0.951, 0.9447, 0.9503, 0.9504, 0.9463, 0.9521, 0.9517, 0.9449, 0.9519, 0.9476, 0.9473, 0.9526, 0.9496, 0.9347, 0.9405, 0.914, 0.9374, 0.9438, 0.9424, 0.8999, 0.9373, 0.8953, 0.8763, 0.9107, 0.9076, 0.9211, 0.8806, 0.9195, 0.912, 0.8742, 0.8827, 0.9003, 0.9003, 0.7764, 0.7799, 0.7804, 0.8354, 0.7419, 0.7092, 0.5652, 0.7334, 0.725, 0.2965, 0.3017, 0.2762, 0.2892, 0.5314, 0.7378, 0.0719, 0.3097, 0.487, 0.2895, 0.4499, -0.1265, 0.1616, 0.0459, 0.4169, -0.0868, -0.1907, -0.114, 0.1446, 0.0357, -0.1295, 0.2116, -0.0053, 0.4207, 0.1311, 0.0415]}, \"token.table\": {\"Topic\": [1, 1, 1, 2, 3, 4, 1, 1, 2, 3, 4, 1, 1, 1, 1, 2, 3, 4, 1, 3, 1, 1, 1, 3, 4, 1, 3, 1, 1, 1, 3, 3, 1, 3, 4, 4, 2, 3, 4, 1, 2, 3, 4, 2, 2, 2, 1, 1, 1, 3, 1, 1, 3, 1, 3, 1, 4, 3, 4, 3, 2, 3, 4, 2, 3, 4, 3, 2, 3, 4, 3, 3, 3, 4, 2, 2, 3, 4, 2, 2, 3, 4, 3, 2, 3, 4, 3, 1, 2, 3, 4, 3, 4, 2, 1, 3, 3, 1, 2, 3, 4, 1, 1, 2, 3, 4, 2, 3, 4, 3, 4, 1, 4, 2, 3, 2, 3, 4, 2, 3, 1, 4, 2, 2, 3, 4, 2, 1, 2, 3, 2, 3, 4, 3, 3, 1, 2, 3, 4, 4, 1, 1, 1, 3, 3, 2, 1, 3, 4, 2, 3, 4, 2, 4, 2, 3, 3, 4, 1, 2, 3, 4, 1, 4, 1, 3, 3, 2, 3, 4, 1, 2, 3, 4, 3, 1, 2, 3, 4, 3, 1, 3, 3, 3, 4, 2, 3, 4, 2, 3, 4, 3, 1, 1, 3, 4, 1, 1, 3, 4, 1, 3, 2, 3, 4, 1, 2, 3, 4, 4, 4, 4, 4, 2, 3, 4, 3, 1, 2, 3, 4, 3, 1, 2, 3, 4, 1, 2, 3, 4, 2, 3, 4, 1, 2, 3, 4, 2, 3, 4, 2, 2, 2, 1, 2, 3, 4, 1, 3, 1, 4, 4, 1, 3, 4, 2, 3, 4, 2, 3, 4, 4, 3, 1, 2, 3, 4, 1, 1, 2, 3, 4, 4, 1, 2, 3, 4, 1, 2, 3, 4, 2, 4, 1, 2, 3, 4, 2, 3, 2, 3, 4, 4, 2, 3, 4, 1, 2, 3, 4, 4, 2, 4, 2, 2, 1, 2, 3, 4, 4, 4, 1, 2, 4, 4, 1, 2, 3, 4, 2, 3, 4, 2, 4, 2, 4, 1, 2, 3, 4, 2, 4, 1, 2, 4, 1, 2, 3, 4, 2, 3, 4, 1, 2, 3, 4, 2, 3, 4, 2, 3, 4, 1, 2, 3, 4, 2, 3, 4, 2, 3, 4, 2, 4, 2, 3, 4, 1, 2, 3, 4, 4, 1, 2, 4, 1, 2, 3, 4, 2, 3, 4, 3, 1, 2, 3, 4, 2, 3, 4, 2, 3, 4, 2, 4, 2, 3, 4, 2, 3, 4, 2, 3, 4, 2, 2, 3, 4, 1, 2, 3, 4, 2, 4, 2, 4, 1, 2, 3, 4, 2, 3, 4, 2, 3, 4, 2, 3, 4, 1, 2, 3, 4, 1, 2, 3, 4, 1, 2, 3, 4, 4, 1, 2, 3, 4, 3, 4, 2, 3, 4, 2, 1, 2, 3, 4, 2, 3, 4, 2, 3, 4, 2, 4, 2, 4, 1, 2, 4, 1, 2, 3, 4, 1, 2, 3, 4, 4, 1, 2, 3, 4, 4, 2, 2, 3, 4, 2, 3, 4, 2, 3, 4, 3, 4, 2, 3, 2, 3, 4, 1, 2, 3, 4, 1, 2, 3, 4, 3, 3, 4, 2, 2, 1, 2, 3, 4, 1, 2, 3, 4, 1, 2, 3, 4, 1, 2, 3, 4, 1, 2, 4, 2, 3, 4, 1, 2, 3, 4, 1, 2, 3, 4, 1, 2, 3, 4, 2, 3, 4, 1, 2, 3, 4, 2, 3, 4, 1, 2, 3, 4, 1, 2, 3, 4, 1, 2, 3, 4, 3, 4, 1, 2, 3, 4, 1, 2, 3, 4, 1, 2, 3, 4, 2, 3, 4, 1, 2, 3, 4, 1, 4, 2, 3, 4, 1, 2, 3, 4, 2, 3, 4, 1, 2, 3, 4, 4, 1, 2, 3, 4, 1, 2, 3, 4, 4, 2, 3, 4], \"Freq\": [0.9887795560085453, 0.998158627217987, 0.9999699515209309, 2.3443755603716673e-05, 2.3443755603716673e-05, 2.3443755603716673e-05, 0.9745641841765467, 0.0004165201626616762, 0.5066273578508188, 0.09191211589400988, 0.4009700765889736, 0.9952639634435065, 0.9904244207758444, 0.9949340321861952, 0.9500039972015485, 0.018518596436677356, 0.024074175367680566, 0.009259298218338678, 0.9532312287134389, 0.04692830664435391, 0.9809253529736632, 0.9973033342858766, 0.006043878615273034, 0.009065817922909551, 0.9851522142895045, 0.9812505972752262, 0.01509616303500348, 0.9922509407867269, 0.9912343556228186, 0.992896441664346, 0.006652572473462954, 0.984081560645256, 0.847200887778196, 0.0857924949648806, 0.06434437122366045, 0.9945757240014308, 0.8163800522376605, 0.030381919632312234, 0.15333933555602292, 0.00211975842835952, 0.010598792141797599, 0.006359275285078559, 0.9814481523304577, 0.9967459812969435, 0.9982181320160187, 0.998397277304381, 0.9895225024755754, 0.9921584350605206, 0.9943802916245221, 0.0034951855593129072, 0.991332685799126, 0.8065027076171065, 0.1861160094501015, 0.9377746362907491, 0.060781689389215215, 0.9941178879077199, 0.9944216959655802, 0.9488337515040013, 0.047441687575200064, 0.9920133039011656, 0.01729390626244131, 0.9727822272623238, 0.008646953131220655, 0.99426082106107, 0.0031664357358632805, 0.0031664357358632805, 0.9938399883541519, 0.7904132308484126, 0.020790025426782068, 0.18867928736381462, 0.9973537434191388, 0.9897092409694354, 0.005631265504771234, 0.9911027288397372, 0.9979585574877391, 0.9480728279293755, 0.009166449993792306, 0.04190377140019339, 0.9987500453663738, 0.9988421781980177, 0.9738559707354306, 0.018848825240040595, 0.9959155172840324, 0.14274355961998877, 0.8290106731776271, 0.027450684542305533, 0.988897673256584, 0.004509219902882943, 0.30744681156020065, 0.10453191593046823, 0.5833290838002207, 0.9543405932719317, 0.043379117875996895, 0.9990638411484709, 0.9583849564653785, 0.038335398258615136, 0.9912907486694643, 0.0014769328299527942, 0.37288210036219954, 0.1207609784490814, 0.5048503926385698, 0.9837898852915804, 0.9961229060084265, 0.9988852130575335, 0.00038330207715177805, 0.00038330207715177805, 0.06655601149765332, 0.7653941322230131, 0.16639002874413328, 0.9918351955987267, 0.0051658083104100345, 0.0028189894825840266, 0.9951032873521614, 0.9990737270903126, 0.9966008494666319, 0.990835320803982, 0.003306458245174578, 0.00551076374195763, 0.9981272256091248, 0.0017268637121265135, 0.2453946792237828, 0.7518475278345685, 0.9990504454095175, 0.028167371202407636, 0.9576906208818596, 0.009389123734135878, 0.9987435175958317, 0.9763403441801688, 0.997165772185258, 0.9955755628434373, 0.03871116044766262, 0.8258380895501358, 0.13548906156681917, 0.9884660302784847, 0.9963684297560038, 0.0015794075197733274, 0.36121979040462926, 0.12570225730901835, 0.511542223757173, 0.9933243377967673, 0.9802596357097954, 0.9996961413316282, 0.9925191288740457, 0.9904983071868605, 0.9924355619273778, 0.9993161415238077, 0.0016925091904912645, 0.011847564333438853, 0.9867328580564072, 0.01691788130139873, 0.8176975962342721, 0.16353951924685442, 0.006353491129030483, 0.9911446161287553, 0.9957490029926311, 0.9954215010477921, 0.9958862518037315, 0.0027359512412190425, 0.0009152513617152477, 0.30935496025975373, 0.13316907312956855, 0.5564728279228706, 0.98552134139416, 0.9959275308826813, 0.9839285025842467, 0.9904302352825365, 0.9951491911070662, 0.436160656539906, 0.22455042526923608, 0.3387286076095256, 0.0008681889637651566, 0.2860682635606191, 0.16886275345232296, 0.5443544802807532, 0.9887928864383264, 0.0016403472049684108, 0.34929746364621456, 0.1311312853854159, 0.51796375272179, 0.9909667103247578, 0.9889255795232617, 0.00915671832891909, 0.9925875482400596, 0.9721423908106257, 0.02777549688030359, 0.11389608751629542, 0.6880253449963968, 0.1952504357422207, 0.9662962056581308, 0.015959847240599758, 0.017410742444290646, 0.9929645571558684, 0.998712439821329, 0.9702847590039148, 0.9968064073482743, 0.994859640663003, 0.9831369840493297, 0.003148138726053877, 0.003148138726053877, 0.9916636987069714, 0.7361073589917558, 0.2620043142174046, 0.01351083362834114, 0.9727800212405621, 0.00675541681417057, 0.006774140989169718, 0.32084795048703846, 0.16442687673711953, 0.5074447431887135, 0.9993068465703414, 0.9897762814213747, 0.9946153471453836, 0.9946317203897092, 0.9978835220248761, 0.9959375778423682, 0.9947231226398586, 0.9848908808955623, 0.0016144607617720455, 0.36217736422419555, 0.12099486486836052, 0.5151923675343683, 0.996103419259425, 0.0013755990330868917, 0.054336161806932216, 0.107984524097321, 0.8356764126002867, 0.00026557957259497935, 0.5322214634803386, 0.05590450003124315, 0.4115819426290692, 0.7127040021333355, 0.039952665580711394, 0.24701916891300055, 0.0002331626495779632, 0.5222843350546376, 0.03474123478711652, 0.4425427088989742, 0.051572687446450674, 0.5157268744645067, 0.43222823764644375, 0.9965152467051106, 0.9992006135717568, 0.9989011021854031, 0.0025358448209725284, 0.3557985348810686, 0.13010834581451358, 0.5116554588777649, 0.010206624878016773, 0.9900426131676271, 0.00838095339976522, 0.9889525011722959, 0.994684583487143, 0.007829592530007453, 0.00685089346375652, 0.985549959714688, 0.033641733943383136, 0.9621535907807577, 0.006728346788676627, 0.037636434743737124, 0.8656379991059537, 0.09032744338496909, 0.9913224757794694, 0.9956715682637872, 0.0006508338789712052, 0.643674706302522, 0.024731687400905797, 0.33094902745685784, 0.9945520230415706, 0.000302434565881813, 0.4935732115191188, 0.032965367681117616, 0.47331009560503734, 0.9937461110625306, 0.0013499523528967136, 0.04589837999848826, 0.004049857058690141, 0.9490165040863897, 0.0006065344534137699, 0.5581633307540218, 0.10462719321387531, 0.3364749880312889, 0.9962701953650579, 0.0021752624352948864, 0.0007322672618406245, 0.1742796083180686, 0.02782615594994373, 0.79743904814444, 0.9975390732490869, 0.0015394121500757513, 0.8469333966573744, 0.012879157491748394, 0.14064039980989246, 0.9976071061032986, 0.1946463836603415, 0.0012680546166797494, 0.8045806542833009, 0.0007325939338501738, 0.04981638750181182, 0.007325939338501738, 0.9421157989313235, 0.9951895576430502, 0.9501354607613787, 0.04902659756250664, 0.998657699968544, 0.9952047713548365, 0.004245267219896431, 0.06084883015184885, 0.008490534439792863, 0.925468253937422, 0.9936496017121181, 0.9929017031671182, 0.004979887031285539, 0.0024899435156427695, 0.9909975192258222, 0.9951335535217705, 0.0005989595135448432, 0.6280090499517681, 0.033242253001738796, 0.33811264539606395, 0.9671264075253617, 0.008441252933513131, 0.022911972248107072, 0.9772457247005542, 0.021321724902557546, 0.9956264542710134, 0.0025142082178560947, 0.000817038175037991, 0.19445508565904185, 0.004085190875189955, 0.8006974115372312, 0.9754880056225966, 0.023305174195761693, 0.0011360504966687196, 0.003408151490006159, 0.9951802350817983, 0.0034886436597743736, 0.05058533306672842, 0.0034886436597743736, 0.9419337881390809, 0.043853091384834536, 0.0005770143603267702, 0.9555357807011314, 0.0010516733675995384, 0.07256546236436814, 0.008413386940796307, 0.9181108499143971, 0.9612340425592353, 0.0025770349666467433, 0.034789972049731034, 0.01976471204709526, 0.025155088059939417, 0.9540965542734166, 0.00036563170121235884, 0.7129818173640997, 0.030347431200625784, 0.2566734542510759, 0.9853959184934872, 0.0012379345709717176, 0.012379345709717176, 0.8604832456602386, 0.00458051917841952, 0.13479813582206018, 0.9979233361035668, 0.001922780994419204, 0.057371881305449526, 0.5412912279688065, 0.4016031691381467, 0.011170063565684262, 0.04596910775108523, 0.022340127131368525, 0.9202413906806034, 0.998550588295663, 0.002537665042271443, 0.005075330084542886, 0.9896893664858628, 0.005998647977926836, 0.025994141237682955, 0.007998197303902447, 0.9597836764682937, 0.0506189303925708, 0.5626488801328062, 0.38678054505092563, 0.9990278477420427, 0.0003990148790632297, 0.42714542803718736, 0.05047538220149855, 0.5221109692542361, 0.45238167761010295, 0.4873483773287583, 0.06119172450764678, 0.5162491547802379, 0.04693174134365799, 0.4365596879349663, 0.9955354303815059, 0.003653341028922958, 0.010770985768519882, 0.0043083943074079525, 0.9844680992427172, 0.955557593893645, 0.0008433871084674714, 0.04385612964030851, 0.00605275758071689, 0.9865994856568531, 0.009079136371075335, 0.9992545042592186, 0.9456468417240569, 0.0011311565092393023, 0.05316435593424721, 0.0020812628495383047, 0.07076293688430237, 0.004162525699076609, 0.9240807051950074, 0.0028833321206690886, 0.9947495816308355, 0.013147806423348955, 0.9827985301453344, 0.0007578721210495532, 0.5625305818490308, 0.039788286355101544, 0.3969355233997035, 0.980079703776152, 0.0013067729383682025, 0.018948207606338936, 0.048166120325676715, 0.6372748227704919, 0.31122723902744953, 0.8972005079130074, 0.010098360695124759, 0.09243884020921894, 0.0005552092938583778, 0.5111626898789465, 0.038124371511608614, 0.45027473731914447, 0.0011516792242993062, 0.10710616785983548, 0.00921343379439445, 0.8833379650375679, 0.0002945133785242641, 0.6314366835560223, 0.02267753014636834, 0.3454641930089618, 0.9952530553931939, 0.000409152118596246, 0.7045599482227356, 0.02782234406454473, 0.2675854855619449, 0.005285311397483617, 0.99363854272692, 0.9864081809367359, 0.009323328742313194, 0.0037293314969252776, 0.9951996632551235, 0.001769811157436642, 0.05309433472309926, 0.003539622314873284, 0.9415395357562936, 0.00608376227528531, 0.00608376227528531, 0.9886113697338629, 0.007474283375478401, 0.013079995907087201, 0.9772625513438009, 0.9936791565288204, 0.007218008400935741, 0.9974800708123541, 0.9946174880233437, 0.0025851023833433863, 0.02068081906674709, 0.9771687009038, 0.00021569793325721122, 0.6282561802671706, 0.033936474832467894, 0.3374953662364498, 0.0011397602703246425, 0.40119561515427415, 0.016716483964761424, 0.5812777378655677, 0.9894529817088521, 0.0002515816286342595, 0.6153686636393988, 0.03320877497972226, 0.3512079535734263, 0.9979824366192064, 0.9977376429937671, 0.8932239823287096, 0.007846502806973342, 0.09890243072975702, 0.16813538061933575, 0.5556348906404611, 0.2758471088285977, 0.02458435780522145, 0.6378993893670618, 0.33771144142962095, 0.9837078802704586, 0.014904664852582707, 0.9967108992006044, 0.002629844061215315, 0.0029804281337673876, 0.008941284401302164, 0.9865217122770054, 0.00032945328189634167, 0.33933688035323195, 0.008565785329304883, 0.6516585915909638, 0.0010420287004127022, 0.1630774916145879, 0.0036471004514444577, 0.832580931629749, 0.9916854591717427, 0.9807687213488973, 0.021555356513162576, 0.9992094576873769, 0.9993402316012511, 0.0006656161032822934, 0.7737787200656661, 0.03627607762888499, 0.18936778138381247, 0.0006683812208910687, 0.14771224981692618, 0.016041149301385647, 0.8354765261138358, 0.0004229138701253534, 0.8246820467444391, 0.03341019573990292, 0.14125323262186804, 0.0002707377075137688, 0.8038202536083796, 0.019222377233477587, 0.1770624607140048, 0.00410218865105829, 0.03281750920846632, 0.961963238673169, 0.007878752538691839, 0.6204517624219823, 0.3722710574531894, 0.0030163011110247175, 0.015081505555123588, 0.007540752777561794, 0.9757734094164962, 0.0011566586068018996, 0.006939951640811398, 0.0011566586068018996, 0.991256426029228, 0.0013958675701117999, 0.029313218972347795, 0.018146278411453397, 0.9519816828162474, 0.855958205740815, 0.006577968920198386, 0.13649285509411652, 0.0003650259391906932, 0.3697712764001722, 0.006205440966241784, 0.6234643041377039, 0.04797840649042985, 0.7039590331613069, 0.24816417150222336, 0.00032308357665076744, 0.6817063467331194, 0.008077089416269187, 0.31016023358473677, 0.0006834344852901734, 0.7189730785252625, 0.0419173150977973, 0.2382908238711738, 0.0002289796273205403, 0.5742809053199152, 0.04442204770018482, 0.3810220998613791, 0.004398518546755666, 0.9940651915667805, 0.001033684239614262, 0.31915000898090334, 0.0059436843777820065, 0.6739621242284988, 0.0011644119105399385, 0.21483399749461865, 0.0058220595526996925, 0.7784093621959489, 0.0014476469944285921, 0.14838381692893068, 0.05862970327435798, 0.7911390824552256, 0.989539590270324, 0.0036114583586508175, 0.007222916717301635, 0.0003200792624975015, 0.6683255000947832, 0.022085469112327605, 0.3091965675725865, 0.002636883766553962, 0.9967420637573976, 0.16379202889275057, 0.39803224225550143, 0.43853994832575155, 0.006016674527119727, 0.05565423937585747, 0.0007520843158899659, 0.9378491419147874, 0.9628298781189681, 0.03243837261656554, 0.004423414447713483, 0.0007133594494179265, 0.3873541810339341, 0.011413751190686824, 0.6006486564098941, 0.9919420218838967, 0.00022677018175007232, 0.6533248936219583, 0.029933663991009548, 0.31657117372310095, 0.0006674516646220775, 0.5591910046203765, 0.09851586569821864, 0.3417352522865037, 0.9925487822074968, 0.4825033586706616, 0.11799080918948823, 0.3993535080259602], \"Term\": [\"',3\", \"'AS\", \"'AX\", \"'AX\", \"'AX\", \"'AX\", \"+-o-+\", \"...\", \"...\", \"...\", \"...\", \"/3T\", \"0EL\", \"0EM\", \"145\", \"145\", \"145\", \"145\", \"1D9\", \"1D9\", \"1EQ\", \"2DI\", \"3.1\", \"3.1\", \"3.1\", \"6UM\", \"6UM\", \"7EX\", \"7EY\", \"A86\", \"A86\", \"ADL\", \"AIR\", \"AIR\", \"AIR\", \"ATI\", \"And\", \"And\", \"And\", \"Apple\", \"Apple\", \"Apple\", \"Apple\", \"Arab\", \"Armenian\", \"Armenians\", \"B4Q,3\", \"B8E,3\", \"B8F\", \"B8F\", \"B8G\", \"B9R\", \"B9R\", \"BHJ\", \"BHJ\", \"BHJN\", \"BIOS\", \"BOS\", \"BOS\", \"BUF\", \"Banks\", \"Banks\", \"Banks\", \"Bible\", \"Bible\", \"Bible\", \"Bruins\", \"But\", \"But\", \"But\", \"CAL\", \"CHI\", \"CPU\", \"CPU\", \"Christ\", \"Christian\", \"Christian\", \"Christian\", \"Christianity\", \"Christians\", \"Cup\", \"Cup\", \"DET\", \"Detroit\", \"Detroit\", \"Detroit\", \"Devils\", \"Distribution\", \"Distribution\", \"Distribution\", \"Distribution\", \"ESPN\", \"ESPN\", \"FBI\", \"FIJ\", \"FIJ\", \"Flyers\", \"From\", \"From\", \"From\", \"From\", \"GHJ\", \"GIZ\", \"God\", \"God\", \"God\", \"Gordon\", \"Gordon\", \"Gordon\", \"Hockey\", \"Hockey\", \"IDE\", \"IDE\", \"Islam\", \"Islanders\", \"Israel\", \"Israel\", \"Israel\", \"Israeli\", \"Israeli\", \"JPEG\", \"JPEG\", \"Jesus\", \"Jets\", \"Jets\", \"Jets\", \"Jews\", \"K=R\", \"Koresh\", \"Leafs\", \"League\", \"League\", \"League\", \"Lemieux\", \"Lindros\", \"Lines\", \"Lines\", \"Lines\", \"Lines\", \"Linux\", \"M45\", \"MAX\", \"MB8F\", \"MON\", \"MOV\", \"MR.\", \"Mac\", \"Mac\", \"Mac\", \"Montreal\", \"Montreal\", \"Montreal\", \"Motif\", \"Motif\", \"Muslim\", \"N3JXP\", \"NHL\", \"NHL\", \"NNTP-Posting-Host\", \"NNTP-Posting-Host\", \"NNTP-Posting-Host\", \"NNTP-Posting-Host\", \"NRHJ\", \"NULL\", \"NUY\", \"NYI\", \"NYR\", \"New\", \"New\", \"New\", \"Nntp-Posting-Host\", \"Nntp-Posting-Host\", \"Nntp-Posting-Host\", \"Nntp-Posting-Host\", \"Oilers\", \"Organization\", \"Organization\", \"Organization\", \"Organization\", \"PIT\", \"PL+\", \"PL+\", \"Penguins\", \"Pens\", \"Pens\", \"Pittsburgh\", \"Pittsburgh\", \"Pittsburgh\", \"President\", \"President\", \"President\", \"Pts\", \"Q,3\", \"Q,8\", \"QUE\", \"Quadra\", \"R8F\", \"RAM\", \"RAM\", \"RAM\", \"RLK\", \"RLK\", \"Rangers\", \"Rangers\", \"Rangers\", \"Reply-To\", \"Reply-To\", \"Reply-To\", \"Reply-To\", \"SCSI\", \"SCSI-1\", \"SCSI-2\", \"SGI\", \"STEPHANOPOULOS\", \"STL\", \"Saturn\", \"Skepticism\", \"Subject\", \"Subject\", \"Subject\", \"Subject\", \"TOR\", \"Thanks\", \"Thanks\", \"Thanks\", \"Thanks\", \"The\", \"The\", \"The\", \"The\", \"They\", \"They\", \"They\", \"This\", \"This\", \"This\", \"This\", \"Toronto\", \"Toronto\", \"Toronto\", \"Turkey\", \"Turkish\", \"Turks\", \"University\", \"University\", \"University\", \"University\", \"VAN\", \"VAN\", \"VGA\", \"VGA\", \"Window\", \"Windows\", \"Windows\", \"Windows\", \"Wings\", \"Wings\", \"Wings\", \"Winnipeg\", \"Winnipeg\", \"Winnipeg\", \"X11\", \"X^-\", \"You\", \"You\", \"You\", \"You\", \"^_O\", \"also\", \"also\", \"also\", \"also\", \"amp\", \"application\", \"application\", \"application\", \"application\", \"article\", \"article\", \"article\", \"article\", \"atheist\", \"atheist\", \"available\", \"available\", \"available\", \"available\", \"belief\", \"belief\", \"believe\", \"believe\", \"believe\", \"binary\", \"car\", \"car\", \"car\", \"card\", \"card\", \"card\", \"card\", \"char\", \"child\", \"child\", \"church\", \"civilian\", \"color\", \"color\", \"color\", \"color\", \"compression\", \"connector\", \"controller\", \"controller\", \"controller\", \"converter\", \"could\", \"could\", \"could\", \"could\", \"country\", \"country\", \"country\", \"crime\", \"crime\", \"criminal\", \"criminal\", \"data\", \"data\", \"data\", \"data\", \"death\", \"death\", \"disk\", \"disk\", \"disk\", \"display\", \"display\", \"display\", \"display\", \"drive\", \"drive\", \"drive\", \"driver\", \"driver\", \"driver\", \"driver\", \"encryption\", \"encryption\", \"encryption\", \"entry\", \"entry\", \"entry\", \"even\", \"even\", \"even\", \"even\", \"evidence\", \"evidence\", \"evidence\", \"fact\", \"fact\", \"fact\", \"faith\", \"faith\", \"fan\", \"fan\", \"fan\", \"file\", \"file\", \"file\", \"file\", \"floppy\", \"font\", \"font\", \"font\", \"format\", \"format\", \"format\", \"format\", \"game\", \"game\", \"game\", \"geb\", \"get\", \"get\", \"get\", \"get\", \"goal\", \"goal\", \"goal\", \"good\", \"good\", \"good\", \"government\", \"government\", \"graphic\", \"graphic\", \"graphic\", \"gun\", \"gun\", \"gun\", \"hockey\", \"hockey\", \"hockey\", \"homosexual\", \"human\", \"human\", \"human\", \"image\", \"image\", \"image\", \"image\", \"interface\", \"interface\", \"keyboard\", \"keyboard\", \"know\", \"know\", \"know\", \"know\", \"law\", \"law\", \"law\", \"league\", \"league\", \"league\", \"life\", \"life\", \"life\", \"like\", \"like\", \"like\", \"like\", \"machine\", \"machine\", \"machine\", \"machine\", \"make\", \"make\", \"make\", \"make\", \"manual\", \"many\", \"many\", \"many\", \"many\", \"meg\", \"meg\", \"men\", \"men\", \"men\", \"minority\", \"mode\", \"mode\", \"mode\", \"mode\", \"modem\", \"modem\", \"modem\", \"monitor\", \"monitor\", \"monitor\", \"moral\", \"moral\", \"morality\", \"motherboard\", \"mouse\", \"mouse\", \"mouse\", \"n't\", \"n't\", \"n't\", \"n't\", \"need\", \"need\", \"need\", \"need\", \"oname\", \"one\", \"one\", \"one\", \"one\", \"output\", \"peace\", \"people\", \"people\", \"people\", \"play\", \"play\", \"play\", \"player\", \"player\", \"player\", \"playoff\", \"playoff\", \"population\", \"population\", \"printer\", \"printer\", \"printer\", \"problem\", \"problem\", \"problem\", \"problem\", \"program\", \"program\", \"program\", \"program\", \"pt\", \"puck\", \"puck\", \"religion\", \"religious\", \"right\", \"right\", \"right\", \"right\", \"run\", \"run\", \"run\", \"run\", \"said\", \"said\", \"said\", \"said\", \"say\", \"say\", \"say\", \"say\", \"screen\", \"screen\", \"screen\", \"season\", \"season\", \"season\", \"server\", \"server\", \"server\", \"server\", \"software\", \"software\", \"software\", \"software\", \"speed\", \"speed\", \"speed\", \"speed\", \"state\", \"state\", \"state\", \"system\", \"system\", \"system\", \"system\", \"team\", \"team\", \"team\", \"thing\", \"thing\", \"thing\", \"thing\", \"think\", \"think\", \"think\", \"think\", \"time\", \"time\", \"time\", \"time\", \"upgrade\", \"upgrade\", \"use\", \"use\", \"use\", \"use\", \"using\", \"using\", \"using\", \"using\", \"version\", \"version\", \"version\", \"version\", \"war\", \"war\", \"war\", \"way\", \"way\", \"way\", \"way\", \"widget\", \"widget\", \"win\", \"win\", \"win\", \"window\", \"window\", \"window\", \"window\", \"woman\", \"woman\", \"woman\", \"work\", \"work\", \"work\", \"work\", \"workstation\", \"would\", \"would\", \"would\", \"would\", \"writes\", \"writes\", \"writes\", \"writes\", \"xterm\", \"year\", \"year\", \"year\"]}, \"R\": 30, \"lambda.step\": 0.01, \"plot.opts\": {\"xlab\": \"PC1\", \"ylab\": \"PC2\"}, \"topic.order\": [1, 2, 3, 4]};\n",
       "\n",
       "function LDAvis_load_lib(url, callback){\n",
       "  var s = document.createElement('script');\n",
       "  s.src = url;\n",
       "  s.async = true;\n",
       "  s.onreadystatechange = s.onload = callback;\n",
       "  s.onerror = function(){console.warn(\"failed to load library \" + url);};\n",
       "  document.getElementsByTagName(\"head\")[0].appendChild(s);\n",
       "}\n",
       "\n",
       "if(typeof(LDAvis) !== \"undefined\"){\n",
       "   // already loaded: just create the visualization\n",
       "   !function(LDAvis){\n",
       "       new LDAvis(\"#\" + \"ldavis_el9718108743250241594342345\", ldavis_el9718108743250241594342345_data);\n",
       "   }(LDAvis);\n",
       "}else if(typeof define === \"function\" && define.amd){\n",
       "   // require.js is available: use it to load d3/LDAvis\n",
       "   require.config({paths: {d3: \"https://d3js.org/d3.v5\"}});\n",
       "   require([\"d3\"], function(d3){\n",
       "      window.d3 = d3;\n",
       "      LDAvis_load_lib(\"https://cdn.jsdelivr.net/gh/bmabey/pyLDAvis@3.4.0/pyLDAvis/js/ldavis.v3.0.0.js\", function(){\n",
       "        new LDAvis(\"#\" + \"ldavis_el9718108743250241594342345\", ldavis_el9718108743250241594342345_data);\n",
       "      });\n",
       "    });\n",
       "}else{\n",
       "    // require.js not available: dynamically load d3 & LDAvis\n",
       "    LDAvis_load_lib(\"https://d3js.org/d3.v5.js\", function(){\n",
       "         LDAvis_load_lib(\"https://cdn.jsdelivr.net/gh/bmabey/pyLDAvis@3.4.0/pyLDAvis/js/ldavis.v3.0.0.js\", function(){\n",
       "                 new LDAvis(\"#\" + \"ldavis_el9718108743250241594342345\", ldavis_el9718108743250241594342345_data);\n",
       "            })\n",
       "         });\n",
       "}\n",
       "</script>"
      ],
      "text/plain": [
       "<IPython.core.display.HTML object>"
      ]
     },
     "execution_count": 38,
     "metadata": {},
     "output_type": "execute_result"
    }
   ],
   "source": [
    "# Loading the num_of_topics = 2 model we saved earlier\n",
    "lda = gensim.models.ldamodel.LdaModel.load('model4.gensim')\n",
    "pyLDAvis.enable_notebook()\n",
    "vis = pyLDAvis.gensim_models.prepare(lda, bow_corpus, dic, sort_topics=False)\n",
    "pyLDAvis.display(vis)"
   ]
  },
  {
   "cell_type": "code",
   "execution_count": null,
   "id": "91e314a8-46ad-4597-98f2-c32fb07f144c",
   "metadata": {},
   "outputs": [],
   "source": []
  },
  {
   "cell_type": "code",
   "execution_count": null,
   "id": "9f1bb2e4-8d63-443e-b577-f80f11a99950",
   "metadata": {},
   "outputs": [],
   "source": []
  }
 ],
 "metadata": {
  "kernelspec": {
   "display_name": "Python 3 (ipykernel)",
   "language": "python",
   "name": "python3"
  },
  "language_info": {
   "codemirror_mode": {
    "name": "ipython",
    "version": 3
   },
   "file_extension": ".py",
   "mimetype": "text/x-python",
   "name": "python",
   "nbconvert_exporter": "python",
   "pygments_lexer": "ipython3",
   "version": "3.10.11"
  }
 },
 "nbformat": 4,
 "nbformat_minor": 5
}
