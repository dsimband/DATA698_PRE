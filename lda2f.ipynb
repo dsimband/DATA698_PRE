{
 "cells": [
  {
   "cell_type": "code",
   "execution_count": 1,
   "id": "08e2e054-2509-4c4b-8619-42510bf24137",
   "metadata": {},
   "outputs": [],
   "source": [
    "import nltk\n",
    "from nltk.stem import *\n",
    "\n",
    "import pandas as pd\n",
    "import numpy as np\n",
    "\n",
    "from sklearn.datasets import fetch_20newsgroups\n",
    "\n",
    "import re\n",
    "\n",
    "import gensim\n",
    "import pickle \n",
    "\n",
    "from gensim.models import CoherenceModel\n",
    "\n",
    "import matplotlib.pyplot as plt\n",
    "\n",
    "import pyLDAvis\n",
    "import pyLDAvis.gensim_models\n",
    "\n",
    "from FedTools import FederalReserveMins\n",
    "\n",
    "import warnings\n",
    "warnings.filterwarnings(\"ignore\", category=DeprecationWarning)"
   ]
  },
  {
   "cell_type": "code",
   "execution_count": 2,
   "id": "c7f7376b-50be-4002-a45d-88b6f7038b6c",
   "metadata": {},
   "outputs": [
    {
     "name": "stderr",
     "output_type": "stream",
     "text": [
      "[nltk_data] Downloading package punkt to\n",
      "[nltk_data]     /Users/dsimbandumwe/nltk_data...\n",
      "[nltk_data]   Package punkt is already up-to-date!\n",
      "[nltk_data] Downloading package wordnet to\n",
      "[nltk_data]     /Users/dsimbandumwe/nltk_data...\n",
      "[nltk_data]   Package wordnet is already up-to-date!\n",
      "[nltk_data] Downloading package stopwords to\n",
      "[nltk_data]     /Users/dsimbandumwe/nltk_data...\n",
      "[nltk_data]   Package stopwords is already up-to-date!\n",
      "[nltk_data] Downloading package omw-1.4 to\n",
      "[nltk_data]     /Users/dsimbandumwe/nltk_data...\n",
      "[nltk_data]   Package omw-1.4 is already up-to-date!\n"
     ]
    },
    {
     "data": {
      "text/plain": [
       "True"
      ]
     },
     "execution_count": 2,
     "metadata": {},
     "output_type": "execute_result"
    }
   ],
   "source": [
    "nltk.download('punkt') \n",
    "nltk.download('wordnet') \n",
    "nltk.download('stopwords')\n",
    "nltk.download('omw-1.4')"
   ]
  },
  {
   "cell_type": "code",
   "execution_count": 3,
   "id": "38aa1221-43a8-4a04-b086-775128c9847e",
   "metadata": {},
   "outputs": [],
   "source": [
    "stopwords = set(nltk.corpus.stopwords.words('english'))"
   ]
  },
  {
   "cell_type": "code",
   "execution_count": null,
   "id": "e99bf32c-11a4-4d81-be9c-4768598117e1",
   "metadata": {},
   "outputs": [],
   "source": []
  },
  {
   "cell_type": "markdown",
   "id": "5c21d608-6f08-4445-8971-789e75b62032",
   "metadata": {},
   "source": [
    "# Functions"
   ]
  },
  {
   "cell_type": "code",
   "execution_count": 4,
   "id": "1c603f95-3c2e-44ed-b96e-62e8b57eaa40",
   "metadata": {},
   "outputs": [],
   "source": [
    "def remove_url(text):\n",
    "    return re.sub(r'https?:\\S*','',text)\n",
    "\n",
    "\n",
    "def remove_mentions_and_tags(text):\n",
    "     text = re.sub(r'@\\S*','',text)\n",
    "     return re.sub(r'#\\S*','',text)\n",
    "\n",
    "\n",
    "def text_preprocessing(df):\n",
    "    corpus=[]\n",
    "    \n",
    "    lem = WordNetLemmatizer() # For Lemmatization\n",
    "    for news in df['text']:\n",
    "        words=[w for w in nltk.tokenize.word_tokenize(news) if (w not in stopwords)] # word_tokenize function tokenizes text on each word by default\n",
    "        words=[lem.lemmatize(w) for w in words if len(w)>2]\n",
    "        corpus.append(words)\n",
    "    return corpus\n",
    "\n",
    "\n",
    "\n"
   ]
  },
  {
   "cell_type": "code",
   "execution_count": null,
   "id": "6d09c557-24a7-4b2c-9155-b7f507741641",
   "metadata": {},
   "outputs": [],
   "source": []
  },
  {
   "cell_type": "code",
   "execution_count": null,
   "id": "aab1a5b5-8eae-42f4-be7c-0735b96b67ba",
   "metadata": {},
   "outputs": [],
   "source": []
  },
  {
   "cell_type": "markdown",
   "id": "cac1a60c-0a22-4cf8-81b4-ba06356f284f",
   "metadata": {},
   "source": [
    "# Download"
   ]
  },
  {
   "cell_type": "code",
   "execution_count": 5,
   "id": "cff3482b-92e4-4ce6-83e7-7d31d4ce8717",
   "metadata": {},
   "outputs": [
    {
     "name": "stdout",
     "output_type": "stream",
     "text": [
      "Constructing links between 2015 and 2023\n",
      "Extracting Federal Reserve Minutes.\n",
      "Retrieving articles.\n",
      "..................................................................."
     ]
    }
   ],
   "source": [
    "fed_mins = FederalReserveMins(\n",
    "            main_url = 'https://www.federalreserve.gov', \n",
    "            calendar_url ='https://www.federalreserve.gov/monetarypolicy/fomccalendars.htm',\n",
    "            start_year = 2015,        \n",
    "            historical_split = 2017,\n",
    "            verbose = True,\n",
    "            thread_num = 10)\n",
    "\n",
    "df = fed_mins.find_minutes()"
   ]
  },
  {
   "cell_type": "code",
   "execution_count": 6,
   "id": "37f079ae-1af0-4f76-bc01-0047e1ce1fba",
   "metadata": {},
   "outputs": [],
   "source": [
    "df.rename(columns={'Federal_Reserve_Mins': 'text'}, inplace=True)"
   ]
  },
  {
   "cell_type": "code",
   "execution_count": 7,
   "id": "c3104ca5-377b-4814-97b0-8ab237a040d1",
   "metadata": {},
   "outputs": [
    {
     "data": {
      "text/html": [
       "<div>\n",
       "<style scoped>\n",
       "    .dataframe tbody tr th:only-of-type {\n",
       "        vertical-align: middle;\n",
       "    }\n",
       "\n",
       "    .dataframe tbody tr th {\n",
       "        vertical-align: top;\n",
       "    }\n",
       "\n",
       "    .dataframe thead th {\n",
       "        text-align: right;\n",
       "    }\n",
       "</style>\n",
       "<table border=\"1\" class=\"dataframe\">\n",
       "  <thead>\n",
       "    <tr style=\"text-align: right;\">\n",
       "      <th></th>\n",
       "      <th>text</th>\n",
       "    </tr>\n",
       "  </thead>\n",
       "  <tbody>\n",
       "    <tr>\n",
       "      <th>2015-01-28</th>\n",
       "      <td>The Federal Reserve, the central bank of the U...</td>\n",
       "    </tr>\n",
       "    <tr>\n",
       "      <th>2015-03-18</th>\n",
       "      <td>The Federal Reserve, the central bank of the U...</td>\n",
       "    </tr>\n",
       "    <tr>\n",
       "      <th>2015-04-29</th>\n",
       "      <td>The Federal Reserve, the central bank of the U...</td>\n",
       "    </tr>\n",
       "    <tr>\n",
       "      <th>2015-06-17</th>\n",
       "      <td>The Federal Reserve, the central bank of the U...</td>\n",
       "    </tr>\n",
       "    <tr>\n",
       "      <th>2015-07-29</th>\n",
       "      <td>The Federal Reserve, the central bank of the U...</td>\n",
       "    </tr>\n",
       "    <tr>\n",
       "      <th>...</th>\n",
       "      <td>...</td>\n",
       "    </tr>\n",
       "    <tr>\n",
       "      <th>2022-11-02</th>\n",
       "      <td>The Federal Reserve, the central bank of the U...</td>\n",
       "    </tr>\n",
       "    <tr>\n",
       "      <th>2022-12-14</th>\n",
       "      <td>The Federal Reserve, the central bank of the U...</td>\n",
       "    </tr>\n",
       "    <tr>\n",
       "      <th>2023-02-01</th>\n",
       "      <td>The Federal Reserve, the central bank of the U...</td>\n",
       "    </tr>\n",
       "    <tr>\n",
       "      <th>2023-03-22</th>\n",
       "      <td>The Federal Reserve, the central bank of the U...</td>\n",
       "    </tr>\n",
       "    <tr>\n",
       "      <th>2023-05-03</th>\n",
       "      <td>The Federal Reserve, the central bank of the U...</td>\n",
       "    </tr>\n",
       "  </tbody>\n",
       "</table>\n",
       "<p>67 rows × 1 columns</p>\n",
       "</div>"
      ],
      "text/plain": [
       "                                                         text\n",
       "2015-01-28  The Federal Reserve, the central bank of the U...\n",
       "2015-03-18  The Federal Reserve, the central bank of the U...\n",
       "2015-04-29  The Federal Reserve, the central bank of the U...\n",
       "2015-06-17  The Federal Reserve, the central bank of the U...\n",
       "2015-07-29  The Federal Reserve, the central bank of the U...\n",
       "...                                                       ...\n",
       "2022-11-02  The Federal Reserve, the central bank of the U...\n",
       "2022-12-14  The Federal Reserve, the central bank of the U...\n",
       "2023-02-01  The Federal Reserve, the central bank of the U...\n",
       "2023-03-22  The Federal Reserve, the central bank of the U...\n",
       "2023-05-03  The Federal Reserve, the central bank of the U...\n",
       "\n",
       "[67 rows x 1 columns]"
      ]
     },
     "execution_count": 7,
     "metadata": {},
     "output_type": "execute_result"
    }
   ],
   "source": [
    "df"
   ]
  },
  {
   "cell_type": "code",
   "execution_count": null,
   "id": "d56bd572-d314-4d27-9433-88e6379e1441",
   "metadata": {},
   "outputs": [],
   "source": []
  },
  {
   "cell_type": "code",
   "execution_count": 8,
   "id": "25af39d6-3af4-4135-ae67-963fb2227c41",
   "metadata": {},
   "outputs": [],
   "source": [
    "#fetch20newsgroups = fetch_20newsgroups(subset='train')"
   ]
  },
  {
   "cell_type": "code",
   "execution_count": 9,
   "id": "2b0f7023-1543-491f-80f7-0ae9e6a1434c",
   "metadata": {},
   "outputs": [],
   "source": [
    "#df = pd.DataFrame(fetch20newsgroups.data, columns=['text'])"
   ]
  },
  {
   "cell_type": "code",
   "execution_count": null,
   "id": "e496265f-1fad-4ed3-99ab-56532c036c9c",
   "metadata": {},
   "outputs": [],
   "source": []
  },
  {
   "cell_type": "markdown",
   "id": "ec67be9c-be28-48f4-9091-b544861c4c3c",
   "metadata": {},
   "source": [
    "# Clean Data"
   ]
  },
  {
   "cell_type": "code",
   "execution_count": 10,
   "id": "104d7b18-4889-4410-a78f-9eba30b4cca7",
   "metadata": {},
   "outputs": [],
   "source": [
    "df.text = df.text.apply(remove_url)"
   ]
  },
  {
   "cell_type": "code",
   "execution_count": 11,
   "id": "1347de0a-bd56-4c33-95f8-8d39d4286fe5",
   "metadata": {},
   "outputs": [],
   "source": [
    "df.text = df.text.apply(remove_mentions_and_tags)"
   ]
  },
  {
   "cell_type": "code",
   "execution_count": 12,
   "id": "27ceea7b-ff1d-4acc-871c-d8bbac712318",
   "metadata": {},
   "outputs": [
    {
     "data": {
      "text/html": [
       "<div>\n",
       "<style scoped>\n",
       "    .dataframe tbody tr th:only-of-type {\n",
       "        vertical-align: middle;\n",
       "    }\n",
       "\n",
       "    .dataframe tbody tr th {\n",
       "        vertical-align: top;\n",
       "    }\n",
       "\n",
       "    .dataframe thead th {\n",
       "        text-align: right;\n",
       "    }\n",
       "</style>\n",
       "<table border=\"1\" class=\"dataframe\">\n",
       "  <thead>\n",
       "    <tr style=\"text-align: right;\">\n",
       "      <th></th>\n",
       "      <th>text</th>\n",
       "    </tr>\n",
       "  </thead>\n",
       "  <tbody>\n",
       "    <tr>\n",
       "      <th>2015-01-28</th>\n",
       "      <td>The Federal Reserve, the central bank of the U...</td>\n",
       "    </tr>\n",
       "    <tr>\n",
       "      <th>2015-03-18</th>\n",
       "      <td>The Federal Reserve, the central bank of the U...</td>\n",
       "    </tr>\n",
       "    <tr>\n",
       "      <th>2015-04-29</th>\n",
       "      <td>The Federal Reserve, the central bank of the U...</td>\n",
       "    </tr>\n",
       "    <tr>\n",
       "      <th>2015-06-17</th>\n",
       "      <td>The Federal Reserve, the central bank of the U...</td>\n",
       "    </tr>\n",
       "    <tr>\n",
       "      <th>2015-07-29</th>\n",
       "      <td>The Federal Reserve, the central bank of the U...</td>\n",
       "    </tr>\n",
       "    <tr>\n",
       "      <th>...</th>\n",
       "      <td>...</td>\n",
       "    </tr>\n",
       "    <tr>\n",
       "      <th>2022-11-02</th>\n",
       "      <td>The Federal Reserve, the central bank of the U...</td>\n",
       "    </tr>\n",
       "    <tr>\n",
       "      <th>2022-12-14</th>\n",
       "      <td>The Federal Reserve, the central bank of the U...</td>\n",
       "    </tr>\n",
       "    <tr>\n",
       "      <th>2023-02-01</th>\n",
       "      <td>The Federal Reserve, the central bank of the U...</td>\n",
       "    </tr>\n",
       "    <tr>\n",
       "      <th>2023-03-22</th>\n",
       "      <td>The Federal Reserve, the central bank of the U...</td>\n",
       "    </tr>\n",
       "    <tr>\n",
       "      <th>2023-05-03</th>\n",
       "      <td>The Federal Reserve, the central bank of the U...</td>\n",
       "    </tr>\n",
       "  </tbody>\n",
       "</table>\n",
       "<p>67 rows × 1 columns</p>\n",
       "</div>"
      ],
      "text/plain": [
       "                                                         text\n",
       "2015-01-28  The Federal Reserve, the central bank of the U...\n",
       "2015-03-18  The Federal Reserve, the central bank of the U...\n",
       "2015-04-29  The Federal Reserve, the central bank of the U...\n",
       "2015-06-17  The Federal Reserve, the central bank of the U...\n",
       "2015-07-29  The Federal Reserve, the central bank of the U...\n",
       "...                                                       ...\n",
       "2022-11-02  The Federal Reserve, the central bank of the U...\n",
       "2022-12-14  The Federal Reserve, the central bank of the U...\n",
       "2023-02-01  The Federal Reserve, the central bank of the U...\n",
       "2023-03-22  The Federal Reserve, the central bank of the U...\n",
       "2023-05-03  The Federal Reserve, the central bank of the U...\n",
       "\n",
       "[67 rows x 1 columns]"
      ]
     },
     "execution_count": 12,
     "metadata": {},
     "output_type": "execute_result"
    }
   ],
   "source": [
    "df"
   ]
  },
  {
   "cell_type": "markdown",
   "id": "840e09c4-9288-4ccd-b8a0-f103472ad00d",
   "metadata": {},
   "source": [
    "# Pre-Processing"
   ]
  },
  {
   "cell_type": "code",
   "execution_count": 37,
   "id": "9178255d-4d9c-4aef-bc9c-d10ea93643f8",
   "metadata": {},
   "outputs": [],
   "source": [
    "# Apply this function on our data frame\n",
    "corpus = text_preprocessing(df)"
   ]
  },
  {
   "cell_type": "code",
   "execution_count": 38,
   "id": "34c2f324-7f11-4d4c-bcad-c42c9ca46da8",
   "metadata": {},
   "outputs": [],
   "source": [
    "#corpus = text_preprocessing(df.iloc[[23]])"
   ]
  },
  {
   "cell_type": "code",
   "execution_count": 39,
   "id": "fcb1ced7-a360-4f43-a271-a37f4c96c210",
   "metadata": {},
   "outputs": [],
   "source": [
    "# Transform to gensim dictionary\n",
    "dic = gensim.corpora.Dictionary(corpus) \n",
    "bow_corpus = [dic.doc2bow(doc) for doc in corpus]\n",
    "\n",
    "# Useful for storing big datasets\n",
    "pickle.dump(bow_corpus, open('./data/corpus.pkl', 'wb'))\n",
    "dic.save('./data/dictionary.gensim')"
   ]
  },
  {
   "cell_type": "code",
   "execution_count": null,
   "id": "ab9e7a5d-c521-49d2-8ac1-e65203cdfa46",
   "metadata": {},
   "outputs": [],
   "source": []
  },
  {
   "cell_type": "markdown",
   "id": "fef4dfe1-9061-47b4-add5-e63963b9a78a",
   "metadata": {},
   "source": [
    "# Model"
   ]
  },
  {
   "cell_type": "code",
   "execution_count": 55,
   "id": "9a59386d-82ea-441b-b457-5e76ff887229",
   "metadata": {},
   "outputs": [],
   "source": [
    "lda_model = gensim.models.LdaMulticore(bow_corpus,\n",
    "                                   num_topics = 7,\n",
    "                                    id2word = dic,\n",
    "                                      passes = 10,\n",
    "                                      workers = 20)\n",
    "lda_model.save('./data/model4.gensim')"
   ]
  },
  {
   "cell_type": "code",
   "execution_count": 56,
   "id": "fba28f13-b08b-4d33-bd10-2c10425332eb",
   "metadata": {},
   "outputs": [
    {
     "name": "stdout",
     "output_type": "stream",
     "text": [
      "Topic: 0 \n",
      "Words: 0.016*\"inflation\" + 0.013*\"rate\" + 0.012*\"Board\" + 0.010*\"participant\" + 0.009*\"policy\" + 0.009*\"market\" + 0.009*\"Committee\" + 0.008*\"The\" + 0.008*\"Reserve\" + 0.008*\"Federal\"\n",
      "Topic: 1 \n",
      "Words: 0.019*\"Committee\" + 0.012*\"The\" + 0.010*\"inflation\" + 0.010*\"rate\" + 0.010*\"Bank\" + 0.009*\"market\" + 0.008*\"foreign\" + 0.007*\"Federal\" + 0.007*\"Reserve\" + 0.007*\"policy\"\n",
      "Topic: 2 \n",
      "Words: 0.017*\"inflation\" + 0.013*\"rate\" + 0.008*\"market\" + 0.008*\"Committee\" + 0.007*\"The\" + 0.007*\"participant\" + 0.007*\"percent\" + 0.006*\"year\" + 0.006*\"September\" + 0.006*\"would\"\n",
      "Topic: 3 \n",
      "Words: 0.014*\"rate\" + 0.014*\"inflation\" + 0.012*\"Committee\" + 0.011*\"market\" + 0.009*\"The\" + 0.009*\"economic\" + 0.008*\"price\" + 0.008*\"policy\" + 0.007*\"participant\" + 0.007*\"would\"\n",
      "Topic: 4 \n",
      "Words: 0.015*\"rate\" + 0.012*\"inflation\" + 0.010*\"participant\" + 0.009*\"Committee\" + 0.009*\"market\" + 0.008*\"The\" + 0.008*\"policy\" + 0.007*\"Board\" + 0.007*\"economic\" + 0.007*\"Federal\"\n",
      "Topic: 5 \n",
      "Words: 0.012*\"inflation\" + 0.011*\"participant\" + 0.009*\"Committee\" + 0.009*\"rate\" + 0.009*\"market\" + 0.009*\"The\" + 0.007*\"would\" + 0.007*\"Board\" + 0.006*\"policy\" + 0.006*\"price\"\n",
      "Topic: 6 \n",
      "Words: 0.009*\"market\" + 0.009*\"The\" + 0.008*\"Committee\" + 0.008*\"rate\" + 0.008*\"would\" + 0.007*\"participant\" + 0.007*\"economic\" + 0.007*\"Federal\" + 0.007*\"inflation\" + 0.006*\"Reserve\"\n"
     ]
    }
   ],
   "source": [
    "# We print words occuring in each of the topics as we iterate through them\n",
    "for idx, topic in lda_model.print_topics(num_words=10):    \n",
    "    print('Topic: {} \\nWords: {}'.format(idx, topic))"
   ]
  },
  {
   "cell_type": "code",
   "execution_count": null,
   "id": "48d13575-333e-4141-a222-2d0a4ca722a0",
   "metadata": {},
   "outputs": [],
   "source": []
  },
  {
   "cell_type": "markdown",
   "id": "06800e8b-97da-470a-a3a7-f1beef252fd7",
   "metadata": {},
   "source": [
    "# Evaluation"
   ]
  },
  {
   "cell_type": "code",
   "execution_count": 57,
   "id": "84f32a4a-653c-44fb-8fad-e5325b3e6a6e",
   "metadata": {},
   "outputs": [],
   "source": [
    "# instantiate topic coherence model\n",
    "cm = CoherenceModel(model=lda_model, corpus=bow_corpus, texts=corpus, coherence='c_v')"
   ]
  },
  {
   "cell_type": "code",
   "execution_count": 58,
   "id": "a852e774-b4f1-438e-89e8-4386b120e61c",
   "metadata": {},
   "outputs": [
    {
     "name": "stdout",
     "output_type": "stream",
     "text": [
      "nan\n"
     ]
    },
    {
     "name": "stderr",
     "output_type": "stream",
     "text": [
      "/Users/dsimbandumwe/anaconda3/envs/TopicModel/lib/python3.10/site-packages/gensim/topic_coherence/direct_confirmation_measure.py:204: RuntimeWarning: divide by zero encountered in scalar divide\n",
      "  m_lr_i = np.log(numerator / denominator)\n",
      "/Users/dsimbandumwe/anaconda3/envs/TopicModel/lib/python3.10/site-packages/gensim/topic_coherence/indirect_confirmation_measure.py:323: RuntimeWarning: invalid value encountered in scalar divide\n",
      "  return cv1.T.dot(cv2)[0, 0] / (_magnitude(cv1) * _magnitude(cv2))\n"
     ]
    }
   ],
   "source": [
    "# get topic coherence score\n",
    "coherence_lda = cm.get_coherence()\n",
    "print(coherence_lda)"
   ]
  },
  {
   "cell_type": "code",
   "execution_count": null,
   "id": "a4f29210-bf24-4bbb-a656-b3449130659f",
   "metadata": {},
   "outputs": [],
   "source": []
  },
  {
   "cell_type": "markdown",
   "id": "4636f843-4bba-4a6b-96c9-aa9164000c36",
   "metadata": {},
   "source": [
    "topics = []\n",
    "score = []\n",
    "for i in range(2,7,1):\n",
    "     lda = gensim.models.LdaMulticore(corpus=bow_corpus, id2word=dic, iterations=5, num_topics=i, workers = 20, passes=10, random_state=42)\n",
    "     cm = CoherenceModel(model=lda, corpus=bow_corpus, texts=corpus, coherence='c_v')\n",
    "     topics.append(i) # Append number of topics modeled\n",
    "     score.append(cm.get_coherence()) # Append coherence scores to list\n",
    "plt.plot(topics, score)\n",
    "plt.xlabel('# of Topics')\n",
    "plt.ylabel('Coherence Score')\n",
    "plt.show()"
   ]
  },
  {
   "cell_type": "code",
   "execution_count": null,
   "id": "3bbda8ee-3d89-4121-a624-e15bc78d1fc9",
   "metadata": {},
   "outputs": [],
   "source": []
  },
  {
   "cell_type": "code",
   "execution_count": 59,
   "id": "1f9fda40-bdea-4664-a774-2e18fa6e7fb7",
   "metadata": {},
   "outputs": [],
   "source": [
    "# Loading the dictionary and corpus files we saved earlier\n",
    "dictionary = gensim.corpora.Dictionary.load('./data/dictionary.gensim')\n",
    "corpus = pickle.load(open('./data/corpus.pkl', 'rb'))"
   ]
  },
  {
   "cell_type": "code",
   "execution_count": 60,
   "id": "7e3c7d0d-3370-4044-a7ea-7d8aceb575e3",
   "metadata": {},
   "outputs": [
    {
     "data": {
      "text/html": [
       "\n",
       "<link rel=\"stylesheet\" type=\"text/css\" href=\"https://cdn.jsdelivr.net/gh/bmabey/pyLDAvis@3.4.0/pyLDAvis/js/ldavis.v1.0.0.css\">\n",
       "\n",
       "\n",
       "<div id=\"ldavis_el1411108254376322770726605\" style=\"background-color:white;\"></div>\n",
       "<script type=\"text/javascript\">\n",
       "\n",
       "var ldavis_el1411108254376322770726605_data = {\"mdsDat\": {\"x\": [-0.0340982158434853, 0.02585251592408066, 0.06582761765530616, 0.027129193000124004, 0.01198516897012861, -0.042338455574452157, -0.05435782413170193], \"y\": [0.013991251123187247, -0.07451522234919544, 0.04460683440163509, 0.007028208620024315, -0.00523467295368799, 0.008895481687293086, 0.0052281194707436834], \"topics\": [1, 2, 3, 4, 5, 6, 7], \"cluster\": [1, 1, 1, 1, 1, 1, 1], \"Freq\": [12.53410840522545, 13.018847537157047, 1.3634487208162098, 34.305517299309166, 19.621713965112335, 9.877065855920286, 9.279298216459507]}, \"tinfo\": {\"Term\": [\"inflation\", \"rate\", \"Committee\", \"market\", \"The\", \"participant\", \"percent\", \"Board\", \"would\", \"year\", \"September\", \"price\", \"expected\", \"economic\", \"Federal\", \"federal\", \"remained\", \"Reserve\", \"fund\", \"Governors\", \"continued\", \"Bank\", \"labor\", \"July\", \"foreign\", \"term\", \"growth\", \"condition\", \"purchase\", \"business\", \"war\", \"banking-sector\", \"invasion\", \"sound\", \"Ukraine\", \"Jefferson\", \"Philip\", \"Cook\", \"Russia\", \"Barr\", \"unacceptably\", \"restrictive\", \"supply\\u2013demand\", \"Silicon\", \"Valley\", \"Collins\", \"below-trend\", \"Head\", \"Signature\", \"2025\", \"Size\", \"mid-sized\", \"Austan\", \"Goolsbee\", \"unanchored\", \"Neal\", \"affirmed\", \"Russian\", \"digital\", \"MMMFs\", \"Reducing\", \"Lisa\", \"lockdown\", \"attentive\", \"attain\", \"2023\", \"2022\", \"banking\", \"concurred\", \"bring\", \"tightening\", \"cumulative\", \"elevated\", \"imbalance\", \"supply\", \"Board\", \"inflation\", \"Balance\", \"Division\", \"2024\", \"Reserve\", \"policy\", \"rate\", \"remained\", \"credit\", \"participant\", \"Participants\", \"Federal\", \"pressure\", \"price\", \"market\", \"monetary\", \"would\", \"percent\", \"The\", \"increase\", \"Committee\", \"Bank\", \"economic\", \"noted\", \"risk\", \"growth\", \"period\", \"continued\", \"financial\", \"activity\", \"labor\", \"Eligible\", \"paragraph\", \"pursuant\", \"CURRENCY\", \"standalone\", \"FOREIGN\", \"Customer\", \"authorizes\", \"consultation\", \"Undertake\", \"Stabilization\", \"IMF\", \"warehousing\", \"Permitted\", \"belief\", \"TRANSACTIONS\", \"Authorization\", \"Subject\", \"OPERATIONS\", \"FOR\", \"follows\", \"feasible\", \"Any\", \"Selected\", \"guaranteed\", \"AUTHORIZATION\", \"Directive\", \"carry\", \"Article\", \"must\", \"shall\", \"authorized\", \"Subcommittee\", \"iii\", \"authorization\", \"alternate\", \"Currency\", \"subject\", \"Securities\", \"currency\", \"arrangement\", \"drawing\", \"transaction\", \"foreign\", \"Foreign\", \"obligation\", \"Chairman\", \"Bank\", \"swap\", \"Committee\", \"December\", \"The\", \"States\", \"fourth\", \"January\", \"may\", \"United\", \"Federal\", \"inflation\", \"operation\", \"rate\", \"market\", \"Reserve\", \"time\", \"policy\", \"participant\", \"economic\", \"price\", \"financial\", \"would\", \"Board\", \"Market\", \"System\", \"percent\", \"continued\", \"risk\", \"monetary\", \"condition\", \"recent\", \"remained\", \"Harvey\", \"Irma\", \"hurricane\", \"storm\", \"landfall\", \"storm-related\", \"Gasoline\", \"hurricane-affected\", \"hurricane-related\", \"31-November\", \"Hurricanes\", \"requester\", \"Gulf\", \"inflicting\", \"devastated\", \"2-1/4to\", \"muting\", \"re-center\", \"rebuilding\", \"Maria\", \"lived\", \"Hurricane\", \"Only\", \"reconstruction\", \"uptrend\", \"already-tight\", \"appeal\", \"judicial\", \"preparing\", \"Rules.4\", \"alter\", \"outage\", \"parameter\", \"aftermath\", \"unintended\", \"current-coupon\", \"below-target\", \"gasoline\", \"Addendum\", \"apart\", \"2017\", \"September\", \"August\", \"July\", \"inflation\", \"rate\", \"year\", \"disruption\", \"1-1/4\", \"materially\", \"market\", \"expected\", \"percent\", \"The\", \"participant\", \"Committee\", \"federal\", \"fund\", \"would\", \"term\", \"economic\", \"price\", \"labor\", \"continued\", \"Board\", \"month\", \"meeting\", \"Governors\", \"Federal\", \"growth\", \"remained\", \"condition\", \"referendum\", \"Rico\", \"Puerto\", \"exit\", \"Greece\", \"non-energy\", \"Madigan\", \"non-oil\", \"Greek\", \"risked\", \"strengthens\", \"membership\", \"today\", \"triple-B-rated\", \"reasonably\", \"Reinvestment\", \"creditor\", \"await\", \"imported\", \"She\", \"RRE\", \"seasonality\", \"volume-weighted\", \"underpinning\", \"West\", \"Holcomb\", \"underutilization\", \"probably\", \"equilibrium\", \"midyear\", \"reinvestment\", \"2016\", \"Stanley\", \"Alvarez\", \"Fischer\", \"Stephen\", \"2015\", \"Dennis\", \"Lockhart\", \"reinvestments\", \"Tarullo\", \"Yellen\", \"Janet\", \"1/2\", \"Dudley\", \"keeping\", \"reinvesting\", \"rolling\", \"expand\", \"import\", \"medium\", \"2017\", \"energy\", \"labor\", \"gradually\", \"objective\", \"gradual\", \"soft\", \"price\", \"rate\", \"federal\", \"economic\", \"inflation\", \"quarter\", \"fund\", \"longer-run\", \"market\", \"first\", \"mortgage-backed\", \"term\", \"Committee\", \"percent\", \"June\", \"Governors\", \"policy\", \"real\", \"condition\", \"The\", \"increase\", \"decline\", \"continued\", \"would\", \"expected\", \"recent\", \"period\", \"little\", \"growth\", \"participant\", \"financial\", \"year\", \"range\", \"Board\", \"meeting\", \"outlook\", \"Federal\", \"remained\", \"Reserve\", \"post-crisis\", \"MEP\", \"tariff\", \"Listens\", \"1-1/2to\", \"quarter-point\", \"1-3/4percent\", \"Key\", \"Relative\", \"OBFR\", \"inverted\", \"2.75\", \"tradeoff\", \"month-end\", \"aluminum\", \"mid-September\", \"skew\", \"smaller-than-usual\", \"proportional\", \"manifest\", \"3.00\", \"larger-than-usual\", \"Important\", \"IOER\", \"forward-guidance\", \"Brent\", \"feedback\", \"Florence\", \"29\\u201330\", \"bind\", \"prepayment\", \"EFFR\", \"ample-reserves\", \"regime\", \"strategic\", \"reserve\", \"2007\", \"2019\", \"portfolio\", \"liability\", \"symmetric\", \"tension\", \"trade\", \"muted\", \"supportive\", \"efficient\", \"item\", \"option\", \"strong\", \"Risks\", \"ELB\", \"2018\", \"technical\", \"rate\", \"composition\", \"patient\", \"could\", \"growth\", \"participant\", \"excess\", \"inflation\", \"long-run\", \"Governors\", \"federal\", \"basis\", \"policy\", \"Federal\", \"market\", \"Board\", \"level\", \"economic\", \"The\", \"Reserve\", \"Committee\", \"percent\", \"fund\", \"would\", \"operation\", \"remained\", \"condition\", \"meeting\", \"range\", \"staff\", \"year\", \"labor\", \"risk\", \"price\", \"continued\", \"financial\", \"period\", \"Delta\", \"tapering\", \"semiconductor\", \"27\\u201328\", \"SRF\", \"Baum\", \"0.15\", \"Progress\", \"Participation\", \"Ida\", \"mortgage\\u2011backed\", \"developer\", \"Bottlenecks\", \"trouble\", \"Last\", \"OMOs\", \"variant\", \"equitable\", \"cutting\", \"Berger,2\", \"reopen\", \"indebted\", \"EPOP\", \"caregiving\", \"reopened\", \"vaccination\", \"handful\", \"1/4percent\", \"Trailing\", \"rate-sensitive\", \"congestion\", \"FIMA\", \"spill\", \"bottleneck\", \"2021\", \"COVID-19\", \"Short-term\", \"reopening\", \"shortage\", \"special\", \"progress\", \"pandemic\", \"purchase\", \"asset\", \"supply\", \"pre-pandemic\", \"leisure\", \"goal\", \"facility\", \"criterion\", \"constraint\", \"virus\", \"remarked\", \"participant\", \"economy\", \"accommodative\", \"inflation\", \"support\", \"well\", \"market\", \"remained\", \"pace\", \"The\", \"Committee\", \"level\", \"continued\", \"would\", \"Reserve\", \"Board\", \"rate\", \"noted\", \"Federal\", \"price\", \"condition\", \"Division\", \"policy\", \"percent\", \"financial\", \"economic\", \"expected\", \"increase\", \"labor\", \"risk\", \"fund\", \"CARES\", \"air\", \"to1/4\", \"historic\", \"Daleep\", \"Singh\", \"hit\", \"Coronavirus\", \"ARP\", \"Relief\", \"Aid\", \"sector\\u2014which\", \"bid-ask\", \"0.10\", \"higher-score\", \"social-distancing\", \"His\", \"emergency\", \"Paper\", \"Housing-sector\", \"3\\u2011year\\u2011ahead\", \"sure\", \"relief\", \"Liquidity\", \"Pulse\", \"adapting\", \"RMBS\", \"Keeping\", \"Mutual\", \"weathered\", \"vaccine\", \"restaurant\", \"coronavirus\", \"lost\", \"outbreak\", \"world\", \"outcome-based\", \"recover\", \"functioning\", \"social\", \"Weaker\", \"resurgence\", \"guidance\", \"restriction\", \"virus\", \"pandemic\", \"health\", \"2020\", \"smooth\", \"flow\", \"recovery\", \"support\", \"loss\", \"spring\", \"considerable\", \"purchase\", \"distancing\", \"fiscal\", \"public\", \"business\", \"economy\", \"forward\", \"pre-pandemic\", \"credit\", \"employment\", \"would\", \"The\", \"market\", \"household\", \"Governors\", \"Federal\", \"Reserve\", \"economic\", \"participant\", \"Committee\", \"condition\", \"level\", \"Board\", \"remained\", \"rate\", \"period\", \"measure\", \"policy\", \"price\", \"inflation\", \"Participants\", \"noted\", \"continued\", \"Division\", \"percent\"], \"Freq\": [4881.0, 4939.0, 4383.0, 3756.0, 3566.0, 3276.0, 2339.0, 2777.0, 2618.0, 1499.0, 451.0, 2646.0, 1356.0, 2875.0, 2414.0, 1701.0, 1947.0, 2233.0, 1749.0, 1634.0, 1893.0, 1472.0, 1808.0, 392.0, 969.0, 875.0, 1611.0, 1966.0, 706.0, 1216.0, 51.50916228044349, 20.901497647525808, 53.37388207623076, 17.752745050900685, 72.71896469960393, 15.73125571620266, 15.710451168063322, 15.674211907840085, 56.95038691085974, 13.747529282776547, 13.726894503630461, 62.37780176098464, 12.734784479893602, 10.004100868821139, 9.979802503333298, 10.84148642803233, 8.944937799270868, 9.818556912184512, 8.019691079531436, 25.836583843852626, 27.3915936372628, 7.0179769813192285, 6.972218531117267, 6.969562859008553, 14.771216339258116, 6.947972950946655, 6.933912083740914, 20.862777477392793, 6.019564105379147, 6.015620186203998, 27.33490791307927, 16.666814118994353, 23.907534439294942, 36.066195714234176, 10.751369765165181, 86.54051183680778, 114.80167367054443, 71.10680410056653, 42.68814229325909, 27.644666420883006, 113.84515807018249, 32.25405437023302, 184.210257132167, 58.75533660798105, 164.71973812015523, 578.8460028670322, 803.3279304153444, 28.264739822266677, 323.5229326679157, 33.57279137720388, 391.2134539178369, 461.59996384579375, 641.6264510278422, 349.9377782353856, 214.91818676184673, 483.20110804711135, 252.70254455189598, 381.03064693090556, 185.6800742768294, 378.5999886431288, 443.84944291136765, 251.8349936105184, 349.3249892077796, 322.79537409435113, 400.4467871510506, 243.2190146215359, 423.47077241795694, 237.45759711006687, 320.68754510022825, 224.1086069587832, 229.77566144260854, 221.84635951231158, 223.77600810155133, 218.15494817522531, 212.66401974880173, 188.19528037650562, 193.9896587520089, 121.00158933262847, 146.69611479461128, 45.763263851530624, 36.22038652631744, 28.447351144916666, 36.14111005912267, 48.893045431467826, 85.63409015825805, 56.370244746147705, 26.411973044686142, 20.3891679427366, 21.212751156080923, 20.342636361001077, 16.064913754446042, 32.98180799732651, 15.186494934652934, 123.39550748062315, 18.54344286088598, 22.7662453982141, 16.815802670077446, 15.979893818338239, 49.67096243610171, 49.58989298712552, 196.05426562739055, 35.19816464044239, 15.053888372984515, 20.910898968671972, 25.604618539168307, 14.98511937175008, 62.52990473932544, 143.90494301040516, 89.21096730432377, 122.75590197968945, 37.91876703261704, 26.25382019714038, 58.33357461482787, 62.761593548759194, 73.5446985992237, 146.26924880474712, 307.2778154788468, 149.39096937568357, 38.30664381865263, 295.467228141413, 430.6890419270213, 126.10164747429647, 56.09136939799711, 102.08515143449264, 489.9645335891606, 151.3745703111156, 976.2632047909849, 191.4451584971426, 611.2672608800917, 154.42452419309546, 120.09669365459544, 168.85313758316948, 135.05778410686833, 155.22874023959426, 370.3219236842319, 528.3750992245854, 205.4540185523531, 505.16318671845534, 435.01073852311794, 332.5796868215185, 203.17692576274413, 331.59493973667816, 323.0363293920928, 307.24858246679406, 285.5841466003061, 246.73276231679094, 262.7790305425134, 265.78967515118967, 196.17550083187666, 172.16499127669837, 215.6161058402856, 199.80088035783433, 192.65950208540403, 190.25944334525877, 194.8454699100296, 183.14390771933085, 185.7522012890452, 7.226926686635873, 4.248457127284198, 22.152960416158646, 5.913769677000515, 2.444412061855672, 2.4345222720073805, 2.3772667700963193, 1.8636324149146, 6.041061924418941, 2.292032356222882, 3.655453049544582, 1.275376764707278, 1.27489645935358, 1.2726845717263564, 1.27223972671945, 1.2492473775285433, 1.2424223858806331, 1.225767661952083, 5.346767887866232, 3.0721525366372844, 1.831246022386674, 6.599774217342197, 0.680458914553509, 0.6797201443963915, 0.6796858479559497, 0.6796669150793258, 0.6795726386649893, 0.6793222436122618, 0.6792939218910825, 0.6792803429836677, 3.402293796829979, 1.2677763786491087, 2.9924950964297086, 4.6981030151023395, 1.2107148611296867, 0.9476793198804502, 1.1863444468205773, 4.725914479737853, 2.4268808388519405, 1.8164251493029213, 20.73764160426041, 32.47901091887025, 20.577948687062833, 22.111419822595522, 90.67884002193028, 68.94248234750553, 32.903219090256485, 9.125748956506365, 5.511616755006058, 5.03847733992277, 45.00282450209384, 27.737334664155437, 35.2033463375487, 39.70327272552755, 37.79228623761367, 41.51673689707649, 27.526222537047406, 26.96831970219358, 31.166621156300703, 20.26731915291875, 30.89404484192061, 29.847467701151, 24.26600601240403, 24.054263203241902, 27.00597191742318, 20.171962012739538, 21.157975053814294, 21.771417637432013, 23.7563155926856, 20.804301469478126, 21.684790726001633, 20.914534263933287, 19.995784713206064, 11.164120062943997, 11.125837913463352, 12.007483127456826, 15.710665375458202, 89.40376700770292, 36.071630381812916, 9.075378163536548, 8.133908854611759, 10.755329727516544, 8.122783535040375, 8.10415933813747, 8.101440238579158, 7.157736006502778, 29.21046413837243, 7.125701782609272, 7.115959196667165, 7.105387849093392, 12.417072939652636, 7.0820317063606835, 7.055753422350714, 7.038493900078044, 6.134773268040607, 6.115435008553998, 6.058691193161817, 6.049044759187577, 49.14222237876223, 16.397446180502115, 17.36422151597499, 5.158383223862079, 45.30416381197714, 154.54953072756018, 38.21099507209975, 17.97381913527967, 38.108868992117465, 26.041535413352346, 107.16220183031187, 22.045221445241246, 22.01542116833722, 37.96085938830143, 31.17048051645333, 42.089576080408676, 41.262216217532526, 41.991667020743, 46.870892285104674, 49.34619730868746, 65.03173627142587, 64.2368669882298, 135.52180402683996, 198.14758573564902, 200.38796368111235, 116.72581821111108, 394.90439817088094, 887.8765721572785, 109.27305477768031, 480.6637849837843, 162.33196362889015, 73.31634991344028, 1136.4185034106044, 1910.965809515002, 779.003728226238, 1206.8757291679788, 1842.804517041114, 633.2287703317553, 781.7815263645684, 333.89257946739383, 1467.9973756348074, 343.7722771395165, 210.8503129936463, 425.9183647592131, 1562.5598392144097, 935.5707595662319, 274.9453826737302, 694.7202985241471, 1116.519290414973, 469.2291001163971, 784.4423724727851, 1233.0985984072695, 616.9563197571562, 435.2734026295748, 748.1591921430709, 956.637931003626, 574.992406977534, 581.9410568693019, 663.2329011216038, 391.2886312398592, 621.2343775381979, 988.4611281721213, 655.2562978625848, 589.4129296522043, 575.7107373419836, 864.4361241600728, 555.1323654150656, 523.2056169699069, 664.6428228179772, 584.455587991126, 569.7417481255449, 11.581416127201424, 8.894942227653782, 32.79150829282044, 9.716594829971754, 8.703209403180624, 6.90066089232014, 7.765884847535267, 10.287130647146268, 7.6909004464218595, 8.501766573348096, 5.923087635832919, 6.753048822461901, 7.595202930546686, 5.881354880351001, 6.725290077337885, 6.713353431683354, 10.900375747855922, 7.4668807793337715, 7.495569152364368, 7.454699024579548, 6.606509872625552, 7.365089594406092, 5.751987525870147, 62.06023490462095, 5.744029575988767, 4.864178358373274, 6.495668076066835, 4.818583599149722, 5.693785002227073, 4.855840740638155, 8.061123503963799, 28.790490283210207, 15.974134111503473, 47.707726963304935, 8.807307070319768, 276.5464913188151, 12.475498189311171, 138.08810174720196, 70.71621083512107, 34.9604346075336, 108.82158837565473, 56.57887629990103, 194.44961596749724, 49.65064370470836, 49.540142492547844, 14.281129268142967, 49.445980398139994, 46.06234028549438, 332.47533605298963, 15.355633961030012, 48.73990985720169, 94.72387776432312, 27.910368831416463, 1183.7592008829351, 54.22259953275, 28.73472377551693, 359.5642175492715, 456.3242406131538, 762.9103383873409, 58.056869654338485, 930.648275104586, 39.97826119630448, 394.48815714269955, 400.23266577018614, 161.16026708479168, 587.3696108738367, 501.2941380163421, 683.0866818768179, 547.9433286700202, 360.7968070030941, 544.6848672820926, 621.9557622111337, 453.1528616308319, 706.5939287080697, 465.16719626159926, 375.84737672697486, 475.5858539033121, 219.5683518372417, 379.0404101770017, 373.1099089679895, 302.78266561568347, 303.67024865747334, 239.50062829096672, 300.00646280225544, 327.0298806271915, 295.01223145392424, 375.0166455962719, 322.6653261809458, 308.9944247707454, 300.0838257108055, 17.326389420114214, 24.77411504240197, 10.448211310899108, 6.913149910748922, 32.50089108826962, 7.52258031944695, 5.7739750659746925, 16.49983379131411, 5.754241877331159, 4.103981606251768, 6.569229425965941, 4.079498647083599, 4.055166612576479, 4.0489039417717185, 3.9802616071969346, 3.1278008985863712, 39.87274179641567, 3.117253597506577, 3.1005689745956304, 3.085522600938418, 3.863659518692806, 3.0708193911753225, 3.04895442682591, 4.563821224368767, 9.936476093502055, 70.53205747790378, 2.97117089187753, 3.698219671341052, 3.6275776552702457, 2.8918738945460043, 7.256328419544623, 29.49191989245828, 7.0955860671365825, 45.98593142068432, 99.81437814760369, 54.90760358376491, 12.960416092753755, 26.59392357181117, 49.6260566206334, 7.355809412142257, 127.68252856014057, 113.74684349082094, 220.4222151340919, 161.37508254904824, 146.06928710573754, 55.03425213955742, 13.356740317947473, 141.06737065650327, 98.40799638989502, 21.32466418071144, 46.0876765642492, 50.712075631155244, 55.62582734580396, 412.07623150530674, 184.50906641680325, 111.50365671783332, 444.35231286307874, 103.02168402163923, 117.74889108689288, 350.97032690629584, 234.99946210707995, 161.78326827218407, 331.92444186184065, 366.5494842906173, 198.48132865388374, 222.85683171179787, 266.70257611700157, 236.65274649241053, 264.86155831641656, 351.54351010170615, 178.91692380857202, 231.83537071327328, 238.28131633212843, 206.0242835215208, 176.7182466011729, 242.5913783962292, 207.06481265878608, 178.69706508148045, 205.39801981366284, 159.66619942973747, 160.16887242223532, 165.587257744718, 159.21113881150217, 148.11044056262497, 9.800864076908498, 8.746752739422917, 7.863899079637943, 5.948013615888126, 7.602953180513842, 7.589184971531387, 8.287089844913728, 4.938484195352408, 7.420788453552585, 4.92555564010891, 4.918185170150021, 5.742756298769082, 5.7406001313375326, 9.047471821567981, 4.8619151675370444, 26.214781856426903, 4.039599222120637, 13.82679569007012, 4.817536034886401, 4.016081788294303, 4.816609247268873, 4.009916142238203, 9.69494096561282, 11.28494625159092, 4.000245337885039, 3.9167533913961754, 3.9108723826767404, 3.904995334588149, 3.8576673802530155, 12.49276333512822, 20.75745713282862, 11.469914049021604, 72.104908904297, 7.8780279700692715, 54.0405920273526, 29.365703443127288, 25.682181568544372, 19.08978862875395, 72.53197263845423, 33.74059303786326, 13.735634642056722, 14.27617837116026, 91.04430340246904, 33.54627920780864, 68.0629826795344, 127.62133548866218, 65.64978614872334, 96.30427464386085, 37.57729943947881, 72.44570481782775, 70.4014743194474, 154.94849695546955, 34.53707061977867, 21.417889685668385, 41.817007950747275, 166.56533351011714, 22.03130162912652, 84.52394324796717, 81.63689473062675, 215.6309549546129, 178.38106766491632, 67.71509776487676, 48.75079037061096, 157.6033321021657, 153.35189167425276, 276.7144020067721, 327.7582687836166, 330.91284893704875, 123.21889680194259, 197.14762234538654, 241.66602556286546, 230.88526867390175, 259.38486136403253, 269.48620635715133, 306.6875944019511, 202.5850129499042, 176.4001692379861, 228.59573254355877, 191.59427291909824, 277.19555845274624, 179.3793071752098, 151.68561308756233, 213.36429965269855, 202.34961417589304, 241.52478629845874, 150.30330011454626, 153.61074583220704, 158.08977783861118, 148.79287816049796, 158.0260359738897], \"Total\": [4881.0, 4939.0, 4383.0, 3756.0, 3566.0, 3276.0, 2339.0, 2777.0, 2618.0, 1499.0, 451.0, 2646.0, 1356.0, 2875.0, 2414.0, 1701.0, 1947.0, 2233.0, 1749.0, 1634.0, 1893.0, 1472.0, 1808.0, 392.0, 969.0, 875.0, 1611.0, 1966.0, 706.0, 1216.0, 54.08160436648816, 22.01710451686336, 57.00463914234861, 18.990402491121838, 77.93533432818737, 16.97413375634303, 16.973846401308233, 16.96591014485018, 61.86069565220839, 14.96247949201185, 14.964514326684368, 68.04143450515778, 13.955038329002148, 10.966944934655645, 10.966663921758338, 11.960072143637184, 9.953519351518267, 10.956359908541847, 8.957724484504688, 28.922459100969053, 30.81602669457783, 7.948103395166201, 7.944222263649022, 7.945009148592864, 16.865721547426325, 7.938566670250864, 7.94178542100604, 23.927051805717717, 6.94151671972265, 6.941986091165094, 32.76494202076766, 19.919113182508376, 29.888696570796114, 47.70789642106272, 12.927206487853121, 139.02175801209356, 193.18542226957717, 117.11433126070081, 64.77450533168816, 39.85511966152821, 229.01259124138983, 49.108164105721514, 496.76193988331516, 112.56942822360598, 483.26796541944435, 2777.478393625713, 4881.711760969098, 42.437347464651154, 1465.5998580118637, 54.784174840720965, 2233.4381846574797, 2966.042599966545, 4939.196199046193, 1947.4645034447385, 930.3037342324752, 3276.963628098738, 1223.6718434873558, 2414.547243318281, 796.472224883464, 2646.0976824594836, 3756.8302392915493, 1452.854549595134, 2618.9114039373057, 2339.4436307326923, 3566.1543920205304, 1456.2466580359478, 4383.641560721066, 1472.215591786677, 2875.1736500367097, 1355.4633951344558, 1493.3434409368554, 1611.123889302226, 1706.052979669334, 1893.7812196107272, 1760.2598089172352, 1260.8699602861232, 1808.4422332275378, 125.18039788209694, 152.25622203285835, 47.733610412283404, 37.81844726941497, 29.704457697785834, 37.82787848825842, 51.37146656575033, 90.18909680055876, 59.509733756100026, 27.9310735001251, 21.61765634986289, 22.519491146291713, 21.62100834374978, 17.111085829979814, 35.177167657149944, 16.209247309726205, 131.86397752698136, 19.824887999181197, 24.341682044827532, 18.010668215123168, 17.11601664014067, 53.26139007152594, 53.29010184876884, 210.70150103875204, 37.91286209930836, 16.220789788323756, 22.545573078062436, 27.675379669579662, 16.22751614107022, 67.7646552626431, 156.48595429002145, 97.72461960290607, 136.31603075360263, 41.60006245824231, 28.934245711743394, 69.23743613720465, 75.6476455932752, 91.4406210885169, 200.03793926961436, 498.00321626233386, 220.0841595977324, 45.54945449392064, 534.1789335487584, 969.4924501077205, 211.02962351074805, 74.66361399326955, 165.41513609402418, 1472.215591786677, 292.5335796973918, 4383.641560721066, 464.10771684122585, 3566.1543920205304, 394.3988749590508, 269.8957432310046, 502.5334640537991, 339.6163487080871, 444.5288503614577, 2414.547243318281, 4881.711760969098, 788.6925408440333, 4939.196199046193, 3756.8302392915493, 2233.4381846574797, 888.9088541258692, 2966.042599966545, 3276.963628098738, 2875.1736500367097, 2646.0976824594836, 1760.2598089172352, 2618.9114039373057, 2777.478393625713, 1131.6233910043375, 653.3629116163193, 2339.4436307326923, 1893.7812196107272, 1493.3434409368554, 1452.854549595134, 1966.8700803987972, 1385.890683032841, 1947.4645034447385, 8.2171352487314, 5.180913970831652, 27.31603769492128, 8.081274518568321, 3.35474398626244, 3.3608897314101993, 3.4147356975949648, 2.752573150180827, 9.023148450133233, 3.46738518796324, 5.539570307186544, 2.1405334736829893, 2.140972808144819, 2.142135800319173, 2.1423911527278348, 2.1345270200702275, 2.1469276150529977, 2.1481070520881396, 9.469773176810188, 5.932581248987042, 3.6614369091274757, 13.624990215827331, 1.5320521539579934, 1.5320097484984614, 1.5321109632496404, 1.5321300192085046, 1.5322303483128374, 1.5319886256534678, 1.5319463658733947, 1.5322228349551834, 8.692891516228723, 3.1476591635983135, 8.969101074753814, 16.026346259824276, 3.131093928371583, 2.347951295135856, 3.1855247141831806, 19.90140005348476, 8.435943104963837, 5.741544075440211, 172.06834028100337, 451.5475863108014, 238.95178734318526, 392.07167704208285, 4881.711760969098, 4939.196199046193, 1499.4789143175567, 121.36121434006998, 43.432029305515464, 36.12530004315581, 3756.8302392915493, 1356.9457343383103, 2339.4436307326923, 3566.1543920205304, 3276.963628098738, 4383.641560721066, 1701.0138890804478, 1749.9692054747159, 2618.9114039373057, 875.2967320131253, 2875.1736500367097, 2646.0976824594836, 1808.4422332275378, 1893.7812196107272, 2777.478393625713, 1176.0467896880843, 1425.880962363748, 1634.9870503907505, 2414.547243318281, 1611.123889302226, 1947.4645034447385, 1966.8700803987972, 21.204894725742413, 12.084092384740087, 12.078703032719469, 13.08456170091896, 17.131791652053423, 97.54497458611246, 39.51567189890963, 10.047246309024928, 9.03463211974326, 11.96165407062023, 9.033950434891185, 9.030769095322162, 9.03110353141298, 8.02024863910027, 32.82865055683277, 8.016438060485983, 8.019471932749083, 8.01882890319612, 14.032907985357706, 8.013137271494317, 8.015914064206111, 8.013581412402399, 7.00497850600638, 7.004786577203076, 6.998299873523076, 6.996497121824282, 57.02974874158833, 19.03276047618146, 20.16107700807888, 5.990924274517874, 52.63435898406352, 181.8836130852503, 44.5436155388638, 20.980965225855353, 45.43778772752862, 30.71945728079432, 134.41078234392594, 26.015517026153407, 26.000901512066836, 46.36039369185272, 37.844218634776034, 51.96346282721882, 50.944497715218965, 52.2161031869651, 59.77799906298126, 63.245097888617046, 85.61926550815201, 84.77201986566186, 195.27044518725148, 307.78614905897626, 314.1275708110833, 172.06834028100337, 707.6502209520443, 1808.4422332275378, 163.0150370805469, 914.6705176157742, 259.5485587363166, 103.79915657055616, 2646.0976824594836, 4939.196199046193, 1701.0138890804478, 2875.1736500367097, 4881.711760969098, 1351.9085395163252, 1749.9692054747159, 630.8554346273643, 3756.8302392915493, 660.2742638020393, 366.80547893840634, 875.2967320131253, 4383.641560721066, 2339.4436307326923, 510.76586144097706, 1634.9870503907505, 2966.042599966545, 1003.3799668509572, 1966.8700803987972, 3566.1543920205304, 1456.2466580359478, 931.1093551428993, 1893.7812196107272, 2618.9114039373057, 1356.9457343383103, 1385.890683032841, 1706.052979669334, 815.28800974304, 1611.123889302226, 3276.963628098738, 1760.2598089172352, 1499.4789143175567, 1448.9764792846697, 2777.478393625713, 1425.880962363748, 1290.7657402731038, 2414.547243318281, 1947.4645034447385, 2233.4381846574797, 12.67872372342028, 9.745855653821753, 35.99796883719068, 10.708738146962043, 9.741071989129061, 7.779963324056948, 8.759169399569883, 11.661901030033045, 8.759638118042854, 9.71005505907799, 6.791405338903847, 7.756184864892464, 8.743485622921122, 6.783923525832145, 7.765567150732747, 7.778082744792878, 12.677722562288633, 8.705653768151269, 8.743175572224528, 8.70190978873838, 7.741480104025854, 8.684726643861278, 6.7910304538213975, 73.39280202749931, 6.795327881479422, 5.786524856069502, 7.745767040368991, 5.7552364250156725, 6.809250726967554, 5.816866605593005, 9.66311148684383, 35.35201862551329, 19.593941831953597, 61.03767061806359, 10.691024639274199, 421.4752902620815, 15.615488270017346, 216.00217449489483, 103.64560855095029, 47.961409840477415, 169.57641083025294, 82.09993493543575, 330.6803002988949, 74.08197534219391, 76.10146550353912, 18.370339837916553, 77.94695677444447, 72.60565257748519, 759.633805457675, 20.382155304888787, 82.03315333271183, 184.67739900458935, 42.999521252332116, 4939.196199046193, 100.50797428782076, 45.116858735211125, 1177.5860668893997, 1611.123889302226, 3276.963628098738, 116.98791069427779, 4881.711760969098, 71.58185180413321, 1634.9870503907505, 1701.0138890804478, 481.90385700606566, 2966.042599966545, 2414.547243318281, 3756.8302392915493, 2777.478393625713, 1534.7157581359463, 2875.1736500367097, 3566.1543920205304, 2233.4381846574797, 4383.641560721066, 2339.4436307326923, 1749.9692054747159, 2618.9114039373057, 788.6925408440333, 1947.4645034447385, 1966.8700803987972, 1425.880962363748, 1448.9764792846697, 970.3855705261312, 1499.4789143175567, 1808.4422332275378, 1493.3434409368554, 2646.0976824594836, 1893.7812196107272, 1760.2598089172352, 1706.052979669334, 19.141173038453257, 28.235470936538206, 12.056819270523171, 8.013695617528365, 38.38801376583268, 8.988791578867199, 6.968163225345975, 19.92045562041069, 6.965773544116235, 4.978629957123466, 7.9745924680541425, 4.978056485633573, 4.975653599376978, 4.971733409610563, 4.9724139744449225, 3.964942494217467, 50.68549773891041, 3.9637158035726996, 3.95748497786419, 3.9619463520163585, 4.963542349234483, 3.9623191778347095, 3.9622810568817806, 5.938623965089271, 13.034659121027763, 93.55296769651535, 3.9557581701200415, 4.9285798924967725, 4.919191550370649, 3.939568336576074, 9.968236802328947, 42.061418852712706, 9.967725803484335, 76.36778835257975, 182.29707582351548, 104.49338204014401, 20.92025132385703, 48.73847213497102, 105.45529281334406, 10.94922301933373, 330.56132728168353, 297.18031374233925, 706.0383094029792, 523.9568645244948, 483.26796541944435, 138.46575944243148, 22.59661712891152, 484.1045226290936, 313.8677540856962, 42.12104558425618, 119.52331987389142, 136.2196214560323, 167.22080348630166, 3276.963628098738, 1031.1318429258563, 560.623730613994, 4881.711760969098, 509.6095527863031, 636.8933116157973, 3756.8302392915493, 1947.4645034447385, 1070.226619878211, 3566.1543920205304, 4383.641560721066, 1534.7157581359463, 1893.7812196107272, 2618.9114039373057, 2233.4381846574797, 2777.478393625713, 4939.196199046193, 1355.4633951344558, 2414.547243318281, 2646.0976824594836, 1966.8700803987972, 1465.5998580118637, 2966.042599966545, 2339.4436307326923, 1760.2598089172352, 2875.1736500367097, 1356.9457343383103, 1456.2466580359478, 1808.4422332275378, 1493.3434409368554, 1749.9692054747159, 10.750456493345178, 9.768701084810585, 8.785617209623185, 6.820047933856361, 8.778571441297522, 8.775952759216201, 9.72884679765791, 5.836570580803331, 8.778232921497585, 5.83667155576696, 5.837462703665818, 6.822891096623763, 6.821096904744717, 10.756148433851894, 5.820664784973674, 31.470484183741686, 4.854604473697671, 16.70059987282047, 5.820274759499192, 4.853214376806704, 5.820717141768738, 4.853679504530559, 11.749772096234093, 13.688095107566795, 4.853201151463592, 4.839415894436504, 4.853562372074815, 4.855036643395518, 4.834832206741473, 15.730567337431797, 26.578319196580825, 14.659197428446735, 98.11127164369432, 10.04551802771757, 78.99348942355046, 41.41429434513921, 39.430121130109164, 28.1757575620633, 128.90709428356195, 55.239428867153165, 19.591341112474666, 20.698836266859296, 189.1215894848375, 57.40095065024414, 136.2196214560323, 297.18031374233925, 133.03412931169228, 215.21953756818442, 67.46488981272621, 158.946266552317, 157.893352437396, 509.6095527863031, 70.29822544349018, 36.480773744252346, 94.44340158198186, 706.0383094029792, 38.594355613651516, 276.75558135139477, 278.0526663113543, 1216.880484261186, 1031.1318429258563, 224.09989567298373, 138.46575944243148, 930.3037342324752, 939.8097660255168, 2618.9114039373057, 3566.1543920205304, 3756.8302392915493, 681.1049930594953, 1634.9870503907505, 2414.547243318281, 2233.4381846574797, 2875.1736500367097, 3276.963628098738, 4383.641560721066, 1966.8700803987972, 1534.7157581359463, 2777.478393625713, 1947.4645034447385, 4939.196199046193, 1706.052979669334, 1152.2005667224591, 2966.042599966545, 2646.0976824594836, 4881.711760969098, 1223.6718434873558, 1355.4633951344558, 1893.7812196107272, 1465.5998580118637, 2339.4436307326923], \"Category\": [\"Default\", \"Default\", \"Default\", \"Default\", \"Default\", \"Default\", \"Default\", \"Default\", \"Default\", \"Default\", \"Default\", \"Default\", \"Default\", \"Default\", \"Default\", \"Default\", \"Default\", \"Default\", \"Default\", \"Default\", \"Default\", \"Default\", \"Default\", \"Default\", \"Default\", \"Default\", \"Default\", \"Default\", \"Default\", \"Default\", \"Topic1\", \"Topic1\", \"Topic1\", \"Topic1\", \"Topic1\", \"Topic1\", \"Topic1\", \"Topic1\", \"Topic1\", \"Topic1\", \"Topic1\", \"Topic1\", \"Topic1\", \"Topic1\", \"Topic1\", \"Topic1\", \"Topic1\", \"Topic1\", \"Topic1\", \"Topic1\", \"Topic1\", \"Topic1\", \"Topic1\", \"Topic1\", \"Topic1\", \"Topic1\", \"Topic1\", \"Topic1\", \"Topic1\", \"Topic1\", \"Topic1\", \"Topic1\", \"Topic1\", \"Topic1\", \"Topic1\", \"Topic1\", \"Topic1\", \"Topic1\", \"Topic1\", \"Topic1\", \"Topic1\", \"Topic1\", \"Topic1\", \"Topic1\", \"Topic1\", \"Topic1\", \"Topic1\", \"Topic1\", \"Topic1\", \"Topic1\", \"Topic1\", \"Topic1\", \"Topic1\", \"Topic1\", \"Topic1\", \"Topic1\", \"Topic1\", \"Topic1\", \"Topic1\", \"Topic1\", \"Topic1\", \"Topic1\", \"Topic1\", \"Topic1\", \"Topic1\", \"Topic1\", \"Topic1\", \"Topic1\", \"Topic1\", \"Topic1\", \"Topic1\", \"Topic1\", \"Topic1\", \"Topic1\", \"Topic1\", \"Topic1\", \"Topic1\", \"Topic2\", \"Topic2\", \"Topic2\", \"Topic2\", \"Topic2\", \"Topic2\", \"Topic2\", \"Topic2\", \"Topic2\", \"Topic2\", \"Topic2\", \"Topic2\", \"Topic2\", \"Topic2\", \"Topic2\", \"Topic2\", \"Topic2\", \"Topic2\", \"Topic2\", \"Topic2\", \"Topic2\", \"Topic2\", \"Topic2\", \"Topic2\", \"Topic2\", \"Topic2\", \"Topic2\", \"Topic2\", \"Topic2\", \"Topic2\", \"Topic2\", \"Topic2\", \"Topic2\", \"Topic2\", \"Topic2\", \"Topic2\", \"Topic2\", \"Topic2\", \"Topic2\", \"Topic2\", \"Topic2\", \"Topic2\", \"Topic2\", \"Topic2\", \"Topic2\", \"Topic2\", \"Topic2\", \"Topic2\", \"Topic2\", \"Topic2\", \"Topic2\", \"Topic2\", \"Topic2\", \"Topic2\", \"Topic2\", \"Topic2\", \"Topic2\", \"Topic2\", \"Topic2\", \"Topic2\", \"Topic2\", \"Topic2\", \"Topic2\", \"Topic2\", \"Topic2\", \"Topic2\", \"Topic2\", \"Topic2\", \"Topic2\", \"Topic2\", \"Topic2\", \"Topic2\", \"Topic2\", \"Topic2\", \"Topic2\", \"Topic2\", \"Topic2\", \"Topic2\", \"Topic2\", \"Topic2\", \"Topic3\", \"Topic3\", \"Topic3\", \"Topic3\", \"Topic3\", \"Topic3\", \"Topic3\", \"Topic3\", \"Topic3\", \"Topic3\", \"Topic3\", \"Topic3\", \"Topic3\", \"Topic3\", \"Topic3\", \"Topic3\", \"Topic3\", \"Topic3\", \"Topic3\", \"Topic3\", \"Topic3\", \"Topic3\", \"Topic3\", \"Topic3\", \"Topic3\", \"Topic3\", \"Topic3\", \"Topic3\", \"Topic3\", \"Topic3\", \"Topic3\", \"Topic3\", \"Topic3\", \"Topic3\", \"Topic3\", \"Topic3\", \"Topic3\", \"Topic3\", \"Topic3\", \"Topic3\", \"Topic3\", \"Topic3\", \"Topic3\", \"Topic3\", \"Topic3\", \"Topic3\", \"Topic3\", \"Topic3\", \"Topic3\", \"Topic3\", \"Topic3\", \"Topic3\", \"Topic3\", \"Topic3\", \"Topic3\", \"Topic3\", \"Topic3\", \"Topic3\", \"Topic3\", \"Topic3\", \"Topic3\", \"Topic3\", \"Topic3\", \"Topic3\", \"Topic3\", \"Topic3\", \"Topic3\", \"Topic3\", \"Topic3\", \"Topic3\", \"Topic3\", \"Topic3\", \"Topic4\", \"Topic4\", \"Topic4\", \"Topic4\", \"Topic4\", \"Topic4\", \"Topic4\", \"Topic4\", \"Topic4\", \"Topic4\", \"Topic4\", \"Topic4\", \"Topic4\", \"Topic4\", \"Topic4\", \"Topic4\", \"Topic4\", \"Topic4\", \"Topic4\", \"Topic4\", \"Topic4\", \"Topic4\", \"Topic4\", \"Topic4\", \"Topic4\", \"Topic4\", \"Topic4\", \"Topic4\", \"Topic4\", \"Topic4\", \"Topic4\", \"Topic4\", \"Topic4\", \"Topic4\", \"Topic4\", \"Topic4\", \"Topic4\", \"Topic4\", \"Topic4\", \"Topic4\", \"Topic4\", \"Topic4\", \"Topic4\", \"Topic4\", \"Topic4\", \"Topic4\", \"Topic4\", \"Topic4\", \"Topic4\", \"Topic4\", \"Topic4\", \"Topic4\", \"Topic4\", \"Topic4\", \"Topic4\", \"Topic4\", \"Topic4\", \"Topic4\", \"Topic4\", \"Topic4\", \"Topic4\", \"Topic4\", \"Topic4\", \"Topic4\", \"Topic4\", \"Topic4\", \"Topic4\", \"Topic4\", \"Topic4\", \"Topic4\", \"Topic4\", \"Topic4\", \"Topic4\", \"Topic4\", \"Topic4\", \"Topic4\", \"Topic4\", \"Topic4\", \"Topic4\", \"Topic4\", \"Topic4\", \"Topic4\", \"Topic4\", \"Topic4\", \"Topic4\", \"Topic4\", \"Topic4\", \"Topic4\", \"Topic4\", \"Topic4\", \"Topic4\", \"Topic4\", \"Topic4\", \"Topic4\", \"Topic4\", \"Topic4\", \"Topic4\", \"Topic5\", \"Topic5\", \"Topic5\", \"Topic5\", \"Topic5\", \"Topic5\", \"Topic5\", \"Topic5\", \"Topic5\", \"Topic5\", \"Topic5\", \"Topic5\", \"Topic5\", \"Topic5\", \"Topic5\", \"Topic5\", \"Topic5\", \"Topic5\", \"Topic5\", \"Topic5\", \"Topic5\", \"Topic5\", \"Topic5\", \"Topic5\", \"Topic5\", \"Topic5\", \"Topic5\", \"Topic5\", \"Topic5\", \"Topic5\", \"Topic5\", \"Topic5\", \"Topic5\", \"Topic5\", \"Topic5\", \"Topic5\", \"Topic5\", \"Topic5\", \"Topic5\", \"Topic5\", \"Topic5\", \"Topic5\", \"Topic5\", \"Topic5\", \"Topic5\", \"Topic5\", \"Topic5\", \"Topic5\", \"Topic5\", \"Topic5\", \"Topic5\", \"Topic5\", \"Topic5\", \"Topic5\", \"Topic5\", \"Topic5\", \"Topic5\", \"Topic5\", \"Topic5\", \"Topic5\", \"Topic5\", \"Topic5\", \"Topic5\", \"Topic5\", \"Topic5\", \"Topic5\", \"Topic5\", \"Topic5\", \"Topic5\", \"Topic5\", \"Topic5\", \"Topic5\", \"Topic5\", \"Topic5\", \"Topic5\", \"Topic5\", \"Topic5\", \"Topic5\", \"Topic5\", \"Topic5\", \"Topic5\", \"Topic5\", \"Topic5\", \"Topic5\", \"Topic5\", \"Topic5\", \"Topic5\", \"Topic5\", \"Topic5\", \"Topic5\", \"Topic6\", \"Topic6\", \"Topic6\", \"Topic6\", \"Topic6\", \"Topic6\", \"Topic6\", \"Topic6\", \"Topic6\", \"Topic6\", \"Topic6\", \"Topic6\", \"Topic6\", \"Topic6\", \"Topic6\", \"Topic6\", \"Topic6\", \"Topic6\", \"Topic6\", \"Topic6\", \"Topic6\", \"Topic6\", \"Topic6\", \"Topic6\", \"Topic6\", \"Topic6\", \"Topic6\", \"Topic6\", \"Topic6\", \"Topic6\", \"Topic6\", \"Topic6\", \"Topic6\", \"Topic6\", \"Topic6\", \"Topic6\", \"Topic6\", \"Topic6\", \"Topic6\", \"Topic6\", \"Topic6\", \"Topic6\", \"Topic6\", \"Topic6\", \"Topic6\", \"Topic6\", \"Topic6\", \"Topic6\", \"Topic6\", \"Topic6\", \"Topic6\", \"Topic6\", \"Topic6\", \"Topic6\", \"Topic6\", \"Topic6\", \"Topic6\", \"Topic6\", \"Topic6\", \"Topic6\", \"Topic6\", \"Topic6\", \"Topic6\", \"Topic6\", \"Topic6\", \"Topic6\", \"Topic6\", \"Topic6\", \"Topic6\", \"Topic6\", \"Topic6\", \"Topic6\", \"Topic6\", \"Topic6\", \"Topic6\", \"Topic6\", \"Topic6\", \"Topic6\", \"Topic6\", \"Topic6\", \"Topic6\", \"Topic6\", \"Topic6\", \"Topic6\", \"Topic7\", \"Topic7\", \"Topic7\", \"Topic7\", \"Topic7\", \"Topic7\", \"Topic7\", \"Topic7\", \"Topic7\", \"Topic7\", \"Topic7\", \"Topic7\", \"Topic7\", \"Topic7\", \"Topic7\", \"Topic7\", \"Topic7\", \"Topic7\", \"Topic7\", \"Topic7\", \"Topic7\", \"Topic7\", \"Topic7\", \"Topic7\", \"Topic7\", \"Topic7\", \"Topic7\", \"Topic7\", \"Topic7\", \"Topic7\", \"Topic7\", \"Topic7\", \"Topic7\", \"Topic7\", \"Topic7\", \"Topic7\", \"Topic7\", \"Topic7\", \"Topic7\", \"Topic7\", \"Topic7\", \"Topic7\", \"Topic7\", \"Topic7\", \"Topic7\", \"Topic7\", \"Topic7\", \"Topic7\", \"Topic7\", \"Topic7\", \"Topic7\", \"Topic7\", \"Topic7\", \"Topic7\", \"Topic7\", \"Topic7\", \"Topic7\", \"Topic7\", \"Topic7\", \"Topic7\", \"Topic7\", \"Topic7\", \"Topic7\", \"Topic7\", \"Topic7\", \"Topic7\", \"Topic7\", \"Topic7\", \"Topic7\", \"Topic7\", \"Topic7\", \"Topic7\", \"Topic7\", \"Topic7\", \"Topic7\", \"Topic7\", \"Topic7\", \"Topic7\", \"Topic7\", \"Topic7\", \"Topic7\", \"Topic7\", \"Topic7\", \"Topic7\", \"Topic7\", \"Topic7\", \"Topic7\", \"Topic7\", \"Topic7\", \"Topic7\"], \"logprob\": [30.0, 29.0, 28.0, 27.0, 26.0, 25.0, 24.0, 23.0, 22.0, 21.0, 20.0, 19.0, 18.0, 17.0, 16.0, 15.0, 14.0, 13.0, 12.0, 11.0, 10.0, 9.0, 8.0, 7.0, 6.0, 5.0, 4.0, 3.0, 2.0, 1.0, -6.8582, -7.7601, -6.8226, -7.9234, -6.5134, -8.0443, -8.0456, -8.0479, -6.7578, -8.1791, -8.1806, -6.6667, -8.2556, -8.497, -8.4994, -8.4166, -8.6089, -8.5157, -8.7181, -7.5482, -7.4897, -8.8515, -8.858, -8.8584, -8.1073, -8.8615, -8.8635, -7.762, -9.0049, -9.0056, -7.4918, -7.9865, -7.6258, -7.2146, -8.4249, -6.3393, -6.0567, -6.5358, -7.046, -7.4805, -6.0651, -7.3263, -5.5839, -6.7266, -5.6957, -4.4389, -4.1112, -7.4583, -5.0207, -7.2862, -4.8307, -4.6653, -4.3359, -4.9422, -5.4297, -4.6195, -5.2677, -4.8571, -5.5759, -4.8635, -4.7045, -5.2712, -4.944, -5.0229, -4.8074, -5.306, -4.7515, -5.33, -5.0295, -5.3878, -5.3629, -5.398, -5.3893, -5.4148, -5.4402, -5.5625, -5.5322, -6.0421, -5.8495, -7.0144, -7.2483, -7.4898, -7.2505, -6.9483, -6.3878, -6.806, -7.5641, -7.8229, -7.7833, -7.8252, -8.0613, -7.3419, -8.1175, -6.0225, -7.9178, -7.7126, -8.0156, -8.0666, -6.9325, -6.9341, -5.5595, -7.2769, -8.1263, -7.7976, -7.5951, -8.1308, -6.7023, -5.8687, -6.3469, -6.0277, -7.2025, -7.5701, -6.7717, -6.6986, -6.54, -5.8525, -5.1101, -5.8313, -7.1923, -5.1493, -4.7725, -6.0008, -6.8109, -6.2121, -4.6436, -5.8181, -3.9542, -5.5833, -4.4224, -5.7982, -6.0496, -5.7089, -5.9322, -5.793, -4.9235, -4.5681, -5.5127, -4.613, -4.7625, -5.031, -5.5238, -5.034, -5.0601, -5.1102, -5.1834, -5.3296, -5.2666, -5.2552, -5.5589, -5.6894, -5.4644, -5.5406, -5.577, -5.5895, -5.5657, -5.6276, -5.6135, -6.6037, -7.135, -5.4835, -6.8042, -7.6877, -7.6918, -7.7156, -7.959, -6.7829, -7.7521, -7.2853, -8.3383, -8.3387, -8.3404, -8.3407, -8.359, -8.3645, -8.378, -6.905, -7.4591, -7.9765, -6.6945, -8.9665, -8.9676, -8.9676, -8.9677, -8.9678, -8.9682, -8.9682, -8.9682, -7.3571, -8.3443, -7.4854, -7.0344, -8.3903, -8.6353, -8.4106, -7.0285, -7.6949, -7.9846, -5.5496, -5.1009, -5.5573, -5.4854, -4.0742, -4.3482, -5.0879, -6.3704, -6.8747, -6.9644, -4.7748, -5.2587, -5.0204, -4.9001, -4.9494, -4.8554, -5.2664, -5.2869, -5.1422, -5.5725, -5.151, -5.1854, -5.3924, -5.4012, -5.2855, -5.5772, -5.5295, -5.5009, -5.4137, -5.5464, -5.5049, -5.5411, -8.8113, -9.3941, -9.3975, -9.3213, -9.0525, -7.3136, -8.2213, -9.6012, -9.7108, -9.4314, -9.7121, -9.7144, -9.7148, -9.8386, -8.4323, -9.8431, -9.8445, -9.846, -9.2877, -9.8492, -9.853, -9.8554, -9.9928, -9.996, -10.0053, -10.0069, -7.9121, -9.0097, -8.9524, -10.1662, -7.9934, -6.7663, -8.1637, -8.9179, -8.1664, -8.5471, -7.1325, -8.7137, -8.7151, -8.1703, -8.3673, -8.067, -8.0869, -8.0693, -7.9594, -7.9079, -7.6319, -7.6442, -6.8977, -6.5178, -6.5066, -7.047, -5.8282, -5.018, -7.113, -5.6316, -6.7172, -7.512, -4.7712, -4.2514, -5.1488, -4.711, -4.2878, -5.356, -5.1452, -5.996, -4.5152, -5.9668, -6.4557, -5.7526, -4.4527, -4.9657, -6.1902, -5.2633, -4.7888, -5.6557, -5.1418, -4.6895, -5.382, -5.7308, -5.1892, -4.9434, -5.4525, -5.4404, -5.3097, -5.8374, -5.3751, -4.9107, -5.3218, -5.4277, -5.4512, -5.0447, -5.4876, -5.5468, -5.3076, -5.4361, -5.4616, -8.7987, -9.0627, -7.758, -8.9743, -9.0844, -9.3165, -9.1984, -8.9172, -9.2081, -9.1079, -9.4693, -9.3381, -9.2206, -9.4764, -9.3423, -9.344, -8.8593, -9.2377, -9.2338, -9.2393, -9.3601, -9.2514, -9.4986, -7.12, -9.5, -9.6662, -9.377, -9.6757, -9.5088, -9.668, -9.1611, -7.8881, -8.4772, -7.383, -9.0726, -5.6258, -8.7244, -6.3202, -6.9895, -7.6939, -6.5584, -7.2125, -5.978, -7.3431, -7.3454, -8.5892, -7.3473, -7.4181, -5.4416, -8.5167, -7.3616, -6.6972, -7.9191, -4.1717, -7.255, -7.89, -5.3632, -5.1249, -4.611, -7.1867, -4.4123, -7.5598, -5.2706, -5.2561, -6.1657, -4.8725, -5.0309, -4.7215, -4.942, -5.3598, -4.9479, -4.8153, -5.1319, -4.6877, -5.1057, -5.319, -5.0836, -5.8565, -5.3105, -5.3263, -5.5351, -5.5322, -5.7696, -5.5443, -5.4581, -5.5611, -5.3212, -5.4715, -5.5148, -5.5441, -7.7095, -7.3519, -8.2153, -8.6283, -7.0805, -8.5438, -8.8084, -7.7584, -8.8118, -9.1498, -8.6793, -9.1557, -9.1617, -9.1633, -9.1804, -9.4214, -6.876, -9.4248, -9.4301, -9.435, -9.2101, -9.4398, -9.4469, -9.0436, -8.2655, -6.3057, -9.4728, -9.2539, -9.2732, -9.4998, -8.5798, -7.1776, -8.6022, -6.7334, -5.9584, -6.5561, -7.9998, -7.281, -6.6572, -8.5662, -5.7122, -5.8277, -5.1662, -5.478, -5.5776, -6.5538, -7.9697, -5.6125, -5.9726, -7.5019, -6.7312, -6.6356, -6.5431, -4.5405, -5.344, -5.8477, -4.4651, -5.9268, -5.7932, -4.701, -5.1021, -5.4755, -4.7568, -4.6576, -5.271, -5.1552, -4.9756, -5.0951, -4.9825, -4.6994, -5.3748, -5.1157, -5.0883, -5.2337, -5.3872, -5.0703, -5.2287, -5.376, -5.2368, -5.4886, -5.4855, -5.4522, -5.4915, -5.5638, -8.2168, -8.3306, -8.437, -8.7162, -8.4708, -8.4726, -8.3846, -8.9022, -8.495, -8.9049, -8.9063, -8.7513, -8.7517, -8.2968, -8.9179, -7.233, -9.1031, -7.8727, -8.927, -9.109, -8.9272, -9.1105, -8.2277, -8.0758, -9.1129, -9.134, -9.1355, -9.137, -9.1492, -7.9741, -7.4664, -8.0596, -6.2212, -8.4352, -6.5096, -7.1195, -7.2535, -7.5501, -6.2153, -6.9806, -7.8793, -7.8407, -5.9879, -6.9864, -6.2789, -5.6502, -6.315, -5.9318, -6.8729, -6.2165, -6.2451, -5.4562, -6.9573, -7.4351, -6.766, -5.3839, -7.4068, -6.0623, -6.097, -5.1257, -5.3154, -6.284, -6.6126, -5.4392, -5.4666, -4.8763, -4.707, -4.6974, -5.6853, -5.2153, -5.0117, -5.0574, -4.941, -4.9028, -4.7735, -5.1881, -5.3265, -5.0673, -5.2439, -4.8746, -5.3098, -5.4775, -5.1363, -5.1893, -5.0123, -5.4866, -5.4649, -5.4361, -5.4967, -5.4365], \"loglift\": [30.0, 29.0, 28.0, 27.0, 26.0, 25.0, 24.0, 23.0, 22.0, 21.0, 20.0, 19.0, 18.0, 17.0, 16.0, 15.0, 14.0, 13.0, 12.0, 11.0, 10.0, 9.0, 8.0, 7.0, 6.0, 5.0, 4.0, 3.0, 2.0, 1.0, 2.028, 2.0247, 2.0109, 2.0093, 2.0074, 2.0007, 1.9994, 1.9975, 1.994, 1.992, 1.9904, 1.9898, 1.9852, 1.9848, 1.9824, 1.9785, 1.9699, 1.9671, 1.9661, 1.9639, 1.9589, 1.9523, 1.9462, 1.9457, 1.9441, 1.9434, 1.941, 1.9397, 1.9342, 1.9335, 1.8955, 1.8985, 1.8534, 1.797, 1.8924, 1.6027, 1.5563, 1.5777, 1.6597, 1.7109, 1.3778, 1.6563, 1.0847, 1.4265, 1.0004, 0.5085, 0.2722, 1.6703, 0.566, 1.587, 0.3347, 0.2164, 0.0358, 0.3602, 0.6115, 0.1625, 0.4993, 0.2303, 0.6205, 0.1324, -0.0591, 0.3242, 0.0622, 0.0961, -0.1099, 0.2871, -0.2604, 0.2522, -0.1167, 0.2769, 0.205, 0.094, 0.0454, -0.0844, -0.0368, 0.1746, -0.1557, 2.0048, 2.0016, 1.9966, 1.9956, 1.9955, 1.9932, 1.9893, 1.9869, 1.9846, 1.9828, 1.9803, 1.979, 1.9778, 1.9757, 1.9743, 1.9736, 1.9724, 1.972, 1.9719, 1.9701, 1.9701, 1.969, 1.9668, 1.9667, 1.9645, 1.9641, 1.9635, 1.961, 1.9591, 1.9584, 1.955, 1.9476, 1.934, 1.9461, 1.9416, 1.8674, 1.852, 1.821, 1.7257, 1.5559, 1.6513, 1.8656, 1.4466, 1.2274, 1.5239, 1.7528, 1.5561, 0.9386, 1.3799, 0.5369, 1.1533, 0.2751, 1.1011, 1.229, 0.9481, 1.1167, 0.9867, 0.1639, -0.1847, 0.6936, -0.2413, -0.1172, 0.1344, 0.5629, -0.1523, -0.2781, -0.1974, -0.1875, 0.0739, -0.2604, -0.3078, 0.2864, 0.7051, -0.3454, -0.2102, -0.0091, 0.0059, -0.2732, 0.0149, -0.3111, 4.1667, 4.0967, 4.0857, 3.9829, 3.9786, 3.9727, 3.933, 3.9051, 3.8939, 3.8812, 3.8795, 3.7773, 3.7768, 3.7745, 3.774, 3.7594, 3.7482, 3.7341, 3.7235, 3.6371, 3.6023, 3.5703, 3.4836, 3.4825, 3.4824, 3.4823, 3.4821, 3.4819, 3.4819, 3.4817, 3.3571, 3.3858, 3.1975, 3.0681, 3.345, 3.3879, 3.3074, 2.8574, 3.0493, 3.1443, 2.1792, 1.6631, 1.8431, 1.4198, 0.3092, 0.0235, 0.4759, 1.7075, 2.2308, 2.3253, -0.1295, 0.4049, 0.0986, -0.2027, -0.1674, -0.3644, 0.1713, 0.1225, -0.136, 0.5296, -0.2382, -0.1896, -0.016, -0.0709, -0.3381, 0.2295, 0.0846, -0.0236, -0.3263, -0.0544, -0.2025, -0.2486, 1.0112, 0.9907, 0.9877, 0.984, 0.9833, 0.9827, 0.9787, 0.9681, 0.9648, 0.9636, 0.9635, 0.9616, 0.9612, 0.9561, 0.9531, 0.9521, 0.9503, 0.9489, 0.9475, 0.9463, 0.9423, 0.9401, 0.9372, 0.9341, 0.9257, 0.9244, 0.921, 0.9208, 0.9205, 0.9202, 0.9199, 0.907, 0.9165, 0.9152, 0.894, 0.9047, 0.8433, 0.9043, 0.9035, 0.87, 0.8759, 0.8591, 0.8591, 0.8519, 0.8266, 0.8217, 0.7948, 0.7925, 0.7046, 0.6295, 0.6203, 0.6818, 0.4866, 0.3585, 0.6699, 0.4265, 0.6006, 0.7222, 0.2247, 0.1203, 0.2889, 0.2018, 0.0957, 0.3114, 0.2641, 0.4336, 0.1302, 0.4172, 0.5162, 0.3495, 0.0383, 0.1534, 0.4505, 0.214, 0.0929, 0.3098, 0.1506, 0.0079, 0.211, 0.3095, 0.1411, 0.0628, 0.2112, 0.2021, 0.1251, 0.3358, 0.1169, -0.1287, 0.0817, 0.1361, 0.1469, -0.0974, 0.1265, 0.1668, -0.2202, -0.1337, -0.2963, 1.538, 1.5372, 1.5352, 1.5313, 1.5159, 1.5086, 1.5082, 1.5031, 1.4984, 1.4956, 1.4917, 1.49, 1.4877, 1.4858, 1.4847, 1.4813, 1.4775, 1.475, 1.4746, 1.4738, 1.47, 1.4637, 1.4625, 1.4608, 1.4605, 1.4549, 1.4525, 1.4509, 1.4496, 1.448, 1.4473, 1.4232, 1.4243, 1.3821, 1.4347, 1.2072, 1.404, 1.1811, 1.2462, 1.3124, 1.1849, 1.2562, 1.0976, 1.2284, 1.1992, 1.3767, 1.1734, 1.1735, 0.8023, 1.3454, 1.1079, 0.9609, 1.1963, 0.2, 1.0114, 1.1774, 0.4422, 0.367, 0.171, 0.9279, -0.0288, 1.046, 0.2067, 0.1816, 0.5332, 0.0092, 0.0565, -0.0762, 0.0054, 0.1807, -0.0351, -0.1178, 0.0335, -0.1966, 0.0133, 0.0904, -0.0774, 0.3498, -0.0081, -0.0338, 0.079, 0.0659, 0.2294, 0.0195, -0.0816, 0.0068, -0.3253, -0.1412, -0.1114, -0.1093, 2.2153, 2.1842, 2.1718, 2.1672, 2.1485, 2.1369, 2.127, 2.1266, 2.1239, 2.1218, 2.1211, 2.1159, 2.1104, 2.1096, 2.0924, 2.0778, 2.075, 2.0747, 2.0709, 2.0649, 2.0644, 2.0601, 2.0529, 2.0516, 2.0436, 2.0325, 2.0287, 2.0278, 2.0104, 2.0058, 1.9974, 1.9599, 1.9751, 1.8077, 1.7126, 1.6715, 1.8361, 1.7092, 1.5612, 1.9172, 1.3637, 1.3546, 1.1508, 1.1373, 1.1185, 1.3923, 1.7892, 1.0819, 1.1551, 1.6343, 1.362, 1.3269, 1.2143, 0.2415, 0.5942, 0.7, -0.0817, 0.7162, 0.6269, -0.0557, 0.2003, 0.4256, -0.0594, -0.1665, 0.2695, 0.1752, 0.0306, 0.0703, -0.0351, -0.3277, 0.29, -0.0283, -0.0924, 0.0587, 0.1995, -0.1887, -0.1097, 0.0274, -0.324, 0.175, 0.1076, -0.0758, 0.0764, -0.1544, 2.2849, 2.2669, 2.2666, 2.2406, 2.2336, 2.2321, 2.217, 2.2103, 2.2094, 2.2077, 2.206, 2.205, 2.2049, 2.2044, 2.1974, 2.1947, 2.1936, 2.1885, 2.1883, 2.188, 2.188, 2.1864, 2.1852, 2.1843, 2.1841, 2.1659, 2.1614, 2.1596, 2.1516, 2.1469, 2.1302, 2.132, 2.0694, 2.1343, 1.9978, 2.0336, 1.9487, 1.9881, 1.8023, 1.8844, 2.0223, 2.0059, 1.6463, 1.8402, 1.6835, 1.5321, 1.6711, 1.5732, 1.7922, 1.5917, 1.5697, 1.1868, 1.6667, 1.8448, 1.5627, 0.9331, 1.8167, 1.1913, 1.1519, 0.6469, 0.6229, 1.1806, 1.3335, 0.602, 0.5644, 0.1299, -0.0096, -0.0521, 0.6676, 0.2619, 0.0757, 0.108, -0.0282, -0.1208, -0.2824, 0.1043, 0.214, -0.12, 0.0585, -0.5029, 0.1249, 0.3498, -0.2546, -0.1935, -0.6289, 0.2804, 0.1999, -0.1058, 0.0899, -0.3175]}, \"token.table\": {\"Topic\": [6, 7, 6, 5, 1, 2, 3, 4, 5, 1, 2, 4, 5, 6, 7, 3, 5, 2, 4, 5, 2, 4, 5, 6, 1, 2, 3, 4, 5, 6, 1, 2, 3, 4, 5, 6, 7, 1, 2, 3, 4, 5, 6, 7, 1, 2, 3, 4, 5, 6, 7, 1, 2, 3, 4, 5, 6, 7, 1, 2, 4, 5, 6, 7, 1, 2, 4, 5, 6, 7, 1, 2, 5, 6, 7, 1, 2, 5, 6, 7, 1, 2, 6, 6, 5, 5, 3, 7, 5, 7, 2, 3, 4, 7, 2, 4, 1, 2, 5, 2, 5, 1, 2, 3, 4, 5, 6, 7, 1, 2, 4, 5, 6, 7, 1, 2, 4, 5, 1, 2, 3, 4, 5, 6, 7, 1, 6, 6, 1, 2, 3, 4, 5, 6, 7, 6, 5, 7, 1, 2, 5, 6, 7, 2, 5, 2, 3, 4, 5, 1, 1, 2, 3, 4, 5, 6, 7, 1, 7, 2, 3, 4, 5, 6, 7, 2, 5, 7, 1, 2, 3, 4, 5, 6, 7, 5, 6, 2, 4, 5, 2, 5, 1, 2, 3, 4, 5, 6, 7, 2, 3, 4, 5, 4, 5, 6, 7, 4, 5, 6, 7, 6, 2, 5, 1, 2, 5, 6, 7, 2, 2, 5, 1, 2, 3, 4, 5, 6, 7, 2, 3, 4, 5, 5, 1, 2, 3, 4, 5, 6, 7, 3, 1, 1, 2, 3, 4, 5, 6, 7, 4, 5, 4, 3, 3, 1, 7, 4, 7, 3, 5, 6, 7, 3, 5, 2, 5, 2, 4, 5, 7, 6, 5, 3, 2, 3, 4, 5, 1, 2, 4, 5, 6, 7, 1, 1, 2, 3, 4, 5, 6, 7, 1, 2, 3, 4, 5, 6, 7, 7, 5, 6, 1, 4, 7, 1, 5, 7, 5, 2, 4, 5, 5, 1, 2, 3, 4, 3, 4, 1, 2, 3, 4, 5, 6, 7, 7, 1, 2, 5, 6, 2, 5, 3, 7, 1, 2, 3, 4, 5, 6, 7, 6, 2, 1, 2, 5, 6, 4, 7, 7, 4, 1, 2, 5, 4, 5, 7, 1, 2, 3, 4, 5, 6, 7, 4, 2, 5, 6, 3, 1, 2, 5, 6, 1, 2, 4, 5, 1, 5, 6, 1, 2, 4, 5, 6, 7, 2, 4, 5, 6, 1, 2, 3, 4, 5, 6, 7, 4, 1, 2, 4, 5, 6, 1, 1, 7, 1, 2, 2, 2, 3, 4, 5, 1, 2, 3, 4, 5, 6, 7, 1, 2, 3, 4, 2, 3, 5, 6, 2, 5, 1, 2, 3, 4, 5, 6, 7, 2, 2, 4, 5, 1, 2, 3, 4, 5, 6, 7, 6, 1, 2, 5, 2, 5, 1, 2, 3, 4, 5, 6, 7, 1, 1, 2, 7, 4, 2, 3, 4, 5, 1, 2, 3, 4, 5, 6, 7, 1, 2, 3, 4, 5, 6, 7, 7, 1, 3, 4, 7, 3, 2, 3, 4, 1, 2, 4, 5, 6, 7, 5, 5, 6, 3, 4, 5, 6, 3, 1, 2, 4, 5, 6, 7, 1, 2, 3, 4, 5, 6, 7, 1, 5, 1, 2, 3, 4, 5, 6, 2, 4, 5, 2, 5, 6, 2, 5, 6, 4, 1, 2, 4, 5, 6, 7, 1, 1, 2, 3, 4, 5, 6, 7, 2, 5, 3, 4, 1, 7, 5, 1, 2, 5, 6, 7, 1, 2, 4, 5, 6, 7, 1, 2, 3, 4, 5, 6, 7, 6, 2, 3, 5, 1, 2, 3, 4, 5, 6, 7, 1, 2, 4, 5, 6, 7, 1, 2, 3, 4, 5, 6, 7, 1, 5, 6, 1, 2, 4, 5, 6, 7, 1, 2, 4, 5, 6, 7, 2, 5, 1, 2, 3, 4, 5, 6, 7, 2, 4, 5, 6, 7, 1, 2, 3, 4, 5, 6, 7, 1, 2, 3, 4, 5, 6, 7, 4, 1, 2, 4, 5, 6, 7, 1, 2, 4, 5, 6, 1, 2, 3, 4, 5, 6, 7, 3, 4, 6, 1, 2, 3, 4, 5, 6, 7, 3, 6, 1, 1, 2, 3, 4, 5, 6, 7, 2, 4, 5, 6, 7, 2, 4, 5, 6, 7, 1, 2, 3, 4, 5, 6, 7, 1, 2, 3, 4, 5, 6, 7, 2, 4, 5, 1, 2, 3, 4, 5, 6, 7, 4, 6, 7, 1, 2, 3, 4, 5, 6, 7, 1, 2, 3, 4, 5, 6, 7, 4, 5, 6, 6, 1, 2, 3, 4, 5, 6, 7, 4, 1, 2, 3, 4, 5, 6, 7, 1, 2, 3, 4, 5, 6, 7, 1, 2, 3, 4, 5, 6, 7, 2, 5, 1, 2, 3, 4, 5, 6, 7, 2, 5, 1, 2, 3, 4, 5, 6, 7, 1, 2, 3, 4, 5, 6, 7, 1, 2, 3, 4, 5, 6, 7, 1, 2, 3, 4, 5, 6, 7, 2, 1, 2, 3, 4, 5, 6, 7, 1, 2, 4, 5, 6, 7, 5, 1, 2, 3, 4, 5, 6, 7, 1, 2, 4, 5, 6, 7, 1, 2, 3, 4, 5, 6, 7, 1, 2, 3, 4, 6, 1, 2, 3, 4, 5, 6, 7, 1, 2, 3, 4, 5, 6, 7, 1, 2, 3, 4, 5, 6, 7, 1, 2, 3, 4, 5, 6, 7, 2, 4, 5, 1, 2, 3, 4, 5, 6, 7, 6, 1, 2, 4, 5, 6, 7, 7, 7, 2, 7, 1, 2, 3, 4, 5, 6, 7, 2, 3, 4, 3, 3, 4, 2, 5, 6, 1, 2, 3, 4, 5, 6, 7, 1, 2, 3, 4, 5, 6, 7, 2, 4, 1, 2, 3, 4, 5, 6, 7, 6, 1, 2, 3, 4, 5, 6, 7, 3, 1, 2, 5, 5, 1, 2, 3, 4, 5, 6, 7, 3, 1, 2, 4, 5, 6, 1, 2, 3, 4, 5, 6, 7, 3, 2, 5, 2, 4, 5, 6, 7, 1, 2, 3, 4, 5, 6, 7, 1, 2, 4, 5, 6, 1, 2, 3, 4, 5, 6, 7, 2, 3, 1, 2, 6, 7, 1, 2, 4, 5, 6, 7, 1, 2, 3, 4, 5, 6, 7, 1, 2, 4, 5, 6, 7, 3, 7, 5, 1, 2, 3, 4, 5, 6, 7, 2, 3, 4, 5, 6, 7, 1, 2, 3, 4, 5, 6, 7, 1, 2, 3, 4, 5, 6, 7, 1, 2, 3, 4, 5, 6, 7, 1, 2, 3, 4, 5, 6, 7, 4, 5, 1, 4, 1, 2, 3, 4, 5, 6, 7, 1, 2, 3, 4, 5, 6, 7, 5, 1, 2, 3, 4, 5, 6, 7, 6, 2, 5, 7, 2, 4, 5, 6, 7, 3, 2, 4, 5, 6, 4, 1, 2, 3, 4, 5, 6, 7, 1, 2, 3, 4, 5, 6, 7, 1, 2, 4, 5, 6, 7, 1, 2, 3, 4, 5, 6, 7, 1, 2, 4, 5, 6, 7, 3, 6, 2, 4, 5, 6, 7, 5, 6, 7, 1, 2, 3, 4, 5, 6, 7, 1, 2, 3, 4, 5, 6, 7, 1, 2, 4, 5, 6, 7, 2, 5, 3, 5, 6, 1, 2, 3, 4, 5, 6, 7, 2, 4, 5, 6, 1, 2, 3, 4, 5, 6, 7, 1, 2, 3, 4, 5, 6, 7, 1, 2, 3, 4, 5, 6, 7, 1, 2, 4, 5, 6, 7, 5, 1, 2, 5, 6, 7, 3, 2, 5, 1, 2, 3, 4, 5, 6, 7, 1, 2, 3, 4, 5, 6, 7, 2, 4, 5, 1, 2, 4, 5, 6, 7, 5, 6, 1, 2, 3, 4, 5, 6, 7, 1, 2, 3, 4, 5, 6, 7, 2, 5, 1, 2, 3, 4, 5, 6, 7, 5, 1, 2, 3, 4, 5, 6, 7, 1, 2, 3, 4, 5, 6, 7, 6, 3, 1, 2, 3, 4, 5, 6, 7, 2, 3, 4, 7, 1, 3, 4, 1, 2, 3, 4, 5, 6, 7, 3, 1, 2, 3, 4, 6, 7, 1, 2, 4, 5, 6, 7, 4, 2, 4, 5, 6, 7, 2, 3, 4, 5, 6, 2, 3, 4, 5, 6, 1, 4, 5, 7, 1, 7, 1, 2, 3, 4, 5, 6, 7, 1, 2, 4, 5, 6, 7, 6, 1, 6, 7, 1, 2, 5, 6, 7, 3, 1, 2, 3, 4, 5, 6, 7, 2, 6, 7, 1, 2, 4, 5, 6, 7, 1, 2, 5, 6, 7, 6, 7, 1, 2, 3, 4, 5, 6, 7, 4, 2, 3, 4, 5, 6, 7, 4, 7, 5, 6, 2, 5, 6, 1, 2, 3, 4, 5, 6, 7, 4, 5, 5, 1, 2, 4, 5, 6, 7, 1, 2, 4, 5, 6, 7, 4, 6, 7, 1, 2, 3, 4, 5, 6, 7, 1, 4, 5, 6, 5, 6, 7, 2, 4, 5, 6, 7, 1, 2, 3, 4, 5, 6, 7, 2, 3, 4, 3, 5, 7, 4, 1, 2, 3, 4, 5, 6, 7, 1, 2, 4, 5, 6, 7, 1, 2, 3, 4, 5, 6, 7, 1, 1, 2, 3, 4, 5, 6, 7, 1, 2, 3, 4, 5, 6, 7, 7, 1, 2, 3, 4, 5, 6, 7, 1, 2, 3, 4, 5, 7, 5, 6, 7, 3, 4, 5, 2, 4, 5, 6, 1, 2, 3, 4, 5, 7, 1, 2, 3, 4, 5, 6, 7, 1, 2, 3, 4, 5, 6, 7, 1, 2, 3, 4, 5, 6, 7, 7, 4, 1, 2, 3, 4, 5, 6, 7, 5, 1, 2, 3, 4, 5, 6, 7, 4, 6, 1, 1, 2, 4, 2, 4, 5, 3, 7, 3, 2, 5, 6, 7, 6, 7, 1, 2, 5, 6, 1, 2, 4, 5, 6, 7, 4, 1, 2, 6, 2, 5, 4, 7, 1, 2, 3, 4, 5, 6, 7, 1, 2, 4, 5, 6, 7, 1, 2, 3, 4, 5, 6, 7, 1, 2, 3, 4, 5, 6, 7], \"Freq\": [0.09297008182341428, 0.8367307364107285, 0.861059048986628, 0.9239229532482575, 0.02302448253029267, 0.09209793012117068, 0.13814689518175602, 0.7367834409693654, 0.9133286085770688, 0.09575590085872529, 0.05745354051523518, 0.8043495672132924, 0.01915118017174506, 0.8115928091354602, 0.20289820228386504, 0.46848786199347303, 0.9025055645185491, 0.06403898377741148, 0.12807796755482295, 0.7684678053289377, 0.12647794844688093, 0.7960670872833094, 0.05951903456323809, 0.007439879320404761, 0.005498021416208023, 0.10996042832416048, 0.010996042832416047, 0.8521933195122436, 0.016494064248624072, 0.005498021416208023, 0.005811644363901624, 0.15691439782534383, 0.1220445316419341, 0.67996239057649, 0.02905822181950812, 0.005811644363901624, 0.005811644363901624, 0.005414847758253025, 0.14078604171457865, 0.01082969551650605, 0.31406116997867545, 0.5144105370340374, 0.005414847758253025, 0.005414847758253025, 0.00925916604625325, 0.13425790767067214, 0.013888749069379876, 0.17129457185568514, 0.6388824571914743, 0.00925916604625325, 0.023147915115633126, 0.009292836619753322, 0.11151403943703986, 0.004646418309876661, 0.06969627464814991, 0.26019942535309304, 0.09757478450740988, 0.44605615774815943, 0.04388441209964837, 0.09873992722420884, 0.005485551512456046, 0.17005209688613745, 0.5485551512456047, 0.13713878781140118, 0.5952830117767649, 0.10870385432445272, 0.005176374015450129, 0.0724692362163018, 0.17082034250985426, 0.05176374015450129, 0.6258013223543889, 0.03596559323875798, 0.021579355943254788, 0.22298667808029948, 0.09351054242077075, 0.620617178206139, 0.05476033925348285, 0.01825344641782762, 0.2007879105961038, 0.1095206785069657, 0.8989553726822925, 0.03457520664162664, 0.03457520664162664, 0.8735046018829181, 0.8811542180753348, 0.9042198527849659, 0.5768035253028264, 0.8590006829434513, 0.11391814377026098, 0.797427006391827, 0.9247391893825959, 0.23708078339494368, 0.5927019584873592, 0.8565365217425873, 0.09532449906238591, 0.8579204915614732, 0.018765210898599605, 0.9382605449299802, 0.03753042179719921, 0.9243558822928237, 0.06162372548618825, 0.08369889266103615, 0.0041849446330518075, 0.08788383729408795, 0.3599052384424555, 0.18413756385427954, 0.14228811752376147, 0.13810317289070964, 0.8811435238954012, 0.9327793860520577, 0.007583572244325672, 0.022750716732977017, 0.007583572244325672, 0.022750716732977017, 0.6597961859732877, 0.07069244849713796, 0.07069244849713796, 0.16494904649332193, 0.16098185708818463, 0.3328316876506771, 0.007471731763586629, 0.19969901259040626, 0.1603026087460404, 0.07539656597801053, 0.06249084747726999, 0.9356737970785057, 0.8899972738057622, 0.757203589713729, 0.20846246772928984, 0.09577032196198808, 0.009721047717946157, 0.31107352697427704, 0.19730126479387017, 0.09541028315761971, 0.08244888620035816, 0.8039144848228295, 0.8640764749771161, 0.9301930579590056, 0.047849920276090904, 0.047849920276090904, 0.01913996811043636, 0.5263491230369999, 0.36365939409829084, 0.951916395285599, 0.02644212209126664, 0.6166303907160094, 0.006045395987411857, 0.13299871172306085, 0.23577044350906243, 0.919726893608418, 0.09649511579373307, 0.22264594093305787, 0.009581075327037326, 0.3565528746704605, 0.16128143467179498, 0.08372034869101663, 0.07003309822382046, 0.9430675904443964, 0.8566674437974179, 0.832808470189857, 0.026438364133011334, 0.026438364133011334, 0.06609591033252833, 0.026438364133011334, 0.039657546199517, 0.953836891872357, 0.03893211803560641, 0.9113100068155913, 0.07325885514554288, 0.41154239214113797, 0.006464016630489078, 0.2133125488061396, 0.16375508797239, 0.08834156061668406, 0.04309344420326052, 0.052243402114962915, 0.8881378359543696, 0.0768771959438438, 0.8456491553822818, 0.0384385979719219, 0.9314467158270495, 0.04435460551557379, 0.2210698904130061, 0.09074782538558583, 0.00955240267216693, 0.25996181557825715, 0.19718888373258878, 0.12076966235525333, 0.10166485701091947, 0.15055706348614523, 0.016728562609571694, 0.7862424426498695, 0.03345712521914339, 0.028286927844010226, 0.8203209074762966, 0.08486078353203068, 0.05657385568802045, 0.2194234802482261, 0.59731947400906, 0.024380386694247348, 0.15847251351260774, 0.7571396266273265, 0.9666050120240526, 0.023965413521257504, 0.023774756707607026, 0.023774756707607026, 0.023774756707607026, 0.6894679445206038, 0.21397281036846322, 0.943885023972929, 0.9516790641900316, 0.02643552956083421, 0.15779355780025933, 0.15323783828371643, 0.009939751672457281, 0.2754139525910038, 0.20749231616254574, 0.09608426616708705, 0.10022582936394425, 0.11004056865582684, 0.02200811373116537, 0.836308321784284, 0.02200811373116537, 0.8687740399798405, 0.023693356017124974, 0.5970725716315494, 0.00947734240684999, 0.11372810888219986, 0.13268279369589986, 0.06634139684794993, 0.05212538323767494, 0.5856968670836287, 0.881056254194467, 0.036085912720776235, 0.1088693638016639, 0.013455764065374189, 0.42507981933795735, 0.24098050189806502, 0.05504630754016714, 0.12049025094903251, 0.9339361769603493, 0.05837101106002183, 0.8854815441259315, 0.46707739406859305, 0.8518783965592744, 0.9127118936832072, 0.8239600201565479, 0.8575719957468584, 0.8241960254456968, 0.5137618368245521, 0.07339454811779315, 0.2935781924711726, 0.07339454811779315, 0.7220776663509003, 0.18051941658772508, 0.9325255115037567, 0.04440597673827413, 0.040875943105100954, 0.05450125747346794, 0.8447694908387531, 0.05450125747346794, 0.803433883306946, 0.8835183468546699, 0.7720645473983639, 0.1374044364737911, 0.019629205210541584, 0.804797413632205, 0.019629205210541584, 0.07362693760039618, 0.33629601228289063, 0.2646589919149376, 0.23083039896340424, 0.031838675719090236, 0.06367735143818047, 0.9426106939932055, 0.12497714797883909, 0.007651662121153414, 0.05611218888845837, 0.42594252474420674, 0.10202216161537886, 0.12752770201922356, 0.1530332424230683, 0.13704909682592215, 0.007831376961481265, 0.01566275392296253, 0.538407166101837, 0.11355496594147835, 0.09397652353777519, 0.09397652353777519, 0.8238866755910781, 0.857493128628589, 0.8044382508289699, 0.07305618438077617, 0.07305618438077617, 0.8036180281885379, 0.8534516493901072, 0.05020303819941807, 0.05020303819941807, 0.9338168384327238, 0.07692040982009081, 0.846124508020999, 0.038460204910045405, 0.9234694540618122, 0.8643059667947278, 0.0253064152004864, 0.0253064152004864, 0.9110309472175104, 0.5056820756584218, 0.3371213837722812, 0.09808917072797989, 0.17320249966382034, 0.011487920896069717, 0.3614276651148088, 0.1908762241193122, 0.0821828187180372, 0.0821828187180372, 0.8273296422619547, 0.8817712681348301, 0.10298602777386869, 0.9268742499648183, 0.7566314024415854, 0.9448812928228749, 0.041081795340124995, 0.6527192938024605, 0.8590659731036868, 0.2067547777179971, 0.09234501929697105, 0.0049032753609011175, 0.26641129460896074, 0.19776543955634507, 0.10950648306012495, 0.12258188402252794, 0.8613544442695825, 0.9350663165961617, 0.9426266517155961, 0.100399310041422, 0.050199655020711, 0.803194480331376, 0.9106938029855177, 0.8241982714426971, 0.824136931465881, 0.8732628548573735, 0.8240515116091576, 0.06104085271178945, 0.06104085271178945, 0.8732057738341256, 0.9132797373811399, 0.8566526233705438, 0.1750664077859687, 0.14909747773076107, 0.008507063293947329, 0.2552118988184198, 0.20282629853463893, 0.10611442108765877, 0.10342798004746488, 0.9102876450937193, 0.09812504958787589, 0.7359378719090692, 0.09812504958787589, 0.6526465845480298, 0.9214251375455577, 0.04849605987081883, 0.01616535329027294, 0.01616535329027294, 0.8776676780121212, 0.041793698952958154, 0.041793698952958154, 0.041793698952958154, 0.10419919156015847, 0.026049797890039618, 0.8596433303713074, 0.014997155094447117, 0.7298615479297597, 0.0899829305666827, 0.10997913735927886, 0.019996206792596158, 0.029994310188894233, 0.9302259311572338, 0.018984202676678243, 0.033222354684186925, 0.014238152007508682, 0.11073030067219729, 0.019931454120995513, 0.07086739243020627, 0.3432639320838116, 0.2413920554653901, 0.12844714877974886, 0.08415502851086994, 0.87356546666205, 0.09560114594413312, 0.04780057297206656, 0.04780057297206656, 0.19120229188826623, 0.6214074486368653, 0.8930839538365591, 0.9118309665620651, 0.9115819352603827, 0.8761674653128052, 0.06490129372687446, 0.9251696703989306, 0.08979962563905584, 0.02244990640976396, 0.8530964435710305, 0.02244990640976396, 0.05831659637058554, 0.3904676452639206, 0.007606512570076374, 0.16227226816162932, 0.1876273100618839, 0.05071008380050916, 0.14198823464142565, 0.03255265842945721, 0.06510531685891442, 0.03255265842945721, 0.8463691191658875, 0.9023150052126154, 0.02200768305396623, 0.05868715481057661, 0.014671788702644153, 0.9583912908251857, 0.05044164688553609, 0.12244343622458201, 0.26325338788285135, 0.010713800669650926, 0.350494336192866, 0.15764592413914935, 0.05816063220667646, 0.0367330308673746, 0.9253976889475548, 0.13212057694343227, 0.81914757704928, 0.026424115388686453, 0.11216564288271487, 0.17133301950334698, 0.011216564288271488, 0.3457505941859686, 0.17441757468262165, 0.09309748359265335, 0.0919758271638262, 0.8131417447443391, 0.936673982722592, 0.038493451344764056, 0.012831150448254685, 0.9308628971916726, 0.03580241912275664, 0.056239319404515285, 0.34868378030799474, 0.008998291104722445, 0.22495727761806114, 0.18221539487062952, 0.05174017385215406, 0.12597607546611422, 0.911854331576585, 0.2041718316799162, 0.05104295791997905, 0.7146014108797067, 0.857351086468875, 0.13471003699802223, 0.019244290999717462, 0.8082602219881334, 0.019244290999717462, 0.021404730739559712, 0.09275383320475875, 0.010702365369779856, 0.3424756918329554, 0.1837239388478875, 0.1997774869025573, 0.14983311517691797, 0.14910340155723756, 0.1007241063711126, 0.013482754396133183, 0.38386194868990947, 0.1617930527535982, 0.08248273277634419, 0.10865513836883801, 0.8265460310196703, 0.881413892332697, 0.31198627054092015, 0.6239725410818403, 0.9213097956282188, 0.6526861215842491, 0.11503652129249561, 0.3451095638774868, 0.46014608516998246, 0.05777221432742517, 0.837697107747665, 0.014443053581856293, 0.05777221432742517, 0.014443053581856293, 0.014443053581856293, 0.9014151657087262, 0.8165789271614232, 0.1020723658951779, 0.3483383517954894, 0.1741691758977447, 0.1741691758977447, 0.1741691758977447, 0.6526433842673299, 0.03634973100573126, 0.6770137399817447, 0.09996176026576097, 0.06815574563574611, 0.0636120292600297, 0.05452459650859689, 0.06870794608764404, 0.11069613536342651, 0.005725662173970337, 0.1851297436250409, 0.1545928786971991, 0.30727720333640807, 0.16986131116112, 0.8509185654561954, 0.0773562332232905, 0.7545920633823259, 0.020960890649509054, 0.020960890649509054, 0.06288267194852716, 0.06288267194852716, 0.08384356259803621, 0.8985891755750008, 0.03456112213750003, 0.03456112213750003, 0.9107223989373643, 0.06139701565869872, 0.010232835943116454, 0.9535520706031418, 0.033263444323365414, 0.011087814774455139, 0.8729454243885865, 0.6062451899413692, 0.07684798182355385, 0.12807996970592309, 0.12807996970592309, 0.00853866464706154, 0.05123198788236923, 0.9538038929649293, 0.13073147077801253, 0.09545472469505677, 0.014525718975334724, 0.2863641740851703, 0.3340915364326987, 0.08300410843048414, 0.053952670479814696, 0.9381085004236427, 0.028427530315867963, 0.31392002565467964, 0.31392002565467964, 0.9042027932187803, 0.8796239202856704, 0.8595693075018128, 0.3142686270970065, 0.02618905225808387, 0.03928357838712581, 0.6023482019359291, 0.013094526129041936, 0.7025446225677288, 0.025090879377418884, 0.025090879377418884, 0.12545439688709442, 0.07527263813225665, 0.025090879377418884, 0.12244423501496411, 0.09039507282983929, 0.013148374229794804, 0.2892642330554857, 0.2161264014022521, 0.09203861960856363, 0.17750305210222986, 0.8419458833212785, 0.9394631730591501, 0.036133198963813465, 0.036133198963813465, 0.01989891860990729, 0.08954513374458281, 0.009949459304953645, 0.06964621513467552, 0.5372708024674968, 0.11939351165944374, 0.13929243026935104, 0.6638414261878444, 0.04631451810612868, 0.030876345404085785, 0.07719086351021447, 0.13894355431838604, 0.030876345404085785, 0.09405806811728505, 0.09914228801551668, 0.010676861786286412, 0.3986028400213594, 0.1896414022040396, 0.10473492990357147, 0.10320966393410198, 0.10031864409223938, 0.10031864409223938, 0.7022305086456756, 0.06353011326886276, 0.09529516990329415, 0.24353210086397392, 0.07411846548033989, 0.08470681769181701, 0.44471079288203935, 0.18406449907191427, 0.0752991132566922, 0.1505982265133844, 0.14223165837375193, 0.38486213442309347, 0.06693254511705973, 0.9410225263234309, 0.03360794736869396, 0.11511361383381476, 0.10560882003102272, 0.012673058403722726, 0.39497698691602495, 0.1705582443501017, 0.11775383433459033, 0.08343096782450794, 0.07134756162800072, 0.17327264966800174, 0.010192508804000102, 0.010192508804000102, 0.7338606338880074, 0.09935579512167307, 0.09935579512167307, 0.008491948300997698, 0.27174234563192634, 0.30571013883591713, 0.11294291240326938, 0.10275257444207216, 0.23110731698543657, 0.07739407824628573, 0.008599342027365082, 0.26657960284831755, 0.12576537715021432, 0.12039078838311115, 0.16983700504046037, 0.8728754285446315, 0.09496440424297307, 0.02374110106074327, 0.1661877074252029, 0.02374110106074327, 0.49856312227560867, 0.18992880848594615, 0.6516228122702663, 0.020363212883445822, 0.20363212883445822, 0.040726425766891644, 0.061089638650337466, 0.05020047900018122, 0.6164618821222254, 0.002008019160007249, 0.16666559028060166, 0.1024089771603697, 0.026104249080094236, 0.036144344880130484, 0.4259032127589932, 0.4259032127589932, 0.7580572047096098, 0.1031028197383611, 0.10202883203275318, 0.007517913939255497, 0.46718465193944875, 0.1600241681355813, 0.06443926233647569, 0.09665889350471354, 0.4667681710348428, 0.8035264387906814, 0.8643644094312188, 0.28015540372501185, 0.0659189185235322, 0.07415878333897372, 0.12359797223162286, 0.0329594592617661, 0.2059966203860381, 0.22247635001692115, 0.025910524585783783, 0.025910524585783783, 0.025910524585783783, 0.362747344200973, 0.5700315408872433, 0.8342580700954773, 0.04390831947870933, 0.065862479218064, 0.021954159739354665, 0.021954159739354665, 0.11164543052761405, 0.10677615941426018, 0.0107819574652836, 0.4198007309870099, 0.1895537683412762, 0.07130004130268187, 0.09008151559704686, 0.10182984913166923, 0.0804940712183671, 0.008728272782714505, 0.27833492095989587, 0.17747487991519495, 0.1794144960891315, 0.17262583948035357, 0.10887114869110812, 0.05443557434555406, 0.7620980408377568, 0.3703987468186873, 0.07850843003222176, 0.006039110002478597, 0.16104293339942924, 0.1469516767269792, 0.15500382339695065, 0.08052146669971462, 0.059878088668387196, 0.059878088668387196, 0.8382932413574208, 0.06597079775218748, 0.13938991137962192, 0.0117044963753881, 0.3458146656364666, 0.12662136987919856, 0.1479022723799042, 0.16279890413039813, 0.10881081884833906, 0.0890270336031865, 0.008478765105065381, 0.5581853694168043, 0.16533591954877494, 0.033915060420261524, 0.03815444297279422, 0.8432089214870722, 0.049600524793357186, 0.049600524793357186, 0.7568655647047012, 0.051287350670614865, 0.10257470134122973, 0.00854789177843581, 0.16240994379028043, 0.49577772314927704, 0.059835242449050675, 0.11967048489810135, 0.9171113465082451, 0.03584771875379022, 0.11778536161959643, 0.025605513395564442, 0.6964699643593528, 0.092179848224032, 0.030726616074677332, 0.005121102679112888, 0.13633559199787149, 0.09506643982554283, 0.020634576086164334, 0.4237457589123033, 0.1400203377275437, 0.11791186334951048, 0.06632542313409964, 0.1210700988086363, 0.05734899417251193, 0.009558165695418655, 0.11788404357683008, 0.23258203192185395, 0.3122334127170094, 0.1433724854312798, 0.9387663358551824, 0.05632598015131095, 0.07701289262888816, 0.0952373176021365, 0.01646077094357915, 0.45796216303743414, 0.23515387062255927, 0.06878250715709859, 0.04997019750729385, 0.12910277249344723, 0.7746166349606834, 0.12100486469154789, 0.1403201952056917, 0.009657665257071898, 0.37210416137541724, 0.1755422684961892, 0.1016895341774041, 0.08010181183806692, 0.12116177229040881, 0.03634853168712264, 0.00302904430726022, 0.5209956208487578, 0.17114100336020244, 0.08178419629602594, 0.06512445260609473, 0.014453186383696543, 0.14453186383696545, 0.0072265931918482715, 0.3107435072494757, 0.13369197404919303, 0.08310582170625513, 0.30713021065355156, 0.031457171712518675, 0.06920577776754108, 0.006291434342503735, 0.13212012119257843, 0.03774860605502241, 0.2705316767276606, 0.45298327266026894, 0.9347969411572447, 0.06807685814641128, 0.4445625130470191, 0.007220272833710286, 0.25889835446589743, 0.13409078119747675, 0.04538457209760752, 0.04229016945458882, 0.013386887088862057, 0.20972789772550557, 0.14725575797748264, 0.2543508546883791, 0.07585902683688499, 0.30343610734753995, 0.8829596017512152, 0.04816674707193607, 0.44461612681787144, 0.011115403170446786, 0.22971833218923357, 0.18525671950744643, 0.051871881462085, 0.03334620951134036, 0.09309029938727137, 0.023272574846817842, 0.08533277443833209, 0.023272574846817842, 0.2094531736213606, 0.5662993212725675, 0.0937159348215568, 0.09543025070243893, 0.015428842927939229, 0.4468650062832769, 0.21486092373722776, 0.0845729167901854, 0.04914372191862124, 0.15074316339240143, 0.05024772113080048, 0.2512386056540024, 0.4522294901772043, 0.05024772113080048, 0.17351624716044697, 0.13013718537033522, 0.00413133921810588, 0.14253120302465289, 0.06610142748969408, 0.29125941487646456, 0.19417294325097637, 0.019264217934184927, 0.12329099477878354, 0.03467559228153287, 0.6241606610675917, 0.16952511782082735, 0.023117061521021914, 0.0038528435868369856, 0.07361284096798207, 0.08588164779597908, 0.012268806827997013, 0.6686499721258372, 0.05520963072598656, 0.04907522731198805, 0.05520963072598656, 0.13779201057973742, 0.09868887244224436, 0.01303437937916435, 0.38544521878386007, 0.2830322379475687, 0.05834436484006899, 0.02358601982896406, 0.9231695541297184, 0.026376272975134812, 0.026376272975134812, 0.010575207227519345, 0.07931405420639509, 0.0052876036137596725, 0.0581636397513564, 0.2273669553916659, 0.1480529011852708, 0.48117192885213017, 0.7583881195419391, 0.12026988925911489, 0.030067472314778722, 0.030067472314778722, 0.02255060423608404, 0.3081915912264819, 0.4961132931938489, 0.8590084096420979, 0.8797592125730604, 0.10278710527549233, 0.8222968422039386, 0.17912069540406841, 0.08956034770203421, 0.007341012106724116, 0.2349123874151717, 0.20554833898827524, 0.10277416949413762, 0.18058889782541326, 0.03660853053317921, 0.8053876717299426, 0.10982559159953763, 0.7265928608904045, 0.6649563656365873, 0.22165212187886243, 0.913460166992393, 0.04807685089433647, 0.024038425447168235, 0.5241209885405423, 0.0799506592688963, 0.008883406585432923, 0.09771747243976214, 0.13325109878149383, 0.13325109878149383, 0.017766813170865845, 0.08772324577486562, 0.06822919115822881, 0.006498018205545602, 0.6433038023490145, 0.05848216384991042, 0.08447423667209282, 0.051984145644364814, 0.07126106727439711, 0.8551328072927654, 0.1668673357353734, 0.08721050056951614, 0.011673846532927357, 0.4236919594597753, 0.14557973323415294, 0.10987149678049277, 0.05562244524512447, 0.7571323422863202, 0.16449148153732693, 0.10815878238070811, 0.018641002266372043, 0.37753150743872166, 0.19071179241749858, 0.09095170336559545, 0.04957277525782455, 0.4668238119408688, 0.9297488905710207, 0.035084863795132856, 0.017542431897566428, 0.8834695767059632, 0.025658474464723628, 0.10263389785889451, 0.06414618616180907, 0.11546313509125633, 0.6286326243857289, 0.012829237232361814, 0.025658474464723628, 0.6527463606810079, 0.015811502130349007, 0.06324600852139603, 0.7747636043871015, 0.04743450639104702, 0.07905751065174504, 0.10727464578935818, 0.08736801048824017, 0.013271090200745342, 0.4910303374275777, 0.18081860398515529, 0.09179170722182195, 0.028201066676583852, 0.596170678951935, 0.11514467190591901, 0.806012703341433, 0.1770176472513733, 0.04425441181284333, 0.04425441181284333, 0.5753073535669633, 0.1770176472513733, 0.08926734431032306, 0.11467921604829823, 0.007167451003018639, 0.3101551524942611, 0.23522271018997534, 0.12901411805433552, 0.11467921604829823, 0.02085009601106517, 0.06255028803319551, 0.08340038404426069, 0.729753360387281, 0.08340038404426069, 0.05396865828293953, 0.09199203116410147, 0.01962496664834165, 0.479585122468849, 0.2342730393645784, 0.07236706451575982, 0.04783585620533277, 0.2731168185657202, 0.5462336371314404, 0.802979144411741, 0.033457464350489206, 0.06691492870097841, 0.06691492870097841, 0.013970021378271455, 0.11176017102617164, 0.29337044894370057, 0.5588008551308582, 0.013970021378271455, 0.013970021378271455, 0.08242775942909254, 0.13632283290196073, 0.01585149219790241, 0.5294398394099405, 0.13632283290196073, 0.05548022269265844, 0.044384178154126756, 0.18492643189763244, 0.014225110145971727, 0.11380088116777382, 0.07112555072985864, 0.11380088116777382, 0.4978788551090104, 0.0995468822255659, 0.7963750578045272, 0.8044211178859938, 0.11818473865450148, 0.11578910206015347, 0.011978182971740015, 0.3907549467225409, 0.18180219932663177, 0.09342982717957211, 0.08810619030324322, 0.13840715493094666, 0.13840715493094666, 0.38754003380665064, 0.2768143098618933, 0.02768143098618933, 0.02768143098618933, 0.07655697406472022, 0.39750736533604725, 0.008833497007467717, 0.2561714132165638, 0.18550343715682205, 0.055945481047295534, 0.02061149301742467, 0.08158301836926854, 0.10067691628548033, 0.009546948958105893, 0.41832994525518546, 0.17184508124590606, 0.08592254062295303, 0.1319214765120087, 0.00955026008145017, 0.07640208065160135, 0.035017620298650624, 0.6366840054300112, 0.14962074127605265, 0.015917100135750283, 0.07640208065160135, 0.12132850116268472, 0.12132850116268472, 0.014727737135354791, 0.38923305286294807, 0.21250020723869056, 0.07363868567677395, 0.0666254775170812, 0.8858603199304377, 0.8999647123433118, 0.8807132534608434, 0.8345957603348909, 0.17345163703429547, 0.1307770279226831, 0.0048181010287304295, 0.3372670720111301, 0.1851527395326408, 0.08534921822322476, 0.08328431778234029, 0.09863553135565803, 0.08843185569817616, 0.01700612609580311, 0.3690329362789274, 0.22022933294065025, 0.11309073853709066, 0.09438399983170724, 0.884443932357568, 0.07906097827090978, 0.07088225638081568, 0.010904962520125487, 0.5752367729366195, 0.16630067843191368, 0.05179857197059606, 0.04907233134056469, 0.8777878027048635, 0.9296881944698724, 0.0295139109355515, 0.0295139109355515, 0.08099136088482049, 0.09448992103229056, 0.6749280073735041, 0.013498560147470081, 0.13498560147470082, 0.46578188896010575, 0.061510088299866386, 0.9123996431146847, 0.010251681383311064, 0.010251681383311064, 0.8957678276400729, 0.16525713700869082, 0.09369489464332025, 0.008853060911179865, 0.284773459309619, 0.2021448908052736, 0.13205815859176634, 0.11361428169347494, 0.08090344946603514, 0.14868742064028082, 0.014212768149438608, 0.5258724215292284, 0.1935123048038949, 0.01202618843414036, 0.025145666725929845, 0.013393404719066287, 0.750030664267712, 0.16072085662879543, 0.026786809438132574, 0.013393404719066287, 0.04018021415719886, 0.03169803022765476, 0.25992384786676903, 0.010143369672849522, 0.2890860356762114, 0.27894266600336187, 0.05325269078245999, 0.07607527254637142, 0.05509212930399842, 0.06886516162999802, 0.13773032325999604, 0.6335594869959819, 0.02754606465199921, 0.06886516162999802, 0.31769640486005757, 0.31769640486005757, 0.03797781338553713, 0.2531854225702475, 0.012659271128512376, 0.02531854225702475, 0.6836006409396683, 0.12680661019278378, 0.1775292542698973, 0.6593943730024757, 0.11853428955096673, 0.12008375738823426, 0.010071540942239002, 0.40518583944546144, 0.19755714925161122, 0.07902285970064449, 0.06972605267703925, 0.11586331128084898, 0.09811006197168663, 0.012146960053637393, 0.4036528263977964, 0.15136980989917367, 0.15136980989917367, 0.0672754710662994, 0.1009488132716979, 0.0672992088477986, 0.0033649604423899295, 0.013459841769559718, 0.383605490432452, 0.430714936625911, 0.9654777849950592, 0.02627150435360705, 0.33448168049353205, 0.33448168049353205, 0.22298778699568803, 0.14739254224809076, 0.09856685537501722, 0.011596100632354967, 0.3014986164412291, 0.23283749427596945, 0.12572614369816437, 0.0820881860553549, 0.2438113004400089, 0.06649399102909334, 0.642775246614569, 0.044329327352728896, 0.13806701548899444, 0.09232964503288792, 0.014960822111810542, 0.40009512847584766, 0.19876520805691147, 0.08848257648985092, 0.06753742553331617, 0.13129721214367887, 0.10140365045025199, 0.011722965369971328, 0.3886163020145495, 0.17584448054956991, 0.0855776472007907, 0.10492054006124338, 0.15576310333682028, 0.11193365867494444, 0.004382944466187583, 0.37659607451781, 0.1979068001270855, 0.0819273465602756, 0.07181285933061195, 0.13507566983040922, 0.08683435917669165, 0.057889572784461094, 0.6850266112827896, 0.009648262130743516, 0.019296524261487032, 0.9464675042830586, 0.19499405563312222, 0.02888800824194403, 0.021666006181458024, 0.3972101133267304, 0.3538781009638144, 0.6527643671323173, 0.10348633577926569, 0.8278906862341255, 0.23352980077518035, 0.07909880348836754, 0.011299829069766792, 0.22976319108525808, 0.26742928798448073, 0.12304258320412728, 0.05524360878552653, 0.14322978418836327, 0.10808368938752477, 0.011337449935754347, 0.4293114375672313, 0.14171812419692933, 0.08994376949031782, 0.0763388295674126, 0.05254098590960831, 0.840655774553733, 0.05254098590960831, 0.045377358940775145, 0.07260377430524023, 0.3872201296279479, 0.045377358940775145, 0.3872201296279479, 0.06655345977980354, 0.8006244347005591, 0.11437491924293701, 0.10070034706535241, 0.11868255189845106, 0.003596440966619729, 0.11508611093183133, 0.15105052059802862, 0.21938289896380347, 0.29490815926281777, 0.022661659837593634, 0.11897371414736657, 0.004249061219548806, 0.1274718365864642, 0.17846057122104986, 0.31159782276691245, 0.23653107455488354, 0.963681556930014, 0.020949599063695958, 0.0946809612178312, 0.10651608137006009, 0.014054205180771818, 0.46822694102255585, 0.19601917752129117, 0.07618858597997355, 0.04438170057085838, 0.8997471721177437, 0.11249319939304314, 0.10145092215200824, 0.008971850258340864, 0.39752198067725675, 0.20980326757966328, 0.07936636766993842, 0.09040864491097332, 0.129980663680454, 0.10224335694490541, 0.013969884414254402, 0.38690505964695887, 0.23971511806488713, 0.07126665672199348, 0.056081999749977816, 0.7615047496821278, 0.4655261473248814, 0.1215890330986865, 0.0936833533711191, 0.013952839863783697, 0.46742013543675387, 0.18338018106687146, 0.06577767364355172, 0.053818096617451405, 0.03046119724808078, 0.03046119724808078, 0.8833747201943427, 0.03046119724808078, 0.10559915019388473, 0.5279957509694236, 0.21119830038776946, 0.11328454828516919, 0.13204504672729914, 0.011544922118233804, 0.4199465420507546, 0.19626367600997466, 0.05916772585594825, 0.06854797507701321, 0.6527373608295315, 0.07098300713280062, 0.03549150356640031, 0.03549150356640031, 0.10647451069920091, 0.03549150356640031, 0.6743385677616058, 0.05066711091065068, 0.03800033318298801, 0.15833472159578338, 0.05066711091065068, 0.2533355545532534, 0.44333722046819346, 0.9431784622689171, 0.14744992574039226, 0.01638332508226581, 0.7863996039487587, 0.03276665016453162, 0.01638332508226581, 0.08175730028113257, 0.011679614325876081, 0.7591749311819452, 0.1284757575846369, 0.011679614325876081, 0.03799799291952153, 0.018998996459760765, 0.8549548406892344, 0.03799799291952153, 0.018998996459760765, 0.021570136065857826, 0.8196651705025974, 0.10785068032928913, 0.021570136065857826, 0.08510803373969347, 0.8510803373969347, 0.1797208623730541, 0.09550880114682304, 0.011296739920591973, 0.299877096073896, 0.19461201954110716, 0.12066972187905062, 0.0985897302160754, 0.3229263277904508, 0.059801171813046436, 0.04186082026913251, 0.1614631638952254, 0.33488656215306006, 0.08372164053826502, 0.8058760696616021, 0.07671853868328483, 0.7671853868328484, 0.07671853868328483, 0.10258836153405762, 0.06155301692043457, 0.020517672306811525, 0.5539771522839111, 0.24621206768173828, 0.4671732595143237, 0.035589274974275976, 0.08541425993826234, 0.0071178549948551955, 0.10676782492282792, 0.6572152778582964, 0.061688076622078356, 0.047452366632367966, 0.06821655857226273, 0.13643311714452547, 0.7503821442948901, 0.08710657129123232, 0.017421314258246466, 0.0522639427747394, 0.03484262851649293, 0.22647708535720407, 0.5923246847803798, 0.9112094777381594, 0.014696927060292894, 0.02939385412058579, 0.014696927060292894, 0.014696927060292894, 0.24155947395001384, 0.6763665270600387, 0.15401681468243403, 0.12924019666830333, 0.006696383247062348, 0.33883699230135483, 0.19754330578833929, 0.10647249362829134, 0.06696383247062349, 0.9196052598626632, 0.07077807051793969, 0.011796345086323283, 0.7549660855246901, 0.10616710577690955, 0.035389035258969845, 0.011796345086323283, 0.8735170505869315, 0.8793926086507577, 0.08294061456530466, 0.8294061456530466, 0.9202103834387542, 0.06390349884991349, 0.012780699769982697, 0.13275767983291278, 0.05689614849981977, 0.009482691416636628, 0.18017113691609593, 0.1422403712495494, 0.4741345708318314, 0.009482691416636628, 0.07887852057708038, 0.8676637263478841, 0.8040751661418898, 0.029645049529492165, 0.029645049529492165, 0.05929009905898433, 0.014822524764746083, 0.32609554482441383, 0.5632559410603512, 0.03620602241941812, 0.03620602241941812, 0.01810301120970906, 0.05430903362912718, 0.23533914572621778, 0.615502381130108, 0.03177580599527671, 0.12710322398110685, 0.8261709558771945, 0.06743792754464087, 0.07707191719387528, 0.01926797929846882, 0.703281244394112, 0.10597388614157852, 0.00963398964923441, 0.01926797929846882, 0.9478472090528435, 0.09133068147705434, 0.18266136295410867, 0.6393147703393803, 0.10032378696155932, 0.7022665087309151, 0.10032378696155932, 0.05482339859403629, 0.13705849648509072, 0.027411699297018144, 0.16447019578210886, 0.575645685237381, 0.12160114864035111, 0.10820441192573615, 0.012366218505798419, 0.3338878996565573, 0.24732437011596836, 0.10717389371691963, 0.07110575640834091, 0.9426194642189046, 0.7424571441316363, 0.12374285735527273, 0.5950805173131395, 0.8418276361404963, 0.0935364040156107, 0.8855483608922812, 0.12111098708221725, 0.08820039276639734, 0.005265695090531185, 0.18956502325912264, 0.43705269251408835, 0.10399747803799089, 0.05397337467794464, 0.010936058702313208, 0.8092683439711774, 0.010936058702313208, 0.10936058702313209, 0.04374423480925283, 0.010936058702313208, 0.3414254860795315, 0.0682850972159063, 0.0020692453701789786, 0.07863132406680119, 0.16553962961431828, 0.3021098240461309, 0.039315662033400596, 0.9315631883993228, 0.09026518390107453, 0.07260460444216865, 0.003924573213090197, 0.18053036780214907, 0.1452092088843373, 0.20211552047414516, 0.3041544240144903, 0.01314035141614316, 0.11826316274528843, 0.02628070283228632, 0.11826316274528843, 0.657017570807158, 0.02628070283228632, 0.0657017570807158, 0.8241170428056259, 0.030765698793656277, 0.5161800575380109, 0.0068368219541458395, 0.17775737080779183, 0.12989961712877096, 0.04443934270194796, 0.09229709638096883, 0.005897046618123121, 0.08845569927184681, 0.0294852330906156, 0.19460253839806296, 0.6427780813754201, 0.03538227970873872, 0.03541644487699855, 0.8854111219249637, 0.03541644487699855, 0.027779345121463274, 0.05555869024292655, 0.9167183890082881, 0.09302429151540975, 0.06976821863655731, 0.6511700406078683, 0.16279251015196708, 0.024360555237623767, 0.06090138809405942, 0.024360555237623767, 0.1583436090445545, 0.6942758242722774, 0.024360555237623767, 0.03655903058886338, 0.13823883441413964, 0.02284939411803961, 0.48669209471424374, 0.19193491059153275, 0.03998643970656932, 0.0834002885308446, 0.4977892236494488, 0.0916980148827932, 0.0130997164118276, 0.24452803968744855, 0.11353087556917253, 0.030566004960931068, 0.0130997164118276, 0.09787280168961038, 0.2283698706090909, 0.010124772588580385, 0.27561880935579935, 0.14737168990044783, 0.12599716999122257, 0.1136224479385132, 0.9105791669636287, 0.8858275151174514, 0.04838510182051347, 0.0725776527307702, 0.006048137727564184, 0.23285330251122105, 0.5866693595737258, 0.024192550910256735, 0.030240688637820916, 0.9149669073656314, 0.03182454217552607, 0.5522494083400112, 0.005616095678034012, 0.20779554008725845, 0.1347862962728163, 0.03931266974623809, 0.028080478390170062, 0.8727908965158063, 0.8045483678324018, 0.9355465666557271, 0.8893778992982941, 0.05929185995321961, 0.8565571461558684, 0.10520824889457324, 0.8592006993056814, 0.01753470814909554, 0.31937719623763544, 0.31937719623763544, 0.652694239507939, 0.11758044956610955, 0.021378263557474464, 0.7589283562903435, 0.09620218600863509, 0.18812325802164442, 0.7901176836909066, 0.01972950931943432, 0.13810656523604023, 0.03945901863886864, 0.7891803727773726, 0.02202325896910756, 0.08075194955339438, 0.0073410863230358525, 0.014682172646071705, 0.3743954024748285, 0.499193869966438, 0.8565336774203279, 0.961509936865371, 0.018490575708949443, 0.018490575708949443, 0.9250262375381589, 0.04625131187690795, 0.1271409960682654, 0.7628459764095923, 0.16643289867666874, 0.09420730113773702, 0.0031402433712579008, 0.2810517817275821, 0.11461888305091338, 0.18527435890421615, 0.15387192519163714, 0.12073126148983507, 0.024146252297967016, 0.07243875689390104, 0.024146252297967016, 0.07243875689390104, 0.7002413166410434, 0.13326147630473822, 0.10042340477978841, 0.011836979270621448, 0.36541900522531373, 0.18175490751018739, 0.10195075694373956, 0.10576913735361745, 0.11137202291104246, 0.10670373452554967, 0.022007645245894616, 0.3928031227221797, 0.20006950223540562, 0.0726919191455307, 0.09403266605064065], \"Term\": [\"0.10\", \"0.10\", \"0.15\", \"1-1/2to\", \"1-1/4\", \"1-1/4\", \"1-1/4\", \"1-1/4\", \"1-3/4percent\", \"1/2\", \"1/2\", \"1/2\", \"1/2\", \"1/4percent\", \"1/4percent\", \"2-1/4to\", \"2.75\", \"2007\", \"2007\", \"2007\", \"2015\", \"2015\", \"2015\", \"2015\", \"2016\", \"2016\", \"2016\", \"2016\", \"2016\", \"2016\", \"2017\", \"2017\", \"2017\", \"2017\", \"2017\", \"2017\", \"2017\", \"2018\", \"2018\", \"2018\", \"2018\", \"2018\", \"2018\", \"2018\", \"2019\", \"2019\", \"2019\", \"2019\", \"2019\", \"2019\", \"2019\", \"2020\", \"2020\", \"2020\", \"2020\", \"2020\", \"2020\", \"2020\", \"2021\", \"2021\", \"2021\", \"2021\", \"2021\", \"2021\", \"2022\", \"2022\", \"2022\", \"2022\", \"2022\", \"2022\", \"2023\", \"2023\", \"2023\", \"2023\", \"2023\", \"2024\", \"2024\", \"2024\", \"2024\", \"2024\", \"2025\", \"2025\", \"2025\", \"27\\u201328\", \"29\\u201330\", \"3.00\", \"31-November\", \"3\\u2011year\\u2011ahead\", \"ARP\", \"ARP\", \"AUTHORIZATION\", \"Addendum\", \"Addendum\", \"Aid\", \"Alvarez\", \"Alvarez\", \"Any\", \"Any\", \"Any\", \"Article\", \"Article\", \"August\", \"August\", \"August\", \"August\", \"August\", \"August\", \"August\", \"Austan\", \"Authorization\", \"Authorization\", \"Authorization\", \"Authorization\", \"Authorization\", \"Balance\", \"Balance\", \"Balance\", \"Balance\", \"Bank\", \"Bank\", \"Bank\", \"Bank\", \"Bank\", \"Bank\", \"Bank\", \"Barr\", \"Baum\", \"Berger,2\", \"Board\", \"Board\", \"Board\", \"Board\", \"Board\", \"Board\", \"Board\", \"Bottlenecks\", \"Brent\", \"CARES\", \"COVID-19\", \"COVID-19\", \"COVID-19\", \"COVID-19\", \"COVID-19\", \"CURRENCY\", \"CURRENCY\", \"Chairman\", \"Chairman\", \"Chairman\", \"Chairman\", \"Collins\", \"Committee\", \"Committee\", \"Committee\", \"Committee\", \"Committee\", \"Committee\", \"Committee\", \"Cook\", \"Coronavirus\", \"Currency\", \"Currency\", \"Currency\", \"Currency\", \"Currency\", \"Currency\", \"Customer\", \"Customer\", \"Daleep\", \"December\", \"December\", \"December\", \"December\", \"December\", \"December\", \"December\", \"Delta\", \"Delta\", \"Dennis\", \"Dennis\", \"Dennis\", \"Directive\", \"Directive\", \"Division\", \"Division\", \"Division\", \"Division\", \"Division\", \"Division\", \"Division\", \"Dudley\", \"Dudley\", \"Dudley\", \"Dudley\", \"EFFR\", \"EFFR\", \"EFFR\", \"EFFR\", \"ELB\", \"ELB\", \"ELB\", \"ELB\", \"EPOP\", \"Eligible\", \"Eligible\", \"FIMA\", \"FIMA\", \"FIMA\", \"FIMA\", \"FIMA\", \"FOR\", \"FOREIGN\", \"FOREIGN\", \"Federal\", \"Federal\", \"Federal\", \"Federal\", \"Federal\", \"Federal\", \"Federal\", \"Fischer\", \"Fischer\", \"Fischer\", \"Fischer\", \"Florence\", \"Foreign\", \"Foreign\", \"Foreign\", \"Foreign\", \"Foreign\", \"Foreign\", \"Foreign\", \"Gasoline\", \"Goolsbee\", \"Governors\", \"Governors\", \"Governors\", \"Governors\", \"Governors\", \"Governors\", \"Governors\", \"Greece\", \"Greece\", \"Greek\", \"Gulf\", \"Harvey\", \"Head\", \"His\", \"Holcomb\", \"Housing-sector\", \"Hurricane\", \"Hurricane\", \"Hurricane\", \"Hurricane\", \"Hurricanes\", \"Hurricanes\", \"IMF\", \"IMF\", \"IOER\", \"IOER\", \"IOER\", \"IOER\", \"Ida\", \"Important\", \"Irma\", \"Janet\", \"Janet\", \"Janet\", \"Janet\", \"January\", \"January\", \"January\", \"January\", \"January\", \"January\", \"Jefferson\", \"July\", \"July\", \"July\", \"July\", \"July\", \"July\", \"July\", \"June\", \"June\", \"June\", \"June\", \"June\", \"June\", \"June\", \"Keeping\", \"Key\", \"Last\", \"Liquidity\", \"Liquidity\", \"Liquidity\", \"Lisa\", \"Lisa\", \"Lisa\", \"Listens\", \"Lockhart\", \"Lockhart\", \"Lockhart\", \"MEP\", \"MMMFs\", \"Madigan\", \"Madigan\", \"Madigan\", \"Maria\", \"Maria\", \"Market\", \"Market\", \"Market\", \"Market\", \"Market\", \"Market\", \"Market\", \"Mutual\", \"Neal\", \"OBFR\", \"OBFR\", \"OMOs\", \"OPERATIONS\", \"OPERATIONS\", \"Only\", \"Paper\", \"Participants\", \"Participants\", \"Participants\", \"Participants\", \"Participants\", \"Participants\", \"Participants\", \"Participation\", \"Permitted\", \"Philip\", \"Progress\", \"Progress\", \"Progress\", \"Puerto\", \"Pulse\", \"RMBS\", \"RRE\", \"Reducing\", \"Reducing\", \"Reducing\", \"Reinvestment\", \"Relative\", \"Relief\", \"Reserve\", \"Reserve\", \"Reserve\", \"Reserve\", \"Reserve\", \"Reserve\", \"Reserve\", \"Rico\", \"Risks\", \"Risks\", \"Risks\", \"Rules.4\", \"Russia\", \"Russia\", \"Russia\", \"Russia\", \"Russian\", \"Russian\", \"Russian\", \"Russian\", \"SRF\", \"SRF\", \"SRF\", \"Securities\", \"Securities\", \"Securities\", \"Securities\", \"Securities\", \"Securities\", \"Selected\", \"Selected\", \"Selected\", \"Selected\", \"September\", \"September\", \"September\", \"September\", \"September\", \"September\", \"September\", \"She\", \"Short-term\", \"Short-term\", \"Short-term\", \"Short-term\", \"Short-term\", \"Signature\", \"Silicon\", \"Singh\", \"Size\", \"Size\", \"Stabilization\", \"Stanley\", \"Stanley\", \"Stanley\", \"Stanley\", \"States\", \"States\", \"States\", \"States\", \"States\", \"States\", \"States\", \"Stephen\", \"Stephen\", \"Stephen\", \"Stephen\", \"Subcommittee\", \"Subcommittee\", \"Subcommittee\", \"Subcommittee\", \"Subject\", \"Subject\", \"System\", \"System\", \"System\", \"System\", \"System\", \"System\", \"System\", \"TRANSACTIONS\", \"Tarullo\", \"Tarullo\", \"Tarullo\", \"The\", \"The\", \"The\", \"The\", \"The\", \"The\", \"The\", \"Trailing\", \"Ukraine\", \"Ukraine\", \"Ukraine\", \"Undertake\", \"Undertake\", \"United\", \"United\", \"United\", \"United\", \"United\", \"United\", \"United\", \"Valley\", \"Weaker\", \"Weaker\", \"Weaker\", \"West\", \"Yellen\", \"Yellen\", \"Yellen\", \"Yellen\", \"accommodative\", \"accommodative\", \"accommodative\", \"accommodative\", \"accommodative\", \"accommodative\", \"accommodative\", \"activity\", \"activity\", \"activity\", \"activity\", \"activity\", \"activity\", \"activity\", \"adapting\", \"affirmed\", \"aftermath\", \"aftermath\", \"air\", \"already-tight\", \"alter\", \"alter\", \"alter\", \"alternate\", \"alternate\", \"alternate\", \"alternate\", \"alternate\", \"alternate\", \"aluminum\", \"ample-reserves\", \"ample-reserves\", \"apart\", \"apart\", \"apart\", \"apart\", \"appeal\", \"arrangement\", \"arrangement\", \"arrangement\", \"arrangement\", \"arrangement\", \"arrangement\", \"asset\", \"asset\", \"asset\", \"asset\", \"asset\", \"asset\", \"asset\", \"attain\", \"attain\", \"attentive\", \"attentive\", \"attentive\", \"attentive\", \"attentive\", \"attentive\", \"authorization\", \"authorization\", \"authorization\", \"authorized\", \"authorized\", \"authorized\", \"authorizes\", \"authorizes\", \"authorizes\", \"await\", \"banking\", \"banking\", \"banking\", \"banking\", \"banking\", \"banking\", \"banking-sector\", \"basis\", \"basis\", \"basis\", \"basis\", \"basis\", \"basis\", \"basis\", \"belief\", \"belief\", \"below-target\", \"below-target\", \"below-trend\", \"bid-ask\", \"bind\", \"bottleneck\", \"bottleneck\", \"bottleneck\", \"bottleneck\", \"bottleneck\", \"bring\", \"bring\", \"bring\", \"bring\", \"bring\", \"bring\", \"business\", \"business\", \"business\", \"business\", \"business\", \"business\", \"business\", \"caregiving\", \"carry\", \"carry\", \"carry\", \"composition\", \"composition\", \"composition\", \"composition\", \"composition\", \"composition\", \"composition\", \"concurred\", \"concurred\", \"concurred\", \"concurred\", \"concurred\", \"concurred\", \"condition\", \"condition\", \"condition\", \"condition\", \"condition\", \"condition\", \"condition\", \"congestion\", \"congestion\", \"congestion\", \"considerable\", \"considerable\", \"considerable\", \"considerable\", \"considerable\", \"considerable\", \"constraint\", \"constraint\", \"constraint\", \"constraint\", \"constraint\", \"constraint\", \"consultation\", \"consultation\", \"continued\", \"continued\", \"continued\", \"continued\", \"continued\", \"continued\", \"continued\", \"coronavirus\", \"coronavirus\", \"coronavirus\", \"coronavirus\", \"coronavirus\", \"could\", \"could\", \"could\", \"could\", \"could\", \"could\", \"could\", \"credit\", \"credit\", \"credit\", \"credit\", \"credit\", \"credit\", \"credit\", \"creditor\", \"criterion\", \"criterion\", \"criterion\", \"criterion\", \"criterion\", \"criterion\", \"cumulative\", \"cumulative\", \"cumulative\", \"cumulative\", \"cumulative\", \"currency\", \"currency\", \"currency\", \"currency\", \"currency\", \"currency\", \"currency\", \"current-coupon\", \"current-coupon\", \"cutting\", \"decline\", \"decline\", \"decline\", \"decline\", \"decline\", \"decline\", \"decline\", \"devastated\", \"developer\", \"digital\", \"disruption\", \"disruption\", \"disruption\", \"disruption\", \"disruption\", \"disruption\", \"disruption\", \"distancing\", \"distancing\", \"distancing\", \"distancing\", \"distancing\", \"drawing\", \"drawing\", \"drawing\", \"drawing\", \"drawing\", \"economic\", \"economic\", \"economic\", \"economic\", \"economic\", \"economic\", \"economic\", \"economy\", \"economy\", \"economy\", \"economy\", \"economy\", \"economy\", \"economy\", \"efficient\", \"efficient\", \"efficient\", \"elevated\", \"elevated\", \"elevated\", \"elevated\", \"elevated\", \"elevated\", \"elevated\", \"emergency\", \"emergency\", \"emergency\", \"employment\", \"employment\", \"employment\", \"employment\", \"employment\", \"employment\", \"employment\", \"energy\", \"energy\", \"energy\", \"energy\", \"energy\", \"energy\", \"energy\", \"equilibrium\", \"equilibrium\", \"equilibrium\", \"equitable\", \"excess\", \"excess\", \"excess\", \"excess\", \"excess\", \"excess\", \"excess\", \"exit\", \"expand\", \"expand\", \"expand\", \"expand\", \"expand\", \"expand\", \"expand\", \"expected\", \"expected\", \"expected\", \"expected\", \"expected\", \"expected\", \"expected\", \"facility\", \"facility\", \"facility\", \"facility\", \"facility\", \"facility\", \"facility\", \"feasible\", \"feasible\", \"federal\", \"federal\", \"federal\", \"federal\", \"federal\", \"federal\", \"federal\", \"feedback\", \"feedback\", \"financial\", \"financial\", \"financial\", \"financial\", \"financial\", \"financial\", \"financial\", \"first\", \"first\", \"first\", \"first\", \"first\", \"first\", \"first\", \"fiscal\", \"fiscal\", \"fiscal\", \"fiscal\", \"fiscal\", \"fiscal\", \"fiscal\", \"flow\", \"flow\", \"flow\", \"flow\", \"flow\", \"flow\", \"flow\", \"follows\", \"foreign\", \"foreign\", \"foreign\", \"foreign\", \"foreign\", \"foreign\", \"foreign\", \"forward\", \"forward\", \"forward\", \"forward\", \"forward\", \"forward\", \"forward-guidance\", \"fourth\", \"fourth\", \"fourth\", \"fourth\", \"fourth\", \"fourth\", \"fourth\", \"functioning\", \"functioning\", \"functioning\", \"functioning\", \"functioning\", \"functioning\", \"fund\", \"fund\", \"fund\", \"fund\", \"fund\", \"fund\", \"fund\", \"gasoline\", \"gasoline\", \"gasoline\", \"gasoline\", \"gasoline\", \"goal\", \"goal\", \"goal\", \"goal\", \"goal\", \"goal\", \"goal\", \"gradual\", \"gradual\", \"gradual\", \"gradual\", \"gradual\", \"gradual\", \"gradual\", \"gradually\", \"gradually\", \"gradually\", \"gradually\", \"gradually\", \"gradually\", \"gradually\", \"growth\", \"growth\", \"growth\", \"growth\", \"growth\", \"growth\", \"growth\", \"guaranteed\", \"guaranteed\", \"guaranteed\", \"guidance\", \"guidance\", \"guidance\", \"guidance\", \"guidance\", \"guidance\", \"guidance\", \"handful\", \"health\", \"health\", \"health\", \"health\", \"health\", \"health\", \"higher-score\", \"historic\", \"hit\", \"hit\", \"household\", \"household\", \"household\", \"household\", \"household\", \"household\", \"household\", \"hurricane\", \"hurricane\", \"hurricane\", \"hurricane-affected\", \"hurricane-related\", \"hurricane-related\", \"iii\", \"iii\", \"iii\", \"imbalance\", \"imbalance\", \"imbalance\", \"imbalance\", \"imbalance\", \"imbalance\", \"imbalance\", \"import\", \"import\", \"import\", \"import\", \"import\", \"import\", \"import\", \"imported\", \"imported\", \"increase\", \"increase\", \"increase\", \"increase\", \"increase\", \"increase\", \"increase\", \"indebted\", \"inflation\", \"inflation\", \"inflation\", \"inflation\", \"inflation\", \"inflation\", \"inflation\", \"inflicting\", \"invasion\", \"invasion\", \"invasion\", \"inverted\", \"item\", \"item\", \"item\", \"item\", \"item\", \"item\", \"item\", \"judicial\", \"keeping\", \"keeping\", \"keeping\", \"keeping\", \"keeping\", \"labor\", \"labor\", \"labor\", \"labor\", \"labor\", \"labor\", \"labor\", \"landfall\", \"larger-than-usual\", \"larger-than-usual\", \"leisure\", \"leisure\", \"leisure\", \"leisure\", \"leisure\", \"level\", \"level\", \"level\", \"level\", \"level\", \"level\", \"level\", \"liability\", \"liability\", \"liability\", \"liability\", \"liability\", \"little\", \"little\", \"little\", \"little\", \"little\", \"little\", \"little\", \"lived\", \"lived\", \"lockdown\", \"lockdown\", \"lockdown\", \"lockdown\", \"long-run\", \"long-run\", \"long-run\", \"long-run\", \"long-run\", \"long-run\", \"longer-run\", \"longer-run\", \"longer-run\", \"longer-run\", \"longer-run\", \"longer-run\", \"longer-run\", \"loss\", \"loss\", \"loss\", \"loss\", \"loss\", \"loss\", \"lost\", \"lost\", \"manifest\", \"market\", \"market\", \"market\", \"market\", \"market\", \"market\", \"market\", \"materially\", \"materially\", \"materially\", \"materially\", \"materially\", \"materially\", \"may\", \"may\", \"may\", \"may\", \"may\", \"may\", \"may\", \"measure\", \"measure\", \"measure\", \"measure\", \"measure\", \"measure\", \"measure\", \"medium\", \"medium\", \"medium\", \"medium\", \"medium\", \"medium\", \"medium\", \"meeting\", \"meeting\", \"meeting\", \"meeting\", \"meeting\", \"meeting\", \"meeting\", \"membership\", \"mid-September\", \"mid-sized\", \"midyear\", \"monetary\", \"monetary\", \"monetary\", \"monetary\", \"monetary\", \"monetary\", \"monetary\", \"month\", \"month\", \"month\", \"month\", \"month\", \"month\", \"month\", \"month-end\", \"mortgage-backed\", \"mortgage-backed\", \"mortgage-backed\", \"mortgage-backed\", \"mortgage-backed\", \"mortgage-backed\", \"mortgage-backed\", \"mortgage\\u2011backed\", \"must\", \"must\", \"must\", \"muted\", \"muted\", \"muted\", \"muted\", \"muted\", \"muting\", \"non-energy\", \"non-energy\", \"non-energy\", \"non-energy\", \"non-oil\", \"noted\", \"noted\", \"noted\", \"noted\", \"noted\", \"noted\", \"noted\", \"objective\", \"objective\", \"objective\", \"objective\", \"objective\", \"objective\", \"objective\", \"obligation\", \"obligation\", \"obligation\", \"obligation\", \"obligation\", \"obligation\", \"operation\", \"operation\", \"operation\", \"operation\", \"operation\", \"operation\", \"operation\", \"option\", \"option\", \"option\", \"option\", \"option\", \"option\", \"outage\", \"outage\", \"outbreak\", \"outbreak\", \"outbreak\", \"outbreak\", \"outbreak\", \"outcome-based\", \"outcome-based\", \"outcome-based\", \"outlook\", \"outlook\", \"outlook\", \"outlook\", \"outlook\", \"outlook\", \"outlook\", \"pace\", \"pace\", \"pace\", \"pace\", \"pace\", \"pace\", \"pace\", \"pandemic\", \"pandemic\", \"pandemic\", \"pandemic\", \"pandemic\", \"pandemic\", \"paragraph\", \"paragraph\", \"parameter\", \"parameter\", \"parameter\", \"participant\", \"participant\", \"participant\", \"participant\", \"participant\", \"participant\", \"participant\", \"patient\", \"patient\", \"patient\", \"patient\", \"percent\", \"percent\", \"percent\", \"percent\", \"percent\", \"percent\", \"percent\", \"period\", \"period\", \"period\", \"period\", \"period\", \"period\", \"period\", \"policy\", \"policy\", \"policy\", \"policy\", \"policy\", \"policy\", \"policy\", \"portfolio\", \"portfolio\", \"portfolio\", \"portfolio\", \"portfolio\", \"portfolio\", \"post-crisis\", \"pre-pandemic\", \"pre-pandemic\", \"pre-pandemic\", \"pre-pandemic\", \"pre-pandemic\", \"preparing\", \"prepayment\", \"prepayment\", \"pressure\", \"pressure\", \"pressure\", \"pressure\", \"pressure\", \"pressure\", \"pressure\", \"price\", \"price\", \"price\", \"price\", \"price\", \"price\", \"price\", \"probably\", \"probably\", \"probably\", \"progress\", \"progress\", \"progress\", \"progress\", \"progress\", \"progress\", \"proportional\", \"proportional\", \"public\", \"public\", \"public\", \"public\", \"public\", \"public\", \"public\", \"purchase\", \"purchase\", \"purchase\", \"purchase\", \"purchase\", \"purchase\", \"purchase\", \"pursuant\", \"pursuant\", \"quarter\", \"quarter\", \"quarter\", \"quarter\", \"quarter\", \"quarter\", \"quarter\", \"quarter-point\", \"range\", \"range\", \"range\", \"range\", \"range\", \"range\", \"range\", \"rate\", \"rate\", \"rate\", \"rate\", \"rate\", \"rate\", \"rate\", \"rate-sensitive\", \"re-center\", \"real\", \"real\", \"real\", \"real\", \"real\", \"real\", \"real\", \"reasonably\", \"reasonably\", \"reasonably\", \"reasonably\", \"rebuilding\", \"rebuilding\", \"rebuilding\", \"recent\", \"recent\", \"recent\", \"recent\", \"recent\", \"recent\", \"recent\", \"reconstruction\", \"recover\", \"recover\", \"recover\", \"recover\", \"recover\", \"recover\", \"recovery\", \"recovery\", \"recovery\", \"recovery\", \"recovery\", \"recovery\", \"referendum\", \"regime\", \"regime\", \"regime\", \"regime\", \"regime\", \"reinvesting\", \"reinvesting\", \"reinvesting\", \"reinvesting\", \"reinvesting\", \"reinvestment\", \"reinvestment\", \"reinvestment\", \"reinvestment\", \"reinvestment\", \"reinvestments\", \"reinvestments\", \"reinvestments\", \"reinvestments\", \"relief\", \"relief\", \"remained\", \"remained\", \"remained\", \"remained\", \"remained\", \"remained\", \"remained\", \"remarked\", \"remarked\", \"remarked\", \"remarked\", \"remarked\", \"remarked\", \"reopen\", \"reopened\", \"reopened\", \"reopened\", \"reopening\", \"reopening\", \"reopening\", \"reopening\", \"reopening\", \"requester\", \"reserve\", \"reserve\", \"reserve\", \"reserve\", \"reserve\", \"reserve\", \"reserve\", \"restaurant\", \"restaurant\", \"restaurant\", \"restriction\", \"restriction\", \"restriction\", \"restriction\", \"restriction\", \"restriction\", \"restrictive\", \"restrictive\", \"restrictive\", \"restrictive\", \"restrictive\", \"resurgence\", \"resurgence\", \"risk\", \"risk\", \"risk\", \"risk\", \"risk\", \"risk\", \"risk\", \"risked\", \"rolling\", \"rolling\", \"rolling\", \"rolling\", \"rolling\", \"rolling\", \"seasonality\", \"sector\\u2014which\", \"semiconductor\", \"semiconductor\", \"shall\", \"shall\", \"shall\", \"shortage\", \"shortage\", \"shortage\", \"shortage\", \"shortage\", \"shortage\", \"shortage\", \"skew\", \"skew\", \"smaller-than-usual\", \"smooth\", \"smooth\", \"smooth\", \"smooth\", \"smooth\", \"smooth\", \"social\", \"social\", \"social\", \"social\", \"social\", \"social\", \"social-distancing\", \"social-distancing\", \"social-distancing\", \"soft\", \"soft\", \"soft\", \"soft\", \"soft\", \"soft\", \"soft\", \"sound\", \"special\", \"special\", \"special\", \"spill\", \"spill\", \"spill\", \"spring\", \"spring\", \"spring\", \"spring\", \"spring\", \"staff\", \"staff\", \"staff\", \"staff\", \"staff\", \"staff\", \"staff\", \"standalone\", \"storm\", \"storm\", \"storm-related\", \"strategic\", \"strategic\", \"strengthens\", \"strong\", \"strong\", \"strong\", \"strong\", \"strong\", \"strong\", \"strong\", \"subject\", \"subject\", \"subject\", \"subject\", \"subject\", \"subject\", \"supply\", \"supply\", \"supply\", \"supply\", \"supply\", \"supply\", \"supply\", \"supply\\u2013demand\", \"support\", \"support\", \"support\", \"support\", \"support\", \"support\", \"support\", \"supportive\", \"supportive\", \"supportive\", \"supportive\", \"supportive\", \"supportive\", \"supportive\", \"sure\", \"swap\", \"swap\", \"swap\", \"swap\", \"swap\", \"swap\", \"swap\", \"symmetric\", \"symmetric\", \"symmetric\", \"symmetric\", \"symmetric\", \"symmetric\", \"tapering\", \"tapering\", \"tapering\", \"tariff\", \"tariff\", \"tariff\", \"technical\", \"technical\", \"technical\", \"technical\", \"tension\", \"tension\", \"tension\", \"tension\", \"tension\", \"tension\", \"term\", \"term\", \"term\", \"term\", \"term\", \"term\", \"term\", \"tightening\", \"tightening\", \"tightening\", \"tightening\", \"tightening\", \"tightening\", \"tightening\", \"time\", \"time\", \"time\", \"time\", \"time\", \"time\", \"time\", \"to1/4\", \"today\", \"trade\", \"trade\", \"trade\", \"trade\", \"trade\", \"trade\", \"trade\", \"tradeoff\", \"transaction\", \"transaction\", \"transaction\", \"transaction\", \"transaction\", \"transaction\", \"transaction\", \"triple-B-rated\", \"trouble\", \"unacceptably\", \"unanchored\", \"unanchored\", \"underpinning\", \"underutilization\", \"underutilization\", \"underutilization\", \"unintended\", \"unintended\", \"uptrend\", \"vaccination\", \"vaccination\", \"vaccination\", \"vaccination\", \"vaccine\", \"vaccine\", \"variant\", \"variant\", \"variant\", \"variant\", \"virus\", \"virus\", \"virus\", \"virus\", \"virus\", \"virus\", \"volume-weighted\", \"war\", \"war\", \"war\", \"warehousing\", \"warehousing\", \"weathered\", \"weathered\", \"well\", \"well\", \"well\", \"well\", \"well\", \"well\", \"well\", \"world\", \"world\", \"world\", \"world\", \"world\", \"world\", \"would\", \"would\", \"would\", \"would\", \"would\", \"would\", \"would\", \"year\", \"year\", \"year\", \"year\", \"year\", \"year\", \"year\"]}, \"R\": 30, \"lambda.step\": 0.01, \"plot.opts\": {\"xlab\": \"PC1\", \"ylab\": \"PC2\"}, \"topic.order\": [1, 2, 3, 4, 5, 6, 7]};\n",
       "\n",
       "function LDAvis_load_lib(url, callback){\n",
       "  var s = document.createElement('script');\n",
       "  s.src = url;\n",
       "  s.async = true;\n",
       "  s.onreadystatechange = s.onload = callback;\n",
       "  s.onerror = function(){console.warn(\"failed to load library \" + url);};\n",
       "  document.getElementsByTagName(\"head\")[0].appendChild(s);\n",
       "}\n",
       "\n",
       "if(typeof(LDAvis) !== \"undefined\"){\n",
       "   // already loaded: just create the visualization\n",
       "   !function(LDAvis){\n",
       "       new LDAvis(\"#\" + \"ldavis_el1411108254376322770726605\", ldavis_el1411108254376322770726605_data);\n",
       "   }(LDAvis);\n",
       "}else if(typeof define === \"function\" && define.amd){\n",
       "   // require.js is available: use it to load d3/LDAvis\n",
       "   require.config({paths: {d3: \"https://d3js.org/d3.v5\"}});\n",
       "   require([\"d3\"], function(d3){\n",
       "      window.d3 = d3;\n",
       "      LDAvis_load_lib(\"https://cdn.jsdelivr.net/gh/bmabey/pyLDAvis@3.4.0/pyLDAvis/js/ldavis.v3.0.0.js\", function(){\n",
       "        new LDAvis(\"#\" + \"ldavis_el1411108254376322770726605\", ldavis_el1411108254376322770726605_data);\n",
       "      });\n",
       "    });\n",
       "}else{\n",
       "    // require.js not available: dynamically load d3 & LDAvis\n",
       "    LDAvis_load_lib(\"https://d3js.org/d3.v5.js\", function(){\n",
       "         LDAvis_load_lib(\"https://cdn.jsdelivr.net/gh/bmabey/pyLDAvis@3.4.0/pyLDAvis/js/ldavis.v3.0.0.js\", function(){\n",
       "                 new LDAvis(\"#\" + \"ldavis_el1411108254376322770726605\", ldavis_el1411108254376322770726605_data);\n",
       "            })\n",
       "         });\n",
       "}\n",
       "</script>"
      ],
      "text/plain": [
       "<IPython.core.display.HTML object>"
      ]
     },
     "execution_count": 60,
     "metadata": {},
     "output_type": "execute_result"
    }
   ],
   "source": [
    "# Loading the num_of_topics = 2 model we saved earlier\n",
    "lda = gensim.models.ldamodel.LdaModel.load('./data/model4.gensim')\n",
    "pyLDAvis.enable_notebook()\n",
    "vis = pyLDAvis.gensim_models.prepare(lda, bow_corpus, dic, sort_topics=False)\n",
    "pyLDAvis.display(vis)"
   ]
  },
  {
   "cell_type": "code",
   "execution_count": null,
   "id": "91e314a8-46ad-4597-98f2-c32fb07f144c",
   "metadata": {},
   "outputs": [],
   "source": []
  },
  {
   "cell_type": "code",
   "execution_count": null,
   "id": "9f1bb2e4-8d63-443e-b577-f80f11a99950",
   "metadata": {},
   "outputs": [],
   "source": []
  }
 ],
 "metadata": {
  "kernelspec": {
   "display_name": "Python 3 (ipykernel)",
   "language": "python",
   "name": "python3"
  },
  "language_info": {
   "codemirror_mode": {
    "name": "ipython",
    "version": 3
   },
   "file_extension": ".py",
   "mimetype": "text/x-python",
   "name": "python",
   "nbconvert_exporter": "python",
   "pygments_lexer": "ipython3",
   "version": "3.10.11"
  }
 },
 "nbformat": 4,
 "nbformat_minor": 5
}
