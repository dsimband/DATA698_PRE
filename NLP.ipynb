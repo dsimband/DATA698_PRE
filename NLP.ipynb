{
 "cells": [
  {
   "cell_type": "code",
   "execution_count": 1,
   "id": "afae2a0e-1773-42a1-b45f-72cd52d63f9c",
   "metadata": {},
   "outputs": [],
   "source": [
    "from FedTools import MonetaryPolicyCommittee\n",
    "from FedTools import BeigeBooks\n",
    "from FedTools import FederalReserveMins"
   ]
  },
  {
   "cell_type": "code",
   "execution_count": null,
   "id": "afce8d52-bacf-4c07-9224-29d2b55dfd9b",
   "metadata": {},
   "outputs": [],
   "source": []
  },
  {
   "cell_type": "markdown",
   "id": "cfccd615-8543-4eb7-ba6f-f805dad2d42c",
   "metadata": {},
   "source": [
    "# Federal Reserve Minutes"
   ]
  },
  {
   "cell_type": "code",
   "execution_count": 22,
   "id": "9199138e-6c7a-49ba-a258-d3927c26bad4",
   "metadata": {},
   "outputs": [
    {
     "name": "stdout",
     "output_type": "stream",
     "text": [
      "Constructing links between 1970 and 2023\n",
      "Extracting Federal Reserve Minutes.\n",
      "Retrieving articles.\n",
      ".................................................................................................................................................................................................................................."
     ]
    }
   ],
   "source": [
    "fed_mins = FederalReserveMins(\n",
    "            main_url = 'https://www.federalreserve.gov', \n",
    "            calendar_url ='https://www.federalreserve.gov/monetarypolicy/fomccalendars.htm',\n",
    "            start_year = 1970,        \n",
    "            historical_split = 2014,\n",
    "            verbose = True,\n",
    "            thread_num = 10)\n",
    "\n",
    "dataset_h = fed_mins.find_minutes()"
   ]
  },
  {
   "cell_type": "code",
   "execution_count": 23,
   "id": "6eba0fc1-a688-466b-9768-3747e948c2c5",
   "metadata": {},
   "outputs": [
    {
     "data": {
      "text/html": [
       "<div>\n",
       "<style scoped>\n",
       "    .dataframe tbody tr th:only-of-type {\n",
       "        vertical-align: middle;\n",
       "    }\n",
       "\n",
       "    .dataframe tbody tr th {\n",
       "        vertical-align: top;\n",
       "    }\n",
       "\n",
       "    .dataframe thead th {\n",
       "        text-align: right;\n",
       "    }\n",
       "</style>\n",
       "<table border=\"1\" class=\"dataframe\">\n",
       "  <thead>\n",
       "    <tr style=\"text-align: right;\">\n",
       "      <th></th>\n",
       "      <th>Federal_Reserve_Mins</th>\n",
       "    </tr>\n",
       "  </thead>\n",
       "  <tbody>\n",
       "    <tr>\n",
       "      <th>1993-02-03</th>\n",
       "      <td>A meeting of the Federal Open Market Committee...</td>\n",
       "    </tr>\n",
       "    <tr>\n",
       "      <th>1993-03-23</th>\n",
       "      <td>A meeting of the Federal Open Market Committee...</td>\n",
       "    </tr>\n",
       "    <tr>\n",
       "      <th>1993-05-18</th>\n",
       "      <td>A meeting of the Federal Open Market Committee...</td>\n",
       "    </tr>\n",
       "    <tr>\n",
       "      <th>1993-07-07</th>\n",
       "      <td>A meeting of the Federal Open Market Committee...</td>\n",
       "    </tr>\n",
       "    <tr>\n",
       "      <th>1993-08-17</th>\n",
       "      <td>A meeting of the Federal Open Market Committee...</td>\n",
       "    </tr>\n",
       "    <tr>\n",
       "      <th>...</th>\n",
       "      <td>...</td>\n",
       "    </tr>\n",
       "    <tr>\n",
       "      <th>2022-11-02</th>\n",
       "      <td>The Federal Reserve, the central bank of the U...</td>\n",
       "    </tr>\n",
       "    <tr>\n",
       "      <th>2022-12-14</th>\n",
       "      <td>The Federal Reserve, the central bank of the U...</td>\n",
       "    </tr>\n",
       "    <tr>\n",
       "      <th>2023-02-01</th>\n",
       "      <td>The Federal Reserve, the central bank of the U...</td>\n",
       "    </tr>\n",
       "    <tr>\n",
       "      <th>2023-03-22</th>\n",
       "      <td>The Federal Reserve, the central bank of the U...</td>\n",
       "    </tr>\n",
       "    <tr>\n",
       "      <th>2023-05-03</th>\n",
       "      <td>The Federal Reserve, the central bank of the U...</td>\n",
       "    </tr>\n",
       "  </tbody>\n",
       "</table>\n",
       "<p>218 rows × 1 columns</p>\n",
       "</div>"
      ],
      "text/plain": [
       "                                         Federal_Reserve_Mins\n",
       "1993-02-03  A meeting of the Federal Open Market Committee...\n",
       "1993-03-23  A meeting of the Federal Open Market Committee...\n",
       "1993-05-18  A meeting of the Federal Open Market Committee...\n",
       "1993-07-07  A meeting of the Federal Open Market Committee...\n",
       "1993-08-17  A meeting of the Federal Open Market Committee...\n",
       "...                                                       ...\n",
       "2022-11-02  The Federal Reserve, the central bank of the U...\n",
       "2022-12-14  The Federal Reserve, the central bank of the U...\n",
       "2023-02-01  The Federal Reserve, the central bank of the U...\n",
       "2023-03-22  The Federal Reserve, the central bank of the U...\n",
       "2023-05-03  The Federal Reserve, the central bank of the U...\n",
       "\n",
       "[218 rows x 1 columns]"
      ]
     },
     "execution_count": 23,
     "metadata": {},
     "output_type": "execute_result"
    }
   ],
   "source": [
    "dataset_h"
   ]
  },
  {
   "cell_type": "code",
   "execution_count": 15,
   "id": "161eede5-b484-4ac2-be0b-082648c49d41",
   "metadata": {},
   "outputs": [
    {
     "data": {
      "text/html": [
       "<div>\n",
       "<style scoped>\n",
       "    .dataframe tbody tr th:only-of-type {\n",
       "        vertical-align: middle;\n",
       "    }\n",
       "\n",
       "    .dataframe tbody tr th {\n",
       "        vertical-align: top;\n",
       "    }\n",
       "\n",
       "    .dataframe thead th {\n",
       "        text-align: right;\n",
       "    }\n",
       "</style>\n",
       "<table border=\"1\" class=\"dataframe\">\n",
       "  <thead>\n",
       "    <tr style=\"text-align: right;\">\n",
       "      <th></th>\n",
       "      <th>Federal_Reserve_Mins</th>\n",
       "    </tr>\n",
       "  </thead>\n",
       "  <tbody>\n",
       "    <tr>\n",
       "      <th>1993-02-03</th>\n",
       "      <td>A meeting of the Federal Open Market Committee...</td>\n",
       "    </tr>\n",
       "    <tr>\n",
       "      <th>1993-03-23</th>\n",
       "      <td>A meeting of the Federal Open Market Committee...</td>\n",
       "    </tr>\n",
       "    <tr>\n",
       "      <th>1993-05-18</th>\n",
       "      <td>A meeting of the Federal Open Market Committee...</td>\n",
       "    </tr>\n",
       "    <tr>\n",
       "      <th>1993-07-07</th>\n",
       "      <td>A meeting of the Federal Open Market Committee...</td>\n",
       "    </tr>\n",
       "    <tr>\n",
       "      <th>1993-08-17</th>\n",
       "      <td>A meeting of the Federal Open Market Committee...</td>\n",
       "    </tr>\n",
       "    <tr>\n",
       "      <th>1993-09-21</th>\n",
       "      <td>A meeting of the Federal Open Market Committee...</td>\n",
       "    </tr>\n",
       "    <tr>\n",
       "      <th>1993-11-16</th>\n",
       "      <td>A meeting of the Federal Open Market Committee...</td>\n",
       "    </tr>\n",
       "    <tr>\n",
       "      <th>1993-12-21</th>\n",
       "      <td>A meeting of the Federal Open Market Committee...</td>\n",
       "    </tr>\n",
       "    <tr>\n",
       "      <th>1994-02-04</th>\n",
       "      <td>A meeting of the Federal Open Market Committee...</td>\n",
       "    </tr>\n",
       "    <tr>\n",
       "      <th>1994-03-22</th>\n",
       "      <td>A meeting of the Federal Open Market Committee...</td>\n",
       "    </tr>\n",
       "  </tbody>\n",
       "</table>\n",
       "</div>"
      ],
      "text/plain": [
       "                                         Federal_Reserve_Mins\n",
       "1993-02-03  A meeting of the Federal Open Market Committee...\n",
       "1993-03-23  A meeting of the Federal Open Market Committee...\n",
       "1993-05-18  A meeting of the Federal Open Market Committee...\n",
       "1993-07-07  A meeting of the Federal Open Market Committee...\n",
       "1993-08-17  A meeting of the Federal Open Market Committee...\n",
       "1993-09-21  A meeting of the Federal Open Market Committee...\n",
       "1993-11-16  A meeting of the Federal Open Market Committee...\n",
       "1993-12-21  A meeting of the Federal Open Market Committee...\n",
       "1994-02-04  A meeting of the Federal Open Market Committee...\n",
       "1994-03-22  A meeting of the Federal Open Market Committee..."
      ]
     },
     "execution_count": 15,
     "metadata": {},
     "output_type": "execute_result"
    }
   ],
   "source": [
    "dataset_h.sort_index(ascending=True)[:10]"
   ]
  },
  {
   "cell_type": "code",
   "execution_count": 18,
   "id": "6f8a3b32-833b-4c25-92d5-f65858e70254",
   "metadata": {},
   "outputs": [
    {
     "data": {
      "text/plain": [
       "Federal_Reserve_Mins    A meeting of the Federal Open Market Committee...\n",
       "Name: 1993-02-03 00:00:00, dtype: object"
      ]
     },
     "execution_count": 18,
     "metadata": {},
     "output_type": "execute_result"
    }
   ],
   "source": [
    "dataset_h.iloc[0]"
   ]
  },
  {
   "cell_type": "code",
   "execution_count": null,
   "id": "8d2a574c-f8aa-4a2e-a664-df3cfebb8eaa",
   "metadata": {},
   "outputs": [],
   "source": []
  }
 ],
 "metadata": {
  "kernelspec": {
   "display_name": "Python 3 (ipykernel)",
   "language": "python",
   "name": "python3"
  },
  "language_info": {
   "codemirror_mode": {
    "name": "ipython",
    "version": 3
   },
   "file_extension": ".py",
   "mimetype": "text/x-python",
   "name": "python",
   "nbconvert_exporter": "python",
   "pygments_lexer": "ipython3",
   "version": "3.10.11"
  }
 },
 "nbformat": 4,
 "nbformat_minor": 5
}
