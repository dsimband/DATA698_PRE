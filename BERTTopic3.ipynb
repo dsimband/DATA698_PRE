{
 "cells": [
  {
   "cell_type": "code",
   "execution_count": 1,
   "id": "dba60fd3-48d5-400c-b5f0-692921df2c6f",
   "metadata": {},
   "outputs": [],
   "source": [
    "import pandas as pd\n",
    "import nltk\n",
    "from nltk.stem import WordNetLemmatizer\n",
    "from nltk.stem import PorterStemmer\n",
    "from nltk import pos_tag\n",
    "\n",
    "import spacy\n",
    "import scattertext as st\n",
    "\n",
    "from FedTools import FederalReserveMins"
   ]
  },
  {
   "cell_type": "code",
   "execution_count": 2,
   "id": "9557c3d7-87ea-4045-afe3-c0ea39828476",
   "metadata": {},
   "outputs": [],
   "source": [
    "import gensim\n",
    "import gensim.corpora as corpora\n",
    "from gensim.utils import simple_preprocess\n",
    "\n",
    "import pyLDAvis\n",
    "import pyLDAvis.gensim_models\n",
    "from sklearn.datasets import fetch_20newsgroups\n",
    "import warnings\n",
    "warnings.filterwarnings(\"ignore\", category=DeprecationWarning)"
   ]
  },
  {
   "cell_type": "code",
   "execution_count": 3,
   "id": "4f80bf02-8cda-45e1-8d8f-cbefaadaf8e6",
   "metadata": {},
   "outputs": [],
   "source": [
    "\n",
    "\n",
    "\n",
    "def lemmatize(docs, allowed_postags = [\"NOUN\", \"ADJ\", \"VERB\", \"ADV\"]):\n",
    "  '''\n",
    "  Performs lemmization of input documents.\n",
    "\n",
    "  Args:\n",
    "    - docs: list of strings with input documents\n",
    "    - allowed_postags: list of accepted Part of Speech (POS) types\n",
    "  Output:\n",
    "    - list of strings with lemmatized input\n",
    "  '''\n",
    "  nlp = spacy.load(\"en_core_web_sm\", disable = [\"parser\", \"ner\"])\n",
    "  lemmatized_docs = []\n",
    "  for doc in docs:\n",
    "    doc = nlp(doc)\n",
    "    tokens = []\n",
    "    for token in doc:\n",
    "      if token.pos_ in allowed_postags:\n",
    "        tokens.append(token.lemma_)\n",
    "    lemmatized_docs.append(\" \".join(tokens))\n",
    "  return (lemmatized_docs)\n",
    "\n",
    "\n",
    "def tokenize(docs):\n",
    "  '''\n",
    "  Performs tokenization of input documents.\n",
    "\n",
    "  Args:\n",
    "    - docs: list of strings with input documents\n",
    "  Output:\n",
    "    - list of strings with tokenized input\n",
    "  '''\n",
    "  tokenized_docs = []\n",
    "  for doc in docs:\n",
    "    tokens = gensim.utils.simple_preprocess(doc, deacc=True)\n",
    "    tokenized_docs.append(tokens)\n",
    "  return (tokenized_docs)\n",
    "\n",
    "\n"
   ]
  },
  {
   "cell_type": "markdown",
   "id": "e32b7819-c3ad-4543-a878-61fdfe47de9b",
   "metadata": {},
   "source": [
    "# Load Data"
   ]
  },
  {
   "cell_type": "code",
   "execution_count": 4,
   "id": "b90b5c97-f4a5-4b36-b49f-9cbd4b3116a1",
   "metadata": {},
   "outputs": [
    {
     "name": "stdout",
     "output_type": "stream",
     "text": [
      "Constructing links between 2015 and 2023\n",
      "Extracting Federal Reserve Minutes.\n",
      "Retrieving articles.\n",
      "..................................................................."
     ]
    }
   ],
   "source": [
    "fed_mins = FederalReserveMins(\n",
    "            main_url = 'https://www.federalreserve.gov', \n",
    "            calendar_url ='https://www.federalreserve.gov/monetarypolicy/fomccalendars.htm',\n",
    "            start_year = 2015,        \n",
    "            historical_split = 2017,\n",
    "            verbose = True,\n",
    "            thread_num = 10)\n",
    "\n",
    "df = fed_mins.find_minutes()"
   ]
  },
  {
   "cell_type": "code",
   "execution_count": 5,
   "id": "9e55ec26-45fd-4dce-89ec-63a2bed20763",
   "metadata": {},
   "outputs": [],
   "source": [
    "df.rename(columns={'Federal_Reserve_Mins': 'Text'}, inplace=True)\n",
    "#df['Date'] = df.index\n",
    "#df['year'] = df['Date'].dt.year"
   ]
  },
  {
   "cell_type": "code",
   "execution_count": 6,
   "id": "3c618539-061b-404f-b849-3fb2e137030f",
   "metadata": {},
   "outputs": [
    {
     "data": {
      "text/html": [
       "<div>\n",
       "<style scoped>\n",
       "    .dataframe tbody tr th:only-of-type {\n",
       "        vertical-align: middle;\n",
       "    }\n",
       "\n",
       "    .dataframe tbody tr th {\n",
       "        vertical-align: top;\n",
       "    }\n",
       "\n",
       "    .dataframe thead th {\n",
       "        text-align: right;\n",
       "    }\n",
       "</style>\n",
       "<table border=\"1\" class=\"dataframe\">\n",
       "  <thead>\n",
       "    <tr style=\"text-align: right;\">\n",
       "      <th></th>\n",
       "      <th>Text</th>\n",
       "    </tr>\n",
       "  </thead>\n",
       "  <tbody>\n",
       "    <tr>\n",
       "      <th>2015-01-28</th>\n",
       "      <td>The Federal Reserve, the central bank of the U...</td>\n",
       "    </tr>\n",
       "    <tr>\n",
       "      <th>2015-03-18</th>\n",
       "      <td>The Federal Reserve, the central bank of the U...</td>\n",
       "    </tr>\n",
       "    <tr>\n",
       "      <th>2015-04-29</th>\n",
       "      <td>The Federal Reserve, the central bank of the U...</td>\n",
       "    </tr>\n",
       "    <tr>\n",
       "      <th>2015-06-17</th>\n",
       "      <td>The Federal Reserve, the central bank of the U...</td>\n",
       "    </tr>\n",
       "    <tr>\n",
       "      <th>2015-07-29</th>\n",
       "      <td>The Federal Reserve, the central bank of the U...</td>\n",
       "    </tr>\n",
       "    <tr>\n",
       "      <th>...</th>\n",
       "      <td>...</td>\n",
       "    </tr>\n",
       "    <tr>\n",
       "      <th>2022-11-02</th>\n",
       "      <td>The Federal Reserve, the central bank of the U...</td>\n",
       "    </tr>\n",
       "    <tr>\n",
       "      <th>2022-12-14</th>\n",
       "      <td>The Federal Reserve, the central bank of the U...</td>\n",
       "    </tr>\n",
       "    <tr>\n",
       "      <th>2023-02-01</th>\n",
       "      <td>The Federal Reserve, the central bank of the U...</td>\n",
       "    </tr>\n",
       "    <tr>\n",
       "      <th>2023-03-22</th>\n",
       "      <td>The Federal Reserve, the central bank of the U...</td>\n",
       "    </tr>\n",
       "    <tr>\n",
       "      <th>2023-05-03</th>\n",
       "      <td>The Federal Reserve, the central bank of the U...</td>\n",
       "    </tr>\n",
       "  </tbody>\n",
       "</table>\n",
       "<p>67 rows × 1 columns</p>\n",
       "</div>"
      ],
      "text/plain": [
       "                                                         Text\n",
       "2015-01-28  The Federal Reserve, the central bank of the U...\n",
       "2015-03-18  The Federal Reserve, the central bank of the U...\n",
       "2015-04-29  The Federal Reserve, the central bank of the U...\n",
       "2015-06-17  The Federal Reserve, the central bank of the U...\n",
       "2015-07-29  The Federal Reserve, the central bank of the U...\n",
       "...                                                       ...\n",
       "2022-11-02  The Federal Reserve, the central bank of the U...\n",
       "2022-12-14  The Federal Reserve, the central bank of the U...\n",
       "2023-02-01  The Federal Reserve, the central bank of the U...\n",
       "2023-03-22  The Federal Reserve, the central bank of the U...\n",
       "2023-05-03  The Federal Reserve, the central bank of the U...\n",
       "\n",
       "[67 rows x 1 columns]"
      ]
     },
     "execution_count": 6,
     "metadata": {},
     "output_type": "execute_result"
    }
   ],
   "source": [
    "df"
   ]
  },
  {
   "cell_type": "markdown",
   "id": "7ffc3ed1-a527-4de3-94c1-81bcfce99d15",
   "metadata": {},
   "source": [
    "# Process Docs"
   ]
  },
  {
   "cell_type": "code",
   "execution_count": 7,
   "id": "c9296b22-4bff-4b80-88d8-ef186ec7940e",
   "metadata": {},
   "outputs": [],
   "source": [
    "\n",
    "# Pre-process input: lemmatization and tokenization\n",
    "lemmatized_docs = lemmatize(df)\n",
    "tokenized_docs = tokenize(lemmatized_docs)\n",
    "\n",
    "# Mapping from word IDs to words\n",
    "id2word = corpora.Dictionary(tokenized_docs)\n",
    "\n",
    "# Prepare Document-Term Matrix\n",
    "corpus = []\n",
    "for doc in tokenized_docs:\n",
    "    corpus.append(id2word.doc2bow(doc))\n",
    "\n"
   ]
  },
  {
   "cell_type": "code",
   "execution_count": null,
   "id": "891bd290-9b67-4543-b61e-5f5849bee2e8",
   "metadata": {},
   "outputs": [],
   "source": []
  },
  {
   "cell_type": "markdown",
   "id": "aa126a43-07f8-4762-8eac-4bb21e3e97b0",
   "metadata": {},
   "source": [
    "# Model"
   ]
  },
  {
   "cell_type": "code",
   "execution_count": 8,
   "id": "8727d086-0be2-45d4-ace1-21ce0fe48b87",
   "metadata": {},
   "outputs": [],
   "source": [
    "# Fit LDA model: See [1] for more details\n",
    "topic_model = gensim.models.ldamodel.LdaModel(\n",
    "    corpus = corpus,      # Document-Term Matrix\n",
    "    id2word = id2word,    # Map word IDs to words\n",
    "    num_topics = 5,      # Number of latent topics to extract\n",
    "    random_state = 100,\n",
    "    passes = 100,         # N° of passes through the corpus during training\n",
    "    )\n",
    "\n"
   ]
  },
  {
   "cell_type": "code",
   "execution_count": 9,
   "id": "0b088244-4366-44bb-b22b-7d16a6985822",
   "metadata": {},
   "outputs": [
    {
     "ename": "NameError",
     "evalue": "name 'bow_corpus' is not defined",
     "output_type": "error",
     "traceback": [
      "\u001b[0;31m---------------------------------------------------------------------------\u001b[0m",
      "\u001b[0;31mNameError\u001b[0m                                 Traceback (most recent call last)",
      "Cell \u001b[0;32mIn[9], line 1\u001b[0m\n\u001b[0;32m----> 1\u001b[0m lda_model \u001b[38;5;241m=\u001b[39m gensim\u001b[38;5;241m.\u001b[39mmodels\u001b[38;5;241m.\u001b[39mLdaMulticore(\u001b[43mbow_corpus\u001b[49m,\n\u001b[1;32m      2\u001b[0m                                    num_topics \u001b[38;5;241m=\u001b[39m \u001b[38;5;241m3\u001b[39m,\n\u001b[1;32m      3\u001b[0m                                     id2word \u001b[38;5;241m=\u001b[39m dic,\n\u001b[1;32m      4\u001b[0m                                       passes \u001b[38;5;241m=\u001b[39m \u001b[38;5;241m10\u001b[39m,\n\u001b[1;32m      5\u001b[0m                                       workers \u001b[38;5;241m=\u001b[39m \u001b[38;5;241m20\u001b[39m)\n\u001b[1;32m      6\u001b[0m lda_model\u001b[38;5;241m.\u001b[39msave(\u001b[38;5;124m'\u001b[39m\u001b[38;5;124m./data/model4.gensim\u001b[39m\u001b[38;5;124m'\u001b[39m)\n",
      "\u001b[0;31mNameError\u001b[0m: name 'bow_corpus' is not defined"
     ]
    }
   ],
   "source": [
    "lda_model = gensim.models.LdaMulticore(bow_corpus,\n",
    "                                   num_topics = 3,\n",
    "                                    id2word = dic,\n",
    "                                      passes = 10,\n",
    "                                      workers = 20)\n",
    "lda_model.save('./data/model4.gensim')"
   ]
  },
  {
   "cell_type": "markdown",
   "id": "88f9a173-fdda-44ae-80e4-2bb5c4269665",
   "metadata": {},
   "source": [
    "# Visualization"
   ]
  },
  {
   "cell_type": "code",
   "execution_count": null,
   "id": "6dd6f8c9-71fe-4d8f-8925-01fb0d170031",
   "metadata": {},
   "outputs": [],
   "source": [
    "# Visualize with pyLDAvis: See [2] for more details\n",
    "pyLDAvis.enable_notebook()\n",
    "visualization = pyLDAvis.gensim_models.prepare(\n",
    "    topic_model, \n",
    "    corpus,\n",
    "    id2word, \n",
    "    mds = \"mmds\", \n",
    "    R = 30)\n",
    "\n",
    "visualization"
   ]
  },
  {
   "cell_type": "code",
   "execution_count": null,
   "id": "6efaf6f4-335c-4aca-a4ba-29c9e3eac358",
   "metadata": {},
   "outputs": [],
   "source": []
  },
  {
   "cell_type": "code",
   "execution_count": null,
   "id": "e1c70994-0963-42db-8778-19519d06462e",
   "metadata": {},
   "outputs": [],
   "source": []
  },
  {
   "cell_type": "code",
   "execution_count": null,
   "id": "8eab49c4-2ddc-4886-b922-6a1bcbe51f60",
   "metadata": {},
   "outputs": [],
   "source": []
  },
  {
   "cell_type": "code",
   "execution_count": null,
   "id": "26ac5ebb-0813-47e8-9bdf-edfc86fe7a3e",
   "metadata": {},
   "outputs": [],
   "source": [
    "\n"
   ]
  },
  {
   "cell_type": "code",
   "execution_count": null,
   "id": "25991340-a956-48ba-9d9f-178b8e1ccf8e",
   "metadata": {},
   "outputs": [],
   "source": []
  },
  {
   "cell_type": "code",
   "execution_count": null,
   "id": "ff1af560-e68a-483b-b6bb-f7a57277b18c",
   "metadata": {},
   "outputs": [],
   "source": [
    "df"
   ]
  },
  {
   "cell_type": "code",
   "execution_count": null,
   "id": "749cd1c6-6e0a-4811-a18c-fa10a0bfe990",
   "metadata": {},
   "outputs": [],
   "source": [
    "df = preprocess_speech(df)"
   ]
  },
  {
   "cell_type": "code",
   "execution_count": null,
   "id": "c34577c3-311d-4c02-8292-ed277a4e0988",
   "metadata": {},
   "outputs": [],
   "source": []
  },
  {
   "cell_type": "code",
   "execution_count": null,
   "id": "28be33d5-9b0b-4691-94f1-73e2529815f4",
   "metadata": {},
   "outputs": [],
   "source": []
  },
  {
   "cell_type": "code",
   "execution_count": null,
   "id": "22b50e72-ce1d-4fea-8119-0bd362bc565d",
   "metadata": {},
   "outputs": [],
   "source": []
  }
 ],
 "metadata": {
  "kernelspec": {
   "display_name": "Python 3 (ipykernel)",
   "language": "python",
   "name": "python3"
  },
  "language_info": {
   "codemirror_mode": {
    "name": "ipython",
    "version": 3
   },
   "file_extension": ".py",
   "mimetype": "text/x-python",
   "name": "python",
   "nbconvert_exporter": "python",
   "pygments_lexer": "ipython3",
   "version": "3.10.11"
  }
 },
 "nbformat": 4,
 "nbformat_minor": 5
}
