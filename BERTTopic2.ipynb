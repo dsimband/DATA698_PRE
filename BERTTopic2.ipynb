{
 "cells": [
  {
   "cell_type": "code",
   "execution_count": 1,
   "id": "10811085-9f0a-43c6-8b5a-fca20522ca5a",
   "metadata": {},
   "outputs": [
    {
     "name": "stderr",
     "output_type": "stream",
     "text": [
      "/Users/dsimbandumwe/anaconda3/envs/TopicModel/lib/python3.10/site-packages/umap/distances.py:1063: NumbaDeprecationWarning: \u001b[1mThe 'nopython' keyword argument was not supplied to the 'numba.jit' decorator. The implicit default value for this argument is currently False, but it will be changed to True in Numba 0.59.0. See https://numba.readthedocs.io/en/stable/reference/deprecation.html#deprecation-of-object-mode-fall-back-behaviour-when-using-jit for details.\u001b[0m\n",
      "  @numba.jit()\n",
      "/Users/dsimbandumwe/anaconda3/envs/TopicModel/lib/python3.10/site-packages/umap/distances.py:1071: NumbaDeprecationWarning: \u001b[1mThe 'nopython' keyword argument was not supplied to the 'numba.jit' decorator. The implicit default value for this argument is currently False, but it will be changed to True in Numba 0.59.0. See https://numba.readthedocs.io/en/stable/reference/deprecation.html#deprecation-of-object-mode-fall-back-behaviour-when-using-jit for details.\u001b[0m\n",
      "  @numba.jit()\n",
      "/Users/dsimbandumwe/anaconda3/envs/TopicModel/lib/python3.10/site-packages/umap/distances.py:1086: NumbaDeprecationWarning: \u001b[1mThe 'nopython' keyword argument was not supplied to the 'numba.jit' decorator. The implicit default value for this argument is currently False, but it will be changed to True in Numba 0.59.0. See https://numba.readthedocs.io/en/stable/reference/deprecation.html#deprecation-of-object-mode-fall-back-behaviour-when-using-jit for details.\u001b[0m\n",
      "  @numba.jit()\n",
      "/Users/dsimbandumwe/anaconda3/envs/TopicModel/lib/python3.10/site-packages/umap/umap_.py:660: NumbaDeprecationWarning: \u001b[1mThe 'nopython' keyword argument was not supplied to the 'numba.jit' decorator. The implicit default value for this argument is currently False, but it will be changed to True in Numba 0.59.0. See https://numba.readthedocs.io/en/stable/reference/deprecation.html#deprecation-of-object-mode-fall-back-behaviour-when-using-jit for details.\u001b[0m\n",
      "  @numba.jit()\n"
     ]
    }
   ],
   "source": [
    "import pandas as pd\n",
    "from bertopic import BERTopic\n",
    "\n",
    "from nltk.corpus import stopwords\n",
    "import nltk\n",
    "\n",
    "from sklearn.feature_extraction.text import CountVectorizer"
   ]
  },
  {
   "cell_type": "code",
   "execution_count": null,
   "id": "dba60fd3-48d5-400c-b5f0-692921df2c6f",
   "metadata": {},
   "outputs": [],
   "source": []
  },
  {
   "cell_type": "code",
   "execution_count": null,
   "id": "4f80bf02-8cda-45e1-8d8f-cbefaadaf8e6",
   "metadata": {},
   "outputs": [],
   "source": []
  },
  {
   "cell_type": "code",
   "execution_count": 2,
   "id": "a23363bb-1266-4ded-8cf2-16c331d5f72a",
   "metadata": {},
   "outputs": [],
   "source": [
    "english_stemmer = nltk.stem.SnowballStemmer('english') "
   ]
  },
  {
   "cell_type": "code",
   "execution_count": null,
   "id": "93c5d795-4d17-4b2c-a1b7-506695594c5a",
   "metadata": {},
   "outputs": [],
   "source": []
  },
  {
   "cell_type": "markdown",
   "id": "7164727f-a998-407c-9c65-500b8b2eea23",
   "metadata": {},
   "source": [
    "# Functions and Classes"
   ]
  },
  {
   "cell_type": "code",
   "execution_count": 3,
   "id": "45f55cf3-0ce7-4ad2-93ad-a24c273413cc",
   "metadata": {},
   "outputs": [],
   "source": [
    "class StemmedCountVectorizer(CountVectorizer):\n",
    "    def build_analyzer(self):\n",
    "        analyzer = super(StemmedCountVectorizer, self).build_analyzer()\n",
    "        return lambda doc: ([english_stemmer.stem(w) for w in analyzer(doc)])\n",
    "\n",
    "def train_bert(docs,model_path):\n",
    "    embedding_model = SentenceTransformer(\"all-MiniLM-L6-v2\")\n",
    "\n",
    "    # Clustering model: See [2] for more details\n",
    "    cluster_model = HDBSCAN(min_cluster_size = 15, \n",
    "                            metric = 'euclidean', \n",
    "                            cluster_selection_method = 'eom', \n",
    "                            prediction_data = True)\n",
    "    \n",
    "    #Explicitly define, use, and adjust the ClassTfidfTransformer with new parameters, \n",
    "    #bm25_weighting and reduce_frequent_words, to potentially improve the topic representation\n",
    "    ctfidf_model = ClassTfidfTransformer(bm25_weighting=True)                         \n",
    "    #vectorizer_model = CountVectorizer(ngram_range=(1, 2),stop_words=stopwords)\n",
    "    vectorizer_model = StemmedCountVectorizer(analyzer=\"word\",stop_words=stopwords, ngram_range=(1, 2))\n",
    "\n",
    "    # BERTopic model\n",
    "    topic_model = BERTopic(embedding_model = embedding_model,\n",
    "                           hdbscan_model = cluster_model,\n",
    "                           ctfidf_model=ctfidf_model,\n",
    "                           vectorizer_model=vectorizer_model,\n",
    "                           language=\"english\")\n",
    "\n",
    "    # Fit the model on a corpus\n",
    "    topics, probs = topic_model.fit_transform(docs)\n",
    "    topic_model.save(model_path)\n",
    "    return topic_model"
   ]
  },
  {
   "cell_type": "code",
   "execution_count": 4,
   "id": "736cb9d3-787d-487d-a68e-af0ada2bb733",
   "metadata": {},
   "outputs": [
    {
     "ename": "NameError",
     "evalue": "name 'docs_bad' is not defined",
     "output_type": "error",
     "traceback": [
      "\u001b[0;31m---------------------------------------------------------------------------\u001b[0m",
      "\u001b[0;31mNameError\u001b[0m                                 Traceback (most recent call last)",
      "Cell \u001b[0;32mIn[4], line 2\u001b[0m\n\u001b[1;32m      1\u001b[0m model_path_bad \u001b[38;5;241m=\u001b[39m \u001b[38;5;124m'\u001b[39m\u001b[38;5;124mmodel/bert_bad\u001b[39m\u001b[38;5;124m'\u001b[39m\n\u001b[0;32m----> 2\u001b[0m topic_model_bad \u001b[38;5;241m=\u001b[39m train_bert(\u001b[43mdocs_bad\u001b[49m,model_path_bad)\n\u001b[1;32m      3\u001b[0m freq_df \u001b[38;5;241m=\u001b[39m topic_model_bad\u001b[38;5;241m.\u001b[39mget_topic_info()\n\u001b[1;32m      4\u001b[0m \u001b[38;5;28mprint\u001b[39m(\u001b[38;5;124m\"\u001b[39m\u001b[38;5;124mNumber of topics: \u001b[39m\u001b[38;5;132;01m{}\u001b[39;00m\u001b[38;5;124m\"\u001b[39m\u001b[38;5;241m.\u001b[39mformat( \u001b[38;5;28mlen\u001b[39m(freq_df)))\n",
      "\u001b[0;31mNameError\u001b[0m: name 'docs_bad' is not defined"
     ]
    }
   ],
   "source": [
    "model_path_bad = 'model/bert_bad'\n",
    "topic_model_bad = train_bert(docs_bad,model_path_bad)\n",
    "freq_df = topic_model_bad.get_topic_info()\n",
    "print(\"Number of topics: {}\".format( len(freq_df)))\n",
    "freq_df['Percentage'] = round(freq_df['Count']/freq_df['Count'].sum() * 100,2)\n",
    "freq_df = freq_df.iloc[:,[0,1,3,2]]\n",
    "freq_df.head()"
   ]
  },
  {
   "cell_type": "code",
   "execution_count": null,
   "id": "eb6627d8-0fa2-41ee-b3ec-51cbc8920efd",
   "metadata": {},
   "outputs": [],
   "source": []
  },
  {
   "cell_type": "code",
   "execution_count": null,
   "id": "0c8c80c4-bd96-4fb7-99ee-8de75f5a9ae6",
   "metadata": {},
   "outputs": [],
   "source": []
  }
 ],
 "metadata": {
  "kernelspec": {
   "display_name": "Python 3 (ipykernel)",
   "language": "python",
   "name": "python3"
  },
  "language_info": {
   "codemirror_mode": {
    "name": "ipython",
    "version": 3
   },
   "file_extension": ".py",
   "mimetype": "text/x-python",
   "name": "python",
   "nbconvert_exporter": "python",
   "pygments_lexer": "ipython3",
   "version": "3.10.11"
  }
 },
 "nbformat": 4,
 "nbformat_minor": 5
}
