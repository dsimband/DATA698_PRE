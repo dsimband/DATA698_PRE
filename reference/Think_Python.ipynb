{
 "cells": [
  {
   "cell_type": "markdown",
   "id": "b579f7a2-b734-4d2a-9831-06fa00a09d3b",
   "metadata": {},
   "source": [
    "# Chapter 1: The way of the program"
   ]
  },
  {
   "cell_type": "code",
   "execution_count": null,
   "id": "8b49d01e",
   "metadata": {},
   "outputs": [],
   "source": [
    "print ('Hello World')"
   ]
  },
  {
   "cell_type": "code",
   "execution_count": null,
   "id": "783c3003",
   "metadata": {},
   "outputs": [],
   "source": [
    "40+1"
   ]
  },
  {
   "cell_type": "code",
   "execution_count": null,
   "id": "45a289de",
   "metadata": {},
   "outputs": [],
   "source": [
    "type('e')"
   ]
  },
  {
   "cell_type": "code",
   "execution_count": null,
   "id": "5643a7ae",
   "metadata": {},
   "outputs": [],
   "source": [
    "p = 5,4,3\n",
    "type(p)"
   ]
  },
  {
   "cell_type": "code",
   "execution_count": null,
   "id": "30857089",
   "metadata": {},
   "outputs": [],
   "source": [
    "tmp3 = 4*4\n",
    "tmp3"
   ]
  },
  {
   "cell_type": "code",
   "execution_count": null,
   "id": "805fee5b-3a81-4434-9841-57bdc06a7349",
   "metadata": {},
   "outputs": [],
   "source": [
    "42*60+42"
   ]
  },
  {
   "cell_type": "code",
   "execution_count": null,
   "id": "2b698076-aefa-43dd-a634-44a5062d0d17",
   "metadata": {},
   "outputs": [],
   "source": [
    "10/1.61"
   ]
  },
  {
   "cell_type": "code",
   "execution_count": null,
   "id": "64d72404-7acd-4c3d-b317-82345a9bd2c0",
   "metadata": {},
   "outputs": [],
   "source": [
    "60*1.61"
   ]
  },
  {
   "cell_type": "code",
   "execution_count": null,
   "id": "3832bb82-e3d9-46f0-993d-e316af194387",
   "metadata": {},
   "outputs": [],
   "source": [
    "2562/6.21/60"
   ]
  },
  {
   "cell_type": "code",
   "execution_count": null,
   "id": "8d4304e4-be66-40f7-af9a-db4899ab1563",
   "metadata": {},
   "outputs": [],
   "source": [
    "0.876*60"
   ]
  },
  {
   "cell_type": "markdown",
   "id": "95185af8-32a5-4482-a6ef-0c1ee671c529",
   "metadata": {},
   "source": [
    "# Chapter 2: Variables, expressions and statements"
   ]
  },
  {
   "cell_type": "code",
   "execution_count": null,
   "id": "0efe09bd-a1e9-4f13-80de-c4f4f34e2bd5",
   "metadata": {},
   "outputs": [],
   "source": [
    "n = 42\n",
    "42 = n"
   ]
  },
  {
   "cell_type": "code",
   "execution_count": null,
   "id": "d28391a4-beaa-4330-95d9-8a5e9575e682",
   "metadata": {
    "tags": [
     "test"
    ]
   },
   "outputs": [],
   "source": [
    "x = y = 1"
   ]
  },
  {
   "cell_type": "code",
   "execution_count": null,
   "id": "4dc14514-5ae2-45e7-942f-a40da7ad6f94",
   "metadata": {},
   "outputs": [],
   "source": [
    "y"
   ]
  },
  {
   "cell_type": "code",
   "execution_count": null,
   "id": "e3eb6f12-2cb5-40aa-b85d-f16864a2892a",
   "metadata": {},
   "outputs": [],
   "source": [
    "import math\n",
    "\n",
    "math.pi"
   ]
  },
  {
   "cell_type": "code",
   "execution_count": null,
   "id": "b55e32a9-8eae-45f6-8707-6425469784a9",
   "metadata": {},
   "outputs": [],
   "source": [
    "x += y;\n",
    "x;"
   ]
  },
  {
   "cell_type": "code",
   "execution_count": null,
   "id": "d66c403d-d21f-45be-b564-dd144c9f2366",
   "metadata": {},
   "outputs": [],
   "source": [
    "x"
   ]
  },
  {
   "cell_type": "markdown",
   "id": "676eabc9-4d5e-4f64-8d4f-7dbc79f84ad2",
   "metadata": {},
   "source": [
    "2.2.1 The volume of a sphere with radius r is 43 πr3. What is the volume of a sphere with radius 5?"
   ]
  },
  {
   "cell_type": "code",
   "execution_count": null,
   "id": "e0657d2e-4635-4f1a-b58e-6225ba7fd1b3",
   "metadata": {},
   "outputs": [],
   "source": [
    "r = 5\n",
    "4/3 * math.pi * r**3"
   ]
  },
  {
   "cell_type": "markdown",
   "id": "a4a2fd60-331a-4ae9-86ee-af6ce14b7a3a",
   "metadata": {},
   "source": [
    "2.2.3 If I leave my house at 6:52 am and run 1 mile at an easy pace (8:15 per mile), then 3 miles at tempo (7:12 per mile) and 1 mile at easy pace again, what time do I get home for breakfast?"
   ]
  },
  {
   "cell_type": "code",
   "execution_count": null,
   "id": "10434095-9d3f-464e-ab60-cfcfa20f05ea",
   "metadata": {},
   "outputs": [],
   "source": [
    "import numpy as np\n",
    "m = 8 + (3*7) + 8 + 1\n",
    "s = 15 + (3*12) +15 - 60\n",
    "\n",
    "print(m,s)"
   ]
  },
  {
   "cell_type": "code",
   "execution_count": null,
   "id": "c83c4ef3-e9f3-416a-8988-0be0a54ded82",
   "metadata": {},
   "outputs": [],
   "source": [
    "15 + (3*12) +15"
   ]
  },
  {
   "cell_type": "code",
   "execution_count": null,
   "id": "14878c82-0ac5-4318-a5ba-154087766dea",
   "metadata": {},
   "outputs": [],
   "source": [
    "7:30:06"
   ]
  },
  {
   "cell_type": "code",
   "execution_count": null,
   "id": "9a8a8556-f5cb-4ff8-b7d8-e336af6ecb31",
   "metadata": {},
   "outputs": [],
   "source": [
    "#from __future__ import print_function, division\n",
    "from datetime import datetime\n",
    "\n",
    "\n",
    "class Time():\n",
    "\n",
    "    def __init__(self):\n",
    "        self.hour = 0\n",
    "        self.minute = 0\n",
    "        self.second = 0\n",
    "        \n",
    "        \n",
    "    def set_time(self, h, m , s):\n",
    "        self.hour = h\n",
    "        self.minute = m\n",
    "        self.second = s\n",
    "        \n",
    "        \n",
    "    def add_time(self, h, m, s):\n",
    "        s += self.second\n",
    "        m += self.minute\n",
    "        h += self.hour\n",
    "        \n",
    "        minutes, self.second = divmod(s, 60)\n",
    "        m += minutes\n",
    "        hours, self.minute = divmod(m, 60)\n",
    "        self.hour += hours\n",
    "    \n",
    "    "
   ]
  },
  {
   "cell_type": "code",
   "execution_count": null,
   "id": "023048e5-b747-43b2-aac4-fb0d1d768642",
   "metadata": {},
   "outputs": [],
   "source": [
    "t = Time()\n",
    "t.set_time(6,52,0)\n",
    "t.__dict__"
   ]
  },
  {
   "cell_type": "code",
   "execution_count": null,
   "id": "ff7dcb6f-81c7-4a8f-8630-74c9df6a5bf0",
   "metadata": {},
   "outputs": [],
   "source": [
    "t.add_time(0,8,15)\n",
    "t.__dict__"
   ]
  },
  {
   "cell_type": "code",
   "execution_count": null,
   "id": "3fc7f569-e5cd-409d-ade4-30509f241c46",
   "metadata": {},
   "outputs": [],
   "source": [
    "t = Time()\n",
    "t.set_time(6,52,0)\n",
    "t.add_time(0,8,15)\n",
    "t.add_time(0,7*3,12*3)\n",
    "t.add_time(0,8,15)\n",
    "t.__dict__"
   ]
  },
  {
   "cell_type": "markdown",
   "id": "0b3e97bd-28ae-4874-b14f-5409fae56dfe",
   "metadata": {},
   "source": [
    "# Chapter 3: Functions"
   ]
  },
  {
   "cell_type": "code",
   "execution_count": null,
   "id": "b878c5f8",
   "metadata": {},
   "outputs": [],
   "source": [
    "import math\n",
    "import traceback"
   ]
  },
  {
   "cell_type": "code",
   "execution_count": null,
   "id": "7fbce1b4",
   "metadata": {},
   "outputs": [],
   "source": [
    "math.pi"
   ]
  },
  {
   "cell_type": "code",
   "execution_count": null,
   "id": "3aa3478c",
   "metadata": {},
   "outputs": [],
   "source": [
    "math.frexp(3)"
   ]
  },
  {
   "cell_type": "code",
   "execution_count": null,
   "id": "02dc00a5",
   "metadata": {},
   "outputs": [],
   "source": []
  },
  {
   "cell_type": "code",
   "execution_count": null,
   "id": "bd381751",
   "metadata": {},
   "outputs": [],
   "source": [
    "DICT ={ \"a\" :25, \"b\" :65 }\n",
    "\n",
    "try:\n",
    "    print(DICT[\"A\"])\n",
    "    \n",
    "except:\n",
    "    traceback.print_exc()\n",
    "\n"
   ]
  },
  {
   "cell_type": "markdown",
   "id": "0af9bc95-15e2-4f89-9dc6-72a23dd9fa86",
   "metadata": {},
   "source": [
    "# Chapter 4: interface design"
   ]
  },
  {
   "cell_type": "code",
   "execution_count": null,
   "id": "1c8c41c0",
   "metadata": {},
   "outputs": [],
   "source": [
    "import turtle\n",
    "bob = turtle.Turtle()"
   ]
  },
  {
   "cell_type": "code",
   "execution_count": null,
   "id": "a0411ba7",
   "metadata": {},
   "outputs": [],
   "source": [
    "bob.fd(100)\n",
    "bob.lt(90)\n",
    "bob.fd(100)"
   ]
  },
  {
   "cell_type": "code",
   "execution_count": null,
   "id": "33119b8a",
   "metadata": {},
   "outputs": [],
   "source": [
    "turtle.mainloop()"
   ]
  },
  {
   "cell_type": "code",
   "execution_count": null,
   "id": "d67efc6f-64b1-4035-9e52-2cb838a26db4",
   "metadata": {},
   "outputs": [],
   "source": [
    "turtle.done()"
   ]
  },
  {
   "cell_type": "code",
   "execution_count": null,
   "id": "51eeb677",
   "metadata": {},
   "outputs": [],
   "source": [
    "def square(t):\n",
    "    for i in range(4):\n",
    "        t.fd(100)\n",
    "        t.lt(90)\n",
    "    "
   ]
  },
  {
   "cell_type": "code",
   "execution_count": null,
   "id": "a2603f87",
   "metadata": {},
   "outputs": [],
   "source": [
    "square(turtle.Turtle())"
   ]
  },
  {
   "cell_type": "code",
   "execution_count": 6,
   "id": "c1c8f3b7",
   "metadata": {},
   "outputs": [],
   "source": [
    "import turtle\n",
    "def polygon(t, n, length):\n",
    "    angle = 360 / n\n",
    "    for i in range(n):\n",
    "        t.fd(length)\n",
    "        t.lt(angle)"
   ]
  },
  {
   "cell_type": "code",
   "execution_count": 7,
   "id": "f9d66930",
   "metadata": {},
   "outputs": [],
   "source": [
    "import turtle\n",
    "polygon(turtle.Turtle(), 7, 70)"
   ]
  },
  {
   "cell_type": "code",
   "execution_count": 8,
   "id": "bfa8ba7f-5482-4834-8856-a00c2a7e0a55",
   "metadata": {},
   "outputs": [],
   "source": [
    "polygon(turtle.Turtle(), 360, 2)"
   ]
  },
  {
   "cell_type": "code",
   "execution_count": 4,
   "id": "7fea6d21-9e20-4f67-952e-ed433e3e0e62",
   "metadata": {},
   "outputs": [],
   "source": [
    "import math\n",
    "\n",
    "def circle(t, r):\n",
    "    n = 360\n",
    "    circ = math.pi * r\n",
    "    l = circ / n\n",
    "    polygon(t,n,l)"
   ]
  },
  {
   "cell_type": "code",
   "execution_count": 9,
   "id": "d5888654-eac3-4cd5-9097-773c19962901",
   "metadata": {},
   "outputs": [],
   "source": [
    "circle(turtle.Turtle(), 100)"
   ]
  },
  {
   "cell_type": "code",
   "execution_count": null,
   "id": "b5de2902-aac6-48c5-96af-4c2086a1f76e",
   "metadata": {},
   "outputs": [],
   "source": []
  },
  {
   "cell_type": "code",
   "execution_count": 1,
   "id": "2dca0c7b-8fa9-4748-be1b-c0de2e475cd7",
   "metadata": {},
   "outputs": [],
   "source": [
    "import turtle\n",
    "import math\n",
    "\n",
    "def arc(t, r, angle):\n",
    "    arc_length = 2 * math.pi * r * angle / 360\n",
    "    n = int(arc_length / 3) + 1\n",
    "    step_length = arc_length / n\n",
    "    step_angle = angle / n\n",
    "    \n",
    "    \n",
    "    for i in range(n):\n",
    "        t.fd(step_length)\n",
    "        t.lt(step_angle)\n",
    "               "
   ]
  },
  {
   "cell_type": "code",
   "execution_count": 2,
   "id": "6d295ca8-0f00-42a4-aac6-85680d49edb6",
   "metadata": {},
   "outputs": [],
   "source": [
    "arc(turtle.Turtle(), 10, 20)"
   ]
  },
  {
   "cell_type": "code",
   "execution_count": 13,
   "id": "97441b60-7590-4a95-ac57-8076181bf278",
   "metadata": {},
   "outputs": [],
   "source": [
    "def isosceles(t, l, theta):\n",
    "\t# t : turtle\n",
    "\t# l: length of legs\n",
    "\t# theta: inner angle \n",
    "\t\n",
    "\tb = 2 * l * math.sin(((theta/2)/180) * math.pi) #base length\n",
    "\t\n",
    "\tt.fd(l)\n",
    "\tt.rt(90+theta/2)\n",
    "\tt.fd(b)\n",
    "\tt.rt(90+theta/2)\n",
    "\tt.fd(l)\n",
    "\tt.lt(180)\n",
    "\t\n",
    "\n",
    "\n",
    "def pie(t, n, l):\n",
    "\t# t : turtle\n",
    "\t# n : the amount of pieces of pie\n",
    "\t# l : the length of leg\n",
    "\t\n",
    "\ttheta = 360.0 / n # inner angle\n",
    "\tfor i in range(n):\n",
    "\t\tisosceles(t, l, theta)\n",
    "\t\t\n",
    "\t\t\n"
   ]
  },
  {
   "cell_type": "code",
   "execution_count": null,
   "id": "462d974a-1f4c-4043-9ef3-59674ad9f75f",
   "metadata": {},
   "outputs": [],
   "source": [
    "#from swampy.TurtleWorld import *\n",
    "import math"
   ]
  },
  {
   "cell_type": "code",
   "execution_count": 14,
   "id": "056e1b44-6759-4327-a024-ba22b8c685ac",
   "metadata": {},
   "outputs": [
    {
     "ename": "AttributeError",
     "evalue": "'Turtle' object has no attribute 'die'",
     "output_type": "error",
     "traceback": [
      "\u001b[0;31m---------------------------------------------------------------------------\u001b[0m",
      "\u001b[0;31mAttributeError\u001b[0m                            Traceback (most recent call last)",
      "Input \u001b[0;32mIn [14]\u001b[0m, in \u001b[0;36m<cell line: 24>\u001b[0;34m()\u001b[0m\n\u001b[1;32m     21\u001b[0m bob\u001b[38;5;241m.\u001b[39mfd(\u001b[38;5;241m120\u001b[39m)\n\u001b[1;32m     22\u001b[0m bob\u001b[38;5;241m.\u001b[39mpd()\n\u001b[0;32m---> 24\u001b[0m \u001b[43mbob\u001b[49m\u001b[38;5;241;43m.\u001b[39;49m\u001b[43mdie\u001b[49m()\n\u001b[1;32m     25\u001b[0m wait_for_user()\n",
      "\u001b[0;31mAttributeError\u001b[0m: 'Turtle' object has no attribute 'die'"
     ]
    }
   ],
   "source": [
    "bob = turtle.Turtle()\n",
    "bob.delay = 0.001\n",
    "\n",
    "pie(bob, 5, 30)\n",
    "bob.pu()\n",
    "bob.fd(120)\n",
    "bob.pd()\n",
    "\n",
    "pie(bob, 6, 30)\n",
    "bob.pu()\n",
    "bob.fd(120)\n",
    "bob.pd()\n",
    "\n",
    "pie(bob, 7, 30)\n",
    "bob.pu()\n",
    "bob.fd(120)\n",
    "bob.pd()\n",
    "\n",
    "pie(bob, 8, 30)\n",
    "bob.pu()\n",
    "bob.fd(120)\n",
    "bob.pd()\n",
    "\n",
    "bob.die()\n",
    "wait_for_user()"
   ]
  },
  {
   "cell_type": "code",
   "execution_count": null,
   "id": "3a126588-3ef1-4065-86f2-1f8ed4b440eb",
   "metadata": {},
   "outputs": [],
   "source": []
  },
  {
   "cell_type": "markdown",
   "id": "dbb333fe-eb2b-4eca-ad0f-b84fe03247be",
   "metadata": {},
   "source": [
    "# Chapter 5: Conditionals and recursion"
   ]
  },
  {
   "cell_type": "code",
   "execution_count": null,
   "id": "bab649b0",
   "metadata": {},
   "outputs": [],
   "source": [
    "import turtle"
   ]
  },
  {
   "cell_type": "code",
   "execution_count": null,
   "id": "040c56ab",
   "metadata": {},
   "outputs": [],
   "source": [
    "name = input('What...is your name?\\n')\n",
    "print(name)"
   ]
  },
  {
   "cell_type": "code",
   "execution_count": 10,
   "id": "682c5490",
   "metadata": {},
   "outputs": [],
   "source": [
    "def draw(t, length, n):\n",
    "    if n == 0:\n",
    "        return\n",
    "    angle = 50\n",
    "    t.fd(length*n)\n",
    "    t.lt(angle)\n",
    "    draw(t, length, n-1)\n",
    "    t.rt(2*angle)\n",
    "    draw(t, length, n-1)\n",
    "    t.lt(angle)\n",
    "    t.bk(length*n)"
   ]
  },
  {
   "cell_type": "code",
   "execution_count": 11,
   "id": "658ce861",
   "metadata": {},
   "outputs": [],
   "source": [
    "draw(turtle.Turtle(), 10, 5)"
   ]
  },
  {
   "cell_type": "code",
   "execution_count": null,
   "id": "9cf87c32",
   "metadata": {},
   "outputs": [],
   "source": []
  },
  {
   "cell_type": "code",
   "execution_count": null,
   "id": "af04de33",
   "metadata": {},
   "outputs": [],
   "source": [
    "# area variables (in square meters)\n",
    "hall = 11.25\n",
    "kit = 18.0\n",
    "liv = 20.0\n",
    "bed = 10.75\n",
    "bath = 9.50\n",
    "\n",
    "# house information as list of lists\n",
    "house = [[\"hallway\", hall],\n",
    "         [\"kitchen\", kit],\n",
    "         [\"living room\", liv],\n",
    "         [\"bedroom\", bed],\n",
    "         [\"bathroom\", bath]\n",
    "         ]\n",
    "\n"
   ]
  },
  {
   "cell_type": "code",
   "execution_count": null,
   "id": "a96187f1",
   "metadata": {},
   "outputs": [],
   "source": [
    "print(house)"
   ]
  },
  {
   "cell_type": "code",
   "execution_count": null,
   "id": "a85161ba",
   "metadata": {},
   "outputs": [],
   "source": [
    "house[-1][1]"
   ]
  },
  {
   "cell_type": "code",
   "execution_count": null,
   "id": "b3e95767-08da-44b0-8686-6f6693fd858b",
   "metadata": {},
   "outputs": [],
   "source": []
  },
  {
   "cell_type": "code",
   "execution_count": null,
   "id": "51b4452f-a0a4-45ab-b9ab-ac2bdd9a172a",
   "metadata": {},
   "outputs": [],
   "source": [
    "def check_fermat(a,b,c,n):\n",
    "    \n",
    "    i = a**n + b**n\n",
    "    x = c**n\n",
    "    \n",
    "    if  i == x :\n",
    "        print('Holy smokes, Fermat was wrong!')\n",
    "    else:\n",
    "        print('No, that doesn’t work.')\n",
    "        \n",
    "        "
   ]
  },
  {
   "cell_type": "code",
   "execution_count": null,
   "id": "e2548a69-da12-4983-85a9-797bd7c86ea6",
   "metadata": {},
   "outputs": [],
   "source": []
  },
  {
   "cell_type": "code",
   "execution_count": null,
   "id": "dda02b78-de5e-4925-a982-f8aefd0139f8",
   "metadata": {},
   "outputs": [],
   "source": [
    "import random\n",
    "random.randint(1,1000)"
   ]
  },
  {
   "cell_type": "code",
   "execution_count": null,
   "id": "4e58da20-12ff-4a54-a2a8-7047755d141a",
   "metadata": {},
   "outputs": [],
   "source": [
    "import time"
   ]
  },
  {
   "cell_type": "code",
   "execution_count": null,
   "id": "9b70f1f8-f530-4c3e-9c0c-3c09dca3bec3",
   "metadata": {},
   "outputs": [],
   "source": [
    "tff = time.strftime('%m/%d/%y %H:%M:%S',tf)\n",
    "tff"
   ]
  },
  {
   "cell_type": "code",
   "execution_count": null,
   "id": "a4a0ee8b-0b71-4b07-b713-d6c98d6a836e",
   "metadata": {},
   "outputs": [],
   "source": [
    "tff = time.strftime('%m/%d/%y %I:%M:%S',time.gmtime())\n",
    "tff"
   ]
  },
  {
   "cell_type": "code",
   "execution_count": null,
   "id": "52e8b422-82f4-49dc-bcdb-86653373ace4",
   "metadata": {},
   "outputs": [],
   "source": [
    "t = time.strftime('%m/%d/%Y %I:%M:%S',time.localtime())\n",
    "t"
   ]
  },
  {
   "cell_type": "code",
   "execution_count": null,
   "id": "c5f4c635-9603-460c-a4de-6c46c0e956f1",
   "metadata": {},
   "outputs": [],
   "source": [
    "t = time.strftime('%I:%M:%S',time.localtime())\n",
    "t"
   ]
  },
  {
   "cell_type": "code",
   "execution_count": null,
   "id": "e27ab8bc-76fb-44c3-9bad-30d02f9b51e0",
   "metadata": {},
   "outputs": [],
   "source": [
    "dif =  time.mktime(time.localtime()) // (60*60*24)\n",
    "dif"
   ]
  },
  {
   "cell_type": "code",
   "execution_count": null,
   "id": "0dfcfa14-aa75-47e5-870b-f5612a3e97f0",
   "metadata": {},
   "outputs": [],
   "source": []
  },
  {
   "cell_type": "code",
   "execution_count": null,
   "id": "9e67b51a-1df2-463f-8557-fa3e5ebb0a62",
   "metadata": {},
   "outputs": [],
   "source": [
    "\"42 0\".split() "
   ]
  },
  {
   "cell_type": "code",
   "execution_count": null,
   "id": "75ea6a75-f7f8-4952-9d7f-042bf67e94c6",
   "metadata": {},
   "outputs": [],
   "source": [
    "args = map(int, \"42 0\".split())\n",
    "a, b = list(args)\n"
   ]
  },
  {
   "cell_type": "code",
   "execution_count": null,
   "id": "f419efb2-b614-444e-8352-7e5b4dc2d082",
   "metadata": {},
   "outputs": [],
   "source": [
    "a"
   ]
  },
  {
   "cell_type": "code",
   "execution_count": null,
   "id": "6d7987d6-3e06-45c8-a5d4-17a12a135cbf",
   "metadata": {},
   "outputs": [],
   "source": [
    "b"
   ]
  },
  {
   "cell_type": "markdown",
   "id": "a1b42462-1fbb-4761-aae5-c4392c0a9a58",
   "metadata": {},
   "source": [
    "# chapter 10: Lists"
   ]
  },
  {
   "cell_type": "code",
   "execution_count": null,
   "id": "5dbc9885",
   "metadata": {},
   "outputs": [],
   "source": []
  },
  {
   "cell_type": "code",
   "execution_count": null,
   "id": "e57f2385",
   "metadata": {},
   "outputs": [],
   "source": []
  },
  {
   "cell_type": "code",
   "execution_count": null,
   "id": "6f24028b-ddbf-44c4-87c2-0ff6565de89f",
   "metadata": {},
   "outputs": [],
   "source": []
  },
  {
   "cell_type": "markdown",
   "id": "b5d05447-a412-4c2f-9735-c12288546ef6",
   "metadata": {},
   "source": [
    "# chapter 11: Dictionaries"
   ]
  },
  {
   "cell_type": "code",
   "execution_count": 4,
   "id": "496fa996-27f5-4bc8-9da0-3b1d70091e1c",
   "metadata": {},
   "outputs": [],
   "source": [
    "def histogram(s):\n",
    "    d = dict()\n",
    "    for c in s:\n",
    "        if c not in d:\n",
    "            d[c] = 1 \n",
    "        else:\n",
    "            d[c] += 1\n",
    "    return d"
   ]
  },
  {
   "cell_type": "code",
   "execution_count": 6,
   "id": "2bd2e031-1d36-4986-8fef-617e388a79c3",
   "metadata": {},
   "outputs": [],
   "source": [
    "def histogram2(s):\n",
    "    d = dict()\n",
    "    for c in s:\n",
    "        d[c] = d.get(c,0) +1\n",
    "    return d"
   ]
  },
  {
   "cell_type": "code",
   "execution_count": 5,
   "id": "05a00bc4-4a6b-4f46-a614-ed50777f0cee",
   "metadata": {},
   "outputs": [
    {
     "data": {
      "text/plain": [
       "{'b': 1, 'r': 2, 'o': 2, 'n': 1, 't': 1, 's': 2, 'a': 1, 'u': 2}"
      ]
     },
     "execution_count": 5,
     "metadata": {},
     "output_type": "execute_result"
    }
   ],
   "source": [
    "h = histogram('brontosaurus')\n",
    "h"
   ]
  },
  {
   "cell_type": "code",
   "execution_count": 7,
   "id": "8f7bf99a-016d-4196-b7b8-c3d15100a2fd",
   "metadata": {},
   "outputs": [
    {
     "data": {
      "text/plain": [
       "{'b': 1, 'r': 2, 'o': 2, 'n': 1, 't': 1, 's': 2, 'a': 1, 'u': 2}"
      ]
     },
     "execution_count": 7,
     "metadata": {},
     "output_type": "execute_result"
    }
   ],
   "source": [
    "h = histogram2('brontosaurus')\n",
    "h"
   ]
  },
  {
   "cell_type": "code",
   "execution_count": 8,
   "id": "113c63a8-b5fe-452a-a8f8-18905c4fe464",
   "metadata": {},
   "outputs": [],
   "source": [
    "known = {0:0, 1:1}\n",
    "\n",
    "def fibonacci(n):\n",
    "    if n in known:\n",
    "        return known[n]\n",
    "    res = fibonacci(n-1) + fibonacci(n-2)\n",
    "    known[n] = res\n",
    "    return res"
   ]
  },
  {
   "cell_type": "code",
   "execution_count": 14,
   "id": "876012ad-936c-4108-9bff-b0e645c95124",
   "metadata": {},
   "outputs": [
    {
     "data": {
      "text/plain": [
       "5"
      ]
     },
     "execution_count": 14,
     "metadata": {},
     "output_type": "execute_result"
    }
   ],
   "source": [
    "fibonacci(5)"
   ]
  },
  {
   "cell_type": "code",
   "execution_count": null,
   "id": "330d8ba4-50c7-4855-94c1-cbf2009d26ef",
   "metadata": {},
   "outputs": [],
   "source": []
  },
  {
   "cell_type": "code",
   "execution_count": null,
   "id": "c4615ab9-261f-49ec-abea-45d6ee4ba518",
   "metadata": {},
   "outputs": [],
   "source": []
  },
  {
   "cell_type": "markdown",
   "id": "f6aa0489-971c-42c5-94f9-acd85180999f",
   "metadata": {},
   "source": [
    "# chapter 15: Classes and objects"
   ]
  },
  {
   "cell_type": "code",
   "execution_count": null,
   "id": "8db7ac52-4988-4026-baf8-cdc0aeb15e7f",
   "metadata": {},
   "outputs": [],
   "source": [
    "class Point():\n",
    "    "
   ]
  },
  {
   "cell_type": "code",
   "execution_count": null,
   "id": "e83b5bde-c960-468e-ae64-266eb03bfbbc",
   "metadata": {},
   "outputs": [],
   "source": [
    "divmod(90, 60)"
   ]
  },
  {
   "cell_type": "code",
   "execution_count": null,
   "id": "2ff9f231-a41f-464c-ab72-db452dba2301",
   "metadata": {},
   "outputs": [],
   "source": []
  },
  {
   "cell_type": "code",
   "execution_count": null,
   "id": "2a1f9867-01fa-41ce-a4a8-2dbb7ccff6e1",
   "metadata": {},
   "outputs": [],
   "source": []
  },
  {
   "cell_type": "markdown",
   "id": "566b8194-dfb1-4e4f-b747-53e0c5968bc0",
   "metadata": {},
   "source": [
    "# Chapter 16: Classes and functions"
   ]
  },
  {
   "cell_type": "code",
   "execution_count": null,
   "id": "ae7ef065-7d52-4609-9347-d57dc5fdb5d9",
   "metadata": {},
   "outputs": [],
   "source": [
    "import time"
   ]
  },
  {
   "cell_type": "code",
   "execution_count": null,
   "id": "4438a07c-cad9-4850-a60e-d59c8b477f84",
   "metadata": {},
   "outputs": [],
   "source": [
    "t = time.localtime()\n",
    "t"
   ]
  },
  {
   "cell_type": "code",
   "execution_count": null,
   "id": "b391ecfe-dc2e-483e-9003-6497f2cc6521",
   "metadata": {},
   "outputs": [],
   "source": [
    "\n",
    "\n",
    "m,s =divmod(t.tm_sec * 4, 60)"
   ]
  },
  {
   "cell_type": "code",
   "execution_count": null,
   "id": "cb10cf5b-d67b-4a2b-9579-abee33fb4ab8",
   "metadata": {},
   "outputs": [],
   "source": [
    "h,m = divmod(t.tm_min)"
   ]
  },
  {
   "cell_type": "code",
   "execution_count": null,
   "id": "41adbd4d-f476-47ea-a4a6-12cb57b8405d",
   "metadata": {},
   "outputs": [],
   "source": [
    "time.time()"
   ]
  },
  {
   "cell_type": "code",
   "execution_count": null,
   "id": "adc20784-9870-455f-9cfd-1a1932b07b68",
   "metadata": {},
   "outputs": [],
   "source": [
    "time.localtime(time.time()*4)"
   ]
  },
  {
   "cell_type": "code",
   "execution_count": null,
   "id": "ac377579-5dd7-4ad0-aece-8886f261eacd",
   "metadata": {},
   "outputs": [],
   "source": []
  },
  {
   "cell_type": "code",
   "execution_count": null,
   "id": "1492fa3b-711d-4326-bbd6-5b45f08046f4",
   "metadata": {},
   "outputs": [],
   "source": []
  },
  {
   "cell_type": "code",
   "execution_count": null,
   "id": "2e169c45-3484-4dbb-a2c3-8be3e99a9057",
   "metadata": {},
   "outputs": [],
   "source": [
    "from __future__ import print_function, division\n",
    "from datetime import datetime\n",
    "\n",
    "\n",
    "class Time():\n",
    "\n",
    "    def __init__(self):\n",
    "        self.hour = 0\n",
    "        self.minute = 0\n",
    "        self.second = 0\n",
    "\n",
    "\n",
    "def time_to_int(time):\n",
    "    \"\"\"Computes the number of seconds since midnight.\n",
    "\n",
    "    time: Time object.\n",
    "    \"\"\"\n",
    "    minutes = time.hour * 60 + time.minute\n",
    "    seconds = minutes * 60 + time.second\n",
    "    return seconds\n",
    "\n",
    "\n",
    "def mul_time(time, factor):\n",
    "    \"\"\"Multiplies a Time object by a factor.\"\"\"\n",
    "    #assert valid_time(t1)\n",
    "    seconds = time_to_int(time) * factor\n",
    "    return int_to_time(seconds)\n",
    "    \n",
    "def int_to_time(seconds):\n",
    "    \"\"\"Makes a new Time object.\n",
    "\n",
    "    seconds: int seconds since midnight.\n",
    "    \"\"\"\n",
    "    time = Time()\n",
    "    minutes, time.second = divmod(seconds, 60)\n",
    "    time.hour, time.minute = divmod(minutes, 60)\n",
    "    return time\n",
    "\n",
    "\n",
    "def avg_pace(time, dist):\n",
    "    pace = dist / (time_to_int(time)/60/60)\n",
    "    return int_to_time(pace*60*60)\n",
    "    "
   ]
  },
  {
   "cell_type": "code",
   "execution_count": null,
   "id": "e1cce080-9e6f-45e6-bcde-3229a8152e60",
   "metadata": {},
   "outputs": [],
   "source": [
    "t = Time()\n",
    "t.hour = 1\n",
    "t.minute = 0\n",
    "\n",
    "t2 = mul_time(t,3)\n",
    "t2.__dict__\n",
    "\n",
    "\n",
    "\n",
    "\n",
    "t3 = avg_pace(t2,500)\n",
    "t3.__dict__"
   ]
  },
  {
   "cell_type": "code",
   "execution_count": null,
   "id": "582ae084-0525-4aa1-ac9d-d660deaa7d60",
   "metadata": {},
   "outputs": [],
   "source": [
    "print(45 / (time_to_int(t2)/60/60) )"
   ]
  },
  {
   "cell_type": "code",
   "execution_count": null,
   "id": "eb37197f-90ef-4cb3-909d-3518ba1f9531",
   "metadata": {},
   "outputs": [],
   "source": [
    "t = Time()\n",
    "t.hour =1\n",
    "\n",
    "t3 = avg_pace(t,10)\n",
    "t3.__dict__"
   ]
  },
  {
   "cell_type": "markdown",
   "id": "749d028f-f0ef-4927-b166-4823b857dab1",
   "metadata": {},
   "source": [
    "Exercise 16.2. The datetime module provides time objects that are similar to the Time objects in this chapter, but they provide a rich set of methods and operators. Read the documentation at http: // docs. python. org/ 3/ library/ datetime. html .\n",
    "1. Use the datetime module to write a program that gets the current date and prints the day of the week.\n",
    "2. Write a program that takes a birthday as input and prints the user’s age and the number of days, hours, minutes and seconds until their next birthday.\n",
    "3. For two people born on different days, there is a day when one is twice as old as the other. That’s their Double Day. Write a program that takes two birth dates and computes their Double Day.\n",
    "4. For a little more challenge, write the more general version that computes the day when one person is n times older than the other."
   ]
  },
  {
   "cell_type": "code",
   "execution_count": null,
   "id": "0dad75cd-d8c2-4957-96e7-2fe9dcd88162",
   "metadata": {},
   "outputs": [],
   "source": [
    "import datetime"
   ]
  },
  {
   "cell_type": "code",
   "execution_count": null,
   "id": "1d65eb3b-cfc4-4ac6-9a34-58827dadefb6",
   "metadata": {},
   "outputs": [],
   "source": [
    "t = time.strftime('%A',time.localtime())\n",
    "t"
   ]
  },
  {
   "cell_type": "code",
   "execution_count": null,
   "id": "a78306e1-19ad-4efb-ab3c-a164f42f4a81",
   "metadata": {},
   "outputs": [],
   "source": [
    "import datetime\n",
    "\n",
    "def birthday():\n",
    "    b_str = input('What is your birthday dd/mm/yyyy \\n')\n",
    "    b_day = time.strptime(b_str, '%d/%m/%Y')\n",
    "    now = time.localtime()\n",
    "    age = now.tm_year - b_day.tm_year\n",
    "    print('\\n --- age:', age )"
   ]
  },
  {
   "cell_type": "code",
   "execution_count": null,
   "id": "0bfe8911-1bc1-4545-993e-ee652dda31e2",
   "metadata": {},
   "outputs": [],
   "source": [
    "b_str = birthday()"
   ]
  },
  {
   "cell_type": "code",
   "execution_count": null,
   "id": "ed6f78d0-1edd-4842-a003-5932c412b132",
   "metadata": {},
   "outputs": [],
   "source": []
  },
  {
   "cell_type": "code",
   "execution_count": null,
   "id": "5322df5e-57aa-441b-857f-60e13bb2d8dd",
   "metadata": {},
   "outputs": [],
   "source": [
    "t = time.strptime('26 Sep 2012', '%d %b %Y')\n",
    "t"
   ]
  },
  {
   "cell_type": "code",
   "execution_count": null,
   "id": "f795f817-35e1-4a5b-a494-72d5b042f240",
   "metadata": {},
   "outputs": [],
   "source": [
    "t = time.strptime('23 1 1973', '%d %m %Y')\n",
    "t"
   ]
  },
  {
   "cell_type": "code",
   "execution_count": null,
   "id": "efb2cd4c-5ec5-4a33-817e-82f27f7c2a46",
   "metadata": {},
   "outputs": [],
   "source": [
    "b_day = time.strptime('23/1/1973', '%d/%m/%Y')\n",
    "now = time.localtime()"
   ]
  },
  {
   "cell_type": "code",
   "execution_count": null,
   "id": "66331485-0f57-4c8d-81a7-78f4d25f2fca",
   "metadata": {},
   "outputs": [],
   "source": [
    "age = now.tm_year - b_day.tm_year\n",
    "age"
   ]
  },
  {
   "cell_type": "code",
   "execution_count": null,
   "id": "0d6410d6-2631-4196-93d4-ed67ad577624",
   "metadata": {},
   "outputs": [],
   "source": [
    "t = time.mktime(now) - time.mktime(b_day)\n",
    "diff = t / 60 / 60 / 24 / 365\n",
    "diff"
   ]
  },
  {
   "cell_type": "code",
   "execution_count": null,
   "id": "b66965e6-0e52-40ea-aa0b-1ebb62bfb023",
   "metadata": {},
   "outputs": [],
   "source": []
  },
  {
   "cell_type": "code",
   "execution_count": null,
   "id": "58172ce1-12cd-415a-8665-9ef8b2e12c0d",
   "metadata": {},
   "outputs": [],
   "source": []
  },
  {
   "cell_type": "code",
   "execution_count": null,
   "id": "5b5bc78c-3f7e-4f49-a45e-9efee1f0caec",
   "metadata": {},
   "outputs": [],
   "source": [
    "import time\n",
    "\n",
    "def double_day(b1, b2):\n",
    "\n",
    "    #print(type(b1),type(b2))\n",
    "    \n",
    "    a1 = 0\n",
    "    a2 = 0\n",
    "    \n",
    "    if (b1 == b2):\n",
    "        return a1, a2\n",
    "   \n",
    "    now = time.localtime()\n",
    "    \n",
    "    #print(type(b1),type(b2))\n",
    "    a1 = now.tm_year - b1.tm_year\n",
    "    a2 = now.tm_year - b2.tm_year\n",
    "\n",
    "    while(a1!=0 and a2!=0):\n",
    "        #print(a1, a2)\n",
    "        a1 -= 1\n",
    "        a2 -= 1\n",
    "        if (a1*2 == a2 or a1 == a2*2) : return a1, a2\n",
    " \n",
    "\n",
    "    a1 = now.tm_year - b1.tm_year\n",
    "    a2 = now.tm_year - b2.tm_year\n",
    "    while(a1*2 != a2 and a1 != a2*2):\n",
    "        a1 += 1\n",
    "        a2 += 1\n",
    "\n",
    "        \n",
    "    return a1, a2\n",
    "\n"
   ]
  },
  {
   "cell_type": "code",
   "execution_count": null,
   "id": "27b2d700-44c0-41de-8059-89e6762999a5",
   "metadata": {},
   "outputs": [],
   "source": [
    "\n",
    "    "
   ]
  },
  {
   "cell_type": "code",
   "execution_count": null,
   "id": "027c56d9-677e-46ae-af39-1621591c1ccc",
   "metadata": {},
   "outputs": [],
   "source": [
    "b_day1 = time.strptime('23/1/1900', '%d/%m/%Y')\n",
    "b_day2 = time.strptime('23/1/1973', '%d/%m/%Y')\n",
    "\n",
    "\n",
    "\n",
    "#type(b_day2)\n",
    "a1, b1 = double_day(b_day1, b_day2)\n",
    "print(a1, b1)"
   ]
  },
  {
   "cell_type": "code",
   "execution_count": null,
   "id": "aeadb06a-4e59-48a9-9e76-0b96cf1f3511",
   "metadata": {},
   "outputs": [],
   "source": [
    "import time\n",
    "\n",
    "def double_time(b_day1,b_day2): \n",
    "    \n",
    "    b1 = b_day1.tm_year\n",
    "    b2 = b_day2.tm_year\n",
    "    \n",
    "    print(\"Double Day is\")\n",
    "    d1 = min(b1, b2)\n",
    "    d2 = max(b1, b2)\n",
    "    dd = d2 + (d2 - d1)\n",
    "    print(dd)\n",
    "    \n",
    "    return dd"
   ]
  },
  {
   "cell_type": "code",
   "execution_count": null,
   "id": "4dce855d-b4ac-4ce6-b714-2b811bb5793e",
   "metadata": {},
   "outputs": [],
   "source": [
    "b_day1 = time.strptime('23/1/1900', '%d/%m/%Y')\n",
    "b_day2 = time.strptime('23/1/1973', '%d/%m/%Y')\n",
    "dd = double_time(b_day1,b_day2)\n",
    "print(dd, dd-b_day1.tm_year, dd-b_day2.tm_year)"
   ]
  },
  {
   "cell_type": "code",
   "execution_count": null,
   "id": "a150d823-6077-409e-bc81-b6609bdf87b0",
   "metadata": {},
   "outputs": [],
   "source": [
    "import time\n",
    "\n",
    "def n_time(b_day1,b_day2,n): \n",
    "    \n",
    "    b1 = b_day1.tm_year\n",
    "    b2 = b_day2.tm_year\n",
    "    \n",
    "    print(\"Double Day is\")\n",
    "    d1 = min(b1, b2)\n",
    "    d2 = max(b1, b2)\n",
    "    dd = (d2 + (d2 - d1)) * (n-1)\n",
    "    print(dd)\n",
    "    \n",
    "    return dd"
   ]
  },
  {
   "cell_type": "code",
   "execution_count": null,
   "id": "94813369-1629-4b41-9c26-a894a4fa5c6e",
   "metadata": {},
   "outputs": [],
   "source": [
    "b_day1 = time.strptime('23/1/1900', '%d/%m/%Y')\n",
    "b_day2 = time.strptime('23/1/1973', '%d/%m/%Y')\n",
    "now = time.localtime()\n",
    "dd = n_time(b_day1,b_day2, 10)\n",
    "print(dd, now.tm_year-b_day1.tm_year, now.tm_year-b_day2.tm_year)"
   ]
  },
  {
   "cell_type": "code",
   "execution_count": null,
   "id": "7c647c4e-43e1-41f0-b0ca-a9363417d7ed",
   "metadata": {},
   "outputs": [],
   "source": []
  },
  {
   "cell_type": "markdown",
   "id": "05395b02-b9f2-4de1-ad08-0f10dbc39619",
   "metadata": {},
   "source": [
    "# Chapter 17: Classes and methods"
   ]
  },
  {
   "cell_type": "code",
   "execution_count": null,
   "id": "d6b859ea-e24e-4799-8edf-6b40ed73b142",
   "metadata": {},
   "outputs": [],
   "source": [
    "class Time_17(Time):\n",
    "    \n",
    "    def __radd__(self, other):\n",
    "        return self.__add__(other)\n",
    "    \n",
    "    \n",
    "    def __add__(self, other): \n",
    "        \n",
    "        self.minute += other\n",
    "        \n",
    "        return self.minute\n",
    "    "
   ]
  },
  {
   "cell_type": "code",
   "execution_count": null,
   "id": "c21c5644-b02f-4351-95ae-da43570e0c0e",
   "metadata": {},
   "outputs": [],
   "source": [
    "t = Time_17()\n",
    "t.hour = 12\n",
    "\n",
    "t.__dict__"
   ]
  },
  {
   "cell_type": "code",
   "execution_count": null,
   "id": "71fa20c1-5ec5-4b57-be22-8cdebed867f3",
   "metadata": {},
   "outputs": [],
   "source": [
    "t = 12 + t\n",
    "\n",
    "t"
   ]
  },
  {
   "cell_type": "code",
   "execution_count": null,
   "id": "35835e13-87cf-4a64-a435-12df6c262595",
   "metadata": {},
   "outputs": [],
   "source": [
    "import datetime"
   ]
  },
  {
   "cell_type": "code",
   "execution_count": null,
   "id": "c31da9b6-e11b-4cd1-8a51-63ead7b11395",
   "metadata": {},
   "outputs": [],
   "source": [
    "datetime_object = datetime.datetime.now()\n",
    "print(datetime_object)"
   ]
  },
  {
   "cell_type": "code",
   "execution_count": null,
   "id": "baaf05e6-a2f1-4371-b042-8e1104adf9e1",
   "metadata": {},
   "outputs": [],
   "source": [
    "t = datetime.datetime.now()\n",
    "t"
   ]
  },
  {
   "cell_type": "code",
   "execution_count": null,
   "id": "86a8b94d-1379-4a28-ac29-63897e0a3118",
   "metadata": {},
   "outputs": [],
   "source": [
    "type(t)"
   ]
  },
  {
   "cell_type": "code",
   "execution_count": null,
   "id": "9ebdf2aa-972c-4554-9404-d52c9e193b7e",
   "metadata": {},
   "outputs": [],
   "source": [
    "t = datetime.datetime.today()\n",
    "t"
   ]
  },
  {
   "cell_type": "code",
   "execution_count": null,
   "id": "e5ff30d2-c525-4dcb-98c3-cd527c2189da",
   "metadata": {},
   "outputs": [],
   "source": [
    "from datetime import date"
   ]
  },
  {
   "cell_type": "code",
   "execution_count": null,
   "id": "39b7e161-96af-4980-bf60-a490330a12f0",
   "metadata": {},
   "outputs": [],
   "source": [
    "timestamp = datetime.date.fromtimestamp(1326244364)\n",
    "print(\"Date =\", timestamp)\n",
    "print(\"Date =\", timestamp.year)\n",
    "print(\"Date =\", timestamp.month)\n",
    "print(\"Date =\", timestamp.day)\n"
   ]
  },
  {
   "cell_type": "code",
   "execution_count": null,
   "id": "a6b34c9b-ae9e-4f24-b004-e8e8d03fef7e",
   "metadata": {},
   "outputs": [],
   "source": [
    "\n",
    "from datetime import datetime\n",
    "\n",
    "#datetime(year, month, day)\n",
    "a = datetime(2018, 11, 28)\n",
    "print(a)\n",
    "\n",
    "# datetime(year, month, day, hour, minute, second, microsecond)\n",
    "b = datetime(2017, 11, 28, 23, 55, 59, 342380)\n",
    "print(b)"
   ]
  },
  {
   "cell_type": "code",
   "execution_count": null,
   "id": "c709a0cf-e353-488b-9a0b-950319d4a736",
   "metadata": {},
   "outputs": [],
   "source": []
  },
  {
   "cell_type": "code",
   "execution_count": null,
   "id": "cea13736-38ef-44ba-b7fa-6a2df03d38fa",
   "metadata": {},
   "outputs": [],
   "source": [
    "import datetime\n",
    "time_1 = datetime.timedelta(hours= 10 , minutes=20, seconds=30)\n",
    "time_1"
   ]
  },
  {
   "cell_type": "markdown",
   "id": "bdde6351-0875-4dfd-85f2-46638e8bd7c2",
   "metadata": {},
   "source": [
    "# Chapter 19: The Goodies"
   ]
  },
  {
   "cell_type": "code",
   "execution_count": null,
   "id": "55588604-f1da-4aac-8032-f1d26bc9bea3",
   "metadata": {},
   "outputs": [],
   "source": [
    "def binomial_coeff(n, k):\n",
    "    \"\"\"Compute the binomial coefficient \"n choose k\".\n",
    "    n: number of trials\n",
    "    k: number of successes\n",
    "    returns: int\n",
    "    \"\"\"\n",
    "    \n",
    "    if k == 0:\n",
    "        return 1\n",
    "    if n == 0:\n",
    "        return 0\n",
    "    \n",
    "    res = binomial_coeff(n-1, k) + binomial_coeff(n-1, k-1)\n",
    "    return res"
   ]
  },
  {
   "cell_type": "code",
   "execution_count": null,
   "id": "6f0c7189-94e9-4556-a9bc-59932ffacf87",
   "metadata": {},
   "outputs": [],
   "source": [
    "def binomial_coeff2(n, k):\n",
    "    return 1 if k == 0 else 0 if n==0 else  binomial_coeff2(n-1, k) + binomial_coeff2(n-1, k-1)"
   ]
  },
  {
   "cell_type": "code",
   "execution_count": null,
   "id": "bb4220f7-da38-4cf7-b9a2-16e548f43701",
   "metadata": {},
   "outputs": [],
   "source": [
    "binomial_coeff(9,3)"
   ]
  },
  {
   "cell_type": "code",
   "execution_count": null,
   "id": "34aeac72-64c7-4b1c-8f19-81b28ff3f2a7",
   "metadata": {},
   "outputs": [],
   "source": [
    "binomial_coeff2(9,3)"
   ]
  }
 ],
 "metadata": {
  "kernelspec": {
   "display_name": "Python 3 (ipykernel)",
   "language": "python",
   "name": "python3"
  },
  "language_info": {
   "codemirror_mode": {
    "name": "ipython",
    "version": 3
   },
   "file_extension": ".py",
   "mimetype": "text/x-python",
   "name": "python",
   "nbconvert_exporter": "python",
   "pygments_lexer": "ipython3",
   "version": "3.8.2"
  }
 },
 "nbformat": 4,
 "nbformat_minor": 5
}
