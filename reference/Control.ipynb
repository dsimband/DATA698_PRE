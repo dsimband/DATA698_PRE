{
 "cells": [
  {
   "cell_type": "markdown",
   "id": "da68d4ba-2d70-46b6-a0e3-6575dd7655b9",
   "metadata": {},
   "source": [
    "# if"
   ]
  },
  {
   "cell_type": "code",
   "execution_count": 3,
   "id": "7bc4ea5a-04d5-46d8-8af1-77a94c691f33",
   "metadata": {},
   "outputs": [],
   "source": [
    "import math"
   ]
  },
  {
   "cell_type": "code",
   "execution_count": 7,
   "id": "b783e55e-048e-4b04-86bb-9355a7f1d913",
   "metadata": {},
   "outputs": [
    {
     "name": "stdout",
     "output_type": "stream",
     "text": [
      "else\n"
     ]
    }
   ],
   "source": [
    "if (1 == 4):\n",
    "    print('if')\n",
    "elif ( 2 == 4):\n",
    "    print('elseif')\n",
    "else:\n",
    "    print('else')"
   ]
  },
  {
   "cell_type": "code",
   "execution_count": 5,
   "id": "79b0be11-d58d-4f19-8b7e-c85d4afb1953",
   "metadata": {},
   "outputs": [
    {
     "name": "stdout",
     "output_type": "stream",
     "text": [
      "1.6094379124341003\n"
     ]
    }
   ],
   "source": [
    "\n",
    "\n",
    "if x > 0:\n",
    "    y = math.log(x)\n",
    "else:\n",
    "    y = float('nan')\n",
    "    \n",
    "print(y)"
   ]
  },
  {
   "cell_type": "code",
   "execution_count": 6,
   "id": "382ea330-2060-4d1c-a1cf-3870dcbe9c75",
   "metadata": {},
   "outputs": [
    {
     "name": "stdout",
     "output_type": "stream",
     "text": [
      "1.6094379124341003\n"
     ]
    }
   ],
   "source": [
    "x = 5\n",
    "\n",
    "y = math.log(x) if x > 0 else float('nan')\n",
    "\n",
    "print(y)"
   ]
  },
  {
   "cell_type": "markdown",
   "id": "c0342fb2-16f9-41d9-9786-9517e623e270",
   "metadata": {},
   "source": [
    "# while"
   ]
  },
  {
   "cell_type": "code",
   "execution_count": 8,
   "id": "284f63a5-22a1-43dc-baf5-bdd8fdd3c801",
   "metadata": {},
   "outputs": [
    {
     "name": "stdout",
     "output_type": "stream",
     "text": [
      "else\n"
     ]
    }
   ],
   "source": [
    "while False:\n",
    "    print('while')\n",
    "else:\n",
    "    print('else')"
   ]
  },
  {
   "cell_type": "code",
   "execution_count": 12,
   "id": "5374ee31-2e4a-4ab6-a17d-10d93202c7a9",
   "metadata": {},
   "outputs": [
    {
     "name": "stdout",
     "output_type": "stream",
     "text": [
      "8 6 4 2 0 "
     ]
    }
   ],
   "source": [
    "x = 10\n",
    "\n",
    "while x:\n",
    "    x -= 1\n",
    "    if x % 2 != 0: continue\n",
    "    print(x, end=' ')"
   ]
  },
  {
   "cell_type": "code",
   "execution_count": 5,
   "id": "38c8f78d-a1d3-4092-8b57-176949a3c946",
   "metadata": {},
   "outputs": [
    {
     "name": "stdout",
     "output_type": "stream",
     "text": [
      "5\n",
      "4\n",
      "3\n",
      "2\n",
      "1\n",
      "Blastoff!\n"
     ]
    }
   ],
   "source": [
    "def countdown(n):\n",
    "    while n > 0:\n",
    "        print(n)\n",
    "        n=n-1 \n",
    "    print('Blastoff!')\n",
    "        \n",
    "countdown(5)"
   ]
  },
  {
   "cell_type": "code",
   "execution_count": 11,
   "id": "a0ef4dd4-4997-459e-89e6-614a36321fc6",
   "metadata": {},
   "outputs": [
    {
     "name": "stdout",
     "output_type": "stream",
     "text": [
      "4\n",
      "2.375\n",
      "1.819078947368421\n",
      "1.7341326020748071\n",
      "1.7320520571470122\n",
      "1.732050807569328\n",
      "1.7320508075688772\n"
     ]
    }
   ],
   "source": [
    "x = 4\n",
    "a = 3\n",
    "\n",
    "\n",
    "while True:\n",
    "    print(x)\n",
    "    y = (x + a/x) / 2\n",
    "    if y == x:\n",
    "        break \n",
    "    x=y\n"
   ]
  },
  {
   "cell_type": "code",
   "execution_count": 9,
   "id": "f1f77c75-c06c-483a-87a1-71570cd22980",
   "metadata": {},
   "outputs": [
    {
     "data": {
      "text/plain": [
       "7.0710678118654755"
      ]
     },
     "execution_count": 9,
     "metadata": {},
     "output_type": "execute_result"
    }
   ],
   "source": [
    "import math\n",
    "math.sqrt(50)"
   ]
  },
  {
   "cell_type": "markdown",
   "id": "14a54681-fee6-4cc5-99a4-2b3d16a377c6",
   "metadata": {},
   "source": [
    "# factors"
   ]
  },
  {
   "cell_type": "code",
   "execution_count": 18,
   "id": "3f4464f6-9256-4975-a064-c812ba6748d5",
   "metadata": {},
   "outputs": [
    {
     "name": "stdout",
     "output_type": "stream",
     "text": [
      "21765\n",
      "43531 has factor 431\n"
     ]
    }
   ],
   "source": [
    "y = 43531\n",
    "x = y // 2 # For some y > 1 while x > 1:\n",
    "\n",
    "while x > 1:\n",
    "    if y % x == 0: \n",
    "        print(y, 'has factor', x)\n",
    "        break # Skip else x = 1\n",
    "    x -= 1\n",
    "else: # Normal exit print(y, 'is prime') \n",
    "    print(y, ' is prime')\n"
   ]
  },
  {
   "cell_type": "code",
   "execution_count": null,
   "id": "d0c0dc3e-9702-4b36-b9c5-c603d50d86fd",
   "metadata": {},
   "outputs": [],
   "source": []
  },
  {
   "cell_type": "markdown",
   "id": "3a8b2c94-7879-4e1f-a0bb-69b146b500a9",
   "metadata": {},
   "source": [
    "# For"
   ]
  },
  {
   "cell_type": "code",
   "execution_count": 19,
   "id": "98483767-cdb1-45e3-9e65-e75f792d79b3",
   "metadata": {},
   "outputs": [
    {
     "name": "stdout",
     "output_type": "stream",
     "text": [
      "spam eggs ham "
     ]
    }
   ],
   "source": [
    "for x in [\"spam\", \"eggs\", \"ham\"]: \n",
    "    print(x, end=' ') \n",
    "\n"
   ]
  },
  {
   "cell_type": "code",
   "execution_count": 20,
   "id": "f3f582d7-1d83-4969-9fdf-b678366917a3",
   "metadata": {},
   "outputs": [
    {
     "name": "stdout",
     "output_type": "stream",
     "text": [
      "a => 1\n",
      "b => 2\n",
      "c => 3\n"
     ]
    }
   ],
   "source": [
    "D = {'a': 1, 'b': 2, 'c': 3} \n",
    "\n",
    "for (key, value) in D.items():\n",
    "    print(key, '=>', value)\n",
    "\n"
   ]
  },
  {
   "cell_type": "markdown",
   "id": "5bc6b06b-b6f1-427c-b70f-366da882f326",
   "metadata": {},
   "source": [
    "# Read From Files"
   ]
  },
  {
   "cell_type": "code",
   "execution_count": 10,
   "id": "60ccc598-94de-4bec-b9d6-f0829d9d9b15",
   "metadata": {},
   "outputs": [
    {
     "data": {
      "text/html": [
       "<div>\n",
       "<style scoped>\n",
       "    .dataframe tbody tr th:only-of-type {\n",
       "        vertical-align: middle;\n",
       "    }\n",
       "\n",
       "    .dataframe tbody tr th {\n",
       "        vertical-align: top;\n",
       "    }\n",
       "\n",
       "    .dataframe thead th {\n",
       "        text-align: right;\n",
       "    }\n",
       "</style>\n",
       "<table border=\"1\" class=\"dataframe\">\n",
       "  <thead>\n",
       "    <tr style=\"text-align: right;\">\n",
       "      <th></th>\n",
       "      <th>Date</th>\n",
       "      <th>AveragePrice</th>\n",
       "      <th>Total Volume</th>\n",
       "      <th>4046</th>\n",
       "      <th>4225</th>\n",
       "      <th>4770</th>\n",
       "      <th>Total Bags</th>\n",
       "      <th>Small Bags</th>\n",
       "      <th>Large Bags</th>\n",
       "      <th>XLarge Bags</th>\n",
       "      <th>type</th>\n",
       "      <th>year</th>\n",
       "      <th>region</th>\n",
       "    </tr>\n",
       "  </thead>\n",
       "  <tbody>\n",
       "    <tr>\n",
       "      <th>0</th>\n",
       "      <td>2015-12-27</td>\n",
       "      <td>1.33</td>\n",
       "      <td>64236.62</td>\n",
       "      <td>1036.74</td>\n",
       "      <td>54454.85</td>\n",
       "      <td>48.16</td>\n",
       "      <td>8696.87</td>\n",
       "      <td>8603.62</td>\n",
       "      <td>93.25</td>\n",
       "      <td>0.0</td>\n",
       "      <td>conventional</td>\n",
       "      <td>2015</td>\n",
       "      <td>Albany</td>\n",
       "    </tr>\n",
       "    <tr>\n",
       "      <th>1</th>\n",
       "      <td>2015-12-20</td>\n",
       "      <td>1.35</td>\n",
       "      <td>54876.98</td>\n",
       "      <td>674.28</td>\n",
       "      <td>44638.81</td>\n",
       "      <td>58.33</td>\n",
       "      <td>9505.56</td>\n",
       "      <td>9408.07</td>\n",
       "      <td>97.49</td>\n",
       "      <td>0.0</td>\n",
       "      <td>conventional</td>\n",
       "      <td>2015</td>\n",
       "      <td>Albany</td>\n",
       "    </tr>\n",
       "    <tr>\n",
       "      <th>2</th>\n",
       "      <td>2015-12-13</td>\n",
       "      <td>0.93</td>\n",
       "      <td>118220.22</td>\n",
       "      <td>794.70</td>\n",
       "      <td>109149.67</td>\n",
       "      <td>130.50</td>\n",
       "      <td>8145.35</td>\n",
       "      <td>8042.21</td>\n",
       "      <td>103.14</td>\n",
       "      <td>0.0</td>\n",
       "      <td>conventional</td>\n",
       "      <td>2015</td>\n",
       "      <td>Albany</td>\n",
       "    </tr>\n",
       "    <tr>\n",
       "      <th>3</th>\n",
       "      <td>2015-12-06</td>\n",
       "      <td>1.08</td>\n",
       "      <td>78992.15</td>\n",
       "      <td>1132.00</td>\n",
       "      <td>71976.41</td>\n",
       "      <td>72.58</td>\n",
       "      <td>5811.16</td>\n",
       "      <td>5677.40</td>\n",
       "      <td>133.76</td>\n",
       "      <td>0.0</td>\n",
       "      <td>conventional</td>\n",
       "      <td>2015</td>\n",
       "      <td>Albany</td>\n",
       "    </tr>\n",
       "    <tr>\n",
       "      <th>4</th>\n",
       "      <td>2015-11-29</td>\n",
       "      <td>1.28</td>\n",
       "      <td>51039.60</td>\n",
       "      <td>941.48</td>\n",
       "      <td>43838.39</td>\n",
       "      <td>75.78</td>\n",
       "      <td>6183.95</td>\n",
       "      <td>5986.26</td>\n",
       "      <td>197.69</td>\n",
       "      <td>0.0</td>\n",
       "      <td>conventional</td>\n",
       "      <td>2015</td>\n",
       "      <td>Albany</td>\n",
       "    </tr>\n",
       "  </tbody>\n",
       "</table>\n",
       "</div>"
      ],
      "text/plain": [
       "         Date  AveragePrice  Total Volume     4046       4225    4770  \\\n",
       "0  2015-12-27          1.33      64236.62  1036.74   54454.85   48.16   \n",
       "1  2015-12-20          1.35      54876.98   674.28   44638.81   58.33   \n",
       "2  2015-12-13          0.93     118220.22   794.70  109149.67  130.50   \n",
       "3  2015-12-06          1.08      78992.15  1132.00   71976.41   72.58   \n",
       "4  2015-11-29          1.28      51039.60   941.48   43838.39   75.78   \n",
       "\n",
       "   Total Bags  Small Bags  Large Bags  XLarge Bags          type  year  region  \n",
       "0     8696.87     8603.62       93.25          0.0  conventional  2015  Albany  \n",
       "1     9505.56     9408.07       97.49          0.0  conventional  2015  Albany  \n",
       "2     8145.35     8042.21      103.14          0.0  conventional  2015  Albany  \n",
       "3     5811.16     5677.40      133.76          0.0  conventional  2015  Albany  \n",
       "4     6183.95     5986.26      197.69          0.0  conventional  2015  Albany  "
      ]
     },
     "execution_count": 10,
     "metadata": {},
     "output_type": "execute_result"
    }
   ],
   "source": [
    "import pandas as pd\n",
    "\n",
    "file_name = '/Users/davidsimbandumwe/dev/cuny/data_602/DATA602/data/avocado.csv'\n",
    "df = pd.read_csv(file_name, index_col=0)\n",
    "df.head(5)"
   ]
  },
  {
   "cell_type": "code",
   "execution_count": null,
   "id": "f9a64b47-53ff-437e-a92c-9b46424a743f",
   "metadata": {},
   "outputs": [],
   "source": [
    "file_name = '/Users/davidsimbandumwe/dev/cuny/data_602/DATA602/data/avocado.csv'\n",
    "\n",
    "f = open(file_name, \"r\")\n",
    "print(f.readlines(353))\n",
    "f.close()"
   ]
  },
  {
   "cell_type": "code",
   "execution_count": null,
   "id": "167fad25-d230-4eae-a28f-b534b4913746",
   "metadata": {},
   "outputs": [],
   "source": [
    "with open('/Users/davidsimbandumwe/dev/cuny/data_602/DATA602/data/avocado.csv', 'r') as csvfile:\n",
    "    print(csvfile.readline())\n",
    "\n"
   ]
  },
  {
   "cell_type": "code",
   "execution_count": null,
   "id": "34f12d72-963b-4c6a-a8b7-d74b768c6be7",
   "metadata": {},
   "outputs": [],
   "source": [
    "file_name = '/Users/davidsimbandumwe/dev/cuny/data_602/DATA602/data/avocado.csv'\n",
    "with open(file_name, 'r') as reader:\n",
    "    for line in reader.readlines(363):\n",
    "        print(line, end='')"
   ]
  },
  {
   "cell_type": "code",
   "execution_count": null,
   "id": "22294ee7-e486-490c-ba9b-77fcf646b5a4",
   "metadata": {},
   "outputs": [],
   "source": [
    "import csv\n",
    "\n",
    "i = 0\n",
    "max = 20\n",
    "\n",
    "\n",
    "with open('/Users/davidsimbandumwe/dev/cuny/data_602/DATA602/data/avocado.csv', 'r') as csvfile:\n",
    "    reader = csv.reader(csvfile, skipinitialspace=True)\n",
    "    \n",
    "    for row in reader:\n",
    "        if i < max:\n",
    "            print(row)\n",
    "            i += 1\n",
    "        else: break"
   ]
  },
  {
   "cell_type": "code",
   "execution_count": null,
   "id": "84b0fa56-e805-4158-8a31-8b5cb93feadf",
   "metadata": {},
   "outputs": [],
   "source": []
  },
  {
   "cell_type": "code",
   "execution_count": null,
   "id": "62e371b6-b629-4c38-afda-c763adb5ea08",
   "metadata": {},
   "outputs": [],
   "source": []
  },
  {
   "cell_type": "markdown",
   "id": "8b27daa8-0adc-4e92-8d3a-f70dc59587e5",
   "metadata": {},
   "source": [
    "# Text - JSON"
   ]
  },
  {
   "cell_type": "code",
   "execution_count": 3,
   "id": "9d9256fc-3988-4d74-915d-3cfd25fe84af",
   "metadata": {},
   "outputs": [
    {
     "data": {
      "text/plain": [
       "{'default': {'version': 1.0,\n",
       "  'db': 'mangodb',\n",
       "  'uuid': '0fd7575d-d331-41b7-9598-33d6c9a1eae3'}}"
      ]
     },
     "execution_count": 3,
     "metadata": {},
     "output_type": "execute_result"
    }
   ],
   "source": [
    "z = {'default': {\n",
    "            'version':1.0,\n",
    "            'db':'mangodb',\n",
    "            'uuid':'0fd7575d-d331-41b7-9598-33d6c9a1eae3'\n",
    "        }\n",
    "     }\n",
    " \n",
    "z\n",
    "    "
   ]
  },
  {
   "cell_type": "code",
   "execution_count": 4,
   "id": "bf09392e-7127-4cbc-9a12-f3bd023c8380",
   "metadata": {},
   "outputs": [
    {
     "data": {
      "text/plain": [
       "{'default': {'version': 1.0,\n",
       "  'db': 'mangodb',\n",
       "  'uuid': '0fd7575d-d331-41b7-9598-33d6c9a1eae3'},\n",
       " 'a': {'r': 'run', 'g': 'go', 1: 4.5}}"
      ]
     },
     "execution_count": 4,
     "metadata": {},
     "output_type": "execute_result"
    }
   ],
   "source": [
    "z['a'] = {'r':'run','g':'go',1:4.5}\n",
    "z"
   ]
  },
  {
   "cell_type": "code",
   "execution_count": 5,
   "id": "f365a7c8-8d46-4491-9153-346f7d2e69a7",
   "metadata": {},
   "outputs": [
    {
     "data": {
      "text/plain": [
       "'0fd7575d-d331-41b7-9598-33d6c9a1eae3'"
      ]
     },
     "execution_count": 5,
     "metadata": {},
     "output_type": "execute_result"
    }
   ],
   "source": [
    "z.get('default').get('uuid')"
   ]
  },
  {
   "cell_type": "code",
   "execution_count": 8,
   "id": "9415296a-3cd2-4253-9ade-d655d9ce653f",
   "metadata": {},
   "outputs": [
    {
     "name": "stdout",
     "output_type": "stream",
     "text": [
      "r: <class 'str'>\n",
      "loader_r: <class 'dict'>\n"
     ]
    }
   ],
   "source": [
    "import json\n",
    "\n",
    "r = json.dumps(z)\n",
    "loaded_r = json.loads(r)\n",
    "print('r:',type(r))\n",
    "print('loader_r:', type(loaded_r)) "
   ]
  },
  {
   "cell_type": "code",
   "execution_count": 9,
   "id": "6adb8caa-b332-4fef-9210-139bc5a6250e",
   "metadata": {},
   "outputs": [
    {
     "data": {
      "text/plain": [
       "'0fd7575d-d331-41b7-9598-33d6c9a1eae3'"
      ]
     },
     "execution_count": 9,
     "metadata": {},
     "output_type": "execute_result"
    }
   ],
   "source": [
    "loaded_r.get('default').get('uuid')"
   ]
  }
 ],
 "metadata": {
  "kernelspec": {
   "display_name": "Python 3 (ipykernel)",
   "language": "python",
   "name": "python3"
  },
  "language_info": {
   "codemirror_mode": {
    "name": "ipython",
    "version": 3
   },
   "file_extension": ".py",
   "mimetype": "text/x-python",
   "name": "python",
   "nbconvert_exporter": "python",
   "pygments_lexer": "ipython3",
   "version": "3.8.2"
  }
 },
 "nbformat": 4,
 "nbformat_minor": 5
}
