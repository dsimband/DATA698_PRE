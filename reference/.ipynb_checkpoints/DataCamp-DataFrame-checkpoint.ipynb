{
 "cells": [
  {
   "cell_type": "markdown",
   "id": "e5afdd22-aa18-41e4-a9ed-93b8db0c34d9",
   "metadata": {},
   "source": [
    "# Introducing DataFrames"
   ]
  },
  {
   "cell_type": "markdown",
   "id": "94ddb68f-d144-42d3-b2ca-1c3f411c2917",
   "metadata": {},
   "source": [
    "## setup"
   ]
  },
  {
   "cell_type": "code",
   "execution_count": null,
   "id": "78e85f8c-524d-4a92-bbff-9479421b9a0e",
   "metadata": {},
   "outputs": [],
   "source": [
    "import pandas as pd\n",
    "import numpy as np"
   ]
  },
  {
   "cell_type": "code",
   "execution_count": null,
   "id": "f191bb76-4d71-4f33-aa45-d2c2588c3ef1",
   "metadata": {},
   "outputs": [],
   "source": [
    "wb_df = pd.read_csv('data/world_bank_population.csv')"
   ]
  },
  {
   "cell_type": "code",
   "execution_count": null,
   "id": "28154ed6-d9f2-404a-a1a3-187762c3906f",
   "metadata": {},
   "outputs": [],
   "source": [
    "hless_df = pd.read_csv('data/Strategic_Measure_Number_of_persons_experiencing_homelessness_-_Annual_Sheltered_HMIS_Count.csv')"
   ]
  },
  {
   "cell_type": "code",
   "execution_count": null,
   "id": "ab6964cd-6ecd-4bdb-ba72-bc79c2b36a4f",
   "metadata": {},
   "outputs": [],
   "source": [
    "cars_df = pd.read_csv(\n",
    "    'https://gist.githubusercontent.com/noamross/e5d3e859aa0c794be10b/raw/b999fb4425b54c63cab088c0ce2c0d6ce961a563/cars.csv',\n",
    "    index_col = 0)"
   ]
  },
  {
   "cell_type": "code",
   "execution_count": null,
   "id": "b6201f3e-fedf-4222-a28e-68fb5d1bd982",
   "metadata": {},
   "outputs": [],
   "source": [
    "state_df = pd.read_csv('data/2008_all_states.csv')"
   ]
  },
  {
   "cell_type": "code",
   "execution_count": null,
   "id": "e14ec5d6-1951-4001-b3fa-a12067b1dcad",
   "metadata": {},
   "outputs": [],
   "source": [
    "revenue_df = pd.read_csv('data/revenue.csv')"
   ]
  },
  {
   "cell_type": "code",
   "execution_count": null,
   "id": "5d0d2fe2-804c-4162-a771-affea5779fa3",
   "metadata": {},
   "outputs": [],
   "source": [
    "rain_df = pd.read_csv('data/rain_season.csv')\n",
    "rain_df['Date'] = pd.to_datetime(rain_df.Date)"
   ]
  },
  {
   "cell_type": "code",
   "execution_count": null,
   "id": "42f8759d-6a7f-4188-b9c8-c9172fa4b034",
   "metadata": {},
   "outputs": [],
   "source": [
    "# Build Dataframes"
   ]
  },
  {
   "cell_type": "code",
   "execution_count": null,
   "id": "35f72b39-c0fb-4752-b120-4ae97f857a5d",
   "metadata": {},
   "outputs": [],
   "source": [
    "list_of_dicts = [\n",
    "    {\"name\": \"Ginger\", \"breed\": \"Dachshund\", \"height_cm\": 22,\n",
    "    \"weight_kg\": 10, \"date_of_birth\": \"2019-03-14\"},\n",
    "    {\"name\": \"Scout\", \"breed\": \"Dalmatian\", \"height_cm\": 59,\n",
    "    \"weight_kg\": 25, \"date_of_birth\": \"2019-05-09\"}\n",
    "]\n",
    "\n",
    "df = pd.DataFrame(list_of_dicts)\n",
    "df"
   ]
  },
  {
   "cell_type": "code",
   "execution_count": null,
   "id": "557d2540-8bfe-44f3-8a52-98edd397ba8e",
   "metadata": {},
   "outputs": [],
   "source": [
    " dict_of_lists = {\n",
    "    \"name\": [\"Ginger\", \"Scout\"],\n",
    "    \"breed\": [\"Dachshund\", \"Dalmatian\"],\n",
    "    \"height_cm\": [22, 59],\n",
    "    \"weight_kg\": [10, 25],\n",
    "    \"date_of_birth\": [\"2019-03-14\",\n",
    "    \"2019-05-09\"]\n",
    "}\n",
    "    \n",
    "df = pd.DataFrame(list_of_dicts)\n",
    "df"
   ]
  },
  {
   "cell_type": "code",
   "execution_count": null,
   "id": "2e05bb44-16ba-40ed-b0aa-e4895ca1d33d",
   "metadata": {},
   "outputs": [],
   "source": [
    "lists = [\n",
    "    [\"Ginger\",\"Dachshund\",22,10,\"2019-03-14\"],\n",
    "    [\"Scout\",\"Dalmatian\",59,25,\"2019-05-09\"]\n",
    "]\n",
    "\n",
    "names = ['name', 'breed','height_cm','weight_kg','date_of_birth']\n",
    "df = pd.DataFrame(lists, columns=names)\n",
    "df"
   ]
  },
  {
   "cell_type": "markdown",
   "id": "e6bb60fd-c3e6-40a6-8c0c-e1bf6ab1eea9",
   "metadata": {},
   "source": [
    "# Attributes"
   ]
  },
  {
   "cell_type": "code",
   "execution_count": null,
   "id": "8cfa98ea-d057-4c23-a675-692574919adc",
   "metadata": {},
   "outputs": [],
   "source": [
    "cars_df.shape"
   ]
  },
  {
   "cell_type": "code",
   "execution_count": null,
   "id": "a8f2bd38-6e81-4d4a-b55e-b72bf3a31e81",
   "metadata": {},
   "outputs": [],
   "source": [
    "cars_df.info()"
   ]
  },
  {
   "cell_type": "code",
   "execution_count": null,
   "id": "a22016c9-7554-483a-8e45-c30bdd0ada2a",
   "metadata": {},
   "outputs": [],
   "source": [
    "cars_df.describe()"
   ]
  },
  {
   "cell_type": "code",
   "execution_count": null,
   "id": "97738672-d281-44a3-b8b1-cecb7c4bd27c",
   "metadata": {},
   "outputs": [],
   "source": [
    "print('mean:', cars_df['wt'].mean())\n",
    "print('median:', cars_df['wt'].median())\n",
    "print('mode:', cars_df['wt'].mode())\n",
    "print('quantile:', cars_df['wt'].quantile())"
   ]
  },
  {
   "cell_type": "code",
   "execution_count": null,
   "id": "ab014f86-c178-47ab-ac54-09006aa4e0be",
   "metadata": {},
   "outputs": [],
   "source": [
    "cars_df.columns"
   ]
  },
  {
   "cell_type": "code",
   "execution_count": null,
   "id": "5fd92e14-01ed-42b6-8131-5941e302de72",
   "metadata": {},
   "outputs": [],
   "source": [
    "state_df.values"
   ]
  },
  {
   "cell_type": "code",
   "execution_count": null,
   "id": "01c35e08-71d1-46f9-8041-4fe87b3e99ff",
   "metadata": {},
   "outputs": [],
   "source": [
    "cars_df.index"
   ]
  },
  {
   "cell_type": "markdown",
   "id": "83bf53dd-aebb-42a7-800e-c36f903ed2f3",
   "metadata": {},
   "source": [
    "# DataFrame Analysis"
   ]
  },
  {
   "cell_type": "code",
   "execution_count": null,
   "id": "04690425-1146-4e38-b18b-02b948971ae7",
   "metadata": {},
   "outputs": [],
   "source": [
    "cars_df.isna().any()"
   ]
  },
  {
   "cell_type": "code",
   "execution_count": null,
   "id": "57db70db-fe8c-4694-931e-e709b7a1652d",
   "metadata": {},
   "outputs": [],
   "source": [
    "set(cars_df.index)"
   ]
  },
  {
   "cell_type": "code",
   "execution_count": null,
   "id": "4c76d63e-1500-482b-bfca-c51cf32d4cc8",
   "metadata": {},
   "outputs": [],
   "source": [
    "set(cars_df['mpg'])"
   ]
  },
  {
   "cell_type": "code",
   "execution_count": null,
   "id": "7372ff4f-2a30-42c8-a97e-3df1341f275b",
   "metadata": {},
   "outputs": [],
   "source": []
  },
  {
   "cell_type": "markdown",
   "id": "a9562fcd-a652-468e-8e48-3afd89813b88",
   "metadata": {},
   "source": [
    "# Sorting DataFrame"
   ]
  },
  {
   "cell_type": "code",
   "execution_count": null,
   "id": "f08b510c-42cb-4468-addf-c21c51cd6281",
   "metadata": {},
   "outputs": [],
   "source": [
    "cars_df.sort_values('hp', ascending=False)[:10]"
   ]
  },
  {
   "cell_type": "code",
   "execution_count": null,
   "id": "12b5c8c5-ea00-4b14-8e86-754e6c698ea5",
   "metadata": {},
   "outputs": [],
   "source": [
    "cars_df.sort_values(['hp','mpg'], ascending=False)[:10]"
   ]
  },
  {
   "cell_type": "markdown",
   "id": "18f9a647-6e74-447c-9980-40c532bb4acc",
   "metadata": {},
   "source": [
    "# Subset"
   ]
  },
  {
   "cell_type": "code",
   "execution_count": null,
   "id": "e224fe86-d425-45f7-b738-a53c03e9c080",
   "metadata": {},
   "outputs": [],
   "source": [
    "cars_df.head()"
   ]
  },
  {
   "cell_type": "code",
   "execution_count": null,
   "id": "f04139be-454d-4d43-9481-6f8a84388eac",
   "metadata": {},
   "outputs": [],
   "source": [
    "cars_df['drat'][:10]"
   ]
  },
  {
   "cell_type": "code",
   "execution_count": null,
   "id": "9a496c27-dfbe-4b88-a19a-baddf4898a95",
   "metadata": {},
   "outputs": [],
   "source": [
    "cars_df[['drat']][:10]"
   ]
  },
  {
   "cell_type": "code",
   "execution_count": null,
   "id": "0015a69a-3da4-4f48-870c-1e2406152154",
   "metadata": {},
   "outputs": [],
   "source": [
    "cars_df[['mpg','hp']][:10]"
   ]
  },
  {
   "cell_type": "markdown",
   "id": "e1f6c2bf-71cd-4f66-8d7b-b8588a271984",
   "metadata": {},
   "source": [
    "# Filter Dataframe"
   ]
  },
  {
   "cell_type": "code",
   "execution_count": null,
   "id": "2e02fe8e-9073-47cc-89b8-915ae67d989e",
   "metadata": {},
   "outputs": [],
   "source": [
    "state_df.head()"
   ]
  },
  {
   "cell_type": "code",
   "execution_count": null,
   "id": "4a599a92-21e9-4a1d-81ab-6d9bfbef4f52",
   "metadata": {},
   "outputs": [],
   "source": [
    "state_df[state_df['dem_votes'] > 100000].sort_values('state', ascending=True)"
   ]
  },
  {
   "cell_type": "code",
   "execution_count": null,
   "id": "056b4f62-5b77-4446-b559-0e80915ac1ed",
   "metadata": {},
   "outputs": [],
   "source": [
    "state_df[state_df['state'].isin(['CO','NY','CA'])]"
   ]
  },
  {
   "cell_type": "code",
   "execution_count": null,
   "id": "6c34a024-f515-4c1d-8de1-6a2a2a38f4e0",
   "metadata": {},
   "outputs": [],
   "source": [
    "state_df[(state_df['state'].isin(['CO','NY','CA'])) & (state_df['dem_votes'] > 100000)][:15]"
   ]
  },
  {
   "cell_type": "markdown",
   "id": "9ff15882-2dc6-4209-9a6e-981b1f2317d8",
   "metadata": {},
   "source": [
    "# Transforming Dataframe"
   ]
  },
  {
   "cell_type": "code",
   "execution_count": null,
   "id": "848adad3-82ea-4652-959b-7d288bcf7a44",
   "metadata": {},
   "outputs": [],
   "source": [
    "cars_df.head()"
   ]
  },
  {
   "cell_type": "code",
   "execution_count": null,
   "id": "a31c6ec6-45ca-4c9d-8062-4685f0997cc4",
   "metadata": {},
   "outputs": [],
   "source": [
    "cars_df['flag'] = False\n",
    "cars_df.loc[cars_df[\"hp\"] > 200, \"flag\"] = True\n",
    "cars_df.head()"
   ]
  },
  {
   "cell_type": "code",
   "execution_count": null,
   "id": "02179c51-53d2-4596-8196-79e1da03ddea",
   "metadata": {},
   "outputs": [],
   "source": []
  },
  {
   "cell_type": "markdown",
   "id": "0b0f9c96-f1e4-40f0-8bfd-23b197c72c64",
   "metadata": {},
   "source": [
    "# Filter DataFrame"
   ]
  },
  {
   "cell_type": "code",
   "execution_count": null,
   "id": "64e26543-832b-4d9c-9983-0c0cb4e4858f",
   "metadata": {},
   "outputs": [],
   "source": [
    "cars_df[cars_df['hp'] > 200]"
   ]
  },
  {
   "cell_type": "code",
   "execution_count": null,
   "id": "8bdd629a-5d8a-4f4d-8599-44a084d2a18a",
   "metadata": {},
   "outputs": [],
   "source": [
    "cars_df['flag'] = False\n",
    "cars_df.loc[cars_df[\"hp\"] > 200, \"flag\"] = True\n",
    "cars_df.head()"
   ]
  },
  {
   "cell_type": "markdown",
   "id": "f7436be5-958e-4648-9bc0-7c29e0be1063",
   "metadata": {},
   "source": [
    "# summary stats mutli columns"
   ]
  },
  {
   "cell_type": "code",
   "execution_count": null,
   "id": "38df5084-b37f-42cf-82d7-419751ba0e63",
   "metadata": {},
   "outputs": [],
   "source": [
    "state_df.head()"
   ]
  },
  {
   "cell_type": "code",
   "execution_count": null,
   "id": "afde3564-0ea5-4747-a234-721a27f0d5da",
   "metadata": {},
   "outputs": [],
   "source": [
    "def pct30(column):\n",
    "    return column.quantile(0.3)\n",
    "\n",
    "def pct40(column):\n",
    "    return column.quantile(0.4)"
   ]
  },
  {
   "cell_type": "code",
   "execution_count": null,
   "id": "98755b35-d759-4957-947e-7939929c6e20",
   "metadata": {},
   "outputs": [],
   "source": [
    "state_df['dem_votes'].agg(pct30)"
   ]
  },
  {
   "cell_type": "code",
   "execution_count": null,
   "id": "af7a690e-b55b-4084-8c6e-ae6f9a947976",
   "metadata": {
    "tags": []
   },
   "outputs": [],
   "source": [
    "state_df[['dem_votes','rep_votes']].agg(pct30)"
   ]
  },
  {
   "cell_type": "code",
   "execution_count": null,
   "id": "8307e665-92d6-4170-bf9e-0cb6a847b75a",
   "metadata": {},
   "outputs": [],
   "source": [
    "state_df[['dem_votes','rep_votes']].agg([pct30,pct40,'mean'])"
   ]
  },
  {
   "cell_type": "code",
   "execution_count": null,
   "id": "59d19599-eb97-4204-9a7b-410fcc9922fe",
   "metadata": {},
   "outputs": [],
   "source": [
    "state_df[['dem_votes','rep_votes']].agg('quantile')"
   ]
  },
  {
   "cell_type": "code",
   "execution_count": null,
   "id": "4d761107-2402-451e-bf18-4550be2c9369",
   "metadata": {},
   "outputs": [],
   "source": [
    "state_df[['dem_votes','rep_votes']].agg(['quantile'])"
   ]
  },
  {
   "cell_type": "code",
   "execution_count": null,
   "id": "1d303ac5-d1db-4e56-af39-8a17fdd68808",
   "metadata": {},
   "outputs": [],
   "source": [
    "state_df[['dem_votes','rep_votes']].agg(['quantile','mean'])"
   ]
  },
  {
   "cell_type": "markdown",
   "id": "8fdf1061-1038-48f0-b959-84e836d7525e",
   "metadata": {},
   "source": [
    "## cummulative sum"
   ]
  },
  {
   "cell_type": "code",
   "execution_count": null,
   "id": "17c93e61-bd36-4a4c-ae20-469f06c59d23",
   "metadata": {},
   "outputs": [],
   "source": [
    "state_df[['total_votes']].cumsum()"
   ]
  },
  {
   "cell_type": "markdown",
   "id": "4e5a5972-77d3-4bfe-9f56-ad23132c6c04",
   "metadata": {},
   "source": [
    "### counting"
   ]
  },
  {
   "cell_type": "code",
   "execution_count": null,
   "id": "5d887be3-42cf-4933-b721-4ba70ef351a5",
   "metadata": {},
   "outputs": [],
   "source": [
    "df = state_df.drop_duplicates(subset=['state','county'])"
   ]
  },
  {
   "cell_type": "code",
   "execution_count": null,
   "id": "98230618-0111-4419-824f-c5a7592081ba",
   "metadata": {},
   "outputs": [],
   "source": [
    "df.shape"
   ]
  },
  {
   "cell_type": "code",
   "execution_count": null,
   "id": "b4c7c2c4-fd47-4e76-86c2-e7c1dd8ed139",
   "metadata": {},
   "outputs": [],
   "source": [
    "df.head()"
   ]
  },
  {
   "cell_type": "code",
   "execution_count": null,
   "id": "46a32f63-dd46-4eda-852e-de4b987c6871",
   "metadata": {},
   "outputs": [],
   "source": [
    "df['county'].value_counts(sort=True)"
   ]
  },
  {
   "cell_type": "code",
   "execution_count": null,
   "id": "b7aa68f7-ccac-429d-89e3-84e1f35d905a",
   "metadata": {},
   "outputs": [],
   "source": [
    "df['county'].value_counts(sort=True, normalize=True)"
   ]
  },
  {
   "cell_type": "markdown",
   "id": "3adb540d-55ae-4255-9943-a7ef0d5756ce",
   "metadata": {},
   "source": [
    "# Grouped summary statistics"
   ]
  },
  {
   "cell_type": "code",
   "execution_count": null,
   "id": "9cf3cf66-fe25-4c78-948c-880de5a7ee41",
   "metadata": {},
   "outputs": [],
   "source": [
    "state_df.head()"
   ]
  },
  {
   "cell_type": "code",
   "execution_count": null,
   "id": "375965dc-2907-43cd-b0c8-2492e4349b0a",
   "metadata": {},
   "outputs": [],
   "source": [
    "state_df.groupby('state')['dem_votes'].mean()"
   ]
  },
  {
   "cell_type": "code",
   "execution_count": null,
   "id": "af928455-d74a-4287-9814-d5692612286c",
   "metadata": {},
   "outputs": [],
   "source": [
    "state_df.groupby('east_west')['dem_votes'].agg([np.mean,sum,min,max])"
   ]
  },
  {
   "cell_type": "code",
   "execution_count": null,
   "id": "abcdc19a-f229-41f6-b5be-06196f1365af",
   "metadata": {},
   "outputs": [],
   "source": [
    "state_df.groupby(['east_west','state'])['dem_votes','rep_votes','other_votes'].agg([np.mean,sum,min,max])"
   ]
  },
  {
   "cell_type": "code",
   "execution_count": null,
   "id": "a45a9373-b11d-4f44-81ec-181835409f2f",
   "metadata": {},
   "outputs": [],
   "source": [
    "state_df.groupby('state')['dem_votes'].agg([min,max,np.mean,np.median])[:10]"
   ]
  },
  {
   "cell_type": "markdown",
   "id": "8a149083-1568-4cd8-9a22-5499475f9f8f",
   "metadata": {},
   "source": [
    "# Pivot tables"
   ]
  },
  {
   "cell_type": "code",
   "execution_count": null,
   "id": "a97fa238-44d6-4b1b-8f23-30370294e6ac",
   "metadata": {},
   "outputs": [],
   "source": [
    "hless_df.head()"
   ]
  },
  {
   "cell_type": "code",
   "execution_count": null,
   "id": "0b5e155f-3a6f-4f09-bba5-42d477745a0b",
   "metadata": {},
   "outputs": [],
   "source": [
    "hless_df.pivot_table(values='# in Emergency Shelter', index=['Demographic Category','Specific Demographic'], aggfunc=[np.median,np.mean])"
   ]
  },
  {
   "cell_type": "code",
   "execution_count": null,
   "id": "3d7a2526-f3cc-4f17-a340-19cabc182451",
   "metadata": {},
   "outputs": [],
   "source": [
    "hless_df.pivot_table(values=['# in Emergency Shelter'],columns='# in Safe Haven', index=['Demographic Category','Specific Demographic'], aggfunc=[np.median,np.mean], fill_value=0, margins=True)"
   ]
  },
  {
   "cell_type": "markdown",
   "id": "b0781049-f293-4d53-875e-7083065a5398",
   "metadata": {},
   "source": [
    "# Explicit indexes"
   ]
  },
  {
   "cell_type": "code",
   "execution_count": null,
   "id": "f2cb24f2-2f99-48c8-9cb4-bfd949ba79cf",
   "metadata": {},
   "outputs": [],
   "source": [
    "state_df.head()"
   ]
  },
  {
   "cell_type": "code",
   "execution_count": null,
   "id": "6247adc4-3ac6-4981-aa14-93c529a0732e",
   "metadata": {},
   "outputs": [],
   "source": [
    "state_df.index"
   ]
  },
  {
   "cell_type": "code",
   "execution_count": null,
   "id": "7a41efd4-bf74-4ad5-90f2-b30e24d13ed7",
   "metadata": {},
   "outputs": [],
   "source": [
    "df = state_df.set_index('state')\n",
    "df.index"
   ]
  },
  {
   "cell_type": "code",
   "execution_count": null,
   "id": "1eac7bf6-0041-4b33-bed3-c390acaf2e10",
   "metadata": {},
   "outputs": [],
   "source": [
    "df.head()"
   ]
  },
  {
   "cell_type": "code",
   "execution_count": null,
   "id": "0cc61cae-6389-427c-a7ac-6f1587420ba5",
   "metadata": {},
   "outputs": [],
   "source": [
    "df = df.reset_index()\n",
    "df.head()"
   ]
  },
  {
   "cell_type": "code",
   "execution_count": null,
   "id": "77a760f7-9ba5-40cd-8456-6d50021333ec",
   "metadata": {},
   "outputs": [],
   "source": []
  },
  {
   "cell_type": "markdown",
   "id": "c259d2d5-fab4-4f22-a554-48141724238a",
   "metadata": {},
   "source": [
    "# loc for filtering"
   ]
  },
  {
   "cell_type": "code",
   "execution_count": null,
   "id": "3c7a7155-d6e5-4ee2-852f-b7438c29bed2",
   "metadata": {},
   "outputs": [],
   "source": [
    "state_df.head()"
   ]
  },
  {
   "cell_type": "code",
   "execution_count": null,
   "id": "600d0061-e6dc-4d7a-878d-e40945eae3ce",
   "metadata": {},
   "outputs": [],
   "source": [
    "df = state_df.set_index(['state','east_west'])\n",
    "df.head()"
   ]
  },
  {
   "cell_type": "code",
   "execution_count": null,
   "id": "ff7d48dd-d892-49d5-bb0b-829ce7953c53",
   "metadata": {},
   "outputs": [],
   "source": [
    "df.loc['CO']"
   ]
  },
  {
   "cell_type": "code",
   "execution_count": null,
   "id": "81144671-a2f1-4266-87b7-19cb686dbed6",
   "metadata": {},
   "outputs": [],
   "source": [
    "df.iloc[[34]]"
   ]
  },
  {
   "cell_type": "code",
   "execution_count": null,
   "id": "66f9c567-3d67-45a6-a59a-ad8dbd8f79c4",
   "metadata": {},
   "outputs": [],
   "source": [
    "df.loc[[('CO','west'),('NY','east'),('CA','west')]]"
   ]
  },
  {
   "cell_type": "markdown",
   "id": "f98e7181-65e4-4396-85cf-4f7f23e66894",
   "metadata": {},
   "source": [
    "<br>\n",
    "\n",
    "# sorting"
   ]
  },
  {
   "cell_type": "code",
   "execution_count": null,
   "id": "479f5616-14fb-4716-af64-e2c6b6c9d321",
   "metadata": {},
   "outputs": [],
   "source": [
    "state_df.head()"
   ]
  },
  {
   "cell_type": "code",
   "execution_count": null,
   "id": "427f59d1-4aef-4202-a55e-8db059104fbb",
   "metadata": {},
   "outputs": [],
   "source": [
    "df = state_df.set_index(['state','county'])\n",
    "df.head()"
   ]
  },
  {
   "cell_type": "code",
   "execution_count": null,
   "id": "3a00d0c8-5e22-4540-a37f-ce2b81e24ab1",
   "metadata": {},
   "outputs": [],
   "source": [
    "df.sort_index(level=['state','county'], ascending=[True, False])"
   ]
  },
  {
   "cell_type": "markdown",
   "id": "834671f2-dc65-4c1c-959a-9e40cc7f29b5",
   "metadata": {},
   "source": [
    "## Slicing and subsetting with .loc and .iloc"
   ]
  },
  {
   "cell_type": "code",
   "execution_count": null,
   "id": "95418fb8-5579-453e-a23a-6769d20448cc",
   "metadata": {},
   "outputs": [],
   "source": [
    "revenue_df.head()"
   ]
  },
  {
   "cell_type": "code",
   "execution_count": null,
   "id": "fac0d8c3-cd6f-4c4f-8ae4-28efc40a8cd0",
   "metadata": {},
   "outputs": [],
   "source": [
    "df = revenue_df.set_index(['City','Company'])\n",
    "df.head()"
   ]
  },
  {
   "cell_type": "code",
   "execution_count": null,
   "id": "48e7e63b-c3da-43f4-bdc5-de8570506d66",
   "metadata": {},
   "outputs": [],
   "source": [
    "df = df.sort_index()\n",
    "df"
   ]
  },
  {
   "cell_type": "code",
   "execution_count": null,
   "id": "29008ea7-e1d1-4f90-a034-176a23858b1c",
   "metadata": {},
   "outputs": [],
   "source": [
    "df.loc['Dallas':'New York City']"
   ]
  },
  {
   "cell_type": "code",
   "execution_count": null,
   "id": "110ff95d-e9c7-4284-851b-e7ade6326604",
   "metadata": {},
   "outputs": [],
   "source": [
    "df.loc[:,'Rank':'Employees']"
   ]
  },
  {
   "cell_type": "code",
   "execution_count": null,
   "id": "ab6bea05-7fb7-47ea-b2a4-6266f37d2321",
   "metadata": {},
   "outputs": [],
   "source": [
    "df.loc[('Dallas','HSBC Holdings'):('New York City','Kroger'),'Rank':'Employees']"
   ]
  },
  {
   "cell_type": "markdown",
   "id": "9c540511-77a8-4523-b882-f35ee68fb5e3",
   "metadata": {},
   "source": [
    "## Slice Dates"
   ]
  },
  {
   "cell_type": "code",
   "execution_count": null,
   "id": "e8f8e5a8-af8b-444a-9054-b98f2f6d35e5",
   "metadata": {},
   "outputs": [],
   "source": [
    "rain_df.head()"
   ]
  },
  {
   "cell_type": "code",
   "execution_count": null,
   "id": "d2a59bc4-d0d6-42e8-a409-8e0251fbab60",
   "metadata": {},
   "outputs": [],
   "source": [
    "df = rain_df.sort_values('Total Rainfall').reset_index()"
   ]
  },
  {
   "cell_type": "code",
   "execution_count": null,
   "id": "2a546fa1-b9f6-4b0b-aff2-31649a222ff6",
   "metadata": {},
   "outputs": [],
   "source": [
    "df.info()"
   ]
  },
  {
   "cell_type": "code",
   "execution_count": null,
   "id": "5a41e251-54a2-4f14-9fe4-e477a569c6ee",
   "metadata": {},
   "outputs": [],
   "source": [
    "df['Rank'] = df.index\n",
    "df.head()"
   ]
  },
  {
   "cell_type": "code",
   "execution_count": null,
   "id": "e39e4032-c989-4931-aa79-8d96e459f97a",
   "metadata": {},
   "outputs": [],
   "source": [
    "df = df.set_index('index')\n",
    "df.head()"
   ]
  },
  {
   "cell_type": "code",
   "execution_count": null,
   "id": "88c71abb-d336-4221-abe1-0b57c6bde20e",
   "metadata": {},
   "outputs": [],
   "source": [
    "df.sort_index()"
   ]
  },
  {
   "cell_type": "code",
   "execution_count": null,
   "id": "27a309c5-78db-40dd-80d5-d77f20ba4341",
   "metadata": {},
   "outputs": [],
   "source": [
    "df = df.set_index('Date')\n",
    "df.head()"
   ]
  },
  {
   "cell_type": "code",
   "execution_count": null,
   "id": "4eb0f959-1e26-45aa-9d6a-dca12d3f915c",
   "metadata": {},
   "outputs": [],
   "source": [
    "df.loc['2020':'2021']"
   ]
  },
  {
   "cell_type": "code",
   "execution_count": null,
   "id": "2146b79d-9a99-470b-a545-24439bc5576c",
   "metadata": {},
   "outputs": [],
   "source": [
    "[(rain_df['Date'] >= '2020-03-01') & (rain_df['Date'] <= '2020-09-01')]"
   ]
  },
  {
   "cell_type": "code",
   "execution_count": null,
   "id": "f9c0e4bb-7599-4ec2-9c8d-35549a256de8",
   "metadata": {},
   "outputs": [],
   "source": [
    "[(df.index >= '2020-03-01') & (df.index <= '2020-09-01')]"
   ]
  },
  {
   "cell_type": "code",
   "execution_count": null,
   "id": "1d0a6f2f-db65-4c63-8827-466354563f0e",
   "metadata": {},
   "outputs": [],
   "source": [
    "df.describe"
   ]
  },
  {
   "cell_type": "markdown",
   "id": "bcdcee8a-a558-4ce0-b029-9cdea87c3b41",
   "metadata": {},
   "source": [
    "## Working with pivot tables"
   ]
  },
  {
   "cell_type": "code",
   "execution_count": null,
   "id": "590e42f3-8605-4d6e-ba92-177a4ad867c3",
   "metadata": {},
   "outputs": [],
   "source": [
    "revenue_df.head()"
   ]
  },
  {
   "cell_type": "code",
   "execution_count": null,
   "id": "d301e021-c14a-47f2-9e47-5e98ea3bdaa0",
   "metadata": {},
   "outputs": [],
   "source": [
    "df = revenue_df.pivot_table('Revenue', index='City', columns='Industry')\n",
    "df.head()"
   ]
  },
  {
   "cell_type": "code",
   "execution_count": null,
   "id": "56e2c53d-4223-4e74-ac57-6c72495a2931",
   "metadata": {},
   "outputs": [],
   "source": [
    "df.loc['Chicago':'Los Angeles']"
   ]
  },
  {
   "cell_type": "code",
   "execution_count": null,
   "id": "25678617-7846-4c12-8dcc-37d75e5983db",
   "metadata": {},
   "outputs": [],
   "source": [
    "df.mean(axis='index')"
   ]
  },
  {
   "cell_type": "code",
   "execution_count": null,
   "id": "ba25ddee-76d9-48ee-a4b8-53bc6e3d2de1",
   "metadata": {},
   "outputs": [],
   "source": [
    "df.mean(axis='columns')"
   ]
  }
 ],
 "metadata": {
  "kernelspec": {
   "display_name": "Python 3 (ipykernel)",
   "language": "python",
   "name": "python3"
  },
  "language_info": {
   "codemirror_mode": {
    "name": "ipython",
    "version": 3
   },
   "file_extension": ".py",
   "mimetype": "text/x-python",
   "name": "python",
   "nbconvert_exporter": "python",
   "pygments_lexer": "ipython3",
   "version": "3.10.11"
  },
  "toc-autonumbering": true,
  "toc-showcode": false,
  "toc-showmarkdowntxt": false
 },
 "nbformat": 4,
 "nbformat_minor": 5
}
