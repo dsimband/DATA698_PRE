{
 "cells": [
  {
   "cell_type": "code",
   "execution_count": 7,
   "id": "afae2a0e-1773-42a1-b45f-72cd52d63f9c",
   "metadata": {},
   "outputs": [],
   "source": [
    "from FedTools import MonetaryPolicyCommittee\n",
    "from FedTools import BeigeBooks\n",
    "from FedTools import FederalReserveMins"
   ]
  },
  {
   "cell_type": "markdown",
   "id": "c53dc036-bd2e-4fc9-a5f4-4f985d101991",
   "metadata": {},
   "source": [
    "import os\n",
    "cwd = os.getcwd()\n",
    "cwd"
   ]
  },
  {
   "cell_type": "code",
   "execution_count": 8,
   "id": "c76b84fa-13b3-4c3b-a4cd-7216cd13bcfc",
   "metadata": {},
   "outputs": [
    {
     "name": "stdout",
     "output_type": "stream",
     "text": [
      "Constructing links between 1994 and 2023\n",
      "Extracting the past 197 FOMC Statements.\n",
      "Retrieving articles.\n",
      ".....................................................................................................................................................................................................Constructing links between 1994 and 2023\n",
      "Extracting the past 197 FOMC Statements.\n",
      "Retrieving articles.\n",
      "....................................................................................................................................................................................................."
     ]
    },
    {
     "data": {
      "text/plain": [
       "True"
      ]
     },
     "execution_count": 8,
     "metadata": {},
     "output_type": "execute_result"
    }
   ],
   "source": [
    "from FedTools import MonetaryPolicyCommittee\n",
    "\n",
    "dataset = MonetaryPolicyCommittee().find_statements()\n",
    "MonetaryPolicyCommittee().pickle_data(\"./data/mp_directory.pkl\")"
   ]
  },
  {
   "cell_type": "code",
   "execution_count": 9,
   "id": "ddbd31c6-5426-41c0-8064-c22872f25d9b",
   "metadata": {},
   "outputs": [
    {
     "name": "stdout",
     "output_type": "stream",
     "text": [
      "Constructing links between 1996 and 2023\n",
      "Extracting the past 3 Beige Books.\n",
      "Retrieving articles.\n",
      "....Constructing links between 1996 and 2023\n",
      "Extracting the past 3 Beige Books.\n",
      "Retrieving articles.\n",
      "...."
     ]
    },
    {
     "data": {
      "text/plain": [
       "True"
      ]
     },
     "execution_count": 9,
     "metadata": {},
     "output_type": "execute_result"
    }
   ],
   "source": [
    "from FedTools import BeigeBooks\n",
    "\n",
    "dataset = BeigeBooks().find_beige_books()\n",
    "BeigeBooks().pickle_data(\"./data/bb_directory.pkl\")"
   ]
  },
  {
   "cell_type": "code",
   "execution_count": 10,
   "id": "7a1c49d8-423a-45d7-b281-32919bf0a561",
   "metadata": {},
   "outputs": [
    {
     "name": "stdout",
     "output_type": "stream",
     "text": [
      "Constructing links between 1995 and 2023\n",
      "Extracting Federal Reserve Minutes.\n",
      "Retrieving articles.\n",
      ".................................................................................................................................................................................................................Constructing links between 1995 and 2023\n",
      "Extracting Federal Reserve Minutes.\n",
      "Retrieving articles.\n",
      "................................................................................................................................................................................................................."
     ]
    },
    {
     "data": {
      "text/plain": [
       "True"
      ]
     },
     "execution_count": 10,
     "metadata": {},
     "output_type": "execute_result"
    }
   ],
   "source": [
    "from FedTools import FederalReserveMins\n",
    "\n",
    "dataset = FederalReserveMins().find_minutes()\n",
    "FederalReserveMins().pickle_data(\"./data/min_directory.pkl\")"
   ]
  },
  {
   "cell_type": "code",
   "execution_count": 11,
   "id": "0ef892e3-ccf8-4574-b497-332009f70e96",
   "metadata": {},
   "outputs": [
    {
     "data": {
      "text/html": [
       "<div>\n",
       "<style scoped>\n",
       "    .dataframe tbody tr th:only-of-type {\n",
       "        vertical-align: middle;\n",
       "    }\n",
       "\n",
       "    .dataframe tbody tr th {\n",
       "        vertical-align: top;\n",
       "    }\n",
       "\n",
       "    .dataframe thead th {\n",
       "        text-align: right;\n",
       "    }\n",
       "</style>\n",
       "<table border=\"1\" class=\"dataframe\">\n",
       "  <thead>\n",
       "    <tr style=\"text-align: right;\">\n",
       "      <th></th>\n",
       "      <th>Federal_Reserve_Mins</th>\n",
       "    </tr>\n",
       "  </thead>\n",
       "  <tbody>\n",
       "    <tr>\n",
       "      <th>1995-02-01</th>\n",
       "      <td>The Federal Reserve, the central bank of the U...</td>\n",
       "    </tr>\n",
       "    <tr>\n",
       "      <th>1995-03-28</th>\n",
       "      <td>A meeting of the Federal Open Market Committee...</td>\n",
       "    </tr>\n",
       "    <tr>\n",
       "      <th>1995-05-23</th>\n",
       "      <td>A meeting of the Federal Open Market Committee...</td>\n",
       "    </tr>\n",
       "    <tr>\n",
       "      <th>1995-07-06</th>\n",
       "      <td>A meeting of the Federal Open Market Committee...</td>\n",
       "    </tr>\n",
       "    <tr>\n",
       "      <th>1995-08-22</th>\n",
       "      <td>A meeting of the Federal Open Market Committee...</td>\n",
       "    </tr>\n",
       "    <tr>\n",
       "      <th>...</th>\n",
       "      <td>...</td>\n",
       "    </tr>\n",
       "    <tr>\n",
       "      <th>2022-11-02</th>\n",
       "      <td>The Federal Reserve, the central bank of the U...</td>\n",
       "    </tr>\n",
       "    <tr>\n",
       "      <th>2022-12-14</th>\n",
       "      <td>The Federal Reserve, the central bank of the U...</td>\n",
       "    </tr>\n",
       "    <tr>\n",
       "      <th>2023-02-01</th>\n",
       "      <td>The Federal Reserve, the central bank of the U...</td>\n",
       "    </tr>\n",
       "    <tr>\n",
       "      <th>2023-03-22</th>\n",
       "      <td>The Federal Reserve, the central bank of the U...</td>\n",
       "    </tr>\n",
       "    <tr>\n",
       "      <th>2023-05-03</th>\n",
       "      <td>The Federal Reserve, the central bank of the U...</td>\n",
       "    </tr>\n",
       "  </tbody>\n",
       "</table>\n",
       "<p>202 rows × 1 columns</p>\n",
       "</div>"
      ],
      "text/plain": [
       "                                         Federal_Reserve_Mins\n",
       "1995-02-01  The Federal Reserve, the central bank of the U...\n",
       "1995-03-28  A meeting of the Federal Open Market Committee...\n",
       "1995-05-23  A meeting of the Federal Open Market Committee...\n",
       "1995-07-06  A meeting of the Federal Open Market Committee...\n",
       "1995-08-22  A meeting of the Federal Open Market Committee...\n",
       "...                                                       ...\n",
       "2022-11-02  The Federal Reserve, the central bank of the U...\n",
       "2022-12-14  The Federal Reserve, the central bank of the U...\n",
       "2023-02-01  The Federal Reserve, the central bank of the U...\n",
       "2023-03-22  The Federal Reserve, the central bank of the U...\n",
       "2023-05-03  The Federal Reserve, the central bank of the U...\n",
       "\n",
       "[202 rows x 1 columns]"
      ]
     },
     "execution_count": 11,
     "metadata": {},
     "output_type": "execute_result"
    }
   ],
   "source": [
    "dataset"
   ]
  },
  {
   "cell_type": "code",
   "execution_count": null,
   "id": "0f84e42b-0da6-4b1f-bcc2-e996ed3fcd2a",
   "metadata": {},
   "outputs": [],
   "source": []
  },
  {
   "cell_type": "code",
   "execution_count": null,
   "id": "afce8d52-bacf-4c07-9224-29d2b55dfd9b",
   "metadata": {},
   "outputs": [],
   "source": []
  },
  {
   "cell_type": "code",
   "execution_count": 12,
   "id": "1d1cd208-9813-4434-8bef-e5f39bbebbc6",
   "metadata": {},
   "outputs": [
    {
     "name": "stdout",
     "output_type": "stream",
     "text": [
      "Constructing links between 1936 and 2023\n",
      "Extracting the past 197 FOMC Statements.\n",
      "Retrieving articles.\n",
      "....................................................................................................................................................................................................."
     ]
    }
   ],
   "source": [
    "monetary_policy = MonetaryPolicyCommittee(\n",
    "            main_url = 'https://www.federalreserve.gov', \n",
    "            calendar_url = 'https://www.federalreserve.gov/monetarypolicy/fomccalendars.htm',\n",
    "            start_year = 1936,    \n",
    "            historical_split = 2014,\n",
    "            verbose = True,\n",
    "            thread_num = 10)\n",
    "            \n",
    "dataset_h = monetary_policy.find_statements()"
   ]
  },
  {
   "cell_type": "code",
   "execution_count": 13,
   "id": "275c4d7d-bd00-412e-a229-c4c20899bb81",
   "metadata": {},
   "outputs": [
    {
     "data": {
      "text/html": [
       "<div>\n",
       "<style scoped>\n",
       "    .dataframe tbody tr th:only-of-type {\n",
       "        vertical-align: middle;\n",
       "    }\n",
       "\n",
       "    .dataframe tbody tr th {\n",
       "        vertical-align: top;\n",
       "    }\n",
       "\n",
       "    .dataframe thead th {\n",
       "        text-align: right;\n",
       "    }\n",
       "</style>\n",
       "<table border=\"1\" class=\"dataframe\">\n",
       "  <thead>\n",
       "    <tr style=\"text-align: right;\">\n",
       "      <th></th>\n",
       "      <th>FOMC_Statements</th>\n",
       "    </tr>\n",
       "  </thead>\n",
       "  <tbody>\n",
       "    <tr>\n",
       "      <th>1994-02-04</th>\n",
       "      <td>Chairman Alan Greenspan announced today that t...</td>\n",
       "    </tr>\n",
       "    <tr>\n",
       "      <th>1994-03-22</th>\n",
       "      <td>Chairman Alan Greenspan announced today that t...</td>\n",
       "    </tr>\n",
       "    <tr>\n",
       "      <th>1994-04-18</th>\n",
       "      <td>The Federal Reserve today announced two action...</td>\n",
       "    </tr>\n",
       "    <tr>\n",
       "      <th>1994-05-17</th>\n",
       "      <td>Chairman Alan Greenspan announced today that t...</td>\n",
       "    </tr>\n",
       "    <tr>\n",
       "      <th>1994-08-16</th>\n",
       "      <td>The Federal Reserve announced today the follow...</td>\n",
       "    </tr>\n",
       "    <tr>\n",
       "      <th>...</th>\n",
       "      <td>...</td>\n",
       "    </tr>\n",
       "    <tr>\n",
       "      <th>2022-11-02</th>\n",
       "      <td>The Federal Reserve, the central bank of the U...</td>\n",
       "    </tr>\n",
       "    <tr>\n",
       "      <th>2022-12-14</th>\n",
       "      <td>The Federal Reserve, the central bank of the U...</td>\n",
       "    </tr>\n",
       "    <tr>\n",
       "      <th>2023-02-01</th>\n",
       "      <td>The Federal Reserve, the central bank of the U...</td>\n",
       "    </tr>\n",
       "    <tr>\n",
       "      <th>2023-03-22</th>\n",
       "      <td>The Federal Reserve, the central bank of the U...</td>\n",
       "    </tr>\n",
       "    <tr>\n",
       "      <th>2023-05-03</th>\n",
       "      <td>The Federal Reserve, the central bank of the U...</td>\n",
       "    </tr>\n",
       "  </tbody>\n",
       "</table>\n",
       "<p>197 rows × 1 columns</p>\n",
       "</div>"
      ],
      "text/plain": [
       "                                              FOMC_Statements\n",
       "1994-02-04  Chairman Alan Greenspan announced today that t...\n",
       "1994-03-22  Chairman Alan Greenspan announced today that t...\n",
       "1994-04-18  The Federal Reserve today announced two action...\n",
       "1994-05-17  Chairman Alan Greenspan announced today that t...\n",
       "1994-08-16  The Federal Reserve announced today the follow...\n",
       "...                                                       ...\n",
       "2022-11-02  The Federal Reserve, the central bank of the U...\n",
       "2022-12-14  The Federal Reserve, the central bank of the U...\n",
       "2023-02-01  The Federal Reserve, the central bank of the U...\n",
       "2023-03-22  The Federal Reserve, the central bank of the U...\n",
       "2023-05-03  The Federal Reserve, the central bank of the U...\n",
       "\n",
       "[197 rows x 1 columns]"
      ]
     },
     "execution_count": 13,
     "metadata": {},
     "output_type": "execute_result"
    }
   ],
   "source": [
    "dataset_h"
   ]
  },
  {
   "cell_type": "code",
   "execution_count": 14,
   "id": "08a48699-e2b7-42bb-aa07-6deb5cf818d0",
   "metadata": {},
   "outputs": [
    {
     "data": {
      "text/plain": [
       "FOMC_Statements    The Federal Reserve, the central bank of the U...\n",
       "Name: 2023-05-03 00:00:00, dtype: object"
      ]
     },
     "execution_count": 14,
     "metadata": {},
     "output_type": "execute_result"
    }
   ],
   "source": [
    "dataset_h.iloc[196]"
   ]
  },
  {
   "cell_type": "code",
   "execution_count": 15,
   "id": "7b4ba413-81fc-4ee5-969f-29b3b8314a75",
   "metadata": {},
   "outputs": [
    {
     "data": {
      "text/plain": [
       "\"The Federal Reserve, the central bank of the United States, provides            the nation with a safe, flexible, and stable monetary and financial            system.  Federal Open Market Committee  Monetary Policy Principles and Practice  Policy Implementation  Reports  Review of Monetary Policy Strategy, Tools, and                      Communications  Institution Supervision  Reports  Reporting Forms  Supervision & Regulation Letters  Banking Applications & Legal Developments  Regulatory Resources  Banking & Data Structure  Financial Stability Assessments  Financial Stability Coordination & Actions  Reports  Regulations & Statutes  Payment Policies  Reserve Bank Payment Services & Data  Financial Market Utilities & Infrastructures  Research, Committees, and Forums  Working Papers and Notes  Data, Models and Tools  Bank Assets and Liabilities  Bank Structure Data  Business Finance  Dealer Financing Terms  Exchange Rates and International Data  Financial Accounts  Household Finance  Industrial Activity  Interest Rates  Micro Data Reference Manual (MDRM)  Money Stock and Reserve Balances  Other  Regulations  Supervision& Enforcement  Community Development  Research& Analysis  Consumer Resources  May 04, 2022  For release at 2:00 p.m. EDT                                                           Share  Although overall economic activity edged down in the first quarter, household spending and business fixed investment remained strong. Job gains have been robust in recent months, and the unemployment rate has declined substantially. Inflation remains elevated, reflecting supply and demand imbalances related to the pandemic, higher energy prices, and broader price pressures.  The invasion of Ukraine by Russia is causing tremendous human and economic hardship. The implications for the U.S. economy are highly uncertain. The invasion and related events are creating additional upward pressure on inflation and are likely to weigh on economic activity. In addition, COVID-related lockdowns in China are likely to exacerbate supply chain disruptions. The Committee is highly attentive to inflation risks.  The Committee seeks to achieve maximum employment and inflation at the rate of 2 percent over the longer run. With appropriate firming in the stance of monetary policy, the Committee expects inflation to return to its 2 percent objective and the labor market to remain strong. In support of these goals, the Committee decided to raise the target range for the federal funds rate to 3/4 to 1 percent and anticipates that ongoing increases in the target range will be appropriate. In addition, the Committee decided to begin reducing its holdings of Treasury securities and agency debt and agency mortgage-backed securities on June 1, as described in the Plans for Reducing the Size of the Federal Reserve's Balance Sheet that were issued in conjunction with this statement.  In assessing the appropriate stance of monetary policy, the Committee will continue to monitor the implications of incoming information for the economic outlook. The Committee would be prepared to adjust the stance of monetary policy as appropriate if risks emerge that could impede the attainment of the Committee’s goals. The Committee's assessments will take into account a wide range of information, including readings on public health, labor market conditions, inflation pressures and inflation expectations, and financial and international developments.  Voting for the monetary policy action were Jerome H. Powell, Chair; John C. Williams, Vice Chair; Michelle W. Bowman; Lael Brainard; James Bullard; Esther L. George; Patrick Harker; Loretta J. Mester; and Christopher J. Waller. Patrick Harker voted as an alternate member at this meeting.  Implementation Note issued May 4, 2022  Plans for Reducing the Size of the Federal Reserve's Balance Sheet  Board of Governors of the Federal Reserve System  20th Street and Constitution Avenue N.W., Washington, DC 20551\""
      ]
     },
     "execution_count": 15,
     "metadata": {},
     "output_type": "execute_result"
    }
   ],
   "source": [
    "dataset_h.iloc[196]['FOMC_Statements']"
   ]
  },
  {
   "cell_type": "code",
   "execution_count": null,
   "id": "84afaf60-55bb-45db-8c7a-344e9b4c05c4",
   "metadata": {},
   "outputs": [],
   "source": []
  },
  {
   "cell_type": "code",
   "execution_count": null,
   "id": "da7577c0-5630-4382-b6d6-ce5e8c5de244",
   "metadata": {},
   "outputs": [],
   "source": []
  },
  {
   "cell_type": "code",
   "execution_count": null,
   "id": "e00e7996-0e38-41f7-a317-a3c3a810d04a",
   "metadata": {},
   "outputs": [],
   "source": []
  },
  {
   "cell_type": "code",
   "execution_count": null,
   "id": "a2cbdd65-8a7d-47b0-9ba1-1b04e5d8861c",
   "metadata": {},
   "outputs": [],
   "source": []
  },
  {
   "cell_type": "code",
   "execution_count": null,
   "id": "e0f311be-40ba-4747-b9c3-1b685120f812",
   "metadata": {},
   "outputs": [],
   "source": []
  },
  {
   "cell_type": "code",
   "execution_count": 16,
   "id": "2c2b32fa-4fb6-4fe9-994f-164a2e5f7b3f",
   "metadata": {},
   "outputs": [
    {
     "data": {
      "text/plain": [
       "Federal_Reserve_Mins    A meeting of the Federal Open Market Committee...\n",
       "Name: 2007-08-07 00:00:00, dtype: object"
      ]
     },
     "execution_count": 16,
     "metadata": {},
     "output_type": "execute_result"
    }
   ],
   "source": [
    "dataset.iloc[100]"
   ]
  },
  {
   "cell_type": "code",
   "execution_count": 17,
   "id": "bda2529b-3cef-4992-8699-cef8bdeb8193",
   "metadata": {},
   "outputs": [
    {
     "data": {
      "text/html": [
       "<div>\n",
       "<style scoped>\n",
       "    .dataframe tbody tr th:only-of-type {\n",
       "        vertical-align: middle;\n",
       "    }\n",
       "\n",
       "    .dataframe tbody tr th {\n",
       "        vertical-align: top;\n",
       "    }\n",
       "\n",
       "    .dataframe thead th {\n",
       "        text-align: right;\n",
       "    }\n",
       "</style>\n",
       "<table border=\"1\" class=\"dataframe\">\n",
       "  <thead>\n",
       "    <tr style=\"text-align: right;\">\n",
       "      <th></th>\n",
       "      <th>Federal_Reserve_Mins</th>\n",
       "    </tr>\n",
       "  </thead>\n",
       "  <tbody>\n",
       "    <tr>\n",
       "      <th>1995-02-01</th>\n",
       "      <td>The Federal Reserve, the central bank of the U...</td>\n",
       "    </tr>\n",
       "    <tr>\n",
       "      <th>1995-03-28</th>\n",
       "      <td>A meeting of the Federal Open Market Committee...</td>\n",
       "    </tr>\n",
       "    <tr>\n",
       "      <th>1995-05-23</th>\n",
       "      <td>A meeting of the Federal Open Market Committee...</td>\n",
       "    </tr>\n",
       "    <tr>\n",
       "      <th>1995-07-06</th>\n",
       "      <td>A meeting of the Federal Open Market Committee...</td>\n",
       "    </tr>\n",
       "    <tr>\n",
       "      <th>1995-08-22</th>\n",
       "      <td>A meeting of the Federal Open Market Committee...</td>\n",
       "    </tr>\n",
       "    <tr>\n",
       "      <th>...</th>\n",
       "      <td>...</td>\n",
       "    </tr>\n",
       "    <tr>\n",
       "      <th>2022-11-02</th>\n",
       "      <td>The Federal Reserve, the central bank of the U...</td>\n",
       "    </tr>\n",
       "    <tr>\n",
       "      <th>2022-12-14</th>\n",
       "      <td>The Federal Reserve, the central bank of the U...</td>\n",
       "    </tr>\n",
       "    <tr>\n",
       "      <th>2023-02-01</th>\n",
       "      <td>The Federal Reserve, the central bank of the U...</td>\n",
       "    </tr>\n",
       "    <tr>\n",
       "      <th>2023-03-22</th>\n",
       "      <td>The Federal Reserve, the central bank of the U...</td>\n",
       "    </tr>\n",
       "    <tr>\n",
       "      <th>2023-05-03</th>\n",
       "      <td>The Federal Reserve, the central bank of the U...</td>\n",
       "    </tr>\n",
       "  </tbody>\n",
       "</table>\n",
       "<p>202 rows × 1 columns</p>\n",
       "</div>"
      ],
      "text/plain": [
       "                                         Federal_Reserve_Mins\n",
       "1995-02-01  The Federal Reserve, the central bank of the U...\n",
       "1995-03-28  A meeting of the Federal Open Market Committee...\n",
       "1995-05-23  A meeting of the Federal Open Market Committee...\n",
       "1995-07-06  A meeting of the Federal Open Market Committee...\n",
       "1995-08-22  A meeting of the Federal Open Market Committee...\n",
       "...                                                       ...\n",
       "2022-11-02  The Federal Reserve, the central bank of the U...\n",
       "2022-12-14  The Federal Reserve, the central bank of the U...\n",
       "2023-02-01  The Federal Reserve, the central bank of the U...\n",
       "2023-03-22  The Federal Reserve, the central bank of the U...\n",
       "2023-05-03  The Federal Reserve, the central bank of the U...\n",
       "\n",
       "[202 rows x 1 columns]"
      ]
     },
     "execution_count": 17,
     "metadata": {},
     "output_type": "execute_result"
    }
   ],
   "source": [
    "dataset"
   ]
  },
  {
   "cell_type": "markdown",
   "id": "cfccd615-8543-4eb7-ba6f-f805dad2d42c",
   "metadata": {},
   "source": [
    "# Federal Reserve Minutes"
   ]
  },
  {
   "cell_type": "code",
   "execution_count": 18,
   "id": "9199138e-6c7a-49ba-a258-d3927c26bad4",
   "metadata": {},
   "outputs": [
    {
     "name": "stdout",
     "output_type": "stream",
     "text": [
      "Constructing links between 1936 and 2023\n",
      "Extracting Federal Reserve Minutes.\n",
      "Retrieving articles.\n",
      ".........................................................................................................................................................................................................................................................."
     ]
    }
   ],
   "source": [
    "fed_mins = FederalReserveMins(\n",
    "            main_url = 'https://www.federalreserve.gov', \n",
    "            calendar_url ='https://www.federalreserve.gov/monetarypolicy/fomccalendars.htm',\n",
    "            start_year = 1936,        \n",
    "            historical_split = 2017,\n",
    "            verbose = True,\n",
    "            thread_num = 10)\n",
    "\n",
    "dataset_h = fed_mins.find_minutes()"
   ]
  },
  {
   "cell_type": "code",
   "execution_count": 19,
   "id": "161eede5-b484-4ac2-be0b-082648c49d41",
   "metadata": {},
   "outputs": [
    {
     "data": {
      "text/html": [
       "<div>\n",
       "<style scoped>\n",
       "    .dataframe tbody tr th:only-of-type {\n",
       "        vertical-align: middle;\n",
       "    }\n",
       "\n",
       "    .dataframe tbody tr th {\n",
       "        vertical-align: top;\n",
       "    }\n",
       "\n",
       "    .dataframe thead th {\n",
       "        text-align: right;\n",
       "    }\n",
       "</style>\n",
       "<table border=\"1\" class=\"dataframe\">\n",
       "  <thead>\n",
       "    <tr style=\"text-align: right;\">\n",
       "      <th></th>\n",
       "      <th>Federal_Reserve_Mins</th>\n",
       "    </tr>\n",
       "  </thead>\n",
       "  <tbody>\n",
       "    <tr>\n",
       "      <th>1993-02-03</th>\n",
       "      <td>A meeting of the Federal Open Market Committee...</td>\n",
       "    </tr>\n",
       "    <tr>\n",
       "      <th>1993-03-23</th>\n",
       "      <td>A meeting of the Federal Open Market Committee...</td>\n",
       "    </tr>\n",
       "    <tr>\n",
       "      <th>1993-05-18</th>\n",
       "      <td>A meeting of the Federal Open Market Committee...</td>\n",
       "    </tr>\n",
       "    <tr>\n",
       "      <th>1993-07-07</th>\n",
       "      <td>A meeting of the Federal Open Market Committee...</td>\n",
       "    </tr>\n",
       "    <tr>\n",
       "      <th>1993-08-17</th>\n",
       "      <td>A meeting of the Federal Open Market Committee...</td>\n",
       "    </tr>\n",
       "    <tr>\n",
       "      <th>...</th>\n",
       "      <td>...</td>\n",
       "    </tr>\n",
       "    <tr>\n",
       "      <th>2022-11-02</th>\n",
       "      <td>The Federal Reserve, the central bank of the U...</td>\n",
       "    </tr>\n",
       "    <tr>\n",
       "      <th>2022-12-14</th>\n",
       "      <td>The Federal Reserve, the central bank of the U...</td>\n",
       "    </tr>\n",
       "    <tr>\n",
       "      <th>2023-02-01</th>\n",
       "      <td>The Federal Reserve, the central bank of the U...</td>\n",
       "    </tr>\n",
       "    <tr>\n",
       "      <th>2023-03-22</th>\n",
       "      <td>The Federal Reserve, the central bank of the U...</td>\n",
       "    </tr>\n",
       "    <tr>\n",
       "      <th>2023-05-03</th>\n",
       "      <td>The Federal Reserve, the central bank of the U...</td>\n",
       "    </tr>\n",
       "  </tbody>\n",
       "</table>\n",
       "<p>242 rows × 1 columns</p>\n",
       "</div>"
      ],
      "text/plain": [
       "                                         Federal_Reserve_Mins\n",
       "1993-02-03  A meeting of the Federal Open Market Committee...\n",
       "1993-03-23  A meeting of the Federal Open Market Committee...\n",
       "1993-05-18  A meeting of the Federal Open Market Committee...\n",
       "1993-07-07  A meeting of the Federal Open Market Committee...\n",
       "1993-08-17  A meeting of the Federal Open Market Committee...\n",
       "...                                                       ...\n",
       "2022-11-02  The Federal Reserve, the central bank of the U...\n",
       "2022-12-14  The Federal Reserve, the central bank of the U...\n",
       "2023-02-01  The Federal Reserve, the central bank of the U...\n",
       "2023-03-22  The Federal Reserve, the central bank of the U...\n",
       "2023-05-03  The Federal Reserve, the central bank of the U...\n",
       "\n",
       "[242 rows x 1 columns]"
      ]
     },
     "execution_count": 19,
     "metadata": {},
     "output_type": "execute_result"
    }
   ],
   "source": [
    "dataset_h"
   ]
  },
  {
   "cell_type": "code",
   "execution_count": 20,
   "id": "6f8a3b32-833b-4c25-92d5-f65858e70254",
   "metadata": {},
   "outputs": [
    {
     "data": {
      "text/plain": [
       "Federal_Reserve_Mins    The Federal Reserve, the central bank of the U...\n",
       "Name: 2023-05-03 00:00:00, dtype: object"
      ]
     },
     "execution_count": 20,
     "metadata": {},
     "output_type": "execute_result"
    }
   ],
   "source": [
    "dataset_h.iloc[241]"
   ]
  },
  {
   "cell_type": "code",
   "execution_count": null,
   "id": "8d2a574c-f8aa-4a2e-a664-df3cfebb8eaa",
   "metadata": {},
   "outputs": [],
   "source": []
  }
 ],
 "metadata": {
  "kernelspec": {
   "display_name": "Python 3 (ipykernel)",
   "language": "python",
   "name": "python3"
  },
  "language_info": {
   "codemirror_mode": {
    "name": "ipython",
    "version": 3
   },
   "file_extension": ".py",
   "mimetype": "text/x-python",
   "name": "python",
   "nbconvert_exporter": "python",
   "pygments_lexer": "ipython3",
   "version": "3.10.11"
  }
 },
 "nbformat": 4,
 "nbformat_minor": 5
}
